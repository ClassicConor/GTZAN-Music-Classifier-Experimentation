{
 "cells": [
  {
   "cell_type": "markdown",
   "id": "682107e1",
   "metadata": {},
   "source": [
    "# Mass Feature Grabbing\n",
    "\n",
    "Within the librosa library, there are a large number of features that can be extracted from each song."
   ]
  },
  {
   "cell_type": "markdown",
   "id": "8f6d4951",
   "metadata": {},
   "source": [
    "## 1 - Do the imports"
   ]
  },
  {
   "cell_type": "code",
   "execution_count": 43,
   "id": "f857cb7f",
   "metadata": {},
   "outputs": [
    {
     "name": "stdout",
     "output_type": "stream",
     "text": [
      "Defaulting to user installation because normal site-packages is not writeable\n",
      "Requirement already satisfied: tensorflow in /Users/conorwoollatt/Library/Python/3.9/lib/python/site-packages (2.19.0)\n",
      "Requirement already satisfied: numpy<2.2.0,>=1.26.0 in /Users/conorwoollatt/Library/Python/3.9/lib/python/site-packages (from tensorflow) (2.0.2)\n",
      "Requirement already satisfied: protobuf!=4.21.0,!=4.21.1,!=4.21.2,!=4.21.3,!=4.21.4,!=4.21.5,<6.0.0dev,>=3.20.3 in /Users/conorwoollatt/Library/Python/3.9/lib/python/site-packages (from tensorflow) (5.29.3)\n",
      "Requirement already satisfied: wrapt>=1.11.0 in /Users/conorwoollatt/Library/Python/3.9/lib/python/site-packages (from tensorflow) (1.17.2)\n",
      "Requirement already satisfied: six>=1.12.0 in /Library/Developer/CommandLineTools/Library/Frameworks/Python3.framework/Versions/3.9/lib/python3.9/site-packages (from tensorflow) (1.15.0)\n",
      "Requirement already satisfied: libclang>=13.0.0 in /Users/conorwoollatt/Library/Python/3.9/lib/python/site-packages (from tensorflow) (18.1.1)\n",
      "Requirement already satisfied: setuptools in /Library/Developer/CommandLineTools/Library/Frameworks/Python3.framework/Versions/3.9/lib/python3.9/site-packages (from tensorflow) (58.0.4)\n",
      "Requirement already satisfied: termcolor>=1.1.0 in /Users/conorwoollatt/Library/Python/3.9/lib/python/site-packages (from tensorflow) (2.5.0)\n",
      "Requirement already satisfied: requests<3,>=2.21.0 in /Users/conorwoollatt/Library/Python/3.9/lib/python/site-packages (from tensorflow) (2.32.3)\n",
      "Requirement already satisfied: h5py>=3.11.0 in /Users/conorwoollatt/Library/Python/3.9/lib/python/site-packages (from tensorflow) (3.12.1)\n",
      "Requirement already satisfied: tensorflow-io-gcs-filesystem>=0.23.1 in /Users/conorwoollatt/Library/Python/3.9/lib/python/site-packages (from tensorflow) (0.37.1)\n",
      "Requirement already satisfied: tensorboard~=2.19.0 in /Users/conorwoollatt/Library/Python/3.9/lib/python/site-packages (from tensorflow) (2.19.0)\n",
      "Requirement already satisfied: packaging in /Users/conorwoollatt/Library/Python/3.9/lib/python/site-packages (from tensorflow) (24.2)\n",
      "Requirement already satisfied: google-pasta>=0.1.1 in /Users/conorwoollatt/Library/Python/3.9/lib/python/site-packages (from tensorflow) (0.2.0)\n",
      "Requirement already satisfied: flatbuffers>=24.3.25 in /Users/conorwoollatt/Library/Python/3.9/lib/python/site-packages (from tensorflow) (25.1.24)\n",
      "Requirement already satisfied: absl-py>=1.0.0 in /Users/conorwoollatt/Library/Python/3.9/lib/python/site-packages (from tensorflow) (2.1.0)\n",
      "Requirement already satisfied: grpcio<2.0,>=1.24.3 in /Users/conorwoollatt/Library/Python/3.9/lib/python/site-packages (from tensorflow) (1.70.0)\n",
      "Requirement already satisfied: gast!=0.5.0,!=0.5.1,!=0.5.2,>=0.2.1 in /Users/conorwoollatt/Library/Python/3.9/lib/python/site-packages (from tensorflow) (0.6.0)\n",
      "Requirement already satisfied: typing-extensions>=3.6.6 in /Users/conorwoollatt/Library/Python/3.9/lib/python/site-packages (from tensorflow) (4.12.2)\n",
      "Requirement already satisfied: ml-dtypes<1.0.0,>=0.5.1 in /Users/conorwoollatt/Library/Python/3.9/lib/python/site-packages (from tensorflow) (0.5.1)\n",
      "Requirement already satisfied: opt-einsum>=2.3.2 in /Users/conorwoollatt/Library/Python/3.9/lib/python/site-packages (from tensorflow) (3.4.0)\n",
      "Requirement already satisfied: keras>=3.5.0 in /Users/conorwoollatt/Library/Python/3.9/lib/python/site-packages (from tensorflow) (3.8.0)\n",
      "Requirement already satisfied: astunparse>=1.6.0 in /Users/conorwoollatt/Library/Python/3.9/lib/python/site-packages (from tensorflow) (1.6.3)\n",
      "Requirement already satisfied: wheel<1.0,>=0.23.0 in /Library/Developer/CommandLineTools/Library/Frameworks/Python3.framework/Versions/3.9/lib/python3.9/site-packages (from astunparse>=1.6.0->tensorflow) (0.37.0)\n",
      "Requirement already satisfied: optree in /Users/conorwoollatt/Library/Python/3.9/lib/python/site-packages (from keras>=3.5.0->tensorflow) (0.14.0)\n",
      "Requirement already satisfied: rich in /Users/conorwoollatt/Library/Python/3.9/lib/python/site-packages (from keras>=3.5.0->tensorflow) (13.9.4)\n",
      "Requirement already satisfied: namex in /Users/conorwoollatt/Library/Python/3.9/lib/python/site-packages (from keras>=3.5.0->tensorflow) (0.0.8)\n",
      "Requirement already satisfied: certifi>=2017.4.17 in /Users/conorwoollatt/Library/Python/3.9/lib/python/site-packages (from requests<3,>=2.21.0->tensorflow) (2025.1.31)\n",
      "Requirement already satisfied: urllib3<3,>=1.21.1 in /Users/conorwoollatt/Library/Python/3.9/lib/python/site-packages (from requests<3,>=2.21.0->tensorflow) (2.3.0)\n",
      "Requirement already satisfied: charset-normalizer<4,>=2 in /Users/conorwoollatt/Library/Python/3.9/lib/python/site-packages (from requests<3,>=2.21.0->tensorflow) (3.4.1)\n",
      "Requirement already satisfied: idna<4,>=2.5 in /Users/conorwoollatt/Library/Python/3.9/lib/python/site-packages (from requests<3,>=2.21.0->tensorflow) (3.10)\n",
      "Requirement already satisfied: markdown>=2.6.8 in /Users/conorwoollatt/Library/Python/3.9/lib/python/site-packages (from tensorboard~=2.19.0->tensorflow) (3.7)\n",
      "Requirement already satisfied: tensorboard-data-server<0.8.0,>=0.7.0 in /Users/conorwoollatt/Library/Python/3.9/lib/python/site-packages (from tensorboard~=2.19.0->tensorflow) (0.7.2)\n",
      "Requirement already satisfied: werkzeug>=1.0.1 in /Users/conorwoollatt/Library/Python/3.9/lib/python/site-packages (from tensorboard~=2.19.0->tensorflow) (3.1.3)\n",
      "Requirement already satisfied: importlib-metadata>=4.4 in /Users/conorwoollatt/Library/Python/3.9/lib/python/site-packages (from markdown>=2.6.8->tensorboard~=2.19.0->tensorflow) (8.5.0)\n",
      "Requirement already satisfied: zipp>=3.20 in /Users/conorwoollatt/Library/Python/3.9/lib/python/site-packages (from importlib-metadata>=4.4->markdown>=2.6.8->tensorboard~=2.19.0->tensorflow) (3.21.0)\n",
      "Requirement already satisfied: MarkupSafe>=2.1.1 in /Users/conorwoollatt/Library/Python/3.9/lib/python/site-packages (from werkzeug>=1.0.1->tensorboard~=2.19.0->tensorflow) (3.0.2)\n",
      "Requirement already satisfied: pygments<3.0.0,>=2.13.0 in /Users/conorwoollatt/Library/Python/3.9/lib/python/site-packages (from rich->keras>=3.5.0->tensorflow) (2.18.0)\n",
      "Requirement already satisfied: markdown-it-py>=2.2.0 in /Users/conorwoollatt/Library/Python/3.9/lib/python/site-packages (from rich->keras>=3.5.0->tensorflow) (3.0.0)\n",
      "Requirement already satisfied: mdurl~=0.1 in /Users/conorwoollatt/Library/Python/3.9/lib/python/site-packages (from markdown-it-py>=2.2.0->rich->keras>=3.5.0->tensorflow) (0.1.2)\n",
      "\u001b[33mWARNING: You are using pip version 21.2.4; however, version 25.1.1 is available.\n",
      "You should consider upgrading via the '/Library/Developer/CommandLineTools/usr/bin/python3 -m pip install --upgrade pip' command.\u001b[0m\n",
      "Defaulting to user installation because normal site-packages is not writeable\n",
      "Requirement already satisfied: tensorflow-hub in /Users/conorwoollatt/Library/Python/3.9/lib/python/site-packages (0.16.1)\n",
      "Requirement already satisfied: numpy>=1.12.0 in /Users/conorwoollatt/Library/Python/3.9/lib/python/site-packages (from tensorflow-hub) (2.0.2)\n",
      "Requirement already satisfied: tf-keras>=2.14.1 in /Users/conorwoollatt/Library/Python/3.9/lib/python/site-packages (from tensorflow-hub) (2.19.0)\n",
      "Requirement already satisfied: protobuf>=3.19.6 in /Users/conorwoollatt/Library/Python/3.9/lib/python/site-packages (from tensorflow-hub) (5.29.3)\n",
      "Requirement already satisfied: tensorflow<2.20,>=2.19 in /Users/conorwoollatt/Library/Python/3.9/lib/python/site-packages (from tf-keras>=2.14.1->tensorflow-hub) (2.19.0)\n",
      "Requirement already satisfied: tensorboard~=2.19.0 in /Users/conorwoollatt/Library/Python/3.9/lib/python/site-packages (from tensorflow<2.20,>=2.19->tf-keras>=2.14.1->tensorflow-hub) (2.19.0)\n",
      "Requirement already satisfied: packaging in /Users/conorwoollatt/Library/Python/3.9/lib/python/site-packages (from tensorflow<2.20,>=2.19->tf-keras>=2.14.1->tensorflow-hub) (24.2)\n",
      "Requirement already satisfied: flatbuffers>=24.3.25 in /Users/conorwoollatt/Library/Python/3.9/lib/python/site-packages (from tensorflow<2.20,>=2.19->tf-keras>=2.14.1->tensorflow-hub) (25.1.24)\n",
      "Requirement already satisfied: google-pasta>=0.1.1 in /Users/conorwoollatt/Library/Python/3.9/lib/python/site-packages (from tensorflow<2.20,>=2.19->tf-keras>=2.14.1->tensorflow-hub) (0.2.0)\n",
      "Requirement already satisfied: termcolor>=1.1.0 in /Users/conorwoollatt/Library/Python/3.9/lib/python/site-packages (from tensorflow<2.20,>=2.19->tf-keras>=2.14.1->tensorflow-hub) (2.5.0)\n",
      "Requirement already satisfied: libclang>=13.0.0 in /Users/conorwoollatt/Library/Python/3.9/lib/python/site-packages (from tensorflow<2.20,>=2.19->tf-keras>=2.14.1->tensorflow-hub) (18.1.1)\n",
      "Requirement already satisfied: keras>=3.5.0 in /Users/conorwoollatt/Library/Python/3.9/lib/python/site-packages (from tensorflow<2.20,>=2.19->tf-keras>=2.14.1->tensorflow-hub) (3.8.0)\n",
      "Requirement already satisfied: ml-dtypes<1.0.0,>=0.5.1 in /Users/conorwoollatt/Library/Python/3.9/lib/python/site-packages (from tensorflow<2.20,>=2.19->tf-keras>=2.14.1->tensorflow-hub) (0.5.1)\n",
      "Requirement already satisfied: requests<3,>=2.21.0 in /Users/conorwoollatt/Library/Python/3.9/lib/python/site-packages (from tensorflow<2.20,>=2.19->tf-keras>=2.14.1->tensorflow-hub) (2.32.3)\n",
      "Requirement already satisfied: setuptools in /Library/Developer/CommandLineTools/Library/Frameworks/Python3.framework/Versions/3.9/lib/python3.9/site-packages (from tensorflow<2.20,>=2.19->tf-keras>=2.14.1->tensorflow-hub) (58.0.4)\n",
      "Requirement already satisfied: tensorflow-io-gcs-filesystem>=0.23.1 in /Users/conorwoollatt/Library/Python/3.9/lib/python/site-packages (from tensorflow<2.20,>=2.19->tf-keras>=2.14.1->tensorflow-hub) (0.37.1)\n",
      "Requirement already satisfied: gast!=0.5.0,!=0.5.1,!=0.5.2,>=0.2.1 in /Users/conorwoollatt/Library/Python/3.9/lib/python/site-packages (from tensorflow<2.20,>=2.19->tf-keras>=2.14.1->tensorflow-hub) (0.6.0)\n",
      "Requirement already satisfied: absl-py>=1.0.0 in /Users/conorwoollatt/Library/Python/3.9/lib/python/site-packages (from tensorflow<2.20,>=2.19->tf-keras>=2.14.1->tensorflow-hub) (2.1.0)\n",
      "Requirement already satisfied: wrapt>=1.11.0 in /Users/conorwoollatt/Library/Python/3.9/lib/python/site-packages (from tensorflow<2.20,>=2.19->tf-keras>=2.14.1->tensorflow-hub) (1.17.2)\n",
      "Requirement already satisfied: opt-einsum>=2.3.2 in /Users/conorwoollatt/Library/Python/3.9/lib/python/site-packages (from tensorflow<2.20,>=2.19->tf-keras>=2.14.1->tensorflow-hub) (3.4.0)\n",
      "Requirement already satisfied: six>=1.12.0 in /Library/Developer/CommandLineTools/Library/Frameworks/Python3.framework/Versions/3.9/lib/python3.9/site-packages (from tensorflow<2.20,>=2.19->tf-keras>=2.14.1->tensorflow-hub) (1.15.0)\n",
      "Requirement already satisfied: astunparse>=1.6.0 in /Users/conorwoollatt/Library/Python/3.9/lib/python/site-packages (from tensorflow<2.20,>=2.19->tf-keras>=2.14.1->tensorflow-hub) (1.6.3)\n",
      "Requirement already satisfied: typing-extensions>=3.6.6 in /Users/conorwoollatt/Library/Python/3.9/lib/python/site-packages (from tensorflow<2.20,>=2.19->tf-keras>=2.14.1->tensorflow-hub) (4.12.2)\n",
      "Requirement already satisfied: grpcio<2.0,>=1.24.3 in /Users/conorwoollatt/Library/Python/3.9/lib/python/site-packages (from tensorflow<2.20,>=2.19->tf-keras>=2.14.1->tensorflow-hub) (1.70.0)\n",
      "Requirement already satisfied: h5py>=3.11.0 in /Users/conorwoollatt/Library/Python/3.9/lib/python/site-packages (from tensorflow<2.20,>=2.19->tf-keras>=2.14.1->tensorflow-hub) (3.12.1)\n",
      "Requirement already satisfied: wheel<1.0,>=0.23.0 in /Library/Developer/CommandLineTools/Library/Frameworks/Python3.framework/Versions/3.9/lib/python3.9/site-packages (from astunparse>=1.6.0->tensorflow<2.20,>=2.19->tf-keras>=2.14.1->tensorflow-hub) (0.37.0)\n",
      "Requirement already satisfied: optree in /Users/conorwoollatt/Library/Python/3.9/lib/python/site-packages (from keras>=3.5.0->tensorflow<2.20,>=2.19->tf-keras>=2.14.1->tensorflow-hub) (0.14.0)\n",
      "Requirement already satisfied: rich in /Users/conorwoollatt/Library/Python/3.9/lib/python/site-packages (from keras>=3.5.0->tensorflow<2.20,>=2.19->tf-keras>=2.14.1->tensorflow-hub) (13.9.4)\n",
      "Requirement already satisfied: namex in /Users/conorwoollatt/Library/Python/3.9/lib/python/site-packages (from keras>=3.5.0->tensorflow<2.20,>=2.19->tf-keras>=2.14.1->tensorflow-hub) (0.0.8)\n",
      "Requirement already satisfied: certifi>=2017.4.17 in /Users/conorwoollatt/Library/Python/3.9/lib/python/site-packages (from requests<3,>=2.21.0->tensorflow<2.20,>=2.19->tf-keras>=2.14.1->tensorflow-hub) (2025.1.31)\n",
      "Requirement already satisfied: idna<4,>=2.5 in /Users/conorwoollatt/Library/Python/3.9/lib/python/site-packages (from requests<3,>=2.21.0->tensorflow<2.20,>=2.19->tf-keras>=2.14.1->tensorflow-hub) (3.10)\n",
      "Requirement already satisfied: urllib3<3,>=1.21.1 in /Users/conorwoollatt/Library/Python/3.9/lib/python/site-packages (from requests<3,>=2.21.0->tensorflow<2.20,>=2.19->tf-keras>=2.14.1->tensorflow-hub) (2.3.0)\n",
      "Requirement already satisfied: charset-normalizer<4,>=2 in /Users/conorwoollatt/Library/Python/3.9/lib/python/site-packages (from requests<3,>=2.21.0->tensorflow<2.20,>=2.19->tf-keras>=2.14.1->tensorflow-hub) (3.4.1)\n",
      "Requirement already satisfied: markdown>=2.6.8 in /Users/conorwoollatt/Library/Python/3.9/lib/python/site-packages (from tensorboard~=2.19.0->tensorflow<2.20,>=2.19->tf-keras>=2.14.1->tensorflow-hub) (3.7)\n",
      "Requirement already satisfied: werkzeug>=1.0.1 in /Users/conorwoollatt/Library/Python/3.9/lib/python/site-packages (from tensorboard~=2.19.0->tensorflow<2.20,>=2.19->tf-keras>=2.14.1->tensorflow-hub) (3.1.3)\n",
      "Requirement already satisfied: tensorboard-data-server<0.8.0,>=0.7.0 in /Users/conorwoollatt/Library/Python/3.9/lib/python/site-packages (from tensorboard~=2.19.0->tensorflow<2.20,>=2.19->tf-keras>=2.14.1->tensorflow-hub) (0.7.2)\n",
      "Requirement already satisfied: importlib-metadata>=4.4 in /Users/conorwoollatt/Library/Python/3.9/lib/python/site-packages (from markdown>=2.6.8->tensorboard~=2.19.0->tensorflow<2.20,>=2.19->tf-keras>=2.14.1->tensorflow-hub) (8.5.0)\n",
      "Requirement already satisfied: zipp>=3.20 in /Users/conorwoollatt/Library/Python/3.9/lib/python/site-packages (from importlib-metadata>=4.4->markdown>=2.6.8->tensorboard~=2.19.0->tensorflow<2.20,>=2.19->tf-keras>=2.14.1->tensorflow-hub) (3.21.0)\n",
      "Requirement already satisfied: MarkupSafe>=2.1.1 in /Users/conorwoollatt/Library/Python/3.9/lib/python/site-packages (from werkzeug>=1.0.1->tensorboard~=2.19.0->tensorflow<2.20,>=2.19->tf-keras>=2.14.1->tensorflow-hub) (3.0.2)\n",
      "Requirement already satisfied: pygments<3.0.0,>=2.13.0 in /Users/conorwoollatt/Library/Python/3.9/lib/python/site-packages (from rich->keras>=3.5.0->tensorflow<2.20,>=2.19->tf-keras>=2.14.1->tensorflow-hub) (2.18.0)\n",
      "Requirement already satisfied: markdown-it-py>=2.2.0 in /Users/conorwoollatt/Library/Python/3.9/lib/python/site-packages (from rich->keras>=3.5.0->tensorflow<2.20,>=2.19->tf-keras>=2.14.1->tensorflow-hub) (3.0.0)\n",
      "Requirement already satisfied: mdurl~=0.1 in /Users/conorwoollatt/Library/Python/3.9/lib/python/site-packages (from markdown-it-py>=2.2.0->rich->keras>=3.5.0->tensorflow<2.20,>=2.19->tf-keras>=2.14.1->tensorflow-hub) (0.1.2)\n",
      "\u001b[33mWARNING: You are using pip version 21.2.4; however, version 25.1.1 is available.\n",
      "You should consider upgrading via the '/Library/Developer/CommandLineTools/usr/bin/python3 -m pip install --upgrade pip' command.\u001b[0m\n",
      "Defaulting to user installation because normal site-packages is not writeable\n",
      "Requirement already satisfied: tensorflow_hub in /Users/conorwoollatt/Library/Python/3.9/lib/python/site-packages (0.16.1)\n",
      "Requirement already satisfied: protobuf>=3.19.6 in /Users/conorwoollatt/Library/Python/3.9/lib/python/site-packages (from tensorflow_hub) (5.29.3)\n",
      "Requirement already satisfied: tf-keras>=2.14.1 in /Users/conorwoollatt/Library/Python/3.9/lib/python/site-packages (from tensorflow_hub) (2.19.0)\n",
      "Requirement already satisfied: numpy>=1.12.0 in /Users/conorwoollatt/Library/Python/3.9/lib/python/site-packages (from tensorflow_hub) (2.0.2)\n",
      "Requirement already satisfied: tensorflow<2.20,>=2.19 in /Users/conorwoollatt/Library/Python/3.9/lib/python/site-packages (from tf-keras>=2.14.1->tensorflow_hub) (2.19.0)\n",
      "Requirement already satisfied: gast!=0.5.0,!=0.5.1,!=0.5.2,>=0.2.1 in /Users/conorwoollatt/Library/Python/3.9/lib/python/site-packages (from tensorflow<2.20,>=2.19->tf-keras>=2.14.1->tensorflow_hub) (0.6.0)\n",
      "Requirement already satisfied: tensorboard~=2.19.0 in /Users/conorwoollatt/Library/Python/3.9/lib/python/site-packages (from tensorflow<2.20,>=2.19->tf-keras>=2.14.1->tensorflow_hub) (2.19.0)\n",
      "Requirement already satisfied: six>=1.12.0 in /Library/Developer/CommandLineTools/Library/Frameworks/Python3.framework/Versions/3.9/lib/python3.9/site-packages (from tensorflow<2.20,>=2.19->tf-keras>=2.14.1->tensorflow_hub) (1.15.0)\n",
      "Requirement already satisfied: libclang>=13.0.0 in /Users/conorwoollatt/Library/Python/3.9/lib/python/site-packages (from tensorflow<2.20,>=2.19->tf-keras>=2.14.1->tensorflow_hub) (18.1.1)\n",
      "Requirement already satisfied: keras>=3.5.0 in /Users/conorwoollatt/Library/Python/3.9/lib/python/site-packages (from tensorflow<2.20,>=2.19->tf-keras>=2.14.1->tensorflow_hub) (3.8.0)\n",
      "Requirement already satisfied: ml-dtypes<1.0.0,>=0.5.1 in /Users/conorwoollatt/Library/Python/3.9/lib/python/site-packages (from tensorflow<2.20,>=2.19->tf-keras>=2.14.1->tensorflow_hub) (0.5.1)\n",
      "Requirement already satisfied: wrapt>=1.11.0 in /Users/conorwoollatt/Library/Python/3.9/lib/python/site-packages (from tensorflow<2.20,>=2.19->tf-keras>=2.14.1->tensorflow_hub) (1.17.2)\n",
      "Requirement already satisfied: requests<3,>=2.21.0 in /Users/conorwoollatt/Library/Python/3.9/lib/python/site-packages (from tensorflow<2.20,>=2.19->tf-keras>=2.14.1->tensorflow_hub) (2.32.3)\n",
      "Requirement already satisfied: h5py>=3.11.0 in /Users/conorwoollatt/Library/Python/3.9/lib/python/site-packages (from tensorflow<2.20,>=2.19->tf-keras>=2.14.1->tensorflow_hub) (3.12.1)\n",
      "Requirement already satisfied: packaging in /Users/conorwoollatt/Library/Python/3.9/lib/python/site-packages (from tensorflow<2.20,>=2.19->tf-keras>=2.14.1->tensorflow_hub) (24.2)\n",
      "Requirement already satisfied: opt-einsum>=2.3.2 in /Users/conorwoollatt/Library/Python/3.9/lib/python/site-packages (from tensorflow<2.20,>=2.19->tf-keras>=2.14.1->tensorflow_hub) (3.4.0)\n",
      "Requirement already satisfied: grpcio<2.0,>=1.24.3 in /Users/conorwoollatt/Library/Python/3.9/lib/python/site-packages (from tensorflow<2.20,>=2.19->tf-keras>=2.14.1->tensorflow_hub) (1.70.0)\n",
      "Requirement already satisfied: typing-extensions>=3.6.6 in /Users/conorwoollatt/Library/Python/3.9/lib/python/site-packages (from tensorflow<2.20,>=2.19->tf-keras>=2.14.1->tensorflow_hub) (4.12.2)\n",
      "Requirement already satisfied: tensorflow-io-gcs-filesystem>=0.23.1 in /Users/conorwoollatt/Library/Python/3.9/lib/python/site-packages (from tensorflow<2.20,>=2.19->tf-keras>=2.14.1->tensorflow_hub) (0.37.1)\n",
      "Requirement already satisfied: flatbuffers>=24.3.25 in /Users/conorwoollatt/Library/Python/3.9/lib/python/site-packages (from tensorflow<2.20,>=2.19->tf-keras>=2.14.1->tensorflow_hub) (25.1.24)\n",
      "Requirement already satisfied: astunparse>=1.6.0 in /Users/conorwoollatt/Library/Python/3.9/lib/python/site-packages (from tensorflow<2.20,>=2.19->tf-keras>=2.14.1->tensorflow_hub) (1.6.3)\n",
      "Requirement already satisfied: setuptools in /Library/Developer/CommandLineTools/Library/Frameworks/Python3.framework/Versions/3.9/lib/python3.9/site-packages (from tensorflow<2.20,>=2.19->tf-keras>=2.14.1->tensorflow_hub) (58.0.4)\n",
      "Requirement already satisfied: termcolor>=1.1.0 in /Users/conorwoollatt/Library/Python/3.9/lib/python/site-packages (from tensorflow<2.20,>=2.19->tf-keras>=2.14.1->tensorflow_hub) (2.5.0)\n",
      "Requirement already satisfied: absl-py>=1.0.0 in /Users/conorwoollatt/Library/Python/3.9/lib/python/site-packages (from tensorflow<2.20,>=2.19->tf-keras>=2.14.1->tensorflow_hub) (2.1.0)\n",
      "Requirement already satisfied: google-pasta>=0.1.1 in /Users/conorwoollatt/Library/Python/3.9/lib/python/site-packages (from tensorflow<2.20,>=2.19->tf-keras>=2.14.1->tensorflow_hub) (0.2.0)\n",
      "Requirement already satisfied: wheel<1.0,>=0.23.0 in /Library/Developer/CommandLineTools/Library/Frameworks/Python3.framework/Versions/3.9/lib/python3.9/site-packages (from astunparse>=1.6.0->tensorflow<2.20,>=2.19->tf-keras>=2.14.1->tensorflow_hub) (0.37.0)\n",
      "Requirement already satisfied: namex in /Users/conorwoollatt/Library/Python/3.9/lib/python/site-packages (from keras>=3.5.0->tensorflow<2.20,>=2.19->tf-keras>=2.14.1->tensorflow_hub) (0.0.8)\n",
      "Requirement already satisfied: optree in /Users/conorwoollatt/Library/Python/3.9/lib/python/site-packages (from keras>=3.5.0->tensorflow<2.20,>=2.19->tf-keras>=2.14.1->tensorflow_hub) (0.14.0)\n",
      "Requirement already satisfied: rich in /Users/conorwoollatt/Library/Python/3.9/lib/python/site-packages (from keras>=3.5.0->tensorflow<2.20,>=2.19->tf-keras>=2.14.1->tensorflow_hub) (13.9.4)\n",
      "Requirement already satisfied: certifi>=2017.4.17 in /Users/conorwoollatt/Library/Python/3.9/lib/python/site-packages (from requests<3,>=2.21.0->tensorflow<2.20,>=2.19->tf-keras>=2.14.1->tensorflow_hub) (2025.1.31)\n",
      "Requirement already satisfied: urllib3<3,>=1.21.1 in /Users/conorwoollatt/Library/Python/3.9/lib/python/site-packages (from requests<3,>=2.21.0->tensorflow<2.20,>=2.19->tf-keras>=2.14.1->tensorflow_hub) (2.3.0)\n",
      "Requirement already satisfied: idna<4,>=2.5 in /Users/conorwoollatt/Library/Python/3.9/lib/python/site-packages (from requests<3,>=2.21.0->tensorflow<2.20,>=2.19->tf-keras>=2.14.1->tensorflow_hub) (3.10)\n",
      "Requirement already satisfied: charset-normalizer<4,>=2 in /Users/conorwoollatt/Library/Python/3.9/lib/python/site-packages (from requests<3,>=2.21.0->tensorflow<2.20,>=2.19->tf-keras>=2.14.1->tensorflow_hub) (3.4.1)\n",
      "Requirement already satisfied: werkzeug>=1.0.1 in /Users/conorwoollatt/Library/Python/3.9/lib/python/site-packages (from tensorboard~=2.19.0->tensorflow<2.20,>=2.19->tf-keras>=2.14.1->tensorflow_hub) (3.1.3)\n",
      "Requirement already satisfied: markdown>=2.6.8 in /Users/conorwoollatt/Library/Python/3.9/lib/python/site-packages (from tensorboard~=2.19.0->tensorflow<2.20,>=2.19->tf-keras>=2.14.1->tensorflow_hub) (3.7)\n",
      "Requirement already satisfied: tensorboard-data-server<0.8.0,>=0.7.0 in /Users/conorwoollatt/Library/Python/3.9/lib/python/site-packages (from tensorboard~=2.19.0->tensorflow<2.20,>=2.19->tf-keras>=2.14.1->tensorflow_hub) (0.7.2)\n",
      "Requirement already satisfied: importlib-metadata>=4.4 in /Users/conorwoollatt/Library/Python/3.9/lib/python/site-packages (from markdown>=2.6.8->tensorboard~=2.19.0->tensorflow<2.20,>=2.19->tf-keras>=2.14.1->tensorflow_hub) (8.5.0)\n",
      "Requirement already satisfied: zipp>=3.20 in /Users/conorwoollatt/Library/Python/3.9/lib/python/site-packages (from importlib-metadata>=4.4->markdown>=2.6.8->tensorboard~=2.19.0->tensorflow<2.20,>=2.19->tf-keras>=2.14.1->tensorflow_hub) (3.21.0)\n",
      "Requirement already satisfied: MarkupSafe>=2.1.1 in /Users/conorwoollatt/Library/Python/3.9/lib/python/site-packages (from werkzeug>=1.0.1->tensorboard~=2.19.0->tensorflow<2.20,>=2.19->tf-keras>=2.14.1->tensorflow_hub) (3.0.2)\n",
      "Requirement already satisfied: markdown-it-py>=2.2.0 in /Users/conorwoollatt/Library/Python/3.9/lib/python/site-packages (from rich->keras>=3.5.0->tensorflow<2.20,>=2.19->tf-keras>=2.14.1->tensorflow_hub) (3.0.0)\n",
      "Requirement already satisfied: pygments<3.0.0,>=2.13.0 in /Users/conorwoollatt/Library/Python/3.9/lib/python/site-packages (from rich->keras>=3.5.0->tensorflow<2.20,>=2.19->tf-keras>=2.14.1->tensorflow_hub) (2.18.0)\n",
      "Requirement already satisfied: mdurl~=0.1 in /Users/conorwoollatt/Library/Python/3.9/lib/python/site-packages (from markdown-it-py>=2.2.0->rich->keras>=3.5.0->tensorflow<2.20,>=2.19->tf-keras>=2.14.1->tensorflow_hub) (0.1.2)\n",
      "\u001b[33mWARNING: You are using pip version 21.2.4; however, version 25.1.1 is available.\n",
      "You should consider upgrading via the '/Library/Developer/CommandLineTools/usr/bin/python3 -m pip install --upgrade pip' command.\u001b[0m\n",
      "Defaulting to user installation because normal site-packages is not writeable\n",
      "Collecting opensmile\n",
      "  Downloading opensmile-2.5.1-py3-none-macosx_11_0_arm64.whl (706 kB)\n",
      "\u001b[K     |████████████████████████████████| 706 kB 7.5 MB/s eta 0:00:01\n",
      "\u001b[?25hCollecting audinterface>=0.7.0\n",
      "  Downloading audinterface-1.3.1-py3-none-any.whl (81 kB)\n",
      "\u001b[K     |████████████████████████████████| 81 kB 13.6 MB/s eta 0:00:01\n",
      "\u001b[?25hCollecting audobject>=0.6.1\n",
      "  Downloading audobject-0.7.12-py3-none-any.whl (42 kB)\n",
      "\u001b[K     |████████████████████████████████| 42 kB 10.4 MB/s eta 0:00:01\n",
      "\u001b[?25hCollecting audeer>=2.1.1\n",
      "  Downloading audeer-2.2.2-py3-none-any.whl (41 kB)\n",
      "\u001b[K     |████████████████████████████████| 41 kB 4.3 MB/s  eta 0:00:01\n",
      "\u001b[?25hCollecting audiofile>=1.3.0\n",
      "  Downloading audiofile-1.5.1-py3-none-any.whl (1.1 MB)\n",
      "\u001b[K     |████████████████████████████████| 1.1 MB 40.0 MB/s eta 0:00:01\n",
      "\u001b[?25hCollecting audformat<2.0.0,>=1.0.1\n",
      "  Downloading audformat-1.3.2-py3-none-any.whl (158 kB)\n",
      "\u001b[K     |████████████████████████████████| 158 kB 43.3 MB/s eta 0:00:01\n",
      "\u001b[?25hCollecting audresample<2.0.0,>=1.1.0\n",
      "  Downloading audresample-1.3.3-py3-none-macosx_11_0_arm64.whl (84 kB)\n",
      "\u001b[K     |████████████████████████████████| 84 kB 17.4 MB/s eta 0:00:01\n",
      "\u001b[?25hCollecting audmath>=1.4.1\n",
      "  Downloading audmath-1.4.2-py3-none-any.whl (23 kB)\n",
      "Requirement already satisfied: tqdm in /Users/conorwoollatt/Library/Python/3.9/lib/python/site-packages (from audeer>=2.1.1->audinterface>=0.7.0->opensmile) (4.67.1)\n",
      "Requirement already satisfied: pyyaml>=5.4.1 in /Users/conorwoollatt/Library/Python/3.9/lib/python/site-packages (from audformat<2.0.0,>=1.0.1->audinterface>=0.7.0->opensmile) (6.0.2)\n",
      "Collecting oyaml\n",
      "  Downloading oyaml-1.0-py2.py3-none-any.whl (3.0 kB)\n",
      "Collecting iso639-lang\n",
      "  Downloading iso639_lang-2.6.0-py3-none-any.whl (324 kB)\n",
      "\u001b[K     |████████████████████████████████| 324 kB 47.5 MB/s eta 0:00:01\n",
      "\u001b[?25hCollecting iso3166\n",
      "  Downloading iso3166-2.1.1-py3-none-any.whl (9.8 kB)\n",
      "Requirement already satisfied: pandas>=2.1.0 in /Users/conorwoollatt/Library/Python/3.9/lib/python/site-packages (from audformat<2.0.0,>=1.0.1->audinterface>=0.7.0->opensmile) (2.2.3)\n",
      "Collecting pyarrow>=10.0.1\n",
      "  Downloading pyarrow-20.0.0-cp39-cp39-macosx_12_0_arm64.whl (30.8 MB)\n",
      "\u001b[K     |████████████████████████████████| 30.8 MB 80.1 MB/s eta 0:00:01     |████████████████████████▍       | 23.5 MB 80.1 MB/s eta 0:00:01\n",
      "\u001b[?25hRequirement already satisfied: numpy in /Users/conorwoollatt/Library/Python/3.9/lib/python/site-packages (from audiofile>=1.3.0->audinterface>=0.7.0->opensmile) (2.0.2)\n",
      "Requirement already satisfied: soundfile>=0.12.1 in /Users/conorwoollatt/Library/Python/3.9/lib/python/site-packages (from audiofile>=1.3.0->audinterface>=0.7.0->opensmile) (0.13.1)\n",
      "Requirement already satisfied: packaging in /Users/conorwoollatt/Library/Python/3.9/lib/python/site-packages (from audobject>=0.6.1->opensmile) (24.2)\n",
      "Requirement already satisfied: asttokens>=2.0.0 in /Users/conorwoollatt/Library/Python/3.9/lib/python/site-packages (from audobject>=0.6.1->opensmile) (3.0.0)\n",
      "Requirement already satisfied: importlib-metadata>=4.8.0 in /Users/conorwoollatt/Library/Python/3.9/lib/python/site-packages (from audobject>=0.6.1->opensmile) (8.5.0)\n",
      "Requirement already satisfied: zipp>=3.20 in /Users/conorwoollatt/Library/Python/3.9/lib/python/site-packages (from importlib-metadata>=4.8.0->audobject>=0.6.1->opensmile) (3.21.0)\n",
      "Requirement already satisfied: pytz>=2020.1 in /Users/conorwoollatt/Library/Python/3.9/lib/python/site-packages (from pandas>=2.1.0->audformat<2.0.0,>=1.0.1->audinterface>=0.7.0->opensmile) (2024.2)\n",
      "Requirement already satisfied: tzdata>=2022.7 in /Users/conorwoollatt/Library/Python/3.9/lib/python/site-packages (from pandas>=2.1.0->audformat<2.0.0,>=1.0.1->audinterface>=0.7.0->opensmile) (2024.2)\n",
      "Requirement already satisfied: python-dateutil>=2.8.2 in /Users/conorwoollatt/Library/Python/3.9/lib/python/site-packages (from pandas>=2.1.0->audformat<2.0.0,>=1.0.1->audinterface>=0.7.0->opensmile) (2.9.0.post0)\n",
      "Requirement already satisfied: six>=1.5 in /Library/Developer/CommandLineTools/Library/Frameworks/Python3.framework/Versions/3.9/lib/python3.9/site-packages (from python-dateutil>=2.8.2->pandas>=2.1.0->audformat<2.0.0,>=1.0.1->audinterface>=0.7.0->opensmile) (1.15.0)\n",
      "Requirement already satisfied: cffi>=1.0 in /Users/conorwoollatt/Library/Python/3.9/lib/python/site-packages (from soundfile>=0.12.1->audiofile>=1.3.0->audinterface>=0.7.0->opensmile) (1.17.1)\n",
      "Requirement already satisfied: pycparser in /Users/conorwoollatt/Library/Python/3.9/lib/python/site-packages (from cffi>=1.0->soundfile>=0.12.1->audiofile>=1.3.0->audinterface>=0.7.0->opensmile) (2.22)\n",
      "Installing collected packages: audmath, audeer, pyarrow, oyaml, iso639-lang, iso3166, audiofile, audresample, audformat, audobject, audinterface, opensmile\n",
      "Successfully installed audeer-2.2.2 audformat-1.3.2 audinterface-1.3.1 audiofile-1.5.1 audmath-1.4.2 audobject-0.7.12 audresample-1.3.3 iso3166-2.1.1 iso639-lang-2.6.0 opensmile-2.5.1 oyaml-1.0 pyarrow-20.0.0\n",
      "\u001b[33mWARNING: You are using pip version 21.2.4; however, version 25.1.1 is available.\n",
      "You should consider upgrading via the '/Library/Developer/CommandLineTools/usr/bin/python3 -m pip install --upgrade pip' command.\u001b[0m\n"
     ]
    }
   ],
   "source": [
    "import os\n",
    "import numpy as np # For numerical operations\n",
    "import matplotlib.pyplot as plt # For plotting\n",
    "import gc # For garbage collection\n",
    "import librosa # For audio processing\n",
    "\n",
    "import sys\n",
    "\n",
    "!{sys.executable} -m pip install tensorflow\n",
    "!{sys.executable} -m pip install tensorflow-hub\n",
    "!{sys.executable} -m pip install tensorflow_hub\n",
    "!{sys.executable} -m pip install opensmile"
   ]
  },
  {
   "cell_type": "markdown",
   "id": "c1bff4a0",
   "metadata": {},
   "source": [
    "## 2 - Setup the basepath and the genres"
   ]
  },
  {
   "cell_type": "code",
   "execution_count": 44,
   "id": "525fef33",
   "metadata": {},
   "outputs": [],
   "source": [
    "BASEPATH = os.path.join(\"./Data\", \"genres_original\")\n",
    "GENRES = [\"blues\", \"classical\", \"country\", \"disco\", \"hiphop\", \"jazz\", \"metal\", \"pop\", \"reggae\", \"rock\"]"
   ]
  },
  {
   "cell_type": "markdown",
   "id": "4715f3b8",
   "metadata": {},
   "source": [
    "## 3 - Grabbing all the features (30 seconds)"
   ]
  },
  {
   "cell_type": "code",
   "execution_count": null,
   "id": "285d1885",
   "metadata": {},
   "outputs": [
    {
     "name": "stderr",
     "output_type": "stream",
     "text": [
      "/Users/conorwoollatt/Library/Python/3.9/lib/python/site-packages/numpy/_core/fromnumeric.py:4006: FutureWarning: The behavior of DataFrame.var with axis=None is deprecated, in a future version this will reduce over both axes and return a scalar. To retain the old behavior, pass axis=0 (or do not pass axis)\n",
      "  return var(axis=axis, dtype=dtype, out=out, ddof=ddof, **kwargs)\n"
     ]
    },
    {
     "name": "stdout",
     "output_type": "stream",
     "text": [
      "3474\n",
      "Processed blues.00093.wav in genre blues\n"
     ]
    },
    {
     "name": "stderr",
     "output_type": "stream",
     "text": [
      "/Users/conorwoollatt/Library/Python/3.9/lib/python/site-packages/librosa/core/spectrum.py:266: UserWarning: n_fft=384 is too large for input signal of length=130\n",
      "  warnings.warn(\n",
      "/Users/conorwoollatt/Library/Python/3.9/lib/python/site-packages/numpy/_core/fromnumeric.py:4006: FutureWarning: The behavior of DataFrame.var with axis=None is deprecated, in a future version this will reduce over both axes and return a scalar. To retain the old behavior, pass axis=0 (or do not pass axis)\n",
      "  return var(axis=axis, dtype=dtype, out=out, ddof=ddof, **kwargs)\n"
     ]
    },
    {
     "name": "stdout",
     "output_type": "stream",
     "text": [
      "3474\n",
      "Processed blues.00087.wav in genre blues\n"
     ]
    },
    {
     "name": "stderr",
     "output_type": "stream",
     "text": [
      "/Users/conorwoollatt/Library/Python/3.9/lib/python/site-packages/librosa/core/spectrum.py:266: UserWarning: n_fft=384 is too large for input signal of length=130\n",
      "  warnings.warn(\n",
      "/Users/conorwoollatt/Library/Python/3.9/lib/python/site-packages/numpy/_core/fromnumeric.py:4006: FutureWarning: The behavior of DataFrame.var with axis=None is deprecated, in a future version this will reduce over both axes and return a scalar. To retain the old behavior, pass axis=0 (or do not pass axis)\n",
      "  return var(axis=axis, dtype=dtype, out=out, ddof=ddof, **kwargs)\n"
     ]
    },
    {
     "name": "stdout",
     "output_type": "stream",
     "text": [
      "3474\n",
      "Processed blues.00050.wav in genre blues\n"
     ]
    },
    {
     "name": "stderr",
     "output_type": "stream",
     "text": [
      "/Users/conorwoollatt/Library/Python/3.9/lib/python/site-packages/librosa/core/spectrum.py:266: UserWarning: n_fft=384 is too large for input signal of length=130\n",
      "  warnings.warn(\n",
      "/Users/conorwoollatt/Library/Python/3.9/lib/python/site-packages/numpy/_core/fromnumeric.py:4006: FutureWarning: The behavior of DataFrame.var with axis=None is deprecated, in a future version this will reduce over both axes and return a scalar. To retain the old behavior, pass axis=0 (or do not pass axis)\n",
      "  return var(axis=axis, dtype=dtype, out=out, ddof=ddof, **kwargs)\n"
     ]
    },
    {
     "name": "stdout",
     "output_type": "stream",
     "text": [
      "3474\n",
      "Processed blues.00044.wav in genre blues\n"
     ]
    },
    {
     "name": "stderr",
     "output_type": "stream",
     "text": [
      "/Users/conorwoollatt/Library/Python/3.9/lib/python/site-packages/librosa/core/spectrum.py:266: UserWarning: n_fft=384 is too large for input signal of length=130\n",
      "  warnings.warn(\n",
      "/Users/conorwoollatt/Library/Python/3.9/lib/python/site-packages/numpy/_core/fromnumeric.py:4006: FutureWarning: The behavior of DataFrame.var with axis=None is deprecated, in a future version this will reduce over both axes and return a scalar. To retain the old behavior, pass axis=0 (or do not pass axis)\n",
      "  return var(axis=axis, dtype=dtype, out=out, ddof=ddof, **kwargs)\n"
     ]
    },
    {
     "name": "stdout",
     "output_type": "stream",
     "text": [
      "3474\n",
      "Processed blues.00078.wav in genre blues\n"
     ]
    },
    {
     "name": "stderr",
     "output_type": "stream",
     "text": [
      "/Users/conorwoollatt/Library/Python/3.9/lib/python/site-packages/librosa/core/spectrum.py:266: UserWarning: n_fft=384 is too large for input signal of length=130\n",
      "  warnings.warn(\n",
      "/Users/conorwoollatt/Library/Python/3.9/lib/python/site-packages/numpy/_core/fromnumeric.py:4006: FutureWarning: The behavior of DataFrame.var with axis=None is deprecated, in a future version this will reduce over both axes and return a scalar. To retain the old behavior, pass axis=0 (or do not pass axis)\n",
      "  return var(axis=axis, dtype=dtype, out=out, ddof=ddof, **kwargs)\n"
     ]
    },
    {
     "name": "stdout",
     "output_type": "stream",
     "text": [
      "3474\n",
      "Processed blues.00079.wav in genre blues\n"
     ]
    },
    {
     "name": "stderr",
     "output_type": "stream",
     "text": [
      "/Users/conorwoollatt/Library/Python/3.9/lib/python/site-packages/librosa/core/spectrum.py:266: UserWarning: n_fft=384 is too large for input signal of length=130\n",
      "  warnings.warn(\n",
      "/Users/conorwoollatt/Library/Python/3.9/lib/python/site-packages/numpy/_core/fromnumeric.py:4006: FutureWarning: The behavior of DataFrame.var with axis=None is deprecated, in a future version this will reduce over both axes and return a scalar. To retain the old behavior, pass axis=0 (or do not pass axis)\n",
      "  return var(axis=axis, dtype=dtype, out=out, ddof=ddof, **kwargs)\n"
     ]
    },
    {
     "name": "stdout",
     "output_type": "stream",
     "text": [
      "3474\n",
      "Processed blues.00045.wav in genre blues\n"
     ]
    },
    {
     "name": "stderr",
     "output_type": "stream",
     "text": [
      "/Users/conorwoollatt/Library/Python/3.9/lib/python/site-packages/librosa/core/spectrum.py:266: UserWarning: n_fft=384 is too large for input signal of length=130\n",
      "  warnings.warn(\n",
      "/Users/conorwoollatt/Library/Python/3.9/lib/python/site-packages/numpy/_core/fromnumeric.py:4006: FutureWarning: The behavior of DataFrame.var with axis=None is deprecated, in a future version this will reduce over both axes and return a scalar. To retain the old behavior, pass axis=0 (or do not pass axis)\n",
      "  return var(axis=axis, dtype=dtype, out=out, ddof=ddof, **kwargs)\n"
     ]
    },
    {
     "name": "stdout",
     "output_type": "stream",
     "text": [
      "3474\n",
      "Processed blues.00051.wav in genre blues\n"
     ]
    },
    {
     "name": "stderr",
     "output_type": "stream",
     "text": [
      "/Users/conorwoollatt/Library/Python/3.9/lib/python/site-packages/librosa/core/spectrum.py:266: UserWarning: n_fft=384 is too large for input signal of length=130\n",
      "  warnings.warn(\n",
      "/Users/conorwoollatt/Library/Python/3.9/lib/python/site-packages/numpy/_core/fromnumeric.py:4006: FutureWarning: The behavior of DataFrame.var with axis=None is deprecated, in a future version this will reduce over both axes and return a scalar. To retain the old behavior, pass axis=0 (or do not pass axis)\n",
      "  return var(axis=axis, dtype=dtype, out=out, ddof=ddof, **kwargs)\n"
     ]
    },
    {
     "name": "stdout",
     "output_type": "stream",
     "text": [
      "3474\n",
      "Processed blues.00086.wav in genre blues\n"
     ]
    },
    {
     "name": "stderr",
     "output_type": "stream",
     "text": [
      "/Users/conorwoollatt/Library/Python/3.9/lib/python/site-packages/librosa/core/spectrum.py:266: UserWarning: n_fft=384 is too large for input signal of length=130\n",
      "  warnings.warn(\n",
      "/Users/conorwoollatt/Library/Python/3.9/lib/python/site-packages/numpy/_core/fromnumeric.py:4006: FutureWarning: The behavior of DataFrame.var with axis=None is deprecated, in a future version this will reduce over both axes and return a scalar. To retain the old behavior, pass axis=0 (or do not pass axis)\n",
      "  return var(axis=axis, dtype=dtype, out=out, ddof=ddof, **kwargs)\n"
     ]
    },
    {
     "name": "stdout",
     "output_type": "stream",
     "text": [
      "3474\n",
      "Processed blues.00092.wav in genre blues\n"
     ]
    },
    {
     "name": "stderr",
     "output_type": "stream",
     "text": [
      "/Users/conorwoollatt/Library/Python/3.9/lib/python/site-packages/librosa/core/spectrum.py:266: UserWarning: n_fft=384 is too large for input signal of length=130\n",
      "  warnings.warn(\n",
      "/Users/conorwoollatt/Library/Python/3.9/lib/python/site-packages/numpy/_core/fromnumeric.py:4006: FutureWarning: The behavior of DataFrame.var with axis=None is deprecated, in a future version this will reduce over both axes and return a scalar. To retain the old behavior, pass axis=0 (or do not pass axis)\n",
      "  return var(axis=axis, dtype=dtype, out=out, ddof=ddof, **kwargs)\n"
     ]
    },
    {
     "name": "stdout",
     "output_type": "stream",
     "text": [
      "3474\n",
      "Processed blues.00084.wav in genre blues\n"
     ]
    },
    {
     "name": "stderr",
     "output_type": "stream",
     "text": [
      "/Users/conorwoollatt/Library/Python/3.9/lib/python/site-packages/librosa/core/spectrum.py:266: UserWarning: n_fft=384 is too large for input signal of length=130\n",
      "  warnings.warn(\n",
      "/Users/conorwoollatt/Library/Python/3.9/lib/python/site-packages/numpy/_core/fromnumeric.py:4006: FutureWarning: The behavior of DataFrame.var with axis=None is deprecated, in a future version this will reduce over both axes and return a scalar. To retain the old behavior, pass axis=0 (or do not pass axis)\n",
      "  return var(axis=axis, dtype=dtype, out=out, ddof=ddof, **kwargs)\n"
     ]
    },
    {
     "name": "stdout",
     "output_type": "stream",
     "text": [
      "3474\n",
      "Processed blues.00090.wav in genre blues\n"
     ]
    },
    {
     "name": "stderr",
     "output_type": "stream",
     "text": [
      "/Users/conorwoollatt/Library/Python/3.9/lib/python/site-packages/librosa/core/spectrum.py:266: UserWarning: n_fft=384 is too large for input signal of length=130\n",
      "  warnings.warn(\n",
      "/Users/conorwoollatt/Library/Python/3.9/lib/python/site-packages/numpy/_core/fromnumeric.py:4006: FutureWarning: The behavior of DataFrame.var with axis=None is deprecated, in a future version this will reduce over both axes and return a scalar. To retain the old behavior, pass axis=0 (or do not pass axis)\n",
      "  return var(axis=axis, dtype=dtype, out=out, ddof=ddof, **kwargs)\n"
     ]
    },
    {
     "name": "stdout",
     "output_type": "stream",
     "text": [
      "3474\n",
      "Processed blues.00047.wav in genre blues\n"
     ]
    },
    {
     "name": "stderr",
     "output_type": "stream",
     "text": [
      "/Users/conorwoollatt/Library/Python/3.9/lib/python/site-packages/librosa/core/spectrum.py:266: UserWarning: n_fft=384 is too large for input signal of length=130\n",
      "  warnings.warn(\n",
      "/Users/conorwoollatt/Library/Python/3.9/lib/python/site-packages/numpy/_core/fromnumeric.py:4006: FutureWarning: The behavior of DataFrame.var with axis=None is deprecated, in a future version this will reduce over both axes and return a scalar. To retain the old behavior, pass axis=0 (or do not pass axis)\n",
      "  return var(axis=axis, dtype=dtype, out=out, ddof=ddof, **kwargs)\n"
     ]
    },
    {
     "name": "stdout",
     "output_type": "stream",
     "text": [
      "3474\n",
      "Processed blues.00053.wav in genre blues\n"
     ]
    },
    {
     "name": "stderr",
     "output_type": "stream",
     "text": [
      "/Users/conorwoollatt/Library/Python/3.9/lib/python/site-packages/librosa/core/spectrum.py:266: UserWarning: n_fft=384 is too large for input signal of length=130\n",
      "  warnings.warn(\n",
      "/Users/conorwoollatt/Library/Python/3.9/lib/python/site-packages/numpy/_core/fromnumeric.py:4006: FutureWarning: The behavior of DataFrame.var with axis=None is deprecated, in a future version this will reduce over both axes and return a scalar. To retain the old behavior, pass axis=0 (or do not pass axis)\n",
      "  return var(axis=axis, dtype=dtype, out=out, ddof=ddof, **kwargs)\n"
     ]
    },
    {
     "name": "stdout",
     "output_type": "stream",
     "text": [
      "3474\n",
      "Processed blues.00052.wav in genre blues\n"
     ]
    },
    {
     "name": "stderr",
     "output_type": "stream",
     "text": [
      "/Users/conorwoollatt/Library/Python/3.9/lib/python/site-packages/librosa/core/spectrum.py:266: UserWarning: n_fft=384 is too large for input signal of length=130\n",
      "  warnings.warn(\n",
      "/Users/conorwoollatt/Library/Python/3.9/lib/python/site-packages/numpy/_core/fromnumeric.py:4006: FutureWarning: The behavior of DataFrame.var with axis=None is deprecated, in a future version this will reduce over both axes and return a scalar. To retain the old behavior, pass axis=0 (or do not pass axis)\n",
      "  return var(axis=axis, dtype=dtype, out=out, ddof=ddof, **kwargs)\n"
     ]
    },
    {
     "name": "stdout",
     "output_type": "stream",
     "text": [
      "3474\n",
      "Processed blues.00046.wav in genre blues\n"
     ]
    },
    {
     "name": "stderr",
     "output_type": "stream",
     "text": [
      "/Users/conorwoollatt/Library/Python/3.9/lib/python/site-packages/librosa/core/spectrum.py:266: UserWarning: n_fft=384 is too large for input signal of length=130\n",
      "  warnings.warn(\n",
      "/Users/conorwoollatt/Library/Python/3.9/lib/python/site-packages/numpy/_core/fromnumeric.py:4006: FutureWarning: The behavior of DataFrame.var with axis=None is deprecated, in a future version this will reduce over both axes and return a scalar. To retain the old behavior, pass axis=0 (or do not pass axis)\n",
      "  return var(axis=axis, dtype=dtype, out=out, ddof=ddof, **kwargs)\n"
     ]
    },
    {
     "name": "stdout",
     "output_type": "stream",
     "text": [
      "3474\n",
      "Processed blues.00091.wav in genre blues\n"
     ]
    },
    {
     "name": "stderr",
     "output_type": "stream",
     "text": [
      "/Users/conorwoollatt/Library/Python/3.9/lib/python/site-packages/librosa/core/spectrum.py:266: UserWarning: n_fft=384 is too large for input signal of length=130\n",
      "  warnings.warn(\n",
      "/Users/conorwoollatt/Library/Python/3.9/lib/python/site-packages/numpy/_core/fromnumeric.py:4006: FutureWarning: The behavior of DataFrame.var with axis=None is deprecated, in a future version this will reduce over both axes and return a scalar. To retain the old behavior, pass axis=0 (or do not pass axis)\n",
      "  return var(axis=axis, dtype=dtype, out=out, ddof=ddof, **kwargs)\n"
     ]
    },
    {
     "name": "stdout",
     "output_type": "stream",
     "text": [
      "3474\n",
      "Processed blues.00085.wav in genre blues\n"
     ]
    },
    {
     "name": "stderr",
     "output_type": "stream",
     "text": [
      "/Users/conorwoollatt/Library/Python/3.9/lib/python/site-packages/librosa/core/spectrum.py:266: UserWarning: n_fft=384 is too large for input signal of length=130\n",
      "  warnings.warn(\n",
      "/Users/conorwoollatt/Library/Python/3.9/lib/python/site-packages/numpy/_core/fromnumeric.py:4006: FutureWarning: The behavior of DataFrame.var with axis=None is deprecated, in a future version this will reduce over both axes and return a scalar. To retain the old behavior, pass axis=0 (or do not pass axis)\n",
      "  return var(axis=axis, dtype=dtype, out=out, ddof=ddof, **kwargs)\n"
     ]
    },
    {
     "name": "stdout",
     "output_type": "stream",
     "text": [
      "3474\n",
      "Processed blues.00081.wav in genre blues\n"
     ]
    },
    {
     "name": "stderr",
     "output_type": "stream",
     "text": [
      "/Users/conorwoollatt/Library/Python/3.9/lib/python/site-packages/librosa/core/spectrum.py:266: UserWarning: n_fft=384 is too large for input signal of length=130\n",
      "  warnings.warn(\n",
      "/Users/conorwoollatt/Library/Python/3.9/lib/python/site-packages/numpy/_core/fromnumeric.py:4006: FutureWarning: The behavior of DataFrame.var with axis=None is deprecated, in a future version this will reduce over both axes and return a scalar. To retain the old behavior, pass axis=0 (or do not pass axis)\n",
      "  return var(axis=axis, dtype=dtype, out=out, ddof=ddof, **kwargs)\n"
     ]
    },
    {
     "name": "stdout",
     "output_type": "stream",
     "text": [
      "3474\n",
      "Processed blues.00095.wav in genre blues\n"
     ]
    },
    {
     "name": "stderr",
     "output_type": "stream",
     "text": [
      "/Users/conorwoollatt/Library/Python/3.9/lib/python/site-packages/librosa/core/spectrum.py:266: UserWarning: n_fft=384 is too large for input signal of length=130\n",
      "  warnings.warn(\n",
      "/Users/conorwoollatt/Library/Python/3.9/lib/python/site-packages/numpy/_core/fromnumeric.py:4006: FutureWarning: The behavior of DataFrame.var with axis=None is deprecated, in a future version this will reduce over both axes and return a scalar. To retain the old behavior, pass axis=0 (or do not pass axis)\n",
      "  return var(axis=axis, dtype=dtype, out=out, ddof=ddof, **kwargs)\n"
     ]
    },
    {
     "name": "stdout",
     "output_type": "stream",
     "text": [
      "3474\n",
      "Processed blues.00042.wav in genre blues\n"
     ]
    },
    {
     "name": "stderr",
     "output_type": "stream",
     "text": [
      "/Users/conorwoollatt/Library/Python/3.9/lib/python/site-packages/librosa/core/spectrum.py:266: UserWarning: n_fft=384 is too large for input signal of length=130\n",
      "  warnings.warn(\n",
      "/Users/conorwoollatt/Library/Python/3.9/lib/python/site-packages/numpy/_core/fromnumeric.py:4006: FutureWarning: The behavior of DataFrame.var with axis=None is deprecated, in a future version this will reduce over both axes and return a scalar. To retain the old behavior, pass axis=0 (or do not pass axis)\n",
      "  return var(axis=axis, dtype=dtype, out=out, ddof=ddof, **kwargs)\n"
     ]
    },
    {
     "name": "stdout",
     "output_type": "stream",
     "text": [
      "3474\n",
      "Processed blues.00056.wav in genre blues\n"
     ]
    },
    {
     "name": "stderr",
     "output_type": "stream",
     "text": [
      "/Users/conorwoollatt/Library/Python/3.9/lib/python/site-packages/librosa/core/spectrum.py:266: UserWarning: n_fft=384 is too large for input signal of length=130\n",
      "  warnings.warn(\n",
      "/Users/conorwoollatt/Library/Python/3.9/lib/python/site-packages/numpy/_core/fromnumeric.py:4006: FutureWarning: The behavior of DataFrame.var with axis=None is deprecated, in a future version this will reduce over both axes and return a scalar. To retain the old behavior, pass axis=0 (or do not pass axis)\n",
      "  return var(axis=axis, dtype=dtype, out=out, ddof=ddof, **kwargs)\n"
     ]
    },
    {
     "name": "stdout",
     "output_type": "stream",
     "text": [
      "3474\n",
      "Processed blues.00057.wav in genre blues\n"
     ]
    },
    {
     "name": "stderr",
     "output_type": "stream",
     "text": [
      "/Users/conorwoollatt/Library/Python/3.9/lib/python/site-packages/librosa/core/spectrum.py:266: UserWarning: n_fft=384 is too large for input signal of length=130\n",
      "  warnings.warn(\n",
      "/Users/conorwoollatt/Library/Python/3.9/lib/python/site-packages/numpy/_core/fromnumeric.py:4006: FutureWarning: The behavior of DataFrame.var with axis=None is deprecated, in a future version this will reduce over both axes and return a scalar. To retain the old behavior, pass axis=0 (or do not pass axis)\n",
      "  return var(axis=axis, dtype=dtype, out=out, ddof=ddof, **kwargs)\n"
     ]
    },
    {
     "name": "stdout",
     "output_type": "stream",
     "text": [
      "3474\n",
      "Processed blues.00043.wav in genre blues\n"
     ]
    },
    {
     "name": "stderr",
     "output_type": "stream",
     "text": [
      "/Users/conorwoollatt/Library/Python/3.9/lib/python/site-packages/librosa/core/spectrum.py:266: UserWarning: n_fft=384 is too large for input signal of length=130\n",
      "  warnings.warn(\n",
      "/Users/conorwoollatt/Library/Python/3.9/lib/python/site-packages/numpy/_core/fromnumeric.py:4006: FutureWarning: The behavior of DataFrame.var with axis=None is deprecated, in a future version this will reduce over both axes and return a scalar. To retain the old behavior, pass axis=0 (or do not pass axis)\n",
      "  return var(axis=axis, dtype=dtype, out=out, ddof=ddof, **kwargs)\n"
     ]
    },
    {
     "name": "stdout",
     "output_type": "stream",
     "text": [
      "3474\n",
      "Processed blues.00094.wav in genre blues\n"
     ]
    },
    {
     "name": "stderr",
     "output_type": "stream",
     "text": [
      "/Users/conorwoollatt/Library/Python/3.9/lib/python/site-packages/librosa/core/spectrum.py:266: UserWarning: n_fft=384 is too large for input signal of length=130\n",
      "  warnings.warn(\n",
      "/Users/conorwoollatt/Library/Python/3.9/lib/python/site-packages/numpy/_core/fromnumeric.py:4006: FutureWarning: The behavior of DataFrame.var with axis=None is deprecated, in a future version this will reduce over both axes and return a scalar. To retain the old behavior, pass axis=0 (or do not pass axis)\n",
      "  return var(axis=axis, dtype=dtype, out=out, ddof=ddof, **kwargs)\n"
     ]
    },
    {
     "name": "stdout",
     "output_type": "stream",
     "text": [
      "3474\n",
      "Processed blues.00080.wav in genre blues\n"
     ]
    },
    {
     "name": "stderr",
     "output_type": "stream",
     "text": [
      "/Users/conorwoollatt/Library/Python/3.9/lib/python/site-packages/librosa/core/spectrum.py:266: UserWarning: n_fft=384 is too large for input signal of length=130\n",
      "  warnings.warn(\n",
      "/Users/conorwoollatt/Library/Python/3.9/lib/python/site-packages/numpy/_core/fromnumeric.py:4006: FutureWarning: The behavior of DataFrame.var with axis=None is deprecated, in a future version this will reduce over both axes and return a scalar. To retain the old behavior, pass axis=0 (or do not pass axis)\n",
      "  return var(axis=axis, dtype=dtype, out=out, ddof=ddof, **kwargs)\n"
     ]
    },
    {
     "name": "stdout",
     "output_type": "stream",
     "text": [
      "3474\n",
      "Processed blues.00096.wav in genre blues\n"
     ]
    },
    {
     "name": "stderr",
     "output_type": "stream",
     "text": [
      "/Users/conorwoollatt/Library/Python/3.9/lib/python/site-packages/librosa/core/spectrum.py:266: UserWarning: n_fft=384 is too large for input signal of length=130\n",
      "  warnings.warn(\n",
      "/Users/conorwoollatt/Library/Python/3.9/lib/python/site-packages/numpy/_core/fromnumeric.py:4006: FutureWarning: The behavior of DataFrame.var with axis=None is deprecated, in a future version this will reduce over both axes and return a scalar. To retain the old behavior, pass axis=0 (or do not pass axis)\n",
      "  return var(axis=axis, dtype=dtype, out=out, ddof=ddof, **kwargs)\n"
     ]
    },
    {
     "name": "stdout",
     "output_type": "stream",
     "text": [
      "3474\n",
      "Processed blues.00082.wav in genre blues\n"
     ]
    },
    {
     "name": "stderr",
     "output_type": "stream",
     "text": [
      "/Users/conorwoollatt/Library/Python/3.9/lib/python/site-packages/librosa/core/spectrum.py:266: UserWarning: n_fft=384 is too large for input signal of length=130\n",
      "  warnings.warn(\n",
      "/Users/conorwoollatt/Library/Python/3.9/lib/python/site-packages/numpy/_core/fromnumeric.py:4006: FutureWarning: The behavior of DataFrame.var with axis=None is deprecated, in a future version this will reduce over both axes and return a scalar. To retain the old behavior, pass axis=0 (or do not pass axis)\n",
      "  return var(axis=axis, dtype=dtype, out=out, ddof=ddof, **kwargs)\n"
     ]
    },
    {
     "name": "stdout",
     "output_type": "stream",
     "text": [
      "3474\n",
      "Processed blues.00069.wav in genre blues\n"
     ]
    },
    {
     "name": "stderr",
     "output_type": "stream",
     "text": [
      "/Users/conorwoollatt/Library/Python/3.9/lib/python/site-packages/librosa/core/spectrum.py:266: UserWarning: n_fft=384 is too large for input signal of length=130\n",
      "  warnings.warn(\n",
      "/Users/conorwoollatt/Library/Python/3.9/lib/python/site-packages/numpy/_core/fromnumeric.py:4006: FutureWarning: The behavior of DataFrame.var with axis=None is deprecated, in a future version this will reduce over both axes and return a scalar. To retain the old behavior, pass axis=0 (or do not pass axis)\n",
      "  return var(axis=axis, dtype=dtype, out=out, ddof=ddof, **kwargs)\n"
     ]
    },
    {
     "name": "stdout",
     "output_type": "stream",
     "text": [
      "3474\n",
      "Processed blues.00055.wav in genre blues\n"
     ]
    },
    {
     "name": "stderr",
     "output_type": "stream",
     "text": [
      "/Users/conorwoollatt/Library/Python/3.9/lib/python/site-packages/librosa/core/spectrum.py:266: UserWarning: n_fft=384 is too large for input signal of length=130\n",
      "  warnings.warn(\n",
      "/Users/conorwoollatt/Library/Python/3.9/lib/python/site-packages/numpy/_core/fromnumeric.py:4006: FutureWarning: The behavior of DataFrame.var with axis=None is deprecated, in a future version this will reduce over both axes and return a scalar. To retain the old behavior, pass axis=0 (or do not pass axis)\n",
      "  return var(axis=axis, dtype=dtype, out=out, ddof=ddof, **kwargs)\n"
     ]
    },
    {
     "name": "stdout",
     "output_type": "stream",
     "text": [
      "3474\n",
      "Processed blues.00041.wav in genre blues\n"
     ]
    },
    {
     "name": "stderr",
     "output_type": "stream",
     "text": [
      "/Users/conorwoollatt/Library/Python/3.9/lib/python/site-packages/librosa/core/spectrum.py:266: UserWarning: n_fft=384 is too large for input signal of length=130\n",
      "  warnings.warn(\n",
      "/Users/conorwoollatt/Library/Python/3.9/lib/python/site-packages/numpy/_core/fromnumeric.py:4006: FutureWarning: The behavior of DataFrame.var with axis=None is deprecated, in a future version this will reduce over both axes and return a scalar. To retain the old behavior, pass axis=0 (or do not pass axis)\n",
      "  return var(axis=axis, dtype=dtype, out=out, ddof=ddof, **kwargs)\n"
     ]
    },
    {
     "name": "stdout",
     "output_type": "stream",
     "text": [
      "3474\n",
      "Processed blues.00040.wav in genre blues\n"
     ]
    },
    {
     "name": "stderr",
     "output_type": "stream",
     "text": [
      "/Users/conorwoollatt/Library/Python/3.9/lib/python/site-packages/librosa/core/spectrum.py:266: UserWarning: n_fft=384 is too large for input signal of length=130\n",
      "  warnings.warn(\n",
      "/Users/conorwoollatt/Library/Python/3.9/lib/python/site-packages/numpy/_core/fromnumeric.py:4006: FutureWarning: The behavior of DataFrame.var with axis=None is deprecated, in a future version this will reduce over both axes and return a scalar. To retain the old behavior, pass axis=0 (or do not pass axis)\n",
      "  return var(axis=axis, dtype=dtype, out=out, ddof=ddof, **kwargs)\n"
     ]
    },
    {
     "name": "stdout",
     "output_type": "stream",
     "text": [
      "3474\n",
      "Processed blues.00054.wav in genre blues\n"
     ]
    },
    {
     "name": "stderr",
     "output_type": "stream",
     "text": [
      "/Users/conorwoollatt/Library/Python/3.9/lib/python/site-packages/librosa/core/spectrum.py:266: UserWarning: n_fft=384 is too large for input signal of length=130\n",
      "  warnings.warn(\n",
      "/Users/conorwoollatt/Library/Python/3.9/lib/python/site-packages/numpy/_core/fromnumeric.py:4006: FutureWarning: The behavior of DataFrame.var with axis=None is deprecated, in a future version this will reduce over both axes and return a scalar. To retain the old behavior, pass axis=0 (or do not pass axis)\n",
      "  return var(axis=axis, dtype=dtype, out=out, ddof=ddof, **kwargs)\n"
     ]
    },
    {
     "name": "stdout",
     "output_type": "stream",
     "text": [
      "3474\n",
      "Processed blues.00068.wav in genre blues\n"
     ]
    },
    {
     "name": "stderr",
     "output_type": "stream",
     "text": [
      "/Users/conorwoollatt/Library/Python/3.9/lib/python/site-packages/librosa/core/spectrum.py:266: UserWarning: n_fft=384 is too large for input signal of length=130\n",
      "  warnings.warn(\n",
      "/Users/conorwoollatt/Library/Python/3.9/lib/python/site-packages/numpy/_core/fromnumeric.py:4006: FutureWarning: The behavior of DataFrame.var with axis=None is deprecated, in a future version this will reduce over both axes and return a scalar. To retain the old behavior, pass axis=0 (or do not pass axis)\n",
      "  return var(axis=axis, dtype=dtype, out=out, ddof=ddof, **kwargs)\n"
     ]
    },
    {
     "name": "stdout",
     "output_type": "stream",
     "text": [
      "3474\n",
      "Processed blues.00083.wav in genre blues\n"
     ]
    },
    {
     "name": "stderr",
     "output_type": "stream",
     "text": [
      "/Users/conorwoollatt/Library/Python/3.9/lib/python/site-packages/librosa/core/spectrum.py:266: UserWarning: n_fft=384 is too large for input signal of length=130\n",
      "  warnings.warn(\n",
      "/Users/conorwoollatt/Library/Python/3.9/lib/python/site-packages/numpy/_core/fromnumeric.py:4006: FutureWarning: The behavior of DataFrame.var with axis=None is deprecated, in a future version this will reduce over both axes and return a scalar. To retain the old behavior, pass axis=0 (or do not pass axis)\n",
      "  return var(axis=axis, dtype=dtype, out=out, ddof=ddof, **kwargs)\n"
     ]
    },
    {
     "name": "stdout",
     "output_type": "stream",
     "text": [
      "3474\n",
      "Processed blues.00097.wav in genre blues\n"
     ]
    },
    {
     "name": "stderr",
     "output_type": "stream",
     "text": [
      "/Users/conorwoollatt/Library/Python/3.9/lib/python/site-packages/librosa/core/spectrum.py:266: UserWarning: n_fft=384 is too large for input signal of length=130\n",
      "  warnings.warn(\n",
      "/Users/conorwoollatt/Library/Python/3.9/lib/python/site-packages/numpy/_core/fromnumeric.py:4006: FutureWarning: The behavior of DataFrame.var with axis=None is deprecated, in a future version this will reduce over both axes and return a scalar. To retain the old behavior, pass axis=0 (or do not pass axis)\n",
      "  return var(axis=axis, dtype=dtype, out=out, ddof=ddof, **kwargs)\n"
     ]
    },
    {
     "name": "stdout",
     "output_type": "stream",
     "text": [
      "3474\n",
      "Processed blues.00033.wav in genre blues\n"
     ]
    },
    {
     "name": "stderr",
     "output_type": "stream",
     "text": [
      "/Users/conorwoollatt/Library/Python/3.9/lib/python/site-packages/librosa/core/spectrum.py:266: UserWarning: n_fft=384 is too large for input signal of length=130\n",
      "  warnings.warn(\n",
      "/Users/conorwoollatt/Library/Python/3.9/lib/python/site-packages/numpy/_core/fromnumeric.py:4006: FutureWarning: The behavior of DataFrame.var with axis=None is deprecated, in a future version this will reduce over both axes and return a scalar. To retain the old behavior, pass axis=0 (or do not pass axis)\n",
      "  return var(axis=axis, dtype=dtype, out=out, ddof=ddof, **kwargs)\n"
     ]
    },
    {
     "name": "stdout",
     "output_type": "stream",
     "text": [
      "3474\n",
      "Processed blues.00027.wav in genre blues\n"
     ]
    },
    {
     "name": "stderr",
     "output_type": "stream",
     "text": [
      "/Users/conorwoollatt/Library/Python/3.9/lib/python/site-packages/librosa/core/spectrum.py:266: UserWarning: n_fft=384 is too large for input signal of length=130\n",
      "  warnings.warn(\n",
      "/Users/conorwoollatt/Library/Python/3.9/lib/python/site-packages/numpy/_core/fromnumeric.py:4006: FutureWarning: The behavior of DataFrame.var with axis=None is deprecated, in a future version this will reduce over both axes and return a scalar. To retain the old behavior, pass axis=0 (or do not pass axis)\n",
      "  return var(axis=axis, dtype=dtype, out=out, ddof=ddof, **kwargs)\n"
     ]
    },
    {
     "name": "stdout",
     "output_type": "stream",
     "text": [
      "3474\n",
      "Processed blues.00026.wav in genre blues\n"
     ]
    },
    {
     "name": "stderr",
     "output_type": "stream",
     "text": [
      "/Users/conorwoollatt/Library/Python/3.9/lib/python/site-packages/librosa/core/spectrum.py:266: UserWarning: n_fft=384 is too large for input signal of length=130\n",
      "  warnings.warn(\n",
      "/Users/conorwoollatt/Library/Python/3.9/lib/python/site-packages/numpy/_core/fromnumeric.py:4006: FutureWarning: The behavior of DataFrame.var with axis=None is deprecated, in a future version this will reduce over both axes and return a scalar. To retain the old behavior, pass axis=0 (or do not pass axis)\n",
      "  return var(axis=axis, dtype=dtype, out=out, ddof=ddof, **kwargs)\n"
     ]
    },
    {
     "name": "stdout",
     "output_type": "stream",
     "text": [
      "3474\n",
      "Processed blues.00032.wav in genre blues\n"
     ]
    },
    {
     "name": "stderr",
     "output_type": "stream",
     "text": [
      "/Users/conorwoollatt/Library/Python/3.9/lib/python/site-packages/librosa/core/spectrum.py:266: UserWarning: n_fft=384 is too large for input signal of length=130\n",
      "  warnings.warn(\n",
      "/Users/conorwoollatt/Library/Python/3.9/lib/python/site-packages/numpy/_core/fromnumeric.py:4006: FutureWarning: The behavior of DataFrame.var with axis=None is deprecated, in a future version this will reduce over both axes and return a scalar. To retain the old behavior, pass axis=0 (or do not pass axis)\n",
      "  return var(axis=axis, dtype=dtype, out=out, ddof=ddof, **kwargs)\n"
     ]
    },
    {
     "name": "stdout",
     "output_type": "stream",
     "text": [
      "3474\n",
      "Processed blues.00024.wav in genre blues\n"
     ]
    },
    {
     "name": "stderr",
     "output_type": "stream",
     "text": [
      "/Users/conorwoollatt/Library/Python/3.9/lib/python/site-packages/librosa/core/spectrum.py:266: UserWarning: n_fft=384 is too large for input signal of length=130\n",
      "  warnings.warn(\n",
      "/Users/conorwoollatt/Library/Python/3.9/lib/python/site-packages/numpy/_core/fromnumeric.py:4006: FutureWarning: The behavior of DataFrame.var with axis=None is deprecated, in a future version this will reduce over both axes and return a scalar. To retain the old behavior, pass axis=0 (or do not pass axis)\n",
      "  return var(axis=axis, dtype=dtype, out=out, ddof=ddof, **kwargs)\n"
     ]
    },
    {
     "name": "stdout",
     "output_type": "stream",
     "text": [
      "3474\n",
      "Processed blues.00030.wav in genre blues\n"
     ]
    },
    {
     "name": "stderr",
     "output_type": "stream",
     "text": [
      "/Users/conorwoollatt/Library/Python/3.9/lib/python/site-packages/librosa/core/spectrum.py:266: UserWarning: n_fft=384 is too large for input signal of length=130\n",
      "  warnings.warn(\n",
      "/Users/conorwoollatt/Library/Python/3.9/lib/python/site-packages/numpy/_core/fromnumeric.py:4006: FutureWarning: The behavior of DataFrame.var with axis=None is deprecated, in a future version this will reduce over both axes and return a scalar. To retain the old behavior, pass axis=0 (or do not pass axis)\n",
      "  return var(axis=axis, dtype=dtype, out=out, ddof=ddof, **kwargs)\n"
     ]
    },
    {
     "name": "stdout",
     "output_type": "stream",
     "text": [
      "3474\n",
      "Processed blues.00018.wav in genre blues\n"
     ]
    },
    {
     "name": "stderr",
     "output_type": "stream",
     "text": [
      "/Users/conorwoollatt/Library/Python/3.9/lib/python/site-packages/librosa/core/spectrum.py:266: UserWarning: n_fft=384 is too large for input signal of length=130\n",
      "  warnings.warn(\n",
      "/Users/conorwoollatt/Library/Python/3.9/lib/python/site-packages/numpy/_core/fromnumeric.py:4006: FutureWarning: The behavior of DataFrame.var with axis=None is deprecated, in a future version this will reduce over both axes and return a scalar. To retain the old behavior, pass axis=0 (or do not pass axis)\n",
      "  return var(axis=axis, dtype=dtype, out=out, ddof=ddof, **kwargs)\n"
     ]
    },
    {
     "name": "stdout",
     "output_type": "stream",
     "text": [
      "3474\n",
      "Processed blues.00019.wav in genre blues\n"
     ]
    },
    {
     "name": "stderr",
     "output_type": "stream",
     "text": [
      "/Users/conorwoollatt/Library/Python/3.9/lib/python/site-packages/librosa/core/spectrum.py:266: UserWarning: n_fft=384 is too large for input signal of length=130\n",
      "  warnings.warn(\n",
      "/Users/conorwoollatt/Library/Python/3.9/lib/python/site-packages/numpy/_core/fromnumeric.py:4006: FutureWarning: The behavior of DataFrame.var with axis=None is deprecated, in a future version this will reduce over both axes and return a scalar. To retain the old behavior, pass axis=0 (or do not pass axis)\n",
      "  return var(axis=axis, dtype=dtype, out=out, ddof=ddof, **kwargs)\n"
     ]
    },
    {
     "name": "stdout",
     "output_type": "stream",
     "text": [
      "3474\n",
      "Processed blues.00031.wav in genre blues\n"
     ]
    },
    {
     "name": "stderr",
     "output_type": "stream",
     "text": [
      "/Users/conorwoollatt/Library/Python/3.9/lib/python/site-packages/librosa/core/spectrum.py:266: UserWarning: n_fft=384 is too large for input signal of length=130\n",
      "  warnings.warn(\n",
      "/Users/conorwoollatt/Library/Python/3.9/lib/python/site-packages/numpy/_core/fromnumeric.py:4006: FutureWarning: The behavior of DataFrame.var with axis=None is deprecated, in a future version this will reduce over both axes and return a scalar. To retain the old behavior, pass axis=0 (or do not pass axis)\n",
      "  return var(axis=axis, dtype=dtype, out=out, ddof=ddof, **kwargs)\n"
     ]
    },
    {
     "name": "stdout",
     "output_type": "stream",
     "text": [
      "3474\n",
      "Processed blues.00025.wav in genre blues\n"
     ]
    },
    {
     "name": "stderr",
     "output_type": "stream",
     "text": [
      "/Users/conorwoollatt/Library/Python/3.9/lib/python/site-packages/librosa/core/spectrum.py:266: UserWarning: n_fft=384 is too large for input signal of length=130\n",
      "  warnings.warn(\n",
      "/Users/conorwoollatt/Library/Python/3.9/lib/python/site-packages/numpy/_core/fromnumeric.py:4006: FutureWarning: The behavior of DataFrame.var with axis=None is deprecated, in a future version this will reduce over both axes and return a scalar. To retain the old behavior, pass axis=0 (or do not pass axis)\n",
      "  return var(axis=axis, dtype=dtype, out=out, ddof=ddof, **kwargs)\n"
     ]
    },
    {
     "name": "stdout",
     "output_type": "stream",
     "text": [
      "3474\n",
      "Processed blues.00009.wav in genre blues\n"
     ]
    },
    {
     "name": "stderr",
     "output_type": "stream",
     "text": [
      "/Users/conorwoollatt/Library/Python/3.9/lib/python/site-packages/librosa/core/spectrum.py:266: UserWarning: n_fft=384 is too large for input signal of length=130\n",
      "  warnings.warn(\n",
      "/Users/conorwoollatt/Library/Python/3.9/lib/python/site-packages/numpy/_core/fromnumeric.py:4006: FutureWarning: The behavior of DataFrame.var with axis=None is deprecated, in a future version this will reduce over both axes and return a scalar. To retain the old behavior, pass axis=0 (or do not pass axis)\n",
      "  return var(axis=axis, dtype=dtype, out=out, ddof=ddof, **kwargs)\n"
     ]
    },
    {
     "name": "stdout",
     "output_type": "stream",
     "text": [
      "3474\n",
      "Processed blues.00021.wav in genre blues\n"
     ]
    },
    {
     "name": "stderr",
     "output_type": "stream",
     "text": [
      "/Users/conorwoollatt/Library/Python/3.9/lib/python/site-packages/librosa/core/spectrum.py:266: UserWarning: n_fft=384 is too large for input signal of length=130\n",
      "  warnings.warn(\n",
      "/Users/conorwoollatt/Library/Python/3.9/lib/python/site-packages/numpy/_core/fromnumeric.py:4006: FutureWarning: The behavior of DataFrame.var with axis=None is deprecated, in a future version this will reduce over both axes and return a scalar. To retain the old behavior, pass axis=0 (or do not pass axis)\n",
      "  return var(axis=axis, dtype=dtype, out=out, ddof=ddof, **kwargs)\n"
     ]
    },
    {
     "name": "stdout",
     "output_type": "stream",
     "text": [
      "3474\n",
      "Processed blues.00035.wav in genre blues\n"
     ]
    },
    {
     "name": "stderr",
     "output_type": "stream",
     "text": [
      "/Users/conorwoollatt/Library/Python/3.9/lib/python/site-packages/librosa/core/spectrum.py:266: UserWarning: n_fft=384 is too large for input signal of length=130\n",
      "  warnings.warn(\n",
      "/Users/conorwoollatt/Library/Python/3.9/lib/python/site-packages/numpy/_core/fromnumeric.py:4006: FutureWarning: The behavior of DataFrame.var with axis=None is deprecated, in a future version this will reduce over both axes and return a scalar. To retain the old behavior, pass axis=0 (or do not pass axis)\n",
      "  return var(axis=axis, dtype=dtype, out=out, ddof=ddof, **kwargs)\n"
     ]
    },
    {
     "name": "stdout",
     "output_type": "stream",
     "text": [
      "3474\n",
      "Processed blues.00034.wav in genre blues\n"
     ]
    },
    {
     "name": "stderr",
     "output_type": "stream",
     "text": [
      "/Users/conorwoollatt/Library/Python/3.9/lib/python/site-packages/librosa/core/spectrum.py:266: UserWarning: n_fft=384 is too large for input signal of length=130\n",
      "  warnings.warn(\n",
      "/Users/conorwoollatt/Library/Python/3.9/lib/python/site-packages/numpy/_core/fromnumeric.py:4006: FutureWarning: The behavior of DataFrame.var with axis=None is deprecated, in a future version this will reduce over both axes and return a scalar. To retain the old behavior, pass axis=0 (or do not pass axis)\n",
      "  return var(axis=axis, dtype=dtype, out=out, ddof=ddof, **kwargs)\n"
     ]
    },
    {
     "name": "stdout",
     "output_type": "stream",
     "text": [
      "3474\n",
      "Processed blues.00020.wav in genre blues\n"
     ]
    },
    {
     "name": "stderr",
     "output_type": "stream",
     "text": [
      "/Users/conorwoollatt/Library/Python/3.9/lib/python/site-packages/librosa/core/spectrum.py:266: UserWarning: n_fft=384 is too large for input signal of length=130\n",
      "  warnings.warn(\n",
      "/Users/conorwoollatt/Library/Python/3.9/lib/python/site-packages/numpy/_core/fromnumeric.py:4006: FutureWarning: The behavior of DataFrame.var with axis=None is deprecated, in a future version this will reduce over both axes and return a scalar. To retain the old behavior, pass axis=0 (or do not pass axis)\n",
      "  return var(axis=axis, dtype=dtype, out=out, ddof=ddof, **kwargs)\n"
     ]
    },
    {
     "name": "stdout",
     "output_type": "stream",
     "text": [
      "3474\n",
      "Processed blues.00008.wav in genre blues\n"
     ]
    },
    {
     "name": "stderr",
     "output_type": "stream",
     "text": [
      "/Users/conorwoollatt/Library/Python/3.9/lib/python/site-packages/librosa/core/spectrum.py:266: UserWarning: n_fft=384 is too large for input signal of length=130\n",
      "  warnings.warn(\n",
      "/Users/conorwoollatt/Library/Python/3.9/lib/python/site-packages/numpy/_core/fromnumeric.py:4006: FutureWarning: The behavior of DataFrame.var with axis=None is deprecated, in a future version this will reduce over both axes and return a scalar. To retain the old behavior, pass axis=0 (or do not pass axis)\n",
      "  return var(axis=axis, dtype=dtype, out=out, ddof=ddof, **kwargs)\n"
     ]
    },
    {
     "name": "stdout",
     "output_type": "stream",
     "text": [
      "3474\n",
      "Processed blues.00036.wav in genre blues\n"
     ]
    },
    {
     "name": "stderr",
     "output_type": "stream",
     "text": [
      "/Users/conorwoollatt/Library/Python/3.9/lib/python/site-packages/librosa/core/spectrum.py:266: UserWarning: n_fft=384 is too large for input signal of length=130\n",
      "  warnings.warn(\n",
      "/Users/conorwoollatt/Library/Python/3.9/lib/python/site-packages/numpy/_core/fromnumeric.py:4006: FutureWarning: The behavior of DataFrame.var with axis=None is deprecated, in a future version this will reduce over both axes and return a scalar. To retain the old behavior, pass axis=0 (or do not pass axis)\n",
      "  return var(axis=axis, dtype=dtype, out=out, ddof=ddof, **kwargs)\n"
     ]
    },
    {
     "name": "stdout",
     "output_type": "stream",
     "text": [
      "3474\n",
      "Processed blues.00022.wav in genre blues\n"
     ]
    },
    {
     "name": "stderr",
     "output_type": "stream",
     "text": [
      "/Users/conorwoollatt/Library/Python/3.9/lib/python/site-packages/librosa/core/spectrum.py:266: UserWarning: n_fft=384 is too large for input signal of length=130\n",
      "  warnings.warn(\n",
      "/Users/conorwoollatt/Library/Python/3.9/lib/python/site-packages/numpy/_core/fromnumeric.py:4006: FutureWarning: The behavior of DataFrame.var with axis=None is deprecated, in a future version this will reduce over both axes and return a scalar. To retain the old behavior, pass axis=0 (or do not pass axis)\n",
      "  return var(axis=axis, dtype=dtype, out=out, ddof=ddof, **kwargs)\n"
     ]
    },
    {
     "name": "stdout",
     "output_type": "stream",
     "text": [
      "3474\n",
      "Processed blues.00023.wav in genre blues\n"
     ]
    },
    {
     "name": "stderr",
     "output_type": "stream",
     "text": [
      "/Users/conorwoollatt/Library/Python/3.9/lib/python/site-packages/librosa/core/spectrum.py:266: UserWarning: n_fft=384 is too large for input signal of length=130\n",
      "  warnings.warn(\n",
      "/Users/conorwoollatt/Library/Python/3.9/lib/python/site-packages/numpy/_core/fromnumeric.py:4006: FutureWarning: The behavior of DataFrame.var with axis=None is deprecated, in a future version this will reduce over both axes and return a scalar. To retain the old behavior, pass axis=0 (or do not pass axis)\n",
      "  return var(axis=axis, dtype=dtype, out=out, ddof=ddof, **kwargs)\n"
     ]
    },
    {
     "name": "stdout",
     "output_type": "stream",
     "text": [
      "3474\n",
      "Processed blues.00037.wav in genre blues\n"
     ]
    },
    {
     "name": "stderr",
     "output_type": "stream",
     "text": [
      "/Users/conorwoollatt/Library/Python/3.9/lib/python/site-packages/librosa/core/spectrum.py:266: UserWarning: n_fft=384 is too large for input signal of length=130\n",
      "  warnings.warn(\n",
      "/Users/conorwoollatt/Library/Python/3.9/lib/python/site-packages/numpy/_core/fromnumeric.py:4006: FutureWarning: The behavior of DataFrame.var with axis=None is deprecated, in a future version this will reduce over both axes and return a scalar. To retain the old behavior, pass axis=0 (or do not pass axis)\n",
      "  return var(axis=axis, dtype=dtype, out=out, ddof=ddof, **kwargs)\n"
     ]
    },
    {
     "name": "stdout",
     "output_type": "stream",
     "text": [
      "3474\n",
      "Processed blues.00012.wav in genre blues\n"
     ]
    },
    {
     "name": "stderr",
     "output_type": "stream",
     "text": [
      "/Users/conorwoollatt/Library/Python/3.9/lib/python/site-packages/librosa/core/spectrum.py:266: UserWarning: n_fft=384 is too large for input signal of length=130\n",
      "  warnings.warn(\n",
      "/Users/conorwoollatt/Library/Python/3.9/lib/python/site-packages/numpy/_core/fromnumeric.py:4006: FutureWarning: The behavior of DataFrame.var with axis=None is deprecated, in a future version this will reduce over both axes and return a scalar. To retain the old behavior, pass axis=0 (or do not pass axis)\n",
      "  return var(axis=axis, dtype=dtype, out=out, ddof=ddof, **kwargs)\n"
     ]
    },
    {
     "name": "stdout",
     "output_type": "stream",
     "text": [
      "3474\n",
      "Processed blues.00006.wav in genre blues\n"
     ]
    },
    {
     "name": "stderr",
     "output_type": "stream",
     "text": [
      "/Users/conorwoollatt/Library/Python/3.9/lib/python/site-packages/librosa/core/spectrum.py:266: UserWarning: n_fft=384 is too large for input signal of length=130\n",
      "  warnings.warn(\n",
      "/Users/conorwoollatt/Library/Python/3.9/lib/python/site-packages/numpy/_core/fromnumeric.py:4006: FutureWarning: The behavior of DataFrame.var with axis=None is deprecated, in a future version this will reduce over both axes and return a scalar. To retain the old behavior, pass axis=0 (or do not pass axis)\n",
      "  return var(axis=axis, dtype=dtype, out=out, ddof=ddof, **kwargs)\n"
     ]
    },
    {
     "name": "stdout",
     "output_type": "stream",
     "text": [
      "3474\n",
      "Processed blues.00007.wav in genre blues\n"
     ]
    },
    {
     "name": "stderr",
     "output_type": "stream",
     "text": [
      "/Users/conorwoollatt/Library/Python/3.9/lib/python/site-packages/librosa/core/spectrum.py:266: UserWarning: n_fft=384 is too large for input signal of length=130\n",
      "  warnings.warn(\n",
      "/Users/conorwoollatt/Library/Python/3.9/lib/python/site-packages/numpy/_core/fromnumeric.py:4006: FutureWarning: The behavior of DataFrame.var with axis=None is deprecated, in a future version this will reduce over both axes and return a scalar. To retain the old behavior, pass axis=0 (or do not pass axis)\n",
      "  return var(axis=axis, dtype=dtype, out=out, ddof=ddof, **kwargs)\n"
     ]
    },
    {
     "name": "stdout",
     "output_type": "stream",
     "text": [
      "3474\n",
      "Processed blues.00013.wav in genre blues\n"
     ]
    },
    {
     "name": "stderr",
     "output_type": "stream",
     "text": [
      "/Users/conorwoollatt/Library/Python/3.9/lib/python/site-packages/librosa/core/spectrum.py:266: UserWarning: n_fft=384 is too large for input signal of length=130\n",
      "  warnings.warn(\n",
      "/Users/conorwoollatt/Library/Python/3.9/lib/python/site-packages/numpy/_core/fromnumeric.py:4006: FutureWarning: The behavior of DataFrame.var with axis=None is deprecated, in a future version this will reduce over both axes and return a scalar. To retain the old behavior, pass axis=0 (or do not pass axis)\n",
      "  return var(axis=axis, dtype=dtype, out=out, ddof=ddof, **kwargs)\n"
     ]
    },
    {
     "name": "stdout",
     "output_type": "stream",
     "text": [
      "3474\n",
      "Processed blues.00005.wav in genre blues\n"
     ]
    },
    {
     "name": "stderr",
     "output_type": "stream",
     "text": [
      "/Users/conorwoollatt/Library/Python/3.9/lib/python/site-packages/librosa/core/spectrum.py:266: UserWarning: n_fft=384 is too large for input signal of length=130\n",
      "  warnings.warn(\n",
      "/Users/conorwoollatt/Library/Python/3.9/lib/python/site-packages/numpy/_core/fromnumeric.py:4006: FutureWarning: The behavior of DataFrame.var with axis=None is deprecated, in a future version this will reduce over both axes and return a scalar. To retain the old behavior, pass axis=0 (or do not pass axis)\n",
      "  return var(axis=axis, dtype=dtype, out=out, ddof=ddof, **kwargs)\n"
     ]
    },
    {
     "name": "stdout",
     "output_type": "stream",
     "text": [
      "3474\n",
      "Processed blues.00011.wav in genre blues\n"
     ]
    },
    {
     "name": "stderr",
     "output_type": "stream",
     "text": [
      "/Users/conorwoollatt/Library/Python/3.9/lib/python/site-packages/librosa/core/spectrum.py:266: UserWarning: n_fft=384 is too large for input signal of length=130\n",
      "  warnings.warn(\n",
      "/Users/conorwoollatt/Library/Python/3.9/lib/python/site-packages/numpy/_core/fromnumeric.py:4006: FutureWarning: The behavior of DataFrame.var with axis=None is deprecated, in a future version this will reduce over both axes and return a scalar. To retain the old behavior, pass axis=0 (or do not pass axis)\n",
      "  return var(axis=axis, dtype=dtype, out=out, ddof=ddof, **kwargs)\n"
     ]
    },
    {
     "name": "stdout",
     "output_type": "stream",
     "text": [
      "3474\n",
      "Processed blues.00039.wav in genre blues\n"
     ]
    },
    {
     "name": "stderr",
     "output_type": "stream",
     "text": [
      "/Users/conorwoollatt/Library/Python/3.9/lib/python/site-packages/librosa/core/spectrum.py:266: UserWarning: n_fft=384 is too large for input signal of length=130\n",
      "  warnings.warn(\n",
      "/Users/conorwoollatt/Library/Python/3.9/lib/python/site-packages/numpy/_core/fromnumeric.py:4006: FutureWarning: The behavior of DataFrame.var with axis=None is deprecated, in a future version this will reduce over both axes and return a scalar. To retain the old behavior, pass axis=0 (or do not pass axis)\n",
      "  return var(axis=axis, dtype=dtype, out=out, ddof=ddof, **kwargs)\n"
     ]
    },
    {
     "name": "stdout",
     "output_type": "stream",
     "text": [
      "3474\n",
      "Processed blues.00038.wav in genre blues\n"
     ]
    },
    {
     "name": "stderr",
     "output_type": "stream",
     "text": [
      "/Users/conorwoollatt/Library/Python/3.9/lib/python/site-packages/librosa/core/spectrum.py:266: UserWarning: n_fft=384 is too large for input signal of length=130\n",
      "  warnings.warn(\n",
      "/Users/conorwoollatt/Library/Python/3.9/lib/python/site-packages/numpy/_core/fromnumeric.py:4006: FutureWarning: The behavior of DataFrame.var with axis=None is deprecated, in a future version this will reduce over both axes and return a scalar. To retain the old behavior, pass axis=0 (or do not pass axis)\n",
      "  return var(axis=axis, dtype=dtype, out=out, ddof=ddof, **kwargs)\n"
     ]
    },
    {
     "name": "stdout",
     "output_type": "stream",
     "text": [
      "3474\n",
      "Processed blues.00010.wav in genre blues\n"
     ]
    },
    {
     "name": "stderr",
     "output_type": "stream",
     "text": [
      "/Users/conorwoollatt/Library/Python/3.9/lib/python/site-packages/librosa/core/spectrum.py:266: UserWarning: n_fft=384 is too large for input signal of length=130\n",
      "  warnings.warn(\n",
      "/Users/conorwoollatt/Library/Python/3.9/lib/python/site-packages/numpy/_core/fromnumeric.py:4006: FutureWarning: The behavior of DataFrame.var with axis=None is deprecated, in a future version this will reduce over both axes and return a scalar. To retain the old behavior, pass axis=0 (or do not pass axis)\n",
      "  return var(axis=axis, dtype=dtype, out=out, ddof=ddof, **kwargs)\n"
     ]
    },
    {
     "name": "stdout",
     "output_type": "stream",
     "text": [
      "3474\n",
      "Processed blues.00004.wav in genre blues\n"
     ]
    },
    {
     "name": "stderr",
     "output_type": "stream",
     "text": [
      "/Users/conorwoollatt/Library/Python/3.9/lib/python/site-packages/librosa/core/spectrum.py:266: UserWarning: n_fft=384 is too large for input signal of length=130\n",
      "  warnings.warn(\n",
      "/Users/conorwoollatt/Library/Python/3.9/lib/python/site-packages/numpy/_core/fromnumeric.py:4006: FutureWarning: The behavior of DataFrame.var with axis=None is deprecated, in a future version this will reduce over both axes and return a scalar. To retain the old behavior, pass axis=0 (or do not pass axis)\n",
      "  return var(axis=axis, dtype=dtype, out=out, ddof=ddof, **kwargs)\n"
     ]
    },
    {
     "name": "stdout",
     "output_type": "stream",
     "text": [
      "3474\n",
      "Processed blues.00028.wav in genre blues\n"
     ]
    },
    {
     "name": "stderr",
     "output_type": "stream",
     "text": [
      "/Users/conorwoollatt/Library/Python/3.9/lib/python/site-packages/librosa/core/spectrum.py:266: UserWarning: n_fft=384 is too large for input signal of length=130\n",
      "  warnings.warn(\n",
      "/Users/conorwoollatt/Library/Python/3.9/lib/python/site-packages/numpy/_core/fromnumeric.py:4006: FutureWarning: The behavior of DataFrame.var with axis=None is deprecated, in a future version this will reduce over both axes and return a scalar. To retain the old behavior, pass axis=0 (or do not pass axis)\n",
      "  return var(axis=axis, dtype=dtype, out=out, ddof=ddof, **kwargs)\n"
     ]
    },
    {
     "name": "stdout",
     "output_type": "stream",
     "text": [
      "3474\n",
      "Processed blues.00000.wav in genre blues\n"
     ]
    },
    {
     "name": "stderr",
     "output_type": "stream",
     "text": [
      "/Users/conorwoollatt/Library/Python/3.9/lib/python/site-packages/librosa/core/spectrum.py:266: UserWarning: n_fft=384 is too large for input signal of length=130\n",
      "  warnings.warn(\n",
      "/Users/conorwoollatt/Library/Python/3.9/lib/python/site-packages/numpy/_core/fromnumeric.py:4006: FutureWarning: The behavior of DataFrame.var with axis=None is deprecated, in a future version this will reduce over both axes and return a scalar. To retain the old behavior, pass axis=0 (or do not pass axis)\n",
      "  return var(axis=axis, dtype=dtype, out=out, ddof=ddof, **kwargs)\n"
     ]
    },
    {
     "name": "stdout",
     "output_type": "stream",
     "text": [
      "3474\n",
      "Processed blues.00014.wav in genre blues\n"
     ]
    },
    {
     "name": "stderr",
     "output_type": "stream",
     "text": [
      "/Users/conorwoollatt/Library/Python/3.9/lib/python/site-packages/librosa/core/spectrum.py:266: UserWarning: n_fft=384 is too large for input signal of length=130\n",
      "  warnings.warn(\n",
      "/Users/conorwoollatt/Library/Python/3.9/lib/python/site-packages/numpy/_core/fromnumeric.py:4006: FutureWarning: The behavior of DataFrame.var with axis=None is deprecated, in a future version this will reduce over both axes and return a scalar. To retain the old behavior, pass axis=0 (or do not pass axis)\n",
      "  return var(axis=axis, dtype=dtype, out=out, ddof=ddof, **kwargs)\n"
     ]
    },
    {
     "name": "stdout",
     "output_type": "stream",
     "text": [
      "3474\n",
      "Processed blues.00015.wav in genre blues\n"
     ]
    },
    {
     "name": "stderr",
     "output_type": "stream",
     "text": [
      "/Users/conorwoollatt/Library/Python/3.9/lib/python/site-packages/librosa/core/spectrum.py:266: UserWarning: n_fft=384 is too large for input signal of length=130\n",
      "  warnings.warn(\n",
      "/Users/conorwoollatt/Library/Python/3.9/lib/python/site-packages/numpy/_core/fromnumeric.py:4006: FutureWarning: The behavior of DataFrame.var with axis=None is deprecated, in a future version this will reduce over both axes and return a scalar. To retain the old behavior, pass axis=0 (or do not pass axis)\n",
      "  return var(axis=axis, dtype=dtype, out=out, ddof=ddof, **kwargs)\n"
     ]
    },
    {
     "name": "stdout",
     "output_type": "stream",
     "text": [
      "3474\n",
      "Processed blues.00001.wav in genre blues\n"
     ]
    },
    {
     "name": "stderr",
     "output_type": "stream",
     "text": [
      "/Users/conorwoollatt/Library/Python/3.9/lib/python/site-packages/librosa/core/spectrum.py:266: UserWarning: n_fft=384 is too large for input signal of length=130\n",
      "  warnings.warn(\n",
      "/Users/conorwoollatt/Library/Python/3.9/lib/python/site-packages/numpy/_core/fromnumeric.py:4006: FutureWarning: The behavior of DataFrame.var with axis=None is deprecated, in a future version this will reduce over both axes and return a scalar. To retain the old behavior, pass axis=0 (or do not pass axis)\n",
      "  return var(axis=axis, dtype=dtype, out=out, ddof=ddof, **kwargs)\n"
     ]
    },
    {
     "name": "stdout",
     "output_type": "stream",
     "text": [
      "3474\n",
      "Processed blues.00029.wav in genre blues\n"
     ]
    },
    {
     "name": "stderr",
     "output_type": "stream",
     "text": [
      "/Users/conorwoollatt/Library/Python/3.9/lib/python/site-packages/librosa/core/spectrum.py:266: UserWarning: n_fft=384 is too large for input signal of length=130\n",
      "  warnings.warn(\n",
      "/Users/conorwoollatt/Library/Python/3.9/lib/python/site-packages/numpy/_core/fromnumeric.py:4006: FutureWarning: The behavior of DataFrame.var with axis=None is deprecated, in a future version this will reduce over both axes and return a scalar. To retain the old behavior, pass axis=0 (or do not pass axis)\n",
      "  return var(axis=axis, dtype=dtype, out=out, ddof=ddof, **kwargs)\n"
     ]
    },
    {
     "name": "stdout",
     "output_type": "stream",
     "text": [
      "3474\n",
      "Processed blues.00017.wav in genre blues\n"
     ]
    },
    {
     "ename": "KeyboardInterrupt",
     "evalue": "",
     "output_type": "error",
     "traceback": [
      "\u001b[0;31m---------------------------------------------------------------------------\u001b[0m",
      "\u001b[0;31mKeyboardInterrupt\u001b[0m                         Traceback (most recent call last)",
      "Cell \u001b[0;32mIn[47], line 80\u001b[0m\n\u001b[1;32m     77\u001b[0m \u001b[38;5;66;03m# Harmonic and Percussive components\u001b[39;00m\n\u001b[1;32m     78\u001b[0m y_harmonic, y_percussive \u001b[38;5;241m=\u001b[39m librosa\u001b[38;5;241m.\u001b[39meffects\u001b[38;5;241m.\u001b[39mhpss(y_segment)\n\u001b[0;32m---> 80\u001b[0m harmony \u001b[38;5;241m=\u001b[39m \u001b[43mlibrosa\u001b[49m\u001b[38;5;241;43m.\u001b[39;49m\u001b[43mfeature\u001b[49m\u001b[38;5;241;43m.\u001b[39;49m\u001b[43mchroma_stft\u001b[49m\u001b[43m(\u001b[49m\u001b[43my\u001b[49m\u001b[38;5;241;43m=\u001b[39;49m\u001b[43my_harmonic\u001b[49m\u001b[43m,\u001b[49m\u001b[43m \u001b[49m\u001b[43msr\u001b[49m\u001b[38;5;241;43m=\u001b[39;49m\u001b[43msr\u001b[49m\u001b[43m)\u001b[49m\n\u001b[1;32m     81\u001b[0m harmony_mean \u001b[38;5;241m=\u001b[39m np\u001b[38;5;241m.\u001b[39mmean(harmony, axis\u001b[38;5;241m=\u001b[39m\u001b[38;5;241m1\u001b[39m)\n\u001b[1;32m     82\u001b[0m harmony_var \u001b[38;5;241m=\u001b[39m np\u001b[38;5;241m.\u001b[39mvar(harmony, axis\u001b[38;5;241m=\u001b[39m\u001b[38;5;241m1\u001b[39m)\n",
      "File \u001b[0;32m~/Library/Python/3.9/lib/python/site-packages/librosa/feature/spectral.py:1275\u001b[0m, in \u001b[0;36mchroma_stft\u001b[0;34m(y, sr, S, norm, n_fft, hop_length, win_length, window, center, pad_mode, tuning, n_chroma, **kwargs)\u001b[0m\n\u001b[1;32m   1262\u001b[0m S, n_fft \u001b[38;5;241m=\u001b[39m _spectrogram(\n\u001b[1;32m   1263\u001b[0m     y\u001b[38;5;241m=\u001b[39my,\n\u001b[1;32m   1264\u001b[0m     S\u001b[38;5;241m=\u001b[39mS,\n\u001b[0;32m   (...)\u001b[0m\n\u001b[1;32m   1271\u001b[0m     pad_mode\u001b[38;5;241m=\u001b[39mpad_mode,\n\u001b[1;32m   1272\u001b[0m )\n\u001b[1;32m   1274\u001b[0m \u001b[38;5;28;01mif\u001b[39;00m tuning \u001b[38;5;129;01mis\u001b[39;00m \u001b[38;5;28;01mNone\u001b[39;00m:\n\u001b[0;32m-> 1275\u001b[0m     tuning \u001b[38;5;241m=\u001b[39m \u001b[43mestimate_tuning\u001b[49m\u001b[43m(\u001b[49m\u001b[43mS\u001b[49m\u001b[38;5;241;43m=\u001b[39;49m\u001b[43mS\u001b[49m\u001b[43m,\u001b[49m\u001b[43m \u001b[49m\u001b[43msr\u001b[49m\u001b[38;5;241;43m=\u001b[39;49m\u001b[43msr\u001b[49m\u001b[43m,\u001b[49m\u001b[43m \u001b[49m\u001b[43mbins_per_octave\u001b[49m\u001b[38;5;241;43m=\u001b[39;49m\u001b[43mn_chroma\u001b[49m\u001b[43m)\u001b[49m\n\u001b[1;32m   1277\u001b[0m \u001b[38;5;66;03m# Get the filter bank\u001b[39;00m\n\u001b[1;32m   1278\u001b[0m chromafb \u001b[38;5;241m=\u001b[39m filters\u001b[38;5;241m.\u001b[39mchroma(\n\u001b[1;32m   1279\u001b[0m     sr\u001b[38;5;241m=\u001b[39msr, n_fft\u001b[38;5;241m=\u001b[39mn_fft, tuning\u001b[38;5;241m=\u001b[39mtuning, n_chroma\u001b[38;5;241m=\u001b[39mn_chroma, \u001b[38;5;241m*\u001b[39m\u001b[38;5;241m*\u001b[39mkwargs\n\u001b[1;32m   1280\u001b[0m )\n",
      "File \u001b[0;32m~/Library/Python/3.9/lib/python/site-packages/librosa/core/pitch.py:93\u001b[0m, in \u001b[0;36mestimate_tuning\u001b[0;34m(y, sr, S, n_fft, resolution, bins_per_octave, **kwargs)\u001b[0m\n\u001b[1;32m     26\u001b[0m \u001b[38;5;28;01mdef\u001b[39;00m \u001b[38;5;21mestimate_tuning\u001b[39m(\n\u001b[1;32m     27\u001b[0m     \u001b[38;5;241m*\u001b[39m,\n\u001b[1;32m     28\u001b[0m     y: Optional[np\u001b[38;5;241m.\u001b[39mndarray] \u001b[38;5;241m=\u001b[39m \u001b[38;5;28;01mNone\u001b[39;00m,\n\u001b[0;32m   (...)\u001b[0m\n\u001b[1;32m     34\u001b[0m     \u001b[38;5;241m*\u001b[39m\u001b[38;5;241m*\u001b[39mkwargs: Any,\n\u001b[1;32m     35\u001b[0m ) \u001b[38;5;241m-\u001b[39m\u001b[38;5;241m>\u001b[39m \u001b[38;5;28mfloat\u001b[39m:\n\u001b[1;32m     36\u001b[0m \u001b[38;5;250m    \u001b[39m\u001b[38;5;124;03m\"\"\"Estimate the tuning of an audio time series or spectrogram input.\u001b[39;00m\n\u001b[1;32m     37\u001b[0m \n\u001b[1;32m     38\u001b[0m \u001b[38;5;124;03m    Parameters\u001b[39;00m\n\u001b[0;32m   (...)\u001b[0m\n\u001b[1;32m     91\u001b[0m \u001b[38;5;124;03m    -0.08000000000000002\u001b[39;00m\n\u001b[1;32m     92\u001b[0m \u001b[38;5;124;03m    \"\"\"\u001b[39;00m\n\u001b[0;32m---> 93\u001b[0m     pitch, mag \u001b[38;5;241m=\u001b[39m \u001b[43mpiptrack\u001b[49m\u001b[43m(\u001b[49m\u001b[43my\u001b[49m\u001b[38;5;241;43m=\u001b[39;49m\u001b[43my\u001b[49m\u001b[43m,\u001b[49m\u001b[43m \u001b[49m\u001b[43msr\u001b[49m\u001b[38;5;241;43m=\u001b[39;49m\u001b[43msr\u001b[49m\u001b[43m,\u001b[49m\u001b[43m \u001b[49m\u001b[43mS\u001b[49m\u001b[38;5;241;43m=\u001b[39;49m\u001b[43mS\u001b[49m\u001b[43m,\u001b[49m\u001b[43m \u001b[49m\u001b[43mn_fft\u001b[49m\u001b[38;5;241;43m=\u001b[39;49m\u001b[43mn_fft\u001b[49m\u001b[43m,\u001b[49m\u001b[43m \u001b[49m\u001b[38;5;241;43m*\u001b[39;49m\u001b[38;5;241;43m*\u001b[39;49m\u001b[43mkwargs\u001b[49m\u001b[43m)\u001b[49m\n\u001b[1;32m     95\u001b[0m     \u001b[38;5;66;03m# Only count magnitude where frequency is > 0\u001b[39;00m\n\u001b[1;32m     96\u001b[0m     pitch_mask \u001b[38;5;241m=\u001b[39m pitch \u001b[38;5;241m>\u001b[39m \u001b[38;5;241m0\u001b[39m\n",
      "File \u001b[0;32m~/Library/Python/3.9/lib/python/site-packages/librosa/core/pitch.py:356\u001b[0m, in \u001b[0;36mpiptrack\u001b[0;34m(y, sr, S, n_fft, hop_length, fmin, fmax, threshold, win_length, window, center, pad_mode, ref)\u001b[0m\n\u001b[1;32m    353\u001b[0m     ref_value \u001b[38;5;241m=\u001b[39m np\u001b[38;5;241m.\u001b[39mabs(ref)\n\u001b[1;32m    355\u001b[0m \u001b[38;5;66;03m# Store pitch and magnitude\u001b[39;00m\n\u001b[0;32m--> 356\u001b[0m idx \u001b[38;5;241m=\u001b[39m np\u001b[38;5;241m.\u001b[39mnonzero(freq_mask \u001b[38;5;241m&\u001b[39m util\u001b[38;5;241m.\u001b[39mlocalmax(\u001b[43mS\u001b[49m\u001b[43m \u001b[49m\u001b[38;5;241;43m*\u001b[39;49m\u001b[43m \u001b[49m\u001b[43m(\u001b[49m\u001b[43mS\u001b[49m\u001b[43m \u001b[49m\u001b[38;5;241;43m>\u001b[39;49m\u001b[43m \u001b[49m\u001b[43mref_value\u001b[49m\u001b[43m)\u001b[49m, axis\u001b[38;5;241m=\u001b[39m\u001b[38;5;241m-\u001b[39m\u001b[38;5;241m2\u001b[39m))\n\u001b[1;32m    357\u001b[0m pitches[idx] \u001b[38;5;241m=\u001b[39m (idx[\u001b[38;5;241m-\u001b[39m\u001b[38;5;241m2\u001b[39m] \u001b[38;5;241m+\u001b[39m shift[idx]) \u001b[38;5;241m*\u001b[39m \u001b[38;5;28mfloat\u001b[39m(sr) \u001b[38;5;241m/\u001b[39m n_fft\n\u001b[1;32m    358\u001b[0m mags[idx] \u001b[38;5;241m=\u001b[39m S[idx] \u001b[38;5;241m+\u001b[39m dskew[idx]\n",
      "\u001b[0;31mKeyboardInterrupt\u001b[0m: "
     ]
    }
   ],
   "source": [
    "import os\n",
    "import numpy as np\n",
    "import pandas as pd\n",
    "import librosa\n",
    "import opensmile\n",
    "import gc  # For garbage collection\n",
    "\n",
    "allSongs = []\n",
    "\n",
    "import tensorflow as tf\n",
    "import tensorflow_hub as hub\n",
    "\n",
    "yamnet_model_handle = \"https://tfhub.dev/google/yamnet/1\"\n",
    "yamnet_model = hub.load(yamnet_model_handle)\n",
    "\n",
    "def get_yamnet_embedding(y, sr):\n",
    "    import librosa\n",
    "    if sr != 16000:\n",
    "        y = librosa.resample(y, orig_sr=sr, target_sr=16000)\n",
    "        sr = 16000\n",
    "    waveform = y.astype('float32')\n",
    "    scores, embeddings, spectrogram = yamnet_model(waveform)\n",
    "    embedding_vector = tf.reduce_mean(embeddings, axis=0).numpy()\n",
    "    return embedding_vector\n",
    "\n",
    "for genre in GENRES:\n",
    "    genre_path = os.path.join(BASEPATH, genre)\n",
    "\n",
    "    for filename in os.listdir(genre_path):\n",
    "        if not filename.endswith(\".wav\"):\n",
    "            continue\n",
    "\n",
    "        file_path = os.path.join(genre_path, filename)\n",
    "        y, sr = librosa.load(file_path, sr=22050)\n",
    "\n",
    "        # Ensure the audio is exactly 30 seconds\n",
    "        y = librosa.util.fix_length(y, size=30 * sr)\n",
    "\n",
    "        features = {}\n",
    "\n",
    "        # Unique filename for each segment\n",
    "        specificFilename = filename.replace(\".wav\", f\"_{segment_idx}.wav\")\n",
    "        features[\"filename\"] = specificFilename\n",
    "        features[\"label\"] = genre\n",
    "        features[\"song_id\"] = f\"{genre}_{filename.split('.')[0]}\"\n",
    "\n",
    "        y_segment = segment  # Use the current segment for feature extraction\n",
    "\n",
    "        # Compute chroma_stft\n",
    "        chroma = librosa.feature.chroma_stft(y=y_segment, sr=sr)\n",
    "        chroma_mean = np.mean(chroma, axis=1)\n",
    "        chroma_var = np.var(chroma, axis=1)\n",
    "        for i in range(len(chroma_mean)):\n",
    "            features[f\"chroma_stft_mean_{i}\"] = chroma_mean[i]\n",
    "            features[f\"chroma_stft_var_{i}\"] = chroma_var[i]\n",
    "\n",
    "        # Spectral centroid\n",
    "        centroid = librosa.feature.spectral_centroid(y=y_segment, sr=sr)\n",
    "        features[\"centroid_mean\"] = np.mean(centroid)\n",
    "        features[\"centroid_var\"] = np.var(centroid)\n",
    "\n",
    "        # Spectral bandwidth\n",
    "        bandwidth = librosa.feature.spectral_bandwidth(y=y_segment, sr=sr)\n",
    "        features[\"bandwidth_mean\"] = np.mean(bandwidth)\n",
    "        features[\"bandwidth_var\"] = np.var(bandwidth)\n",
    "\n",
    "        # Spectral rolloff\n",
    "        rolloff = librosa.feature.spectral_rolloff(y=y_segment, sr=sr)\n",
    "        features[\"rolloff_mean\"] = np.mean(rolloff)\n",
    "        features[\"rolloff_var\"] = np.var(rolloff)\n",
    "\n",
    "        # Zero Crossing Rate\n",
    "        zcr = librosa.feature.zero_crossing_rate(y=y_segment)\n",
    "        features[\"zcr_mean\"] = np.mean(zcr)\n",
    "        features[\"zcr_var\"] = np.var(zcr)\n",
    "\n",
    "        # Harmonic and Percussive components\n",
    "        y_harmonic, y_percussive = librosa.effects.hpss(y_segment)\n",
    "\n",
    "        harmony = librosa.feature.chroma_stft(y=y_harmonic, sr=sr)\n",
    "        harmony_mean = np.mean(harmony, axis=1)\n",
    "        harmony_var = np.var(harmony, axis=1)\n",
    "        for i in range(len(harmony_mean)):\n",
    "            features[f\"harmony_mean_{i}\"] = harmony_mean[i]\n",
    "            features[f\"harmony_var_{i}\"] = harmony_var[i]\n",
    "\n",
    "        percussive = librosa.feature.chroma_stft(y=y_percussive, sr=sr)\n",
    "        percussive_mean = np.mean(percussive, axis=1)\n",
    "        percussive_var = np.var(percussive, axis=1)\n",
    "        for i in range(len(percussive_mean)):\n",
    "            features[f\"percussive_mean_{i}\"] = percussive_mean[i]\n",
    "            features[f\"percussive_var_{i}\"] = percussive_var[i]\n",
    "\n",
    "        # MFCCs and deltas\n",
    "        mfccs = librosa.feature.mfcc(y=y_segment, sr=sr, n_mfcc=13)\n",
    "        delta_mfccs = librosa.feature.delta(mfccs, order=1)\n",
    "        delta2_mfccs = librosa.feature.delta(mfccs, order=2)\n",
    "        for i in range(mfccs.shape[0]):\n",
    "            features[f\"mfcc_{i}_mean\"] = np.mean(mfccs[i])\n",
    "            features[f\"mfcc_{i}_var\"] = np.var(mfccs[i])\n",
    "            features[f\"delta_mfcc_{i}_mean\"] = np.mean(delta_mfccs[i])\n",
    "            features[f\"delta_mfcc_{i}_var\"] = np.var(delta_mfccs[i])\n",
    "            features[f\"delta2_mfcc_{i}_mean\"] = np.mean(delta2_mfccs[i])\n",
    "            features[f\"delta2_mfcc_{i}_var\"] = np.var(delta2_mfccs[i])\n",
    "\n",
    "        # Spectral contrast\n",
    "        spectral_contrast = librosa.feature.spectral_contrast(y=y_segment, sr=sr)\n",
    "        for i in range(spectral_contrast.shape[0]):\n",
    "            features[f\"spectral_contrast_{i}_mean\"] = np.mean(spectral_contrast[i])\n",
    "            features[f\"spectral_contrast_{i}_var\"] = np.var(spectral_contrast[i])\n",
    "\n",
    "        # Tonnetz\n",
    "        tonnetz = librosa.feature.tonnetz(y=y_segment, sr=sr)\n",
    "        for i in range(tonnetz.shape[0]):\n",
    "            features[f\"tonnetz_{i}_mean\"] = np.mean(tonnetz[i])\n",
    "            features[f\"tonnetz_{i}_var\"] = np.var(tonnetz[i])\n",
    "\n",
    "        # Chroma CQT and CENS\n",
    "        chroma_cqt = librosa.feature.chroma_cqt(y=y_segment, sr=sr)\n",
    "        chroma_cqt_mean = np.mean(chroma_cqt, axis=1)\n",
    "        chroma_cqt_var = np.var(chroma_cqt, axis=1)\n",
    "        for i in range(len(chroma_cqt_mean)):\n",
    "            features[f\"chroma_cqt_mean_{i}\"] = chroma_cqt_mean[i]\n",
    "            features[f\"chroma_cqt_var_{i}\"] = chroma_cqt_var[i]\n",
    "\n",
    "        chroma_cens = librosa.feature.chroma_cens(y=y_segment, sr=sr)\n",
    "        chroma_cens_mean = np.mean(chroma_cens, axis=1)\n",
    "        chroma_cens_var = np.var(chroma_cens, axis=1)\n",
    "        for i in range(len(chroma_cens_mean)):\n",
    "            features[f\"chroma_cens_mean_{i}\"] = chroma_cens_mean[i]\n",
    "            features[f\"chroma_cens_var_{i}\"] = chroma_cens_var[i]\n",
    "\n",
    "        # Chroma VQT\n",
    "        chroma_vqt = librosa.feature.chroma_vqt(y=y_segment, sr=sr, intervals='equal')\n",
    "        chroma_vqt_mean = np.mean(chroma_vqt, axis=1)\n",
    "        chroma_vqt_var = np.var(chroma_vqt, axis=1)\n",
    "        for i in range(len(chroma_vqt_mean)):\n",
    "            features[f\"chroma_vqt_mean_{i}\"] = chroma_vqt_mean[i]\n",
    "            features[f\"chroma_vqt_var_{i}\"] = chroma_vqt_var[i]\n",
    "\n",
    "        # Mel spectrogram\n",
    "        mel_spectrogram = librosa.feature.melspectrogram(y=y_segment, sr=sr)\n",
    "        mel_spectrogram_mean = np.mean(mel_spectrogram, axis=1)\n",
    "        mel_spectrogram_var = np.var(mel_spectrogram, axis=1)\n",
    "        for i in range(len(mel_spectrogram_mean)):\n",
    "            features[f\"mel_spectrogram_mean_{i}\"] = mel_spectrogram_mean[i]\n",
    "            features[f\"mel_spectrogram_var_{i}\"] = mel_spectrogram_var[i]\n",
    "\n",
    "        # Spectral flatness\n",
    "        spectral_flatness = librosa.feature.spectral_flatness(y=y_segment)\n",
    "        features[\"spectral_flatness_mean\"] = np.mean(spectral_flatness)\n",
    "        features[\"spectral_flatness_var\"] = np.var(spectral_flatness)\n",
    "\n",
    "        # Polynomial features\n",
    "        poly_features = librosa.feature.poly_features(y=y_segment, sr=sr)\n",
    "        poly_features_mean = np.mean(poly_features, axis=1)\n",
    "        poly_features_var = np.var(poly_features, axis=1)\n",
    "        for i in range(len(poly_features_mean)):\n",
    "            features[f\"poly_features_mean_{i}\"] = poly_features_mean[i]\n",
    "            features[f\"poly_features_var_{i}\"] = poly_features_var[i]\n",
    "\n",
    "        # Tempo and tempogram\n",
    "        tempo, _ = librosa.beat.beat_track(y=y_segment, sr=sr)\n",
    "        features[\"tempo\"] = tempo\n",
    "\n",
    "        tempogram = librosa.feature.tempogram(y=y_segment, sr=sr)\n",
    "        tempogram_mean = np.mean(tempogram, axis=1)\n",
    "        tempogram_var = np.var(tempogram, axis=1)\n",
    "        for i in range(len(tempogram_mean)):\n",
    "            features[f\"tempogram_mean_{i}\"] = tempogram_mean[i]\n",
    "            features[f\"tempogram_var_{i}\"] = tempogram_var[i]\n",
    "\n",
    "        fourier_tempogram = librosa.feature.fourier_tempogram(y=y_segment, sr=sr)\n",
    "        fourier_tempogram_mean = np.mean(fourier_tempogram, axis=1)\n",
    "        fourier_tempogram_var = np.var(fourier_tempogram, axis=1)\n",
    "        for i in range(len(fourier_tempogram_mean)):\n",
    "            features[f\"fourier_tempogram_mean_{i}\"] = fourier_tempogram_mean[i]\n",
    "            features[f\"fourier_tempogram_var_{i}\"] = fourier_tempogram_var[i]\n",
    "\n",
    "        tempogram_ratio = librosa.feature.tempogram(y=y_segment, sr=sr)\n",
    "        tempogram_ratio_mean = np.mean(tempogram_ratio, axis=1)\n",
    "        tempogram_ratio_var = np.var(tempogram_ratio, axis=1)\n",
    "        for i in range(len(tempogram_ratio_mean)):\n",
    "            features[f\"tempogram_ratio_mean_{i}\"] = tempogram_ratio_mean[i]\n",
    "            features[f\"tempogram_ratio_var_{i}\"] = tempogram_ratio_var[i]\n",
    "\n",
    "        # Stack memory\n",
    "        stack_memory = librosa.feature.stack_memory(y_segment)\n",
    "        stack_memory_mean = np.mean(stack_memory, axis=1)\n",
    "        stack_memory_var = np.var(stack_memory, axis=1)\n",
    "        for i in range(len(stack_memory_mean)):\n",
    "            features[f\"stack_memory_mean_{i}\"] = stack_memory_mean[i]\n",
    "            features[f\"stack_memory_var_{i}\"] = stack_memory_var[i]\n",
    "            \n",
    "        yamnet_emb = get_yamnet_embedding(y_segment, sr)\n",
    "        for i, val in enumerate(yamnet_emb):\n",
    "            features[f\"yamnet_emb_{i}\"] = val\n",
    "            \n",
    "        # smile = opensmile.Smile(\n",
    "        #     feature_set=opensmile.FeatureSet.eGeMAPSv02,\n",
    "        #     feature_level=opensmile.FeatureLevel.LowLevelDescriptors\n",
    "        # )\n",
    "        \n",
    "        # smile_features = smile.process_signal(y_segment, sr)\n",
    "        # for key, value in smile_features.items():\n",
    "        #     if isinstance(value, np.ndarray):\n",
    "        #         features[key] = value.mean()\n",
    "                \n",
    "        # features[\"opemsmile_mean\"] = np.mean(smile_features)\n",
    "        # features[\"opemsmile_var\"] = np.var(smile_features)\n",
    "\n",
    "        print(len(features))\n",
    "        allSongs.append(features)\n",
    "        print(f\"Processed {filename} in genre {genre}\")\n",
    "\n",
    "        gc.collect()  # Run garbage collection to free memory\n",
    "\n",
    "# Save to CSV\n",
    "df = pd.DataFrame(allSongs)\n",
    "os.makedirs(BASEPATH, exist_ok=True)\n",
    "df.to_csv(os.path.join(BASEPATH, \"all_30_second_features_full.csv\"), index=False)\n",
    "print(\"Feature extraction complete and saved.\")"
   ]
  },
  {
   "cell_type": "markdown",
   "id": "f0b9c46a",
   "metadata": {},
   "source": [
    "## 4 - Grabbing all the features (3 seconds)"
   ]
  },
  {
   "cell_type": "code",
   "execution_count": null,
   "id": "3b714f81",
   "metadata": {},
   "outputs": [
    {
     "name": "stdout",
     "output_type": "stream",
     "text": [
      "3472\n",
      "Processed segment 1 of blues.00093.wav in genre blues\n",
      "3472\n",
      "Processed segment 2 of blues.00093.wav in genre blues\n",
      "3472\n",
      "Processed segment 3 of blues.00093.wav in genre blues\n",
      "3472\n",
      "Processed segment 4 of blues.00093.wav in genre blues\n",
      "3472\n",
      "Processed segment 5 of blues.00093.wav in genre blues\n",
      "3472\n",
      "Processed segment 6 of blues.00093.wav in genre blues\n",
      "3472\n",
      "Processed segment 7 of blues.00093.wav in genre blues\n",
      "3472\n",
      "Processed segment 8 of blues.00093.wav in genre blues\n",
      "3472\n",
      "Processed segment 9 of blues.00093.wav in genre blues\n",
      "3472\n",
      "Processed segment 10 of blues.00093.wav in genre blues\n",
      "3472\n",
      "Processed segment 1 of blues.00087.wav in genre blues\n",
      "3472\n",
      "Processed segment 2 of blues.00087.wav in genre blues\n"
     ]
    },
    {
     "ename": "KeyboardInterrupt",
     "evalue": "",
     "output_type": "error",
     "traceback": [
      "\u001b[0;31m---------------------------------------------------------------------------\u001b[0m",
      "\u001b[0;31mKeyboardInterrupt\u001b[0m                         Traceback (most recent call last)",
      "Cell \u001b[0;32mIn[41], line 127\u001b[0m\n\u001b[1;32m    124\u001b[0m     features[\u001b[38;5;124mf\u001b[39m\u001b[38;5;124m\"\u001b[39m\u001b[38;5;124mchroma_cqt_mean_\u001b[39m\u001b[38;5;132;01m{\u001b[39;00mi\u001b[38;5;132;01m}\u001b[39;00m\u001b[38;5;124m\"\u001b[39m] \u001b[38;5;241m=\u001b[39m chroma_cqt_mean[i]\n\u001b[1;32m    125\u001b[0m     features[\u001b[38;5;124mf\u001b[39m\u001b[38;5;124m\"\u001b[39m\u001b[38;5;124mchroma_cqt_var_\u001b[39m\u001b[38;5;132;01m{\u001b[39;00mi\u001b[38;5;132;01m}\u001b[39;00m\u001b[38;5;124m\"\u001b[39m] \u001b[38;5;241m=\u001b[39m chroma_cqt_var[i]\n\u001b[0;32m--> 127\u001b[0m chroma_cens \u001b[38;5;241m=\u001b[39m \u001b[43mlibrosa\u001b[49m\u001b[38;5;241;43m.\u001b[39;49m\u001b[43mfeature\u001b[49m\u001b[38;5;241;43m.\u001b[39;49m\u001b[43mchroma_cens\u001b[49m\u001b[43m(\u001b[49m\u001b[43my\u001b[49m\u001b[38;5;241;43m=\u001b[39;49m\u001b[43my_segment\u001b[49m\u001b[43m,\u001b[49m\u001b[43m \u001b[49m\u001b[43msr\u001b[49m\u001b[38;5;241;43m=\u001b[39;49m\u001b[43msr\u001b[49m\u001b[43m)\u001b[49m\n\u001b[1;32m    128\u001b[0m chroma_cens_mean \u001b[38;5;241m=\u001b[39m np\u001b[38;5;241m.\u001b[39mmean(chroma_cens, axis\u001b[38;5;241m=\u001b[39m\u001b[38;5;241m1\u001b[39m)\n\u001b[1;32m    129\u001b[0m chroma_cens_var \u001b[38;5;241m=\u001b[39m np\u001b[38;5;241m.\u001b[39mvar(chroma_cens, axis\u001b[38;5;241m=\u001b[39m\u001b[38;5;241m1\u001b[39m)\n",
      "File \u001b[0;32m~/Library/Python/3.9/lib/python/site-packages/librosa/feature/spectral.py:1524\u001b[0m, in \u001b[0;36mchroma_cens\u001b[0;34m(y, sr, C, hop_length, fmin, tuning, n_chroma, n_octaves, bins_per_octave, cqt_mode, window, norm, win_len_smooth, smoothing_window)\u001b[0m\n\u001b[1;32m   1516\u001b[0m \u001b[38;5;28;01mif\u001b[39;00m \u001b[38;5;129;01mnot\u001b[39;00m (\n\u001b[1;32m   1517\u001b[0m     (win_len_smooth \u001b[38;5;129;01mis\u001b[39;00m \u001b[38;5;28;01mNone\u001b[39;00m)\n\u001b[1;32m   1518\u001b[0m     \u001b[38;5;129;01mor\u001b[39;00m (\u001b[38;5;28misinstance\u001b[39m(win_len_smooth, (\u001b[38;5;28mint\u001b[39m, np\u001b[38;5;241m.\u001b[39minteger)) \u001b[38;5;129;01mand\u001b[39;00m win_len_smooth \u001b[38;5;241m>\u001b[39m \u001b[38;5;241m0\u001b[39m)\n\u001b[1;32m   1519\u001b[0m ):\n\u001b[1;32m   1520\u001b[0m     \u001b[38;5;28;01mraise\u001b[39;00m ParameterError(\n\u001b[1;32m   1521\u001b[0m         \u001b[38;5;124mf\u001b[39m\u001b[38;5;124m\"\u001b[39m\u001b[38;5;124mwin_len_smooth=\u001b[39m\u001b[38;5;132;01m{\u001b[39;00mwin_len_smooth\u001b[38;5;132;01m}\u001b[39;00m\u001b[38;5;124m must be a positive integer or None\u001b[39m\u001b[38;5;124m\"\u001b[39m\n\u001b[1;32m   1522\u001b[0m     )\n\u001b[0;32m-> 1524\u001b[0m chroma \u001b[38;5;241m=\u001b[39m \u001b[43mchroma_cqt\u001b[49m\u001b[43m(\u001b[49m\n\u001b[1;32m   1525\u001b[0m \u001b[43m    \u001b[49m\u001b[43my\u001b[49m\u001b[38;5;241;43m=\u001b[39;49m\u001b[43my\u001b[49m\u001b[43m,\u001b[49m\n\u001b[1;32m   1526\u001b[0m \u001b[43m    \u001b[49m\u001b[43mC\u001b[49m\u001b[38;5;241;43m=\u001b[39;49m\u001b[43mC\u001b[49m\u001b[43m,\u001b[49m\n\u001b[1;32m   1527\u001b[0m \u001b[43m    \u001b[49m\u001b[43msr\u001b[49m\u001b[38;5;241;43m=\u001b[39;49m\u001b[43msr\u001b[49m\u001b[43m,\u001b[49m\n\u001b[1;32m   1528\u001b[0m \u001b[43m    \u001b[49m\u001b[43mhop_length\u001b[49m\u001b[38;5;241;43m=\u001b[39;49m\u001b[43mhop_length\u001b[49m\u001b[43m,\u001b[49m\n\u001b[1;32m   1529\u001b[0m \u001b[43m    \u001b[49m\u001b[43mfmin\u001b[49m\u001b[38;5;241;43m=\u001b[39;49m\u001b[43mfmin\u001b[49m\u001b[43m,\u001b[49m\n\u001b[1;32m   1530\u001b[0m \u001b[43m    \u001b[49m\u001b[43mbins_per_octave\u001b[49m\u001b[38;5;241;43m=\u001b[39;49m\u001b[43mbins_per_octave\u001b[49m\u001b[43m,\u001b[49m\n\u001b[1;32m   1531\u001b[0m \u001b[43m    \u001b[49m\u001b[43mtuning\u001b[49m\u001b[38;5;241;43m=\u001b[39;49m\u001b[43mtuning\u001b[49m\u001b[43m,\u001b[49m\n\u001b[1;32m   1532\u001b[0m \u001b[43m    \u001b[49m\u001b[43mnorm\u001b[49m\u001b[38;5;241;43m=\u001b[39;49m\u001b[38;5;28;43;01mNone\u001b[39;49;00m\u001b[43m,\u001b[49m\n\u001b[1;32m   1533\u001b[0m \u001b[43m    \u001b[49m\u001b[43mn_chroma\u001b[49m\u001b[38;5;241;43m=\u001b[39;49m\u001b[43mn_chroma\u001b[49m\u001b[43m,\u001b[49m\n\u001b[1;32m   1534\u001b[0m \u001b[43m    \u001b[49m\u001b[43mn_octaves\u001b[49m\u001b[38;5;241;43m=\u001b[39;49m\u001b[43mn_octaves\u001b[49m\u001b[43m,\u001b[49m\n\u001b[1;32m   1535\u001b[0m \u001b[43m    \u001b[49m\u001b[43mcqt_mode\u001b[49m\u001b[38;5;241;43m=\u001b[39;49m\u001b[43mcqt_mode\u001b[49m\u001b[43m,\u001b[49m\n\u001b[1;32m   1536\u001b[0m \u001b[43m    \u001b[49m\u001b[43mwindow\u001b[49m\u001b[38;5;241;43m=\u001b[39;49m\u001b[43mwindow\u001b[49m\u001b[43m,\u001b[49m\n\u001b[1;32m   1537\u001b[0m \u001b[43m\u001b[49m\u001b[43m)\u001b[49m\n\u001b[1;32m   1539\u001b[0m \u001b[38;5;66;03m# L1-Normalization\u001b[39;00m\n\u001b[1;32m   1540\u001b[0m chroma \u001b[38;5;241m=\u001b[39m util\u001b[38;5;241m.\u001b[39mnormalize(chroma, norm\u001b[38;5;241m=\u001b[39m\u001b[38;5;241m1\u001b[39m, axis\u001b[38;5;241m=\u001b[39m\u001b[38;5;241m-\u001b[39m\u001b[38;5;241m2\u001b[39m)\n",
      "File \u001b[0;32m~/Library/Python/3.9/lib/python/site-packages/librosa/feature/spectral.py:1388\u001b[0m, in \u001b[0;36mchroma_cqt\u001b[0;34m(y, sr, C, hop_length, fmin, norm, threshold, tuning, n_chroma, n_octaves, window, bins_per_octave, cqt_mode)\u001b[0m\n\u001b[1;32m   1383\u001b[0m     \u001b[38;5;28;01mif\u001b[39;00m y \u001b[38;5;129;01mis\u001b[39;00m \u001b[38;5;28;01mNone\u001b[39;00m:\n\u001b[1;32m   1384\u001b[0m         \u001b[38;5;28;01mraise\u001b[39;00m ParameterError(\n\u001b[1;32m   1385\u001b[0m             \u001b[38;5;124m\"\u001b[39m\u001b[38;5;124mAt least one of C or y must be provided to compute chroma\u001b[39m\u001b[38;5;124m\"\u001b[39m\n\u001b[1;32m   1386\u001b[0m         )\n\u001b[1;32m   1387\u001b[0m     C \u001b[38;5;241m=\u001b[39m np\u001b[38;5;241m.\u001b[39mabs(\n\u001b[0;32m-> 1388\u001b[0m         \u001b[43mcqt_func\u001b[49m\u001b[43m[\u001b[49m\u001b[43mcqt_mode\u001b[49m\u001b[43m]\u001b[49m\u001b[43m(\u001b[49m\n\u001b[1;32m   1389\u001b[0m \u001b[43m            \u001b[49m\u001b[43my\u001b[49m\u001b[43m,\u001b[49m\n\u001b[1;32m   1390\u001b[0m \u001b[43m            \u001b[49m\u001b[43msr\u001b[49m\u001b[38;5;241;43m=\u001b[39;49m\u001b[43msr\u001b[49m\u001b[43m,\u001b[49m\n\u001b[1;32m   1391\u001b[0m \u001b[43m            \u001b[49m\u001b[43mhop_length\u001b[49m\u001b[38;5;241;43m=\u001b[39;49m\u001b[43mhop_length\u001b[49m\u001b[43m,\u001b[49m\n\u001b[1;32m   1392\u001b[0m \u001b[43m            \u001b[49m\u001b[43mfmin\u001b[49m\u001b[38;5;241;43m=\u001b[39;49m\u001b[43mfmin\u001b[49m\u001b[43m,\u001b[49m\n\u001b[1;32m   1393\u001b[0m \u001b[43m            \u001b[49m\u001b[43mn_bins\u001b[49m\u001b[38;5;241;43m=\u001b[39;49m\u001b[43mn_octaves\u001b[49m\u001b[43m \u001b[49m\u001b[38;5;241;43m*\u001b[39;49m\u001b[43m \u001b[49m\u001b[43mbins_per_octave\u001b[49m\u001b[43m,\u001b[49m\n\u001b[1;32m   1394\u001b[0m \u001b[43m            \u001b[49m\u001b[43mbins_per_octave\u001b[49m\u001b[38;5;241;43m=\u001b[39;49m\u001b[43mbins_per_octave\u001b[49m\u001b[43m,\u001b[49m\n\u001b[1;32m   1395\u001b[0m \u001b[43m            \u001b[49m\u001b[43mtuning\u001b[49m\u001b[38;5;241;43m=\u001b[39;49m\u001b[43mtuning\u001b[49m\u001b[43m,\u001b[49m\n\u001b[1;32m   1396\u001b[0m \u001b[43m        \u001b[49m\u001b[43m)\u001b[49m\n\u001b[1;32m   1397\u001b[0m     )\n\u001b[1;32m   1399\u001b[0m \u001b[38;5;66;03m# Map to chroma\u001b[39;00m\n\u001b[1;32m   1400\u001b[0m cq_to_chr \u001b[38;5;241m=\u001b[39m filters\u001b[38;5;241m.\u001b[39mcq_to_chroma(\n\u001b[1;32m   1401\u001b[0m     C\u001b[38;5;241m.\u001b[39mshape[\u001b[38;5;241m-\u001b[39m\u001b[38;5;241m2\u001b[39m],\n\u001b[1;32m   1402\u001b[0m     bins_per_octave\u001b[38;5;241m=\u001b[39mbins_per_octave,\n\u001b[0;32m   (...)\u001b[0m\n\u001b[1;32m   1405\u001b[0m     window\u001b[38;5;241m=\u001b[39mwindow,\n\u001b[1;32m   1406\u001b[0m )\n",
      "File \u001b[0;32m~/Library/Python/3.9/lib/python/site-packages/librosa/core/constantq.py:171\u001b[0m, in \u001b[0;36mcqt\u001b[0;34m(y, sr, hop_length, fmin, n_bins, bins_per_octave, tuning, filter_scale, norm, sparsity, window, scale, pad_mode, res_type, dtype)\u001b[0m\n\u001b[1;32m     46\u001b[0m \u001b[38;5;250m\u001b[39m\u001b[38;5;124;03m\"\"\"Compute the constant-Q transform of an audio signal.\u001b[39;00m\n\u001b[1;32m     47\u001b[0m \n\u001b[1;32m     48\u001b[0m \u001b[38;5;124;03mThis implementation is based on the recursive sub-sampling method\u001b[39;00m\n\u001b[0;32m   (...)\u001b[0m\n\u001b[1;32m    168\u001b[0m \u001b[38;5;124;03m       [5.147e-02, 6.959e-02, ..., 1.694e-05, 5.811e-06]])\u001b[39;00m\n\u001b[1;32m    169\u001b[0m \u001b[38;5;124;03m\"\"\"\u001b[39;00m\n\u001b[1;32m    170\u001b[0m \u001b[38;5;66;03m# CQT is the special case of VQT with gamma=0\u001b[39;00m\n\u001b[0;32m--> 171\u001b[0m \u001b[38;5;28;01mreturn\u001b[39;00m \u001b[43mvqt\u001b[49m\u001b[43m(\u001b[49m\n\u001b[1;32m    172\u001b[0m \u001b[43m    \u001b[49m\u001b[43my\u001b[49m\u001b[38;5;241;43m=\u001b[39;49m\u001b[43my\u001b[49m\u001b[43m,\u001b[49m\n\u001b[1;32m    173\u001b[0m \u001b[43m    \u001b[49m\u001b[43msr\u001b[49m\u001b[38;5;241;43m=\u001b[39;49m\u001b[43msr\u001b[49m\u001b[43m,\u001b[49m\n\u001b[1;32m    174\u001b[0m \u001b[43m    \u001b[49m\u001b[43mhop_length\u001b[49m\u001b[38;5;241;43m=\u001b[39;49m\u001b[43mhop_length\u001b[49m\u001b[43m,\u001b[49m\n\u001b[1;32m    175\u001b[0m \u001b[43m    \u001b[49m\u001b[43mfmin\u001b[49m\u001b[38;5;241;43m=\u001b[39;49m\u001b[43mfmin\u001b[49m\u001b[43m,\u001b[49m\n\u001b[1;32m    176\u001b[0m \u001b[43m    \u001b[49m\u001b[43mn_bins\u001b[49m\u001b[38;5;241;43m=\u001b[39;49m\u001b[43mn_bins\u001b[49m\u001b[43m,\u001b[49m\n\u001b[1;32m    177\u001b[0m \u001b[43m    \u001b[49m\u001b[43mintervals\u001b[49m\u001b[38;5;241;43m=\u001b[39;49m\u001b[38;5;124;43m\"\u001b[39;49m\u001b[38;5;124;43mequal\u001b[39;49m\u001b[38;5;124;43m\"\u001b[39;49m\u001b[43m,\u001b[49m\n\u001b[1;32m    178\u001b[0m \u001b[43m    \u001b[49m\u001b[43mgamma\u001b[49m\u001b[38;5;241;43m=\u001b[39;49m\u001b[38;5;241;43m0\u001b[39;49m\u001b[43m,\u001b[49m\n\u001b[1;32m    179\u001b[0m \u001b[43m    \u001b[49m\u001b[43mbins_per_octave\u001b[49m\u001b[38;5;241;43m=\u001b[39;49m\u001b[43mbins_per_octave\u001b[49m\u001b[43m,\u001b[49m\n\u001b[1;32m    180\u001b[0m \u001b[43m    \u001b[49m\u001b[43mtuning\u001b[49m\u001b[38;5;241;43m=\u001b[39;49m\u001b[43mtuning\u001b[49m\u001b[43m,\u001b[49m\n\u001b[1;32m    181\u001b[0m \u001b[43m    \u001b[49m\u001b[43mfilter_scale\u001b[49m\u001b[38;5;241;43m=\u001b[39;49m\u001b[43mfilter_scale\u001b[49m\u001b[43m,\u001b[49m\n\u001b[1;32m    182\u001b[0m \u001b[43m    \u001b[49m\u001b[43mnorm\u001b[49m\u001b[38;5;241;43m=\u001b[39;49m\u001b[43mnorm\u001b[49m\u001b[43m,\u001b[49m\n\u001b[1;32m    183\u001b[0m \u001b[43m    \u001b[49m\u001b[43msparsity\u001b[49m\u001b[38;5;241;43m=\u001b[39;49m\u001b[43msparsity\u001b[49m\u001b[43m,\u001b[49m\n\u001b[1;32m    184\u001b[0m \u001b[43m    \u001b[49m\u001b[43mwindow\u001b[49m\u001b[38;5;241;43m=\u001b[39;49m\u001b[43mwindow\u001b[49m\u001b[43m,\u001b[49m\n\u001b[1;32m    185\u001b[0m \u001b[43m    \u001b[49m\u001b[43mscale\u001b[49m\u001b[38;5;241;43m=\u001b[39;49m\u001b[43mscale\u001b[49m\u001b[43m,\u001b[49m\n\u001b[1;32m    186\u001b[0m \u001b[43m    \u001b[49m\u001b[43mpad_mode\u001b[49m\u001b[38;5;241;43m=\u001b[39;49m\u001b[43mpad_mode\u001b[49m\u001b[43m,\u001b[49m\n\u001b[1;32m    187\u001b[0m \u001b[43m    \u001b[49m\u001b[43mres_type\u001b[49m\u001b[38;5;241;43m=\u001b[39;49m\u001b[43mres_type\u001b[49m\u001b[43m,\u001b[49m\n\u001b[1;32m    188\u001b[0m \u001b[43m    \u001b[49m\u001b[43mdtype\u001b[49m\u001b[38;5;241;43m=\u001b[39;49m\u001b[43mdtype\u001b[49m\u001b[43m,\u001b[49m\n\u001b[1;32m    189\u001b[0m \u001b[43m\u001b[49m\u001b[43m)\u001b[49m\n",
      "File \u001b[0;32m~/Library/Python/3.9/lib/python/site-packages/librosa/core/constantq.py:1000\u001b[0m, in \u001b[0;36mvqt\u001b[0;34m(y, sr, hop_length, fmin, n_bins, intervals, gamma, bins_per_octave, tuning, filter_scale, norm, sparsity, window, scale, pad_mode, res_type, dtype)\u001b[0m\n\u001b[1;32m    997\u001b[0m freqs_oct \u001b[38;5;241m=\u001b[39m freqs[sl]\n\u001b[1;32m    998\u001b[0m alpha_oct \u001b[38;5;241m=\u001b[39m alpha[sl]\n\u001b[0;32m-> 1000\u001b[0m fft_basis, n_fft, _ \u001b[38;5;241m=\u001b[39m \u001b[43m__vqt_filter_fft\u001b[49m\u001b[43m(\u001b[49m\n\u001b[1;32m   1001\u001b[0m \u001b[43m    \u001b[49m\u001b[43mmy_sr\u001b[49m\u001b[43m,\u001b[49m\n\u001b[1;32m   1002\u001b[0m \u001b[43m    \u001b[49m\u001b[43mfreqs_oct\u001b[49m\u001b[43m,\u001b[49m\n\u001b[1;32m   1003\u001b[0m \u001b[43m    \u001b[49m\u001b[43mfilter_scale\u001b[49m\u001b[43m,\u001b[49m\n\u001b[1;32m   1004\u001b[0m \u001b[43m    \u001b[49m\u001b[43mnorm\u001b[49m\u001b[43m,\u001b[49m\n\u001b[1;32m   1005\u001b[0m \u001b[43m    \u001b[49m\u001b[43msparsity\u001b[49m\u001b[43m,\u001b[49m\n\u001b[1;32m   1006\u001b[0m \u001b[43m    \u001b[49m\u001b[43mwindow\u001b[49m\u001b[38;5;241;43m=\u001b[39;49m\u001b[43mwindow\u001b[49m\u001b[43m,\u001b[49m\n\u001b[1;32m   1007\u001b[0m \u001b[43m    \u001b[49m\u001b[43mgamma\u001b[49m\u001b[38;5;241;43m=\u001b[39;49m\u001b[43mgamma\u001b[49m\u001b[43m,\u001b[49m\n\u001b[1;32m   1008\u001b[0m \u001b[43m    \u001b[49m\u001b[43mdtype\u001b[49m\u001b[38;5;241;43m=\u001b[39;49m\u001b[43mdtype\u001b[49m\u001b[43m,\u001b[49m\n\u001b[1;32m   1009\u001b[0m \u001b[43m    \u001b[49m\u001b[43malpha\u001b[49m\u001b[38;5;241;43m=\u001b[39;49m\u001b[43malpha_oct\u001b[49m\u001b[43m,\u001b[49m\n\u001b[1;32m   1010\u001b[0m \u001b[43m\u001b[49m\u001b[43m)\u001b[49m\n\u001b[1;32m   1012\u001b[0m \u001b[38;5;66;03m# Re-scale the filters to compensate for downsampling\u001b[39;00m\n\u001b[1;32m   1013\u001b[0m fft_basis[:] \u001b[38;5;241m*\u001b[39m\u001b[38;5;241m=\u001b[39m np\u001b[38;5;241m.\u001b[39msqrt(sr \u001b[38;5;241m/\u001b[39m my_sr)\n",
      "File \u001b[0;32m~/Library/Python/3.9/lib/python/site-packages/librosa/core/constantq.py:1087\u001b[0m, in \u001b[0;36m__vqt_filter_fft\u001b[0;34m(sr, freqs, filter_scale, norm, sparsity, hop_length, window, gamma, dtype, alpha)\u001b[0m\n\u001b[1;32m   1084\u001b[0m fft_basis \u001b[38;5;241m=\u001b[39m fft\u001b[38;5;241m.\u001b[39mfft(basis, n\u001b[38;5;241m=\u001b[39mn_fft, axis\u001b[38;5;241m=\u001b[39m\u001b[38;5;241m1\u001b[39m)[:, : (n_fft \u001b[38;5;241m/\u001b[39m\u001b[38;5;241m/\u001b[39m \u001b[38;5;241m2\u001b[39m) \u001b[38;5;241m+\u001b[39m \u001b[38;5;241m1\u001b[39m]\n\u001b[1;32m   1086\u001b[0m \u001b[38;5;66;03m# sparsify the basis\u001b[39;00m\n\u001b[0;32m-> 1087\u001b[0m fft_basis \u001b[38;5;241m=\u001b[39m \u001b[43mutil\u001b[49m\u001b[38;5;241;43m.\u001b[39;49m\u001b[43msparsify_rows\u001b[49m\u001b[43m(\u001b[49m\u001b[43mfft_basis\u001b[49m\u001b[43m,\u001b[49m\u001b[43m \u001b[49m\u001b[43mquantile\u001b[49m\u001b[38;5;241;43m=\u001b[39;49m\u001b[43msparsity\u001b[49m\u001b[43m,\u001b[49m\u001b[43m \u001b[49m\u001b[43mdtype\u001b[49m\u001b[38;5;241;43m=\u001b[39;49m\u001b[43mdtype\u001b[49m\u001b[43m)\u001b[49m\n\u001b[1;32m   1089\u001b[0m \u001b[38;5;28;01mreturn\u001b[39;00m fft_basis, n_fft, lengths\n",
      "File \u001b[0;32m~/Library/Python/3.9/lib/python/site-packages/librosa/util/utils.py:1454\u001b[0m, in \u001b[0;36msparsify_rows\u001b[0;34m(x, quantile, dtype)\u001b[0m\n\u001b[1;32m   1452\u001b[0m \u001b[38;5;28;01mfor\u001b[39;00m i, j \u001b[38;5;129;01min\u001b[39;00m \u001b[38;5;28menumerate\u001b[39m(threshold_idx):\n\u001b[1;32m   1453\u001b[0m     idx \u001b[38;5;241m=\u001b[39m np\u001b[38;5;241m.\u001b[39mwhere(mags[i] \u001b[38;5;241m>\u001b[39m\u001b[38;5;241m=\u001b[39m mag_sort[i, j])\n\u001b[0;32m-> 1454\u001b[0m     \u001b[43mx_sparse\u001b[49m\u001b[43m[\u001b[49m\u001b[43mi\u001b[49m\u001b[43m,\u001b[49m\u001b[43m \u001b[49m\u001b[43midx\u001b[49m\u001b[43m]\u001b[49m \u001b[38;5;241m=\u001b[39m x[i, idx]\n\u001b[1;32m   1456\u001b[0m \u001b[38;5;28;01mreturn\u001b[39;00m x_sparse\u001b[38;5;241m.\u001b[39mtocsr()\n",
      "File \u001b[0;32m~/Library/Python/3.9/lib/python/site-packages/scipy/sparse/_lil.py:272\u001b[0m, in \u001b[0;36m_lil_base.__setitem__\u001b[0;34m(self, key, x)\u001b[0m\n\u001b[1;32m    270\u001b[0m         \u001b[38;5;28;01mreturn\u001b[39;00m\n\u001b[1;32m    271\u001b[0m \u001b[38;5;66;03m# Everything else takes the normal path.\u001b[39;00m\n\u001b[0;32m--> 272\u001b[0m \u001b[43mIndexMixin\u001b[49m\u001b[38;5;241;43m.\u001b[39;49m\u001b[38;5;21;43m__setitem__\u001b[39;49m\u001b[43m(\u001b[49m\u001b[38;5;28;43mself\u001b[39;49m\u001b[43m,\u001b[49m\u001b[43m \u001b[49m\u001b[43mkey\u001b[49m\u001b[43m,\u001b[49m\u001b[43m \u001b[49m\u001b[43mx\u001b[49m\u001b[43m)\u001b[49m\n",
      "File \u001b[0;32m~/Library/Python/3.9/lib/python/site-packages/scipy/sparse/_index.py:123\u001b[0m, in \u001b[0;36mIndexMixin.__setitem__\u001b[0;34m(self, key, x)\u001b[0m\n\u001b[1;32m    120\u001b[0m \u001b[38;5;28;01melse\u001b[39;00m:\n\u001b[1;32m    121\u001b[0m     col \u001b[38;5;241m=\u001b[39m np\u001b[38;5;241m.\u001b[39matleast_1d(col)\n\u001b[0;32m--> 123\u001b[0m i, j \u001b[38;5;241m=\u001b[39m \u001b[43m_broadcast_arrays\u001b[49m\u001b[43m(\u001b[49m\u001b[43mrow\u001b[49m\u001b[43m,\u001b[49m\u001b[43m \u001b[49m\u001b[43mcol\u001b[49m\u001b[43m)\u001b[49m\n\u001b[1;32m    124\u001b[0m \u001b[38;5;28;01mif\u001b[39;00m i\u001b[38;5;241m.\u001b[39mshape \u001b[38;5;241m!=\u001b[39m j\u001b[38;5;241m.\u001b[39mshape:\n\u001b[1;32m    125\u001b[0m     \u001b[38;5;28;01mraise\u001b[39;00m \u001b[38;5;167;01mIndexError\u001b[39;00m(\u001b[38;5;124m'\u001b[39m\u001b[38;5;124mnumber of row and column indices differ\u001b[39m\u001b[38;5;124m'\u001b[39m)\n",
      "File \u001b[0;32m~/Library/Python/3.9/lib/python/site-packages/scipy/sparse/_index.py:25\u001b[0m, in \u001b[0;36m_broadcast_arrays\u001b[0;34m(a, b)\u001b[0m\n\u001b[1;32m     16\u001b[0m \u001b[38;5;28;01mdef\u001b[39;00m \u001b[38;5;21m_broadcast_arrays\u001b[39m(a, b):\n\u001b[1;32m     17\u001b[0m \u001b[38;5;250m    \u001b[39m\u001b[38;5;124;03m\"\"\"\u001b[39;00m\n\u001b[1;32m     18\u001b[0m \u001b[38;5;124;03m    Same as np.broadcast_arrays(a, b) but old writeability rules.\u001b[39;00m\n\u001b[1;32m     19\u001b[0m \n\u001b[0;32m   (...)\u001b[0m\n\u001b[1;32m     23\u001b[0m \u001b[38;5;124;03m    the old behavior.\u001b[39;00m\n\u001b[1;32m     24\u001b[0m \u001b[38;5;124;03m    \"\"\"\u001b[39;00m\n\u001b[0;32m---> 25\u001b[0m     x, y \u001b[38;5;241m=\u001b[39m \u001b[43mnp\u001b[49m\u001b[38;5;241;43m.\u001b[39;49m\u001b[43mbroadcast_arrays\u001b[49m\u001b[43m(\u001b[49m\u001b[43ma\u001b[49m\u001b[43m,\u001b[49m\u001b[43m \u001b[49m\u001b[43mb\u001b[49m\u001b[43m)\u001b[49m\n\u001b[1;32m     26\u001b[0m     x\u001b[38;5;241m.\u001b[39mflags\u001b[38;5;241m.\u001b[39mwriteable \u001b[38;5;241m=\u001b[39m a\u001b[38;5;241m.\u001b[39mflags\u001b[38;5;241m.\u001b[39mwriteable\n\u001b[1;32m     27\u001b[0m     y\u001b[38;5;241m.\u001b[39mflags\u001b[38;5;241m.\u001b[39mwriteable \u001b[38;5;241m=\u001b[39m b\u001b[38;5;241m.\u001b[39mflags\u001b[38;5;241m.\u001b[39mwriteable\n",
      "File \u001b[0;32m~/Library/Python/3.9/lib/python/site-packages/numpy/lib/_stride_tricks_impl.py:549\u001b[0m, in \u001b[0;36mbroadcast_arrays\u001b[0;34m(subok, *args)\u001b[0m\n\u001b[1;32m    491\u001b[0m \u001b[38;5;250m\u001b[39m\u001b[38;5;124;03m\"\"\"\u001b[39;00m\n\u001b[1;32m    492\u001b[0m \u001b[38;5;124;03mBroadcast any number of arrays against each other.\u001b[39;00m\n\u001b[1;32m    493\u001b[0m \n\u001b[0;32m   (...)\u001b[0m\n\u001b[1;32m    542\u001b[0m \n\u001b[1;32m    543\u001b[0m \u001b[38;5;124;03m\"\"\"\u001b[39;00m\n\u001b[1;32m    544\u001b[0m \u001b[38;5;66;03m# nditer is not used here to avoid the limit of 32 arrays.\u001b[39;00m\n\u001b[1;32m    545\u001b[0m \u001b[38;5;66;03m# Otherwise, something like the following one-liner would suffice:\u001b[39;00m\n\u001b[1;32m    546\u001b[0m \u001b[38;5;66;03m# return np.nditer(args, flags=['multi_index', 'zerosize_ok'],\u001b[39;00m\n\u001b[1;32m    547\u001b[0m \u001b[38;5;66;03m#                  order='C').itviews\u001b[39;00m\n\u001b[0;32m--> 549\u001b[0m args \u001b[38;5;241m=\u001b[39m \u001b[38;5;28;43mtuple\u001b[39;49m\u001b[43m(\u001b[49m\u001b[43mnp\u001b[49m\u001b[38;5;241;43m.\u001b[39;49m\u001b[43marray\u001b[49m\u001b[43m(\u001b[49m\u001b[43m_m\u001b[49m\u001b[43m,\u001b[49m\u001b[43m \u001b[49m\u001b[43mcopy\u001b[49m\u001b[38;5;241;43m=\u001b[39;49m\u001b[38;5;28;43;01mNone\u001b[39;49;00m\u001b[43m,\u001b[49m\u001b[43m \u001b[49m\u001b[43msubok\u001b[49m\u001b[38;5;241;43m=\u001b[39;49m\u001b[43msubok\u001b[49m\u001b[43m)\u001b[49m\u001b[43m \u001b[49m\u001b[38;5;28;43;01mfor\u001b[39;49;00m\u001b[43m \u001b[49m\u001b[43m_m\u001b[49m\u001b[43m \u001b[49m\u001b[38;5;129;43;01min\u001b[39;49;00m\u001b[43m \u001b[49m\u001b[43margs\u001b[49m\u001b[43m)\u001b[49m\n\u001b[1;32m    551\u001b[0m shape \u001b[38;5;241m=\u001b[39m _broadcast_shape(\u001b[38;5;241m*\u001b[39margs)\n\u001b[1;32m    553\u001b[0m \u001b[38;5;28;01mif\u001b[39;00m \u001b[38;5;28mall\u001b[39m(array\u001b[38;5;241m.\u001b[39mshape \u001b[38;5;241m==\u001b[39m shape \u001b[38;5;28;01mfor\u001b[39;00m array \u001b[38;5;129;01min\u001b[39;00m args):\n\u001b[1;32m    554\u001b[0m     \u001b[38;5;66;03m# Common case where nothing needs to be broadcasted.\u001b[39;00m\n",
      "File \u001b[0;32m~/Library/Python/3.9/lib/python/site-packages/numpy/lib/_stride_tricks_impl.py:549\u001b[0m, in \u001b[0;36m<genexpr>\u001b[0;34m(.0)\u001b[0m\n\u001b[1;32m    491\u001b[0m \u001b[38;5;250m\u001b[39m\u001b[38;5;124;03m\"\"\"\u001b[39;00m\n\u001b[1;32m    492\u001b[0m \u001b[38;5;124;03mBroadcast any number of arrays against each other.\u001b[39;00m\n\u001b[1;32m    493\u001b[0m \n\u001b[0;32m   (...)\u001b[0m\n\u001b[1;32m    542\u001b[0m \n\u001b[1;32m    543\u001b[0m \u001b[38;5;124;03m\"\"\"\u001b[39;00m\n\u001b[1;32m    544\u001b[0m \u001b[38;5;66;03m# nditer is not used here to avoid the limit of 32 arrays.\u001b[39;00m\n\u001b[1;32m    545\u001b[0m \u001b[38;5;66;03m# Otherwise, something like the following one-liner would suffice:\u001b[39;00m\n\u001b[1;32m    546\u001b[0m \u001b[38;5;66;03m# return np.nditer(args, flags=['multi_index', 'zerosize_ok'],\u001b[39;00m\n\u001b[1;32m    547\u001b[0m \u001b[38;5;66;03m#                  order='C').itviews\u001b[39;00m\n\u001b[0;32m--> 549\u001b[0m args \u001b[38;5;241m=\u001b[39m \u001b[38;5;28mtuple\u001b[39m(\u001b[43mnp\u001b[49m\u001b[38;5;241;43m.\u001b[39;49m\u001b[43marray\u001b[49m\u001b[43m(\u001b[49m\u001b[43m_m\u001b[49m\u001b[43m,\u001b[49m\u001b[43m \u001b[49m\u001b[43mcopy\u001b[49m\u001b[38;5;241;43m=\u001b[39;49m\u001b[38;5;28;43;01mNone\u001b[39;49;00m\u001b[43m,\u001b[49m\u001b[43m \u001b[49m\u001b[43msubok\u001b[49m\u001b[38;5;241;43m=\u001b[39;49m\u001b[43msubok\u001b[49m\u001b[43m)\u001b[49m \u001b[38;5;28;01mfor\u001b[39;00m _m \u001b[38;5;129;01min\u001b[39;00m args)\n\u001b[1;32m    551\u001b[0m shape \u001b[38;5;241m=\u001b[39m _broadcast_shape(\u001b[38;5;241m*\u001b[39margs)\n\u001b[1;32m    553\u001b[0m \u001b[38;5;28;01mif\u001b[39;00m \u001b[38;5;28mall\u001b[39m(array\u001b[38;5;241m.\u001b[39mshape \u001b[38;5;241m==\u001b[39m shape \u001b[38;5;28;01mfor\u001b[39;00m array \u001b[38;5;129;01min\u001b[39;00m args):\n\u001b[1;32m    554\u001b[0m     \u001b[38;5;66;03m# Common case where nothing needs to be broadcasted.\u001b[39;00m\n",
      "\u001b[0;31mKeyboardInterrupt\u001b[0m: "
     ]
    }
   ],
   "source": [
    "import os\n",
    "import numpy as np\n",
    "import pandas as pd\n",
    "import librosa\n",
    "\n",
    "allSongs = []\n",
    "\n",
    "import tensorflow as tf\n",
    "import tensorflow_hub as hub\n",
    "\n",
    "yamnet_model_handle = \"https://tfhub.dev/google/yamnet/1\"\n",
    "yamnet_model = hub.load(yamnet_model_handle)\n",
    "\n",
    "def get_yamnet_embedding(y, sr):\n",
    "    import librosa\n",
    "    if sr != 16000:\n",
    "        y = librosa.resample(y, orig_sr=sr, target_sr=16000)\n",
    "        sr = 16000\n",
    "    waveform = y.astype('float32')\n",
    "    scores, embeddings, spectrogram = yamnet_model(waveform)\n",
    "    embedding_vector = tf.reduce_mean(embeddings, axis=0).numpy()\n",
    "    return embedding_vector\n",
    "\n",
    "for genre in GENRES:\n",
    "    genre_path = os.path.join(BASEPATH, genre)\n",
    "    for filename in os.listdir(genre_path):\n",
    "        if not filename.endswith(\".wav\"):\n",
    "            continue\n",
    "\n",
    "        file_path = os.path.join(genre_path, filename)\n",
    "        y, sr = librosa.load(file_path, sr=22050)\n",
    "\n",
    "        # Ensure the audio is exactly 30 seconds\n",
    "        y = librosa.util.fix_length(y, size=30 * sr)\n",
    "\n",
    "        # Split into 10 segments (3 seconds each)\n",
    "        segments = np.array_split(y, 10)\n",
    "\n",
    "        for segment_idx, segment in enumerate(segments, start=1):\n",
    "            features = {}\n",
    "\n",
    "            # Unique filename for each segment\n",
    "            specificFilename = filename.replace(\".wav\", f\"_{segment_idx}.wav\")\n",
    "            features[\"filename\"] = specificFilename\n",
    "            features[\"label\"] = genre\n",
    "            features[\"song_id\"] = f\"{genre}_{filename.split('.')[0]}\"\n",
    "\n",
    "            y_segment = segment  # Use the current segment for feature extraction\n",
    "\n",
    "            # Compute chroma_stft\n",
    "            chroma = librosa.feature.chroma_stft(y=y_segment, sr=sr)\n",
    "            chroma_mean = np.mean(chroma, axis=1)\n",
    "            chroma_var = np.var(chroma, axis=1)\n",
    "            for i in range(len(chroma_mean)):\n",
    "                features[f\"chroma_stft_mean_{i}\"] = chroma_mean[i]\n",
    "                features[f\"chroma_stft_var_{i}\"] = chroma_var[i]\n",
    "\n",
    "            # Spectral centroid\n",
    "            centroid = librosa.feature.spectral_centroid(y=y_segment, sr=sr)\n",
    "            features[\"centroid_mean\"] = np.mean(centroid)\n",
    "            features[\"centroid_var\"] = np.var(centroid)\n",
    "\n",
    "            # Spectral bandwidth\n",
    "            bandwidth = librosa.feature.spectral_bandwidth(y=y_segment, sr=sr)\n",
    "            features[\"bandwidth_mean\"] = np.mean(bandwidth)\n",
    "            features[\"bandwidth_var\"] = np.var(bandwidth)\n",
    "\n",
    "            # Spectral rolloff\n",
    "            rolloff = librosa.feature.spectral_rolloff(y=y_segment, sr=sr)\n",
    "            features[\"rolloff_mean\"] = np.mean(rolloff)\n",
    "            features[\"rolloff_var\"] = np.var(rolloff)\n",
    "\n",
    "            # Zero Crossing Rate\n",
    "            zcr = librosa.feature.zero_crossing_rate(y=y_segment)\n",
    "            features[\"zcr_mean\"] = np.mean(zcr)\n",
    "            features[\"zcr_var\"] = np.var(zcr)\n",
    "\n",
    "            # Harmonic and Percussive components\n",
    "            y_harmonic, y_percussive = librosa.effects.hpss(y_segment)\n",
    "\n",
    "            harmony = librosa.feature.chroma_stft(y=y_harmonic, sr=sr)\n",
    "            harmony_mean = np.mean(harmony, axis=1)\n",
    "            harmony_var = np.var(harmony, axis=1)\n",
    "            for i in range(len(harmony_mean)):\n",
    "                features[f\"harmony_mean_{i}\"] = harmony_mean[i]\n",
    "                features[f\"harmony_var_{i}\"] = harmony_var[i]\n",
    "\n",
    "            percussive = librosa.feature.chroma_stft(y=y_percussive, sr=sr)\n",
    "            percussive_mean = np.mean(percussive, axis=1)\n",
    "            percussive_var = np.var(percussive, axis=1)\n",
    "            for i in range(len(percussive_mean)):\n",
    "                features[f\"percussive_mean_{i}\"] = percussive_mean[i]\n",
    "                features[f\"percussive_var_{i}\"] = percussive_var[i]\n",
    "\n",
    "            # MFCCs and deltas\n",
    "            mfccs = librosa.feature.mfcc(y=y_segment, sr=sr, n_mfcc=13)\n",
    "            delta_mfccs = librosa.feature.delta(mfccs, order=1)\n",
    "            delta2_mfccs = librosa.feature.delta(mfccs, order=2)\n",
    "            for i in range(mfccs.shape[0]):\n",
    "                features[f\"mfcc_{i}_mean\"] = np.mean(mfccs[i])\n",
    "                features[f\"mfcc_{i}_var\"] = np.var(mfccs[i])\n",
    "                features[f\"delta_mfcc_{i}_mean\"] = np.mean(delta_mfccs[i])\n",
    "                features[f\"delta_mfcc_{i}_var\"] = np.var(delta_mfccs[i])\n",
    "                features[f\"delta2_mfcc_{i}_mean\"] = np.mean(delta2_mfccs[i])\n",
    "                features[f\"delta2_mfcc_{i}_var\"] = np.var(delta2_mfccs[i])\n",
    "\n",
    "            # Spectral contrast\n",
    "            spectral_contrast = librosa.feature.spectral_contrast(y=y_segment, sr=sr)\n",
    "            for i in range(spectral_contrast.shape[0]):\n",
    "                features[f\"spectral_contrast_{i}_mean\"] = np.mean(spectral_contrast[i])\n",
    "                features[f\"spectral_contrast_{i}_var\"] = np.var(spectral_contrast[i])\n",
    "\n",
    "            # Tonnetz\n",
    "            tonnetz = librosa.feature.tonnetz(y=y_segment, sr=sr)\n",
    "            for i in range(tonnetz.shape[0]):\n",
    "                features[f\"tonnetz_{i}_mean\"] = np.mean(tonnetz[i])\n",
    "                features[f\"tonnetz_{i}_var\"] = np.var(tonnetz[i])\n",
    "\n",
    "            # Chroma CQT and CENS\n",
    "            chroma_cqt = librosa.feature.chroma_cqt(y=y_segment, sr=sr)\n",
    "            chroma_cqt_mean = np.mean(chroma_cqt, axis=1)\n",
    "            chroma_cqt_var = np.var(chroma_cqt, axis=1)\n",
    "            for i in range(len(chroma_cqt_mean)):\n",
    "                features[f\"chroma_cqt_mean_{i}\"] = chroma_cqt_mean[i]\n",
    "                features[f\"chroma_cqt_var_{i}\"] = chroma_cqt_var[i]\n",
    "\n",
    "            chroma_cens = librosa.feature.chroma_cens(y=y_segment, sr=sr)\n",
    "            chroma_cens_mean = np.mean(chroma_cens, axis=1)\n",
    "            chroma_cens_var = np.var(chroma_cens, axis=1)\n",
    "            for i in range(len(chroma_cens_mean)):\n",
    "                features[f\"chroma_cens_mean_{i}\"] = chroma_cens_mean[i]\n",
    "                features[f\"chroma_cens_var_{i}\"] = chroma_cens_var[i]\n",
    "\n",
    "            # Chroma VQT\n",
    "            chroma_vqt = librosa.feature.chroma_vqt(y=y_segment, sr=sr, intervals='equal')\n",
    "            chroma_vqt_mean = np.mean(chroma_vqt, axis=1)\n",
    "            chroma_vqt_var = np.var(chroma_vqt, axis=1)\n",
    "            for i in range(len(chroma_vqt_mean)):\n",
    "                features[f\"chroma_vqt_mean_{i}\"] = chroma_vqt_mean[i]\n",
    "                features[f\"chroma_vqt_var_{i}\"] = chroma_vqt_var[i]\n",
    "\n",
    "            # Mel spectrogram\n",
    "            mel_spectrogram = librosa.feature.melspectrogram(y=y_segment, sr=sr)\n",
    "            mel_spectrogram_mean = np.mean(mel_spectrogram, axis=1)\n",
    "            mel_spectrogram_var = np.var(mel_spectrogram, axis=1)\n",
    "            for i in range(len(mel_spectrogram_mean)):\n",
    "                features[f\"mel_spectrogram_mean_{i}\"] = mel_spectrogram_mean[i]\n",
    "                features[f\"mel_spectrogram_var_{i}\"] = mel_spectrogram_var[i]\n",
    "\n",
    "            # Spectral flatness\n",
    "            spectral_flatness = librosa.feature.spectral_flatness(y=y_segment)\n",
    "            features[\"spectral_flatness_mean\"] = np.mean(spectral_flatness)\n",
    "            features[\"spectral_flatness_var\"] = np.var(spectral_flatness)\n",
    "\n",
    "            # Polynomial features\n",
    "            poly_features = librosa.feature.poly_features(y=y_segment, sr=sr)\n",
    "            poly_features_mean = np.mean(poly_features, axis=1)\n",
    "            poly_features_var = np.var(poly_features, axis=1)\n",
    "            for i in range(len(poly_features_mean)):\n",
    "                features[f\"poly_features_mean_{i}\"] = poly_features_mean[i]\n",
    "                features[f\"poly_features_var_{i}\"] = poly_features_var[i]\n",
    "\n",
    "            # Tempo and tempogram\n",
    "            tempo, _ = librosa.beat.beat_track(y=y_segment, sr=sr)\n",
    "            features[\"tempo\"] = tempo\n",
    "\n",
    "            tempogram = librosa.feature.tempogram(y=y_segment, sr=sr)\n",
    "            tempogram_mean = np.mean(tempogram, axis=1)\n",
    "            tempogram_var = np.var(tempogram, axis=1)\n",
    "            for i in range(len(tempogram_mean)):\n",
    "                features[f\"tempogram_mean_{i}\"] = tempogram_mean[i]\n",
    "                features[f\"tempogram_var_{i}\"] = tempogram_var[i]\n",
    "\n",
    "            fourier_tempogram = librosa.feature.fourier_tempogram(y=y_segment, sr=sr)\n",
    "            fourier_tempogram_mean = np.mean(fourier_tempogram, axis=1)\n",
    "            fourier_tempogram_var = np.var(fourier_tempogram, axis=1)\n",
    "            for i in range(len(fourier_tempogram_mean)):\n",
    "                features[f\"fourier_tempogram_mean_{i}\"] = fourier_tempogram_mean[i]\n",
    "                features[f\"fourier_tempogram_var_{i}\"] = fourier_tempogram_var[i]\n",
    "\n",
    "            tempogram_ratio = librosa.feature.tempogram(y=y_segment, sr=sr)\n",
    "            tempogram_ratio_mean = np.mean(tempogram_ratio, axis=1)\n",
    "            tempogram_ratio_var = np.var(tempogram_ratio, axis=1)\n",
    "            for i in range(len(tempogram_ratio_mean)):\n",
    "                features[f\"tempogram_ratio_mean_{i}\"] = tempogram_ratio_mean[i]\n",
    "                features[f\"tempogram_ratio_var_{i}\"] = tempogram_ratio_var[i]\n",
    "\n",
    "            # Stack memory\n",
    "            stack_memory = librosa.feature.stack_memory(y_segment)\n",
    "            stack_memory_mean = np.mean(stack_memory, axis=1)\n",
    "            stack_memory_var = np.var(stack_memory, axis=1)\n",
    "            for i in range(len(stack_memory_mean)):\n",
    "                features[f\"stack_memory_mean_{i}\"] = stack_memory_mean[i]\n",
    "                features[f\"stack_memory_var_{i}\"] = stack_memory_var[i]\n",
    "                \n",
    "            yamnet_emb = get_yamnet_embedding(y_segment, sr)\n",
    "            for i, val in enumerate(yamnet_emb):\n",
    "                features[f\"yamnet_emb_{i}\"] = val\n",
    "                \n",
    "            # smile = opensmile.Smile(\n",
    "            #     feature_set=opensmile.FeatureSet.eGeMAPSv02,\n",
    "            #     feature_level=opensmile.FeatureLevel.LowLevelDescriptors\n",
    "            # )\n",
    "        \n",
    "            # smile_features = smile.process_signal(y_segment, sr)\n",
    "            # for key, value in smile_features.items():\n",
    "            #     if isinstance(value, np.ndarray):\n",
    "            #         features[key] = value.mean()\n",
    "                    \n",
    "            # features[\"opemsmile_mean\"] = np.mean(smile_features)\n",
    "            # features[\"opemsmile_var\"] = np.var(smile_features)\n",
    "\n",
    "            print(len(features))\n",
    "            allSongs.append(features)\n",
    "            print(f\"Processed segment {segment_idx} of {filename} in genre {genre}\")\n",
    "            \n",
    "            gc.collect()  # Run garbage collection to free memory\n",
    "\n",
    "# Save to CSV\n",
    "df = pd.DataFrame(allSongs)\n",
    "os.makedirs(BASEPATH, exist_ok=True)\n",
    "output_path = os.path.join(BASEPATH, \"all_segmented_features.csv\")\n",
    "df.to_csv(output_path, index=False)\n",
    "print(f\"All features saved to {output_path}\")"
   ]
  },
  {
   "cell_type": "code",
   "execution_count": null,
   "id": "065cba42",
   "metadata": {},
   "outputs": [],
   "source": []
  }
 ],
 "metadata": {
  "kernelspec": {
   "display_name": "Python 3",
   "language": "python",
   "name": "python3"
  },
  "language_info": {
   "codemirror_mode": {
    "name": "ipython",
    "version": 3
   },
   "file_extension": ".py",
   "mimetype": "text/x-python",
   "name": "python",
   "nbconvert_exporter": "python",
   "pygments_lexer": "ipython3",
   "version": "3.9.6"
  }
 },
 "nbformat": 4,
 "nbformat_minor": 5
}
