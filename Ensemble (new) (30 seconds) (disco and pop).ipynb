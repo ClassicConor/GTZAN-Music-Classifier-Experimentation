{
 "cells": [
  {
   "cell_type": "markdown",
   "metadata": {},
   "source": [
    "### Cell 1 - Imports"
   ]
  },
  {
   "cell_type": "code",
   "execution_count": 1,
   "metadata": {},
   "outputs": [
    {
     "name": "stderr",
     "output_type": "stream",
     "text": [
      "/Users/conorwoollatt/Library/Python/3.9/lib/python/site-packages/urllib3/__init__.py:35: NotOpenSSLWarning: urllib3 v2 only supports OpenSSL 1.1.1+, currently the 'ssl' module is compiled with 'LibreSSL 2.8.3'. See: https://github.com/urllib3/urllib3/issues/3020\n",
      "  warnings.warn(\n"
     ]
    }
   ],
   "source": [
    "import numpy as np\n",
    "import pandas as pd\n",
    "import xgboost as xgb\n",
    "import matplotlib.pyplot as plt\n",
    "import seaborn as sns\n",
    "from sklearn.decomposition import PCA\n",
    "from sklearn.model_selection import train_test_split\n",
    "from sklearn import preprocessing\n",
    "from sklearn.ensemble import RandomForestClassifier\n",
    "from sklearn.preprocessing import LabelEncoder, StandardScaler\n",
    "from sklearn.metrics import confusion_matrix\n",
    "from keras.utils import to_categorical\n",
    "from sklearn.svm import SVC\n",
    "from sklearn.metrics import accuracy_score\n",
    "from keras.models import Sequential\n",
    "from keras import layers\n",
    "from keras.optimizers import Adam"
   ]
  },
  {
   "cell_type": "markdown",
   "metadata": {},
   "source": [
    "### Cell 2 - Processing the file"
   ]
  },
  {
   "cell_type": "code",
   "execution_count": 2,
   "metadata": {},
   "outputs": [
    {
     "name": "stdout",
     "output_type": "stream",
     "text": [
      "Total samples after genre filtering: 200\n",
      "Final dataset size: 200\n",
      "Genre distribution: label\n",
      "disco    100\n",
      "pop      100\n",
      "Name: count, dtype: int64\n",
      "Number of unique songs: 2\n",
      "Songs in training: 1\n",
      "Songs in test: 1\n",
      "X_train shape: (100, 309), y_train shape: (100,)\n",
      "X_test shape: (100, 309), y_test shape: (100,)\n",
      "Total samples: 200\n",
      "Training set genre distribution: (array(['disco'], dtype='<U5'), array([100]))\n",
      "Test set genre distribution: (array(['pop'], dtype='<U3'), array([100]))\n",
      "X shape: (200, 309), y shape: (200,)\n"
     ]
    }
   ],
   "source": [
    "genres = ['disco', 'pop']\n",
    "# Load the CSV file\n",
    "data = pd.read_csv(\"all_30_second_features_full.csv\")\n",
    "data = data.drop(columns=[\"song_id\"], errors='ignore') # Drop the index column if it exists\n",
    "\n",
    "# Filter to only pop and disco genres\n",
    "data = data[data['label'].isin(genres)].copy()\n",
    "print(f\"Total samples after genre filtering: {len(data)}\")\n",
    "\n",
    "# Limit to maximum 2000 samples total\n",
    "if len(data) > 2000:\n",
    "    # Sample 2000 rows while maintaining genre balance\n",
    "    disco_samples = data[data['label'] == 'disco']\n",
    "    pop_samples = data[data['label'] == 'pop']\n",
    "    \n",
    "    # Calculate samples per genre (aim for balanced)\n",
    "    samples_per_genre = min(1000, len(disco_samples), len(pop_samples))\n",
    "    \n",
    "    # Sample from each genre\n",
    "    disco_sampled = disco_samples.sample(n=min(samples_per_genre, len(disco_samples)), random_state=42)\n",
    "    pop_sampled = pop_samples.sample(n=min(samples_per_genre, len(pop_samples)), random_state=42)\n",
    "    \n",
    "    # Combine and shuffle\n",
    "    data = pd.concat([disco_sampled, pop_sampled]).sample(frac=1, random_state=42).reset_index(drop=True)\n",
    "    \n",
    "    # If we still have more than 2000, take exactly 2000\n",
    "    if len(data) > 2000:\n",
    "        data = data.sample(n=2000, random_state=42).reset_index(drop=True)\n",
    "\n",
    "print(f\"Final dataset size: {len(data)}\")\n",
    "print(f\"Genre distribution: {data['label'].value_counts()}\")\n",
    "\n",
    "# Extract song IDs from filenames\n",
    "data['song_id'] = data['filename'].apply(lambda x: x.rsplit('.', 2)[0]) # Extract \"blues.00000\" from \"blues.00000.0.wav\"\n",
    "\n",
    "# Group clips by song ID\n",
    "song_to_clips = {}\n",
    "for song_id, group in data.groupby('song_id'):\n",
    "    # Store all features and labels for each clip\n",
    "    song_to_clips[song_id] = {\n",
    "        'features': group.drop(columns=['filename', 'song_id', 'label']).values, # Extract features (all columns except filename, song_id, and label)\n",
    "        'labels': group['label'].values # Extract labels\n",
    "    }\n",
    "\n",
    "# Split song IDs into training and test sets\n",
    "song_ids = list(song_to_clips.keys())\n",
    "train_ids, test_ids = train_test_split(song_ids, test_size=0.2, random_state=42)\n",
    "\n",
    "print(f\"Number of unique songs: {len(song_ids)}\")\n",
    "print(f\"Songs in training: {len(train_ids)}\")\n",
    "print(f\"Songs in test: {len(test_ids)}\")\n",
    "\n",
    "# Prepare training and test data\n",
    "X_train, y_train, X_test, y_test = [], [], [], []\n",
    "\n",
    "# Assign clips based on the train-test split\n",
    "for song_id in song_ids:\n",
    "    clips = song_to_clips[song_id]\n",
    "    if song_id in train_ids:\n",
    "        X_train.extend(clips['features']) # Add all features for this song to the training set\n",
    "        y_train.extend(clips['labels']) # Add all labels for this song to the training set\n",
    "    else:\n",
    "        X_test.extend(clips['features']) # Add all features for this song to the test set\n",
    "        y_test.extend(clips['labels']) # Add all labels for this song to the test set\n",
    "\n",
    "# Convert to numpy arrays\n",
    "X_train = np.array(X_train)\n",
    "y_train = np.array(y_train)\n",
    "X_test = np.array(X_test)\n",
    "y_test = np.array(y_test)\n",
    "\n",
    "# Print shapes to verify\n",
    "print(f\"X_train shape: {X_train.shape}, y_train shape: {y_train.shape}\")\n",
    "print(f\"X_test shape: {X_test.shape}, y_test shape: {y_test.shape}\")\n",
    "print(f\"Total samples: {len(X_train) + len(X_test)}\")\n",
    "print(f\"Training set genre distribution: {np.unique(y_train, return_counts=True)}\")\n",
    "print(f\"Test set genre distribution: {np.unique(y_test, return_counts=True)}\")\n",
    "\n",
    "# Keep X and y as original full feature matrix and labels\n",
    "X = data.drop(columns=[\"label\", \"filename\", \"song_id\"])\n",
    "y = data[\"label\"]\n",
    "print(f\"X shape: {X.shape}, y shape: {y.shape}\")"
   ]
  },
  {
   "cell_type": "markdown",
   "metadata": {},
   "source": [
    "### Cell 3 - Feature extraction"
   ]
  },
  {
   "cell_type": "code",
   "execution_count": null,
   "metadata": {},
   "outputs": [
    {
     "data": {
      "text/plain": [
       "(200, 312)"
      ]
     },
     "execution_count": 3,
     "metadata": {},
     "output_type": "execute_result"
    }
   ],
   "source": [
    "label_encoder = LabelEncoder()\n",
    "y_encoded = label_encoder.fit_transform(y)\n",
    "\n",
    "\n",
    "# new data frame with the new scaled data. \n",
    "cols = X.columns\n",
    "min_max_scaler = preprocessing.MinMaxScaler()\n",
    "np_scaled = min_max_scaler.fit_transform(X)\n",
    "\n",
    "X = pd.DataFrame(np_scaled, columns = cols)\n",
    "pca = PCA(n_components=3)\n",
    "principalComponents = pca.fit_transform(X)\n",
    "X = np.concatenate((X, pca.fit_transform(X)), axis=1)\n",
    "\n",
    "X.shape"
   ]
  },
  {
   "cell_type": "markdown",
   "metadata": {},
   "source": [
    "### Cell 5 - Train test split"
   ]
  },
  {
   "cell_type": "code",
   "execution_count": 4,
   "metadata": {},
   "outputs": [],
   "source": [
    "# Split the data into training and testing sets\n",
    "x_train, x_test, y_train, y_test = train_test_split(X, y_encoded, test_size=0.2, random_state=42)\n",
    "\n",
    "scaler = StandardScaler()\n",
    "X_train_scaled = scaler.fit_transform(x_train)\n",
    "X_test_scaled = scaler.transform(x_test)\n",
    "\n",
    "# One-hot encode the labels\n",
    "y_train_encoded = to_categorical(y_train, num_classes=len(genres))\n",
    "y_test_encoded = to_categorical(y_test, num_classes=len(genres))\n",
    "\n",
    "# Check the shapes of the train and test sets - commented out for readability\n",
    "# Uncomment to see the shape and number of files read in\n",
    "\n",
    "# print(f\"Shape of x_train: {x_train.shape}\")\n",
    "# print(f\"Shape of x_test: {x_test.shape}\")\n",
    "# print(f\"Shape of y_train: {y_train.shape}\")\n",
    "# print(f\"Shape of y_test: {y_test.shape}\")\n",
    "# print(f\"Shape of y_train_encoded: {y_train_encoded.shape}\")\n",
    "# print(f\"Shape of y_test_encoded: {y_test_encoded.shape}\")\n"
   ]
  },
  {
   "cell_type": "code",
   "execution_count": 5,
   "metadata": {},
   "outputs": [
    {
     "name": "stdout",
     "output_type": "stream",
     "text": [
      "(40, 312)\n",
      "(160, 312)\n"
     ]
    }
   ],
   "source": [
    "print(X_test_scaled.shape)\n",
    "print(X_train_scaled.shape)"
   ]
  },
  {
   "cell_type": "markdown",
   "metadata": {},
   "source": [
    "### Cell 7 - Training SVM model"
   ]
  },
  {
   "cell_type": "code",
   "execution_count": 6,
   "metadata": {},
   "outputs": [
    {
     "name": "stdout",
     "output_type": "stream",
     "text": [
      "Accuracy: 0.950\n"
     ]
    }
   ],
   "source": [
    "from sklearn.calibration import CalibratedClassifierCV\n",
    "svm_model = SVC(\n",
    "    C=100,\n",
    "    kernel='rbf',\n",
    "    gamma='scale',\n",
    "    probability=True,\n",
    "    random_state=42,\n",
    ")\n",
    "\n",
    "# Calibration for better probabilities (optional)\n",
    "calibrated_svm = CalibratedClassifierCV(svm_model, cv=3, method='sigmoid')\n",
    "\n",
    "# Train\n",
    "svm_model.fit(X_train_scaled, y_train)\n",
    "\n",
    "# Evaluate\n",
    "y_pred_svm = svm_model.predict(X_test_scaled)\n",
    "y_proba_svm = svm_model.predict_proba(X_test_scaled)\n",
    "\n",
    "print(f\"Accuracy: {accuracy_score(y_test, y_pred_svm):.3f}\")"
   ]
  },
  {
   "cell_type": "markdown",
   "metadata": {},
   "source": [
    "### Cell 8 - Defining CNN"
   ]
  },
  {
   "cell_type": "code",
   "execution_count": 7,
   "metadata": {},
   "outputs": [
    {
     "name": "stdout",
     "output_type": "stream",
     "text": [
      "Model compiled\n"
     ]
    }
   ],
   "source": [
    "# Define the CNN model architecture\n",
    "cnn_model = Sequential([\n",
    "    # First convolutional layer with 'same' padding\n",
    "    layers.Input(shape = (x_train.shape[1],1)),\n",
    "    layers.Conv1D(64, 3, activation='relu', padding='same',),\n",
    "    layers.MaxPooling1D(2, padding='same'),  # MaxPooling2D with same padding\n",
    "\n",
    "    # Second convolutional layer with 'same' padding\n",
    "    layers.Conv1D(128, 3, activation='relu', padding='same'),\n",
    "    layers.MaxPooling1D(2, padding='same'),\n",
    "\n",
    "    # Third convolutional layer with 'same' padding\n",
    "    layers.Conv1D(256, 3, activation='relu', padding='same'),\n",
    "    layers.MaxPooling1D(2, padding='same'),\n",
    "\n",
    "    # Flatten the output of the convolutional layers\n",
    "    layers.Flatten(),\n",
    "\n",
    "    # Fully connected layers\n",
    "    layers.Dense(512, activation='relu'),\n",
    "    layers.Dropout(0.5),\n",
    "\n",
    "    # Output layer with softmax activation\n",
    "    layers.Dense(len(genres), activation='softmax')\n",
    "])\n",
    "\n",
    "# Compile the model\n",
    "cnn_model.compile(optimizer=Adam(), loss='categorical_crossentropy', metrics=['accuracy'])\n",
    "\n",
    "# Summarize the model architecture\n",
    "#cnn_model.summary()\n",
    "print(\"Model compiled\")\n"
   ]
  },
  {
   "cell_type": "markdown",
   "metadata": {},
   "source": [
    "### Cell 9 - Training CNN model"
   ]
  },
  {
   "cell_type": "code",
   "execution_count": 8,
   "metadata": {},
   "outputs": [
    {
     "name": "stdout",
     "output_type": "stream",
     "text": [
      "Epoch 1/30\n",
      "\u001b[1m5/5\u001b[0m \u001b[32m━━━━━━━━━━━━━━━━━━━━\u001b[0m\u001b[37m\u001b[0m \u001b[1m1s\u001b[0m 53ms/step - accuracy: 0.5400 - loss: 0.6915 - val_accuracy: 0.5500 - val_loss: 0.6591\n",
      "Epoch 2/30\n",
      "\u001b[1m5/5\u001b[0m \u001b[32m━━━━━━━━━━━━━━━━━━━━\u001b[0m\u001b[37m\u001b[0m \u001b[1m0s\u001b[0m 28ms/step - accuracy: 0.5507 - loss: 0.7046 - val_accuracy: 0.7750 - val_loss: 0.5665\n",
      "Epoch 3/30\n",
      "\u001b[1m5/5\u001b[0m \u001b[32m━━━━━━━━━━━━━━━━━━━━\u001b[0m\u001b[37m\u001b[0m \u001b[1m0s\u001b[0m 29ms/step - accuracy: 0.7383 - loss: 0.5613 - val_accuracy: 0.7500 - val_loss: 0.4238\n",
      "Epoch 4/30\n",
      "\u001b[1m5/5\u001b[0m \u001b[32m━━━━━━━━━━━━━━━━━━━━\u001b[0m\u001b[37m\u001b[0m \u001b[1m0s\u001b[0m 29ms/step - accuracy: 0.7584 - loss: 0.4771 - val_accuracy: 0.8750 - val_loss: 0.3594\n",
      "Epoch 5/30\n",
      "\u001b[1m5/5\u001b[0m \u001b[32m━━━━━━━━━━━━━━━━━━━━\u001b[0m\u001b[37m\u001b[0m \u001b[1m0s\u001b[0m 29ms/step - accuracy: 0.8442 - loss: 0.3411 - val_accuracy: 0.9500 - val_loss: 0.1779\n",
      "Epoch 6/30\n",
      "\u001b[1m5/5\u001b[0m \u001b[32m━━━━━━━━━━━━━━━━━━━━\u001b[0m\u001b[37m\u001b[0m \u001b[1m0s\u001b[0m 29ms/step - accuracy: 0.9360 - loss: 0.2136 - val_accuracy: 0.9750 - val_loss: 0.1098\n",
      "Epoch 7/30\n",
      "\u001b[1m5/5\u001b[0m \u001b[32m━━━━━━━━━━━━━━━━━━━━\u001b[0m\u001b[37m\u001b[0m \u001b[1m0s\u001b[0m 29ms/step - accuracy: 0.8968 - loss: 0.2149 - val_accuracy: 0.8250 - val_loss: 0.2261\n",
      "Epoch 8/30\n",
      "\u001b[1m5/5\u001b[0m \u001b[32m━━━━━━━━━━━━━━━━━━━━\u001b[0m\u001b[37m\u001b[0m \u001b[1m0s\u001b[0m 29ms/step - accuracy: 0.9024 - loss: 0.2214 - val_accuracy: 0.9750 - val_loss: 0.0985\n",
      "Epoch 9/30\n",
      "\u001b[1m5/5\u001b[0m \u001b[32m━━━━━━━━━━━━━━━━━━━━\u001b[0m\u001b[37m\u001b[0m \u001b[1m0s\u001b[0m 29ms/step - accuracy: 0.9536 - loss: 0.1115 - val_accuracy: 0.9500 - val_loss: 0.1497\n",
      "Epoch 10/30\n",
      "\u001b[1m5/5\u001b[0m \u001b[32m━━━━━━━━━━━━━━━━━━━━\u001b[0m\u001b[37m\u001b[0m \u001b[1m0s\u001b[0m 29ms/step - accuracy: 0.9683 - loss: 0.1269 - val_accuracy: 0.9500 - val_loss: 0.1092\n",
      "Epoch 11/30\n",
      "\u001b[1m5/5\u001b[0m \u001b[32m━━━━━━━━━━━━━━━━━━━━\u001b[0m\u001b[37m\u001b[0m \u001b[1m0s\u001b[0m 29ms/step - accuracy: 0.9504 - loss: 0.0911 - val_accuracy: 0.9750 - val_loss: 0.1085\n",
      "Epoch 12/30\n",
      "\u001b[1m5/5\u001b[0m \u001b[32m━━━━━━━━━━━━━━━━━━━━\u001b[0m\u001b[37m\u001b[0m \u001b[1m0s\u001b[0m 29ms/step - accuracy: 0.9760 - loss: 0.0722 - val_accuracy: 0.9750 - val_loss: 0.1035\n",
      "Epoch 13/30\n",
      "\u001b[1m5/5\u001b[0m \u001b[32m━━━━━━━━━━━━━━━━━━━━\u001b[0m\u001b[37m\u001b[0m \u001b[1m0s\u001b[0m 29ms/step - accuracy: 0.9945 - loss: 0.0544 - val_accuracy: 1.0000 - val_loss: 0.0631\n",
      "Epoch 14/30\n",
      "\u001b[1m5/5\u001b[0m \u001b[32m━━━━━━━━━━━━━━━━━━━━\u001b[0m\u001b[37m\u001b[0m \u001b[1m0s\u001b[0m 29ms/step - accuracy: 0.9851 - loss: 0.0439 - val_accuracy: 0.9750 - val_loss: 0.0996\n",
      "Epoch 15/30\n",
      "\u001b[1m5/5\u001b[0m \u001b[32m━━━━━━━━━━━━━━━━━━━━\u001b[0m\u001b[37m\u001b[0m \u001b[1m0s\u001b[0m 29ms/step - accuracy: 0.9871 - loss: 0.0666 - val_accuracy: 1.0000 - val_loss: 0.0598\n",
      "Epoch 16/30\n",
      "\u001b[1m5/5\u001b[0m \u001b[32m━━━━━━━━━━━━━━━━━━━━\u001b[0m\u001b[37m\u001b[0m \u001b[1m0s\u001b[0m 29ms/step - accuracy: 0.9979 - loss: 0.0260 - val_accuracy: 0.9750 - val_loss: 0.1043\n",
      "Epoch 17/30\n",
      "\u001b[1m5/5\u001b[0m \u001b[32m━━━━━━━━━━━━━━━━━━━━\u001b[0m\u001b[37m\u001b[0m \u001b[1m0s\u001b[0m 29ms/step - accuracy: 1.0000 - loss: 0.0145 - val_accuracy: 0.9750 - val_loss: 0.0522\n",
      "Epoch 18/30\n",
      "\u001b[1m5/5\u001b[0m \u001b[32m━━━━━━━━━━━━━━━━━━━━\u001b[0m\u001b[37m\u001b[0m \u001b[1m0s\u001b[0m 29ms/step - accuracy: 1.0000 - loss: 0.0158 - val_accuracy: 0.9750 - val_loss: 0.0862\n",
      "Epoch 19/30\n",
      "\u001b[1m5/5\u001b[0m \u001b[32m━━━━━━━━━━━━━━━━━━━━\u001b[0m\u001b[37m\u001b[0m \u001b[1m0s\u001b[0m 29ms/step - accuracy: 1.0000 - loss: 0.0125 - val_accuracy: 0.9750 - val_loss: 0.0672\n",
      "Epoch 20/30\n",
      "\u001b[1m5/5\u001b[0m \u001b[32m━━━━━━━━━━━━━━━━━━━━\u001b[0m\u001b[37m\u001b[0m \u001b[1m0s\u001b[0m 29ms/step - accuracy: 1.0000 - loss: 0.0085 - val_accuracy: 0.9750 - val_loss: 0.0536\n",
      "Epoch 21/30\n",
      "\u001b[1m5/5\u001b[0m \u001b[32m━━━━━━━━━━━━━━━━━━━━\u001b[0m\u001b[37m\u001b[0m \u001b[1m0s\u001b[0m 29ms/step - accuracy: 1.0000 - loss: 0.0071 - val_accuracy: 0.9750 - val_loss: 0.0538\n",
      "Epoch 22/30\n",
      "\u001b[1m5/5\u001b[0m \u001b[32m━━━━━━━━━━━━━━━━━━━━\u001b[0m\u001b[37m\u001b[0m \u001b[1m0s\u001b[0m 36ms/step - accuracy: 1.0000 - loss: 0.0099 - val_accuracy: 0.9750 - val_loss: 0.0599\n",
      "Epoch 23/30\n",
      "\u001b[1m5/5\u001b[0m \u001b[32m━━━━━━━━━━━━━━━━━━━━\u001b[0m\u001b[37m\u001b[0m \u001b[1m0s\u001b[0m 48ms/step - accuracy: 1.0000 - loss: 0.0046 - val_accuracy: 0.9750 - val_loss: 0.0694\n",
      "Epoch 24/30\n",
      "\u001b[1m5/5\u001b[0m \u001b[32m━━━━━━━━━━━━━━━━━━━━\u001b[0m\u001b[37m\u001b[0m \u001b[1m0s\u001b[0m 34ms/step - accuracy: 1.0000 - loss: 0.0048 - val_accuracy: 0.9750 - val_loss: 0.0624\n",
      "Epoch 25/30\n",
      "\u001b[1m5/5\u001b[0m \u001b[32m━━━━━━━━━━━━━━━━━━━━\u001b[0m\u001b[37m\u001b[0m \u001b[1m0s\u001b[0m 36ms/step - accuracy: 1.0000 - loss: 0.0036 - val_accuracy: 0.9750 - val_loss: 0.0656\n",
      "Epoch 26/30\n",
      "\u001b[1m5/5\u001b[0m \u001b[32m━━━━━━━━━━━━━━━━━━━━\u001b[0m\u001b[37m\u001b[0m \u001b[1m0s\u001b[0m 39ms/step - accuracy: 1.0000 - loss: 0.0050 - val_accuracy: 0.9750 - val_loss: 0.0674\n",
      "Epoch 27/30\n",
      "\u001b[1m5/5\u001b[0m \u001b[32m━━━━━━━━━━━━━━━━━━━━\u001b[0m\u001b[37m\u001b[0m \u001b[1m0s\u001b[0m 37ms/step - accuracy: 1.0000 - loss: 0.0018 - val_accuracy: 0.9750 - val_loss: 0.0664\n",
      "Epoch 28/30\n",
      "\u001b[1m5/5\u001b[0m \u001b[32m━━━━━━━━━━━━━━━━━━━━\u001b[0m\u001b[37m\u001b[0m \u001b[1m0s\u001b[0m 33ms/step - accuracy: 1.0000 - loss: 0.0021 - val_accuracy: 0.9750 - val_loss: 0.0624\n",
      "Epoch 29/30\n",
      "\u001b[1m5/5\u001b[0m \u001b[32m━━━━━━━━━━━━━━━━━━━━\u001b[0m\u001b[37m\u001b[0m \u001b[1m0s\u001b[0m 35ms/step - accuracy: 1.0000 - loss: 0.0013 - val_accuracy: 0.9750 - val_loss: 0.0624\n",
      "Epoch 30/30\n",
      "\u001b[1m5/5\u001b[0m \u001b[32m━━━━━━━━━━━━━━━━━━━━\u001b[0m\u001b[37m\u001b[0m \u001b[1m0s\u001b[0m 36ms/step - accuracy: 1.0000 - loss: 0.0017 - val_accuracy: 0.9750 - val_loss: 0.0606\n"
     ]
    },
    {
     "data": {
      "text/plain": [
       "<keras.src.callbacks.history.History at 0x30d938700>"
      ]
     },
     "execution_count": 8,
     "metadata": {},
     "output_type": "execute_result"
    }
   ],
   "source": [
    "# Train the CNN model\n",
    "cnn_model.fit(x_train, y_train_encoded, validation_data=(x_test, y_test_encoded), epochs=30, batch_size=32)\n"
   ]
  },
  {
   "cell_type": "markdown",
   "metadata": {},
   "source": [
    "### Training a Dense Neural Network"
   ]
  },
  {
   "cell_type": "code",
   "execution_count": 9,
   "metadata": {},
   "outputs": [
    {
     "data": {
      "text/html": [
       "<pre style=\"white-space:pre;overflow-x:auto;line-height:normal;font-family:Menlo,'DejaVu Sans Mono',consolas,'Courier New',monospace\"><span style=\"font-weight: bold\">Model: \"sequential_1\"</span>\n",
       "</pre>\n"
      ],
      "text/plain": [
       "\u001b[1mModel: \"sequential_1\"\u001b[0m\n"
      ]
     },
     "metadata": {},
     "output_type": "display_data"
    },
    {
     "data": {
      "text/html": [
       "<pre style=\"white-space:pre;overflow-x:auto;line-height:normal;font-family:Menlo,'DejaVu Sans Mono',consolas,'Courier New',monospace\">┏━━━━━━━━━━━━━━━━━━━━━━━━━━━━━━━━━┳━━━━━━━━━━━━━━━━━━━━━━━━┳━━━━━━━━━━━━━━━┓\n",
       "┃<span style=\"font-weight: bold\"> Layer (type)                    </span>┃<span style=\"font-weight: bold\"> Output Shape           </span>┃<span style=\"font-weight: bold\">       Param # </span>┃\n",
       "┡━━━━━━━━━━━━━━━━━━━━━━━━━━━━━━━━━╇━━━━━━━━━━━━━━━━━━━━━━━━╇━━━━━━━━━━━━━━━┩\n",
       "│ dense_2 (<span style=\"color: #0087ff; text-decoration-color: #0087ff\">Dense</span>)                 │ (<span style=\"color: #00d7ff; text-decoration-color: #00d7ff\">None</span>, <span style=\"color: #00af00; text-decoration-color: #00af00\">1024</span>)           │       <span style=\"color: #00af00; text-decoration-color: #00af00\">320,512</span> │\n",
       "├─────────────────────────────────┼────────────────────────┼───────────────┤\n",
       "│ batch_normalization             │ (<span style=\"color: #00d7ff; text-decoration-color: #00d7ff\">None</span>, <span style=\"color: #00af00; text-decoration-color: #00af00\">1024</span>)           │         <span style=\"color: #00af00; text-decoration-color: #00af00\">4,096</span> │\n",
       "│ (<span style=\"color: #0087ff; text-decoration-color: #0087ff\">BatchNormalization</span>)            │                        │               │\n",
       "├─────────────────────────────────┼────────────────────────┼───────────────┤\n",
       "│ dropout_1 (<span style=\"color: #0087ff; text-decoration-color: #0087ff\">Dropout</span>)             │ (<span style=\"color: #00d7ff; text-decoration-color: #00d7ff\">None</span>, <span style=\"color: #00af00; text-decoration-color: #00af00\">1024</span>)           │             <span style=\"color: #00af00; text-decoration-color: #00af00\">0</span> │\n",
       "├─────────────────────────────────┼────────────────────────┼───────────────┤\n",
       "│ dense_3 (<span style=\"color: #0087ff; text-decoration-color: #0087ff\">Dense</span>)                 │ (<span style=\"color: #00d7ff; text-decoration-color: #00d7ff\">None</span>, <span style=\"color: #00af00; text-decoration-color: #00af00\">512</span>)            │       <span style=\"color: #00af00; text-decoration-color: #00af00\">524,800</span> │\n",
       "├─────────────────────────────────┼────────────────────────┼───────────────┤\n",
       "│ batch_normalization_1           │ (<span style=\"color: #00d7ff; text-decoration-color: #00d7ff\">None</span>, <span style=\"color: #00af00; text-decoration-color: #00af00\">512</span>)            │         <span style=\"color: #00af00; text-decoration-color: #00af00\">2,048</span> │\n",
       "│ (<span style=\"color: #0087ff; text-decoration-color: #0087ff\">BatchNormalization</span>)            │                        │               │\n",
       "├─────────────────────────────────┼────────────────────────┼───────────────┤\n",
       "│ dropout_2 (<span style=\"color: #0087ff; text-decoration-color: #0087ff\">Dropout</span>)             │ (<span style=\"color: #00d7ff; text-decoration-color: #00d7ff\">None</span>, <span style=\"color: #00af00; text-decoration-color: #00af00\">512</span>)            │             <span style=\"color: #00af00; text-decoration-color: #00af00\">0</span> │\n",
       "├─────────────────────────────────┼────────────────────────┼───────────────┤\n",
       "│ dense_4 (<span style=\"color: #0087ff; text-decoration-color: #0087ff\">Dense</span>)                 │ (<span style=\"color: #00d7ff; text-decoration-color: #00d7ff\">None</span>, <span style=\"color: #00af00; text-decoration-color: #00af00\">256</span>)            │       <span style=\"color: #00af00; text-decoration-color: #00af00\">131,328</span> │\n",
       "├─────────────────────────────────┼────────────────────────┼───────────────┤\n",
       "│ batch_normalization_2           │ (<span style=\"color: #00d7ff; text-decoration-color: #00d7ff\">None</span>, <span style=\"color: #00af00; text-decoration-color: #00af00\">256</span>)            │         <span style=\"color: #00af00; text-decoration-color: #00af00\">1,024</span> │\n",
       "│ (<span style=\"color: #0087ff; text-decoration-color: #0087ff\">BatchNormalization</span>)            │                        │               │\n",
       "├─────────────────────────────────┼────────────────────────┼───────────────┤\n",
       "│ dropout_3 (<span style=\"color: #0087ff; text-decoration-color: #0087ff\">Dropout</span>)             │ (<span style=\"color: #00d7ff; text-decoration-color: #00d7ff\">None</span>, <span style=\"color: #00af00; text-decoration-color: #00af00\">256</span>)            │             <span style=\"color: #00af00; text-decoration-color: #00af00\">0</span> │\n",
       "├─────────────────────────────────┼────────────────────────┼───────────────┤\n",
       "│ dense_5 (<span style=\"color: #0087ff; text-decoration-color: #0087ff\">Dense</span>)                 │ (<span style=\"color: #00d7ff; text-decoration-color: #00d7ff\">None</span>, <span style=\"color: #00af00; text-decoration-color: #00af00\">128</span>)            │        <span style=\"color: #00af00; text-decoration-color: #00af00\">32,896</span> │\n",
       "├─────────────────────────────────┼────────────────────────┼───────────────┤\n",
       "│ batch_normalization_3           │ (<span style=\"color: #00d7ff; text-decoration-color: #00d7ff\">None</span>, <span style=\"color: #00af00; text-decoration-color: #00af00\">128</span>)            │           <span style=\"color: #00af00; text-decoration-color: #00af00\">512</span> │\n",
       "│ (<span style=\"color: #0087ff; text-decoration-color: #0087ff\">BatchNormalization</span>)            │                        │               │\n",
       "├─────────────────────────────────┼────────────────────────┼───────────────┤\n",
       "│ dense_6 (<span style=\"color: #0087ff; text-decoration-color: #0087ff\">Dense</span>)                 │ (<span style=\"color: #00d7ff; text-decoration-color: #00d7ff\">None</span>, <span style=\"color: #00af00; text-decoration-color: #00af00\">2</span>)              │           <span style=\"color: #00af00; text-decoration-color: #00af00\">258</span> │\n",
       "└─────────────────────────────────┴────────────────────────┴───────────────┘\n",
       "</pre>\n"
      ],
      "text/plain": [
       "┏━━━━━━━━━━━━━━━━━━━━━━━━━━━━━━━━━┳━━━━━━━━━━━━━━━━━━━━━━━━┳━━━━━━━━━━━━━━━┓\n",
       "┃\u001b[1m \u001b[0m\u001b[1mLayer (type)                   \u001b[0m\u001b[1m \u001b[0m┃\u001b[1m \u001b[0m\u001b[1mOutput Shape          \u001b[0m\u001b[1m \u001b[0m┃\u001b[1m \u001b[0m\u001b[1m      Param #\u001b[0m\u001b[1m \u001b[0m┃\n",
       "┡━━━━━━━━━━━━━━━━━━━━━━━━━━━━━━━━━╇━━━━━━━━━━━━━━━━━━━━━━━━╇━━━━━━━━━━━━━━━┩\n",
       "│ dense_2 (\u001b[38;5;33mDense\u001b[0m)                 │ (\u001b[38;5;45mNone\u001b[0m, \u001b[38;5;34m1024\u001b[0m)           │       \u001b[38;5;34m320,512\u001b[0m │\n",
       "├─────────────────────────────────┼────────────────────────┼───────────────┤\n",
       "│ batch_normalization             │ (\u001b[38;5;45mNone\u001b[0m, \u001b[38;5;34m1024\u001b[0m)           │         \u001b[38;5;34m4,096\u001b[0m │\n",
       "│ (\u001b[38;5;33mBatchNormalization\u001b[0m)            │                        │               │\n",
       "├─────────────────────────────────┼────────────────────────┼───────────────┤\n",
       "│ dropout_1 (\u001b[38;5;33mDropout\u001b[0m)             │ (\u001b[38;5;45mNone\u001b[0m, \u001b[38;5;34m1024\u001b[0m)           │             \u001b[38;5;34m0\u001b[0m │\n",
       "├─────────────────────────────────┼────────────────────────┼───────────────┤\n",
       "│ dense_3 (\u001b[38;5;33mDense\u001b[0m)                 │ (\u001b[38;5;45mNone\u001b[0m, \u001b[38;5;34m512\u001b[0m)            │       \u001b[38;5;34m524,800\u001b[0m │\n",
       "├─────────────────────────────────┼────────────────────────┼───────────────┤\n",
       "│ batch_normalization_1           │ (\u001b[38;5;45mNone\u001b[0m, \u001b[38;5;34m512\u001b[0m)            │         \u001b[38;5;34m2,048\u001b[0m │\n",
       "│ (\u001b[38;5;33mBatchNormalization\u001b[0m)            │                        │               │\n",
       "├─────────────────────────────────┼────────────────────────┼───────────────┤\n",
       "│ dropout_2 (\u001b[38;5;33mDropout\u001b[0m)             │ (\u001b[38;5;45mNone\u001b[0m, \u001b[38;5;34m512\u001b[0m)            │             \u001b[38;5;34m0\u001b[0m │\n",
       "├─────────────────────────────────┼────────────────────────┼───────────────┤\n",
       "│ dense_4 (\u001b[38;5;33mDense\u001b[0m)                 │ (\u001b[38;5;45mNone\u001b[0m, \u001b[38;5;34m256\u001b[0m)            │       \u001b[38;5;34m131,328\u001b[0m │\n",
       "├─────────────────────────────────┼────────────────────────┼───────────────┤\n",
       "│ batch_normalization_2           │ (\u001b[38;5;45mNone\u001b[0m, \u001b[38;5;34m256\u001b[0m)            │         \u001b[38;5;34m1,024\u001b[0m │\n",
       "│ (\u001b[38;5;33mBatchNormalization\u001b[0m)            │                        │               │\n",
       "├─────────────────────────────────┼────────────────────────┼───────────────┤\n",
       "│ dropout_3 (\u001b[38;5;33mDropout\u001b[0m)             │ (\u001b[38;5;45mNone\u001b[0m, \u001b[38;5;34m256\u001b[0m)            │             \u001b[38;5;34m0\u001b[0m │\n",
       "├─────────────────────────────────┼────────────────────────┼───────────────┤\n",
       "│ dense_5 (\u001b[38;5;33mDense\u001b[0m)                 │ (\u001b[38;5;45mNone\u001b[0m, \u001b[38;5;34m128\u001b[0m)            │        \u001b[38;5;34m32,896\u001b[0m │\n",
       "├─────────────────────────────────┼────────────────────────┼───────────────┤\n",
       "│ batch_normalization_3           │ (\u001b[38;5;45mNone\u001b[0m, \u001b[38;5;34m128\u001b[0m)            │           \u001b[38;5;34m512\u001b[0m │\n",
       "│ (\u001b[38;5;33mBatchNormalization\u001b[0m)            │                        │               │\n",
       "├─────────────────────────────────┼────────────────────────┼───────────────┤\n",
       "│ dense_6 (\u001b[38;5;33mDense\u001b[0m)                 │ (\u001b[38;5;45mNone\u001b[0m, \u001b[38;5;34m2\u001b[0m)              │           \u001b[38;5;34m258\u001b[0m │\n",
       "└─────────────────────────────────┴────────────────────────┴───────────────┘\n"
      ]
     },
     "metadata": {},
     "output_type": "display_data"
    },
    {
     "data": {
      "text/html": [
       "<pre style=\"white-space:pre;overflow-x:auto;line-height:normal;font-family:Menlo,'DejaVu Sans Mono',consolas,'Courier New',monospace\"><span style=\"font-weight: bold\"> Total params: </span><span style=\"color: #00af00; text-decoration-color: #00af00\">1,017,474</span> (3.88 MB)\n",
       "</pre>\n"
      ],
      "text/plain": [
       "\u001b[1m Total params: \u001b[0m\u001b[38;5;34m1,017,474\u001b[0m (3.88 MB)\n"
      ]
     },
     "metadata": {},
     "output_type": "display_data"
    },
    {
     "data": {
      "text/html": [
       "<pre style=\"white-space:pre;overflow-x:auto;line-height:normal;font-family:Menlo,'DejaVu Sans Mono',consolas,'Courier New',monospace\"><span style=\"font-weight: bold\"> Trainable params: </span><span style=\"color: #00af00; text-decoration-color: #00af00\">1,013,634</span> (3.87 MB)\n",
       "</pre>\n"
      ],
      "text/plain": [
       "\u001b[1m Trainable params: \u001b[0m\u001b[38;5;34m1,013,634\u001b[0m (3.87 MB)\n"
      ]
     },
     "metadata": {},
     "output_type": "display_data"
    },
    {
     "data": {
      "text/html": [
       "<pre style=\"white-space:pre;overflow-x:auto;line-height:normal;font-family:Menlo,'DejaVu Sans Mono',consolas,'Courier New',monospace\"><span style=\"font-weight: bold\"> Non-trainable params: </span><span style=\"color: #00af00; text-decoration-color: #00af00\">3,840</span> (15.00 KB)\n",
       "</pre>\n"
      ],
      "text/plain": [
       "\u001b[1m Non-trainable params: \u001b[0m\u001b[38;5;34m3,840\u001b[0m (15.00 KB)\n"
      ]
     },
     "metadata": {},
     "output_type": "display_data"
    }
   ],
   "source": [
    "import tensorflow as tf\n",
    "# Define an enhanced MLP architecture with better regularization and optimization\n",
    "def create_mlp(input_shape, num_classes):\n",
    "    model = Sequential([\n",
    "        layers.Input(shape=input_shape),\n",
    "        \n",
    "        # Hidden layers with batch norm and dropout\n",
    "        layers.Dense(1024, activation='relu', kernel_initializer='he_normal'),\n",
    "        layers.BatchNormalization(),\n",
    "        layers.Dropout(0.5),\n",
    "        \n",
    "        layers.Dense(512, activation='relu', kernel_initializer='he_normal'),\n",
    "        layers.BatchNormalization(),\n",
    "        layers.Dropout(0.4),\n",
    "        \n",
    "        layers.Dense(256, activation='relu', kernel_initializer='he_normal'),\n",
    "        layers.BatchNormalization(),\n",
    "        layers.Dropout(0.3),\n",
    "        \n",
    "        # Additional hidden layer\n",
    "        layers.Dense(128, activation='relu', kernel_initializer='he_normal'),\n",
    "        layers.BatchNormalization(),\n",
    "        \n",
    "        # Output layer\n",
    "        layers.Dense(num_classes, activation='softmax')\n",
    "    ])\n",
    "\n",
    "    \n",
    "    model.compile(\n",
    "        optimizer=\"Adam\",\n",
    "        loss='categorical_crossentropy',\n",
    "        metrics=['accuracy'])\n",
    "    return model\n",
    "\n",
    "mlp_model = create_mlp((x_train.shape[1],), len(genres))\n",
    "mlp_model.summary()"
   ]
  },
  {
   "cell_type": "code",
   "execution_count": 10,
   "metadata": {},
   "outputs": [
    {
     "name": "stdout",
     "output_type": "stream",
     "text": [
      "Epoch 1/30\n",
      "\u001b[1m2/2\u001b[0m \u001b[32m━━━━━━━━━━━━━━━━━━━━\u001b[0m\u001b[37m\u001b[0m \u001b[1m1s\u001b[0m 146ms/step - accuracy: 0.4255 - loss: 1.0932 - val_accuracy: 0.5750 - val_loss: 0.6112 - learning_rate: 0.0010\n",
      "Epoch 2/30\n",
      "\u001b[1m2/2\u001b[0m \u001b[32m━━━━━━━━━━━━━━━━━━━━\u001b[0m\u001b[37m\u001b[0m \u001b[1m0s\u001b[0m 39ms/step - accuracy: 0.7922 - loss: 0.4524 - val_accuracy: 0.6250 - val_loss: 0.6102 - learning_rate: 0.0010\n",
      "Epoch 3/30\n",
      "\u001b[1m2/2\u001b[0m \u001b[32m━━━━━━━━━━━━━━━━━━━━\u001b[0m\u001b[37m\u001b[0m \u001b[1m0s\u001b[0m 39ms/step - accuracy: 0.8698 - loss: 0.3166 - val_accuracy: 0.6250 - val_loss: 0.6126 - learning_rate: 0.0010\n",
      "Epoch 4/30\n",
      "\u001b[1m2/2\u001b[0m \u001b[32m━━━━━━━━━━━━━━━━━━━━\u001b[0m\u001b[37m\u001b[0m \u001b[1m0s\u001b[0m 40ms/step - accuracy: 0.8995 - loss: 0.2913 - val_accuracy: 0.6500 - val_loss: 0.6215 - learning_rate: 0.0010\n",
      "Epoch 5/30\n",
      "\u001b[1m2/2\u001b[0m \u001b[32m━━━━━━━━━━━━━━━━━━━━\u001b[0m\u001b[37m\u001b[0m \u001b[1m0s\u001b[0m 38ms/step - accuracy: 0.9073 - loss: 0.2766 - val_accuracy: 0.6750 - val_loss: 0.6279 - learning_rate: 0.0010\n",
      "Epoch 6/30\n",
      "\u001b[1m2/2\u001b[0m \u001b[32m━━━━━━━━━━━━━━━━━━━━\u001b[0m\u001b[37m\u001b[0m \u001b[1m0s\u001b[0m 37ms/step - accuracy: 0.9078 - loss: 0.2859 - val_accuracy: 0.7250 - val_loss: 0.6288 - learning_rate: 0.0010\n",
      "Epoch 7/30\n",
      "\u001b[1m2/2\u001b[0m \u001b[32m━━━━━━━━━━━━━━━━━━━━\u001b[0m\u001b[37m\u001b[0m \u001b[1m0s\u001b[0m 37ms/step - accuracy: 0.9417 - loss: 0.1872 - val_accuracy: 0.7250 - val_loss: 0.6210 - learning_rate: 0.0010\n",
      "Epoch 8/30\n",
      "\u001b[1m2/2\u001b[0m \u001b[32m━━━━━━━━━━━━━━━━━━━━\u001b[0m\u001b[37m\u001b[0m \u001b[1m0s\u001b[0m 39ms/step - accuracy: 0.9281 - loss: 0.1789 - val_accuracy: 0.7250 - val_loss: 0.6069 - learning_rate: 5.0000e-04\n",
      "Epoch 9/30\n",
      "\u001b[1m2/2\u001b[0m \u001b[32m━━━━━━━━━━━━━━━━━━━━\u001b[0m\u001b[37m\u001b[0m \u001b[1m0s\u001b[0m 39ms/step - accuracy: 0.9120 - loss: 0.2048 - val_accuracy: 0.7250 - val_loss: 0.5853 - learning_rate: 5.0000e-04\n",
      "Epoch 10/30\n",
      "\u001b[1m2/2\u001b[0m \u001b[32m━━━━━━━━━━━━━━━━━━━━\u001b[0m\u001b[37m\u001b[0m \u001b[1m0s\u001b[0m 38ms/step - accuracy: 0.9333 - loss: 0.1573 - val_accuracy: 0.7250 - val_loss: 0.5600 - learning_rate: 5.0000e-04\n",
      "Epoch 11/30\n",
      "\u001b[1m2/2\u001b[0m \u001b[32m━━━━━━━━━━━━━━━━━━━━\u001b[0m\u001b[37m\u001b[0m \u001b[1m0s\u001b[0m 38ms/step - accuracy: 0.9349 - loss: 0.1686 - val_accuracy: 0.7250 - val_loss: 0.5400 - learning_rate: 5.0000e-04\n",
      "Epoch 12/30\n",
      "\u001b[1m2/2\u001b[0m \u001b[32m━━━━━━━━━━━━━━━━━━━━\u001b[0m\u001b[37m\u001b[0m \u001b[1m0s\u001b[0m 37ms/step - accuracy: 0.9552 - loss: 0.1192 - val_accuracy: 0.7500 - val_loss: 0.5180 - learning_rate: 5.0000e-04\n",
      "Epoch 13/30\n",
      "\u001b[1m2/2\u001b[0m \u001b[32m━━━━━━━━━━━━━━━━━━━━\u001b[0m\u001b[37m\u001b[0m \u001b[1m0s\u001b[0m 41ms/step - accuracy: 0.9578 - loss: 0.1359 - val_accuracy: 0.7500 - val_loss: 0.4914 - learning_rate: 5.0000e-04\n",
      "Epoch 14/30\n",
      "\u001b[1m2/2\u001b[0m \u001b[32m━━━━━━━━━━━━━━━━━━━━\u001b[0m\u001b[37m\u001b[0m \u001b[1m0s\u001b[0m 38ms/step - accuracy: 0.9484 - loss: 0.1224 - val_accuracy: 0.7500 - val_loss: 0.4692 - learning_rate: 5.0000e-04\n",
      "Epoch 15/30\n",
      "\u001b[1m2/2\u001b[0m \u001b[32m━━━━━━━━━━━━━━━━━━━━\u001b[0m\u001b[37m\u001b[0m \u001b[1m0s\u001b[0m 40ms/step - accuracy: 0.9781 - loss: 0.0782 - val_accuracy: 0.7750 - val_loss: 0.4494 - learning_rate: 5.0000e-04\n",
      "Epoch 16/30\n",
      "\u001b[1m2/2\u001b[0m \u001b[32m━━━━━━━━━━━━━━━━━━━━\u001b[0m\u001b[37m\u001b[0m \u001b[1m0s\u001b[0m 37ms/step - accuracy: 0.9484 - loss: 0.1091 - val_accuracy: 0.8000 - val_loss: 0.4267 - learning_rate: 5.0000e-04\n",
      "Epoch 17/30\n",
      "\u001b[1m2/2\u001b[0m \u001b[32m━━━━━━━━━━━━━━━━━━━━\u001b[0m\u001b[37m\u001b[0m \u001b[1m0s\u001b[0m 41ms/step - accuracy: 0.9589 - loss: 0.1088 - val_accuracy: 0.8000 - val_loss: 0.4121 - learning_rate: 5.0000e-04\n",
      "Epoch 18/30\n",
      "\u001b[1m2/2\u001b[0m \u001b[32m━━━━━━━━━━━━━━━━━━━━\u001b[0m\u001b[37m\u001b[0m \u001b[1m0s\u001b[0m 42ms/step - accuracy: 0.9578 - loss: 0.1078 - val_accuracy: 0.8000 - val_loss: 0.3994 - learning_rate: 5.0000e-04\n",
      "Epoch 19/30\n",
      "\u001b[1m2/2\u001b[0m \u001b[32m━━━━━━━━━━━━━━━━━━━━\u001b[0m\u001b[37m\u001b[0m \u001b[1m0s\u001b[0m 76ms/step - accuracy: 0.9536 - loss: 0.1124 - val_accuracy: 0.8000 - val_loss: 0.3902 - learning_rate: 5.0000e-04\n",
      "Epoch 20/30\n",
      "\u001b[1m2/2\u001b[0m \u001b[32m━━━━━━━━━━━━━━━━━━━━\u001b[0m\u001b[37m\u001b[0m \u001b[1m0s\u001b[0m 42ms/step - accuracy: 0.9823 - loss: 0.0785 - val_accuracy: 0.8000 - val_loss: 0.3881 - learning_rate: 5.0000e-04\n",
      "Epoch 21/30\n",
      "\u001b[1m2/2\u001b[0m \u001b[32m━━━━━━━━━━━━━━━━━━━━\u001b[0m\u001b[37m\u001b[0m \u001b[1m0s\u001b[0m 43ms/step - accuracy: 0.9823 - loss: 0.0678 - val_accuracy: 0.8000 - val_loss: 0.3860 - learning_rate: 5.0000e-04\n",
      "Epoch 22/30\n",
      "\u001b[1m2/2\u001b[0m \u001b[32m━━━━━━━━━━━━━━━━━━━━\u001b[0m\u001b[37m\u001b[0m \u001b[1m0s\u001b[0m 39ms/step - accuracy: 0.9823 - loss: 0.0645 - val_accuracy: 0.8000 - val_loss: 0.3757 - learning_rate: 5.0000e-04\n",
      "Epoch 23/30\n",
      "\u001b[1m2/2\u001b[0m \u001b[32m━━━━━━━━━━━━━━━━━━━━\u001b[0m\u001b[37m\u001b[0m \u001b[1m0s\u001b[0m 40ms/step - accuracy: 0.9755 - loss: 0.0683 - val_accuracy: 0.8000 - val_loss: 0.3671 - learning_rate: 5.0000e-04\n",
      "Epoch 24/30\n",
      "\u001b[1m2/2\u001b[0m \u001b[32m━━━━━━━━━━━━━━━━━━━━\u001b[0m\u001b[37m\u001b[0m \u001b[1m0s\u001b[0m 40ms/step - accuracy: 0.9755 - loss: 0.0926 - val_accuracy: 0.8250 - val_loss: 0.3578 - learning_rate: 5.0000e-04\n",
      "Epoch 25/30\n",
      "\u001b[1m2/2\u001b[0m \u001b[32m━━━━━━━━━━━━━━━━━━━━\u001b[0m\u001b[37m\u001b[0m \u001b[1m0s\u001b[0m 48ms/step - accuracy: 0.9688 - loss: 0.0885 - val_accuracy: 0.8250 - val_loss: 0.3538 - learning_rate: 5.0000e-04\n",
      "Epoch 26/30\n",
      "\u001b[1m2/2\u001b[0m \u001b[32m━━━━━━━━━━━━━━━━━━━━\u001b[0m\u001b[37m\u001b[0m \u001b[1m0s\u001b[0m 40ms/step - accuracy: 0.9688 - loss: 0.0776 - val_accuracy: 0.8250 - val_loss: 0.3429 - learning_rate: 5.0000e-04\n",
      "Epoch 27/30\n",
      "\u001b[1m2/2\u001b[0m \u001b[32m━━━━━━━━━━━━━━━━━━━━\u001b[0m\u001b[37m\u001b[0m \u001b[1m0s\u001b[0m 39ms/step - accuracy: 0.9823 - loss: 0.0605 - val_accuracy: 0.8500 - val_loss: 0.3252 - learning_rate: 5.0000e-04\n",
      "Epoch 28/30\n",
      "\u001b[1m2/2\u001b[0m \u001b[32m━━━━━━━━━━━━━━━━━━━━\u001b[0m\u001b[37m\u001b[0m \u001b[1m0s\u001b[0m 40ms/step - accuracy: 0.9823 - loss: 0.0561 - val_accuracy: 0.8500 - val_loss: 0.3034 - learning_rate: 5.0000e-04\n",
      "Epoch 29/30\n",
      "\u001b[1m2/2\u001b[0m \u001b[32m━━━━━━━━━━━━━━━━━━━━\u001b[0m\u001b[37m\u001b[0m \u001b[1m0s\u001b[0m 40ms/step - accuracy: 0.9865 - loss: 0.0592 - val_accuracy: 0.8750 - val_loss: 0.2848 - learning_rate: 5.0000e-04\n",
      "Epoch 30/30\n",
      "\u001b[1m2/2\u001b[0m \u001b[32m━━━━━━━━━━━━━━━━━━━━\u001b[0m\u001b[37m\u001b[0m \u001b[1m0s\u001b[0m 40ms/step - accuracy: 1.0000 - loss: 0.0316 - val_accuracy: 0.8750 - val_loss: 0.2718 - learning_rate: 5.0000e-04\n"
     ]
    },
    {
     "data": {
      "text/plain": [
       "<keras.src.callbacks.history.History at 0x1733add60>"
      ]
     },
     "execution_count": 10,
     "metadata": {},
     "output_type": "execute_result"
    }
   ],
   "source": [
    "from keras.callbacks import EarlyStopping, ReduceLROnPlateau\n",
    "# Add callbacks for better training\n",
    "mlp_callbacks = [\n",
    "    EarlyStopping(monitor='val_loss', patience=15, restore_best_weights=True),\n",
    "    ReduceLROnPlateau(monitor='val_loss', factor=0.5, patience=5, min_lr=1e-6),\n",
    "]\n",
    "\n",
    "mlp_model.fit(\n",
    "    x_train, y_train_encoded,\n",
    "    validation_data=(x_test, y_test_encoded),\n",
    "    epochs=30,\n",
    "    batch_size=128,  # Larger batch size\n",
    "    callbacks=mlp_callbacks,\n",
    ")"
   ]
  },
  {
   "cell_type": "code",
   "execution_count": 11,
   "metadata": {},
   "outputs": [
    {
     "name": "stdout",
     "output_type": "stream",
     "text": [
      "\u001b[1m2/2\u001b[0m \u001b[32m━━━━━━━━━━━━━━━━━━━━\u001b[0m\u001b[37m\u001b[0m \u001b[1m0s\u001b[0m 50ms/step\n",
      "Accuracy (CNN): 0.875\n"
     ]
    }
   ],
   "source": [
    "y_pred_cnn = mlp_model.predict(x_test)\n",
    "y_pred_cnn = np.argmax(y_pred_cnn, axis=1)\n",
    "accuracy_cnn = accuracy_score(y_test, y_pred_cnn)\n",
    "print(f\"Accuracy (CNN): {accuracy_cnn:.3f}\")"
   ]
  },
  {
   "cell_type": "markdown",
   "metadata": {},
   "source": [
    "### Cell 10 - XGBoost model "
   ]
  },
  {
   "cell_type": "code",
   "execution_count": 12,
   "metadata": {},
   "outputs": [],
   "source": [
    "xgb_model = xgb.XGBClassifier(n_estimators=1000, learning_rate=0.05)\n",
    "xgb_model.fit(x_train, y_train)\n",
    "y_pred_xgb = xgb_model.predict(x_test)"
   ]
  },
  {
   "cell_type": "markdown",
   "metadata": {},
   "source": [
    "### Random forest model"
   ]
  },
  {
   "cell_type": "code",
   "execution_count": 13,
   "metadata": {},
   "outputs": [
    {
     "name": "stdout",
     "output_type": "stream",
     "text": [
      "Accuracy: 0.975\n"
     ]
    }
   ],
   "source": [
    "# Initialize the Random Forest Classifier\n",
    "rf_model = RandomForestClassifier(\n",
    "    n_estimators=100,\n",
    "    max_depth=None,\n",
    "    min_samples_split=2,\n",
    "    min_samples_leaf=1,\n",
    "    random_state=42\n",
    ")\n",
    "\n",
    "# Train the model\n",
    "rf_model.fit(x_train, y_train)\n",
    "\n",
    "# Make predictions on the test set\n",
    "y_pred_rf = rf_model.predict(x_test)\n",
    "\n",
    "# Evaluate the model\n",
    "accuracy_rf = accuracy_score(y_test, y_pred_rf)\n",
    "print(f\"Accuracy: {accuracy_rf:.3f}\")"
   ]
  },
  {
   "cell_type": "code",
   "execution_count": 14,
   "metadata": {},
   "outputs": [
    {
     "name": "stdout",
     "output_type": "stream",
     "text": [
      "Accuracy: 0.975\n"
     ]
    }
   ],
   "source": [
    "# Initialize the Random Forest Classifier\n",
    "rf_model = RandomForestClassifier(\n",
    "    n_estimators=100,\n",
    "    max_depth=None,\n",
    "    min_samples_split=2,\n",
    "    min_samples_leaf=1,\n",
    "    random_state=42\n",
    ")\n",
    "\n",
    "# Train the model\n",
    "rf_model.fit(x_train, y_train)\n",
    "\n",
    "# Make predictions on the test set\n",
    "y_pred_rf = rf_model.predict(x_test)\n",
    "\n",
    "# Evaluate the model\n",
    "accuracy_rf = accuracy_score(y_test, y_pred_rf)\n",
    "print(f\"Accuracy: {accuracy_rf:.3f}\")"
   ]
  },
  {
   "cell_type": "markdown",
   "metadata": {},
   "source": [
    "### Cell 11 - Evaluate models"
   ]
  },
  {
   "cell_type": "code",
   "execution_count": 15,
   "metadata": {},
   "outputs": [
    {
     "name": "stdout",
     "output_type": "stream",
     "text": [
      "\u001b[1m2/2\u001b[0m \u001b[32m━━━━━━━━━━━━━━━━━━━━\u001b[0m\u001b[37m\u001b[0m \u001b[1m0s\u001b[0m 49ms/step\n",
      "\u001b[1m2/2\u001b[0m \u001b[32m━━━━━━━━━━━━━━━━━━━━\u001b[0m\u001b[37m\u001b[0m \u001b[1m0s\u001b[0m 11ms/step\n",
      "Accuracy (CNN): 0.975\n",
      "Accuracy (DNN): 0.875\n",
      "Accuracy (SVM): 0.950\n",
      "Accuracy (RFC): 0.975\n",
      "Accuracy (XGB): 0.925\n"
     ]
    }
   ],
   "source": [
    "# Predict using the CNN model\n",
    "y_pred_cnn = cnn_model.predict(x_test)\n",
    "y_pred_cnn = np.argmax(y_pred_cnn, axis=1)\n",
    "y_pred_mlp = mlp_model.predict(x_test)\n",
    "y_pred_mlp = np.argmax(y_pred_mlp, axis=1)\n",
    "\n",
    "# Calculate accuracy\n",
    "accuracy_cnn = accuracy_score(y_test, y_pred_cnn)\n",
    "print(f\"Accuracy (CNN): {accuracy_cnn:.3f}\")\n",
    "\n",
    "accuracy_mlp = accuracy_score(y_test, y_pred_mlp)\n",
    "print(f\"Accuracy (DNN): {accuracy_mlp:.3f}\")\n",
    "\n",
    "accuracy_svm = accuracy_score(y_test, y_pred_svm)\n",
    "print(f\"Accuracy (SVM): {accuracy_svm:.3f}\")\n",
    "\n",
    "accuracy_rf = accuracy_score(y_test, y_pred_rf)\n",
    "print(f\"Accuracy (RFC): {accuracy_rf:.3f}\")\n",
    "\n",
    "xgb_accuracy = accuracy_score(y_test, y_pred_xgb)\n",
    "print(f\"Accuracy (XGB): {xgb_accuracy:.3f}\")\n"
   ]
  },
  {
   "cell_type": "markdown",
   "metadata": {},
   "source": [
    "### Cell 12 - Creating an ensemble using soft voting"
   ]
  },
  {
   "cell_type": "code",
   "execution_count": 16,
   "metadata": {},
   "outputs": [
    {
     "name": "stdout",
     "output_type": "stream",
     "text": [
      "\u001b[1m2/2\u001b[0m \u001b[32m━━━━━━━━━━━━━━━━━━━━\u001b[0m\u001b[37m\u001b[0m \u001b[1m0s\u001b[0m 12ms/step\n",
      "\u001b[1m2/2\u001b[0m \u001b[32m━━━━━━━━━━━━━━━━━━━━\u001b[0m\u001b[37m\u001b[0m \u001b[1m0s\u001b[0m 12ms/step\n",
      "Ensemble Accuracy: 0.950\n"
     ]
    }
   ],
   "source": [
    "# Get predictions from each model\n",
    "xgb_preds_proba = xgb_model.predict_proba(x_test)\n",
    "rf_preds_proba = rf_model.predict_proba(x_test)\n",
    "svm_preds_proba = svm_model.predict_proba(X_test_scaled)\n",
    "cnn_preds_proba = cnn_model.predict(x_test)\n",
    "mlp_preds_proba = mlp_model.predict(x_test)\n",
    "\n",
    "# Average the predictions (soft voting)\n",
    "avg_preds_proba = (xgb_preds_proba + svm_preds_proba + cnn_preds_proba +  rf_preds_proba + mlp_preds_proba) / 5\n",
    "\n",
    "# Convert probabilities to class predictions\n",
    "ensemble_preds = np.argmax(avg_preds_proba, axis=1)\n",
    "\n",
    "# Evaluate the ensemble performance\n",
    "soft_ensemble_accuracy = accuracy_score(y_test, ensemble_preds)\n",
    "print(f\"Ensemble Accuracy: {soft_ensemble_accuracy:.3f}\")\n"
   ]
  },
  {
   "cell_type": "code",
   "execution_count": 17,
   "metadata": {},
   "outputs": [
    {
     "name": "stdout",
     "output_type": "stream",
     "text": [
      "[0 0 0 1 1 1 0 1 1 0 0 1 1 0 1 1 1 1 1 0 1 0 1 0 0 0 0 0 1 1 0 0 0 0 1 1 1\n",
      " 1 1 0]\n",
      "[0 0 0 1 1 1 0 1 1 1 0 1 1 0 1 1 0 1 0 0 1 0 1 0 0 0 0 0 1 1 0 0 0 0 1 1 1\n",
      " 1 1 0]\n"
     ]
    }
   ],
   "source": [
    "print(y_pred_svm)\n",
    "print(y_pred_cnn)"
   ]
  },
  {
   "cell_type": "code",
   "execution_count": 18,
   "metadata": {},
   "outputs": [
    {
     "name": "stdout",
     "output_type": "stream",
     "text": [
      "The predictions before averaging (40, 2)\n",
      "The predictions after averaging (40,)\n"
     ]
    }
   ],
   "source": [
    "print(\"The predictions before averaging\", avg_preds_proba.shape)\n",
    "print(\"The predictions after averaging\", ensemble_preds.shape)"
   ]
  },
  {
   "cell_type": "markdown",
   "metadata": {},
   "source": [
    "### Cell 13 - Creating an ensemble using hard voting"
   ]
  },
  {
   "cell_type": "code",
   "execution_count": 19,
   "metadata": {},
   "outputs": [
    {
     "name": "stdout",
     "output_type": "stream",
     "text": [
      "\u001b[1m2/2\u001b[0m \u001b[32m━━━━━━━━━━━━━━━━━━━━\u001b[0m\u001b[37m\u001b[0m \u001b[1m0s\u001b[0m 31ms/step\n",
      "\u001b[1m2/2\u001b[0m \u001b[32m━━━━━━━━━━━━━━━━━━━━\u001b[0m\u001b[37m\u001b[0m \u001b[1m0s\u001b[0m 12ms/step\n",
      "Hard Voting Ensemble Accuracy: 0.950\n"
     ]
    }
   ],
   "source": [
    "from scipy.stats import mode\n",
    "from sklearn.metrics import accuracy_score\n",
    "import numpy as np\n",
    "\n",
    "# Step 1: Get class predictions from each model\n",
    "xgb_preds = xgb_model.predict(x_test)  # Class labels\n",
    "rf_preds = rf_model.predict(x_test)\n",
    "svm_preds = svm_model.predict(X_test_scaled)\n",
    "cnn_preds = np.argmax(cnn_model.predict(x_test), axis=1)  # Convert CNN probs to class labels\n",
    "mlp_preds = np.argmax(mlp_model.predict(x_test), axis=1)  # Convert DNN probs to class labels\n",
    "\n",
    "\n",
    "# Step 2: Stack predictions\n",
    "all_preds = np.array([xgb_preds, svm_preds, cnn_preds, rf_preds + mlp_preds])  # Shape: (3, num_samples)\n",
    "\n",
    "# Step 3: Perform majority voting (hard voting)\n",
    "ensemble_preds, _ = mode(all_preds, axis=0, keepdims=True)  # Get most common class per sample\n",
    "ensemble_preds = ensemble_preds.flatten()  # Convert to 1D array\n",
    "\n",
    "# Step 4: Evaluate accuracy\n",
    "hard_ensemble_accuracy = accuracy_score(y_test, ensemble_preds)\n",
    "print(f\"Hard Voting Ensemble Accuracy: {hard_ensemble_accuracy:.3f}\")\n"
   ]
  },
  {
   "cell_type": "code",
   "execution_count": 20,
   "metadata": {},
   "outputs": [
    {
     "name": "stdout",
     "output_type": "stream",
     "text": [
      "Number of samples where all 5 models agree: 33/40\n",
      "XGBoost vs Random Forest: 36/40 (90.0% agreement)\n",
      "XGBoost vs SVM: 37/40 (92.5% agreement)\n",
      "XGBoost vs CNN: 38/40 (95.0% agreement)\n",
      "XGBoost vs MLP: 36/40 (90.0% agreement)\n",
      "Random Forest vs SVM: 37/40 (92.5% agreement)\n",
      "Random Forest vs CNN: 38/40 (95.0% agreement)\n",
      "Random Forest vs MLP: 36/40 (90.0% agreement)\n",
      "SVM vs CNN: 37/40 (92.5% agreement)\n",
      "SVM vs MLP: 35/40 (87.5% agreement)\n",
      "CNN vs MLP: 36/40 (90.0% agreement)\n"
     ]
    }
   ],
   "source": [
    "from itertools import combinations\n",
    "# Stack all predictions into a 2D array (5 models × 1998 samples)\n",
    "all_preds = np.vstack([xgb_preds, rf_preds, svm_preds, cnn_preds, mlp_preds])\n",
    "full_consensus_mask = np.all(all_preds == all_preds[0, :], axis=0)  # Compare all rows to 1st row (XGB)\n",
    "num_full_consensus = np.sum(full_consensus_mask)\n",
    "print(f\"Number of samples where all 5 models agree: {num_full_consensus}/{len(x_test)}\")\n",
    "\n",
    "models = ['XGBoost', 'Random Forest', 'SVM', 'CNN', 'MLP']\n",
    "preds_list = [xgb_preds, rf_preds, svm_preds, cnn_preds, mlp_preds]\n",
    "\n",
    "# Compare every pair of models\n",
    "for (i, name1), (j, name2) in combinations(zip(range(5), models), 2):\n",
    "    matches = np.sum(preds_list[i] == preds_list[j])\n",
    "    print(f\"{name1} vs {name2}: {matches}/{len(x_test)} ({matches/len(x_test):.1%} agreement)\")"
   ]
  },
  {
   "cell_type": "code",
   "execution_count": 21,
   "metadata": {},
   "outputs": [
    {
     "name": "stdout",
     "output_type": "stream",
     "text": [
      "The predictions before averaging (5, 40)\n",
      "The predictions after averaging (40,)\n"
     ]
    }
   ],
   "source": [
    "print(\"The predictions before averaging\", all_preds.shape)\n",
    "print(\"The predictions after averaging\", ensemble_preds.shape)"
   ]
  },
  {
   "cell_type": "markdown",
   "metadata": {},
   "source": [
    "### Weighted voting"
   ]
  },
  {
   "cell_type": "code",
   "execution_count": 22,
   "metadata": {},
   "outputs": [
    {
     "name": "stdout",
     "output_type": "stream",
     "text": [
      "\u001b[1m2/2\u001b[0m \u001b[32m━━━━━━━━━━━━━━━━━━━━\u001b[0m\u001b[37m\u001b[0m \u001b[1m0s\u001b[0m 12ms/step\n",
      "\u001b[1m2/2\u001b[0m \u001b[32m━━━━━━━━━━━━━━━━━━━━\u001b[0m\u001b[37m\u001b[0m \u001b[1m0s\u001b[0m 13ms/step\n",
      "Weighted Ensemble Accuracy: 0.975\n"
     ]
    }
   ],
   "source": [
    "import numpy as np\n",
    "from sklearn.metrics import accuracy_score\n",
    "\n",
    "# Define the weights based on model accuracies\n",
    "weights = {\n",
    "    'mlp': accuracy_mlp,\n",
    "    'cnn': accuracy_cnn,\n",
    "    'svm': accuracy_svm,\n",
    "    'rf': accuracy_rf,\n",
    "    'xgb': xgb_accuracy\n",
    "}\n",
    "\n",
    "# Normalize the weights so they sum to 1\n",
    "total_weight = sum(weights.values())\n",
    "weights = {k: v / total_weight for k, v in weights.items()}\n",
    "\n",
    "# Get predictions from each model\n",
    "xgb_preds_proba = xgb_model.predict_proba(x_test)\n",
    "rf_preds_proba = rf_model.predict_proba(x_test)\n",
    "svm_preds_proba = svm_model.predict_proba(X_test_scaled)\n",
    "cnn_preds_proba = cnn_model.predict(x_test)\n",
    "mlp_preds_proba = cnn_model.predict(x_test)\n",
    "\n",
    "\n",
    "# Apply weights to the predicted probabilities\n",
    "weighted_xgb_proba = xgb_preds_proba * weights['xgb']\n",
    "weighted_rf_proba = rf_preds_proba * weights['rf']\n",
    "weighted_svm_proba = svm_preds_proba * weights['svm']\n",
    "weighted_cnn_proba = cnn_preds_proba * weights['cnn']\n",
    "weighted_mlp_proba = mlp_preds_proba * weights['cnn']\n",
    "\n",
    "\n",
    "# Combine the weighted probabilities\n",
    "weighted_avg_proba = weighted_xgb_proba +  weighted_cnn_proba + weighted_svm_proba + weighted_rf_proba + weighted_mlp_proba\n",
    "\n",
    "# Convert weighted probabilities to class predictions\n",
    "weighted_ensemble_preds = np.argmax(weighted_avg_proba, axis=1)\n",
    "\n",
    "# Evaluate the weighted ensemble performance\n",
    "weighted_ensemble_accuracy = accuracy_score(y_test, weighted_ensemble_preds)\n",
    "print(f\"Weighted Ensemble Accuracy: {weighted_ensemble_accuracy:.3f}\")"
   ]
  },
  {
   "cell_type": "code",
   "execution_count": 23,
   "metadata": {},
   "outputs": [
    {
     "data": {
      "text/plain": [
       "np.int64(0)"
      ]
     },
     "execution_count": 23,
     "metadata": {},
     "output_type": "execute_result"
    }
   ],
   "source": [
    "y_test[1]"
   ]
  },
  {
   "cell_type": "code",
   "execution_count": 24,
   "metadata": {},
   "outputs": [
    {
     "name": "stdout",
     "output_type": "stream",
     "text": [
      "\u001b[1m5/5\u001b[0m \u001b[32m━━━━━━━━━━━━━━━━━━━━\u001b[0m\u001b[37m\u001b[0m \u001b[1m0s\u001b[0m 11ms/step\n",
      "\u001b[1m5/5\u001b[0m \u001b[32m━━━━━━━━━━━━━━━━━━━━\u001b[0m\u001b[37m\u001b[0m \u001b[1m0s\u001b[0m 4ms/step \n",
      "\u001b[1m2/2\u001b[0m \u001b[32m━━━━━━━━━━━━━━━━━━━━\u001b[0m\u001b[37m\u001b[0m \u001b[1m0s\u001b[0m 12ms/step\n",
      "\u001b[1m2/2\u001b[0m \u001b[32m━━━━━━━━━━━━━━━━━━━━\u001b[0m\u001b[37m\u001b[0m \u001b[1m0s\u001b[0m 10ms/step\n",
      "Stacking Ensemble Accuracy: 0.950\n"
     ]
    }
   ],
   "source": [
    "from sklearn.linear_model import LogisticRegression\n",
    "from sklearn.ensemble import RandomForestClassifier\n",
    "from sklearn.metrics import accuracy_score\n",
    "import numpy as np\n",
    "\n",
    "# Step 1: Get predictions from base models\n",
    "xgb_train_preds = xgb_model.predict_proba(x_train)\n",
    "rf_train_preds = rf_model.predict_proba(x_train)\n",
    "svm_train_preds = svm_model.predict_proba(X_train_scaled)\n",
    "cnn_train_preds = cnn_model.predict(x_train)\n",
    "mlp_train_preds = mlp_model.predict(x_train)\n",
    "\n",
    "xgb_test_preds = xgb_model.predict_proba(x_test)\n",
    "rf_test_preds = rf_model.predict_proba(x_test)\n",
    "svm_test_preds = svm_model.predict_proba(X_test_scaled)\n",
    "cnn_test_preds = cnn_model.predict(x_test)\n",
    "mlp_test_preds = mlp_model.predict(x_test)\n",
    "\n",
    "# Step 2: Create new dataset for meta-model training\n",
    "stacked_train = np.hstack((xgb_train_preds, svm_train_preds, cnn_train_preds,  rf_train_preds + mlp_train_preds))\n",
    "stacked_test = np.hstack((xgb_test_preds, svm_test_preds, cnn_test_preds, rf_test_preds + mlp_test_preds))\n",
    "\n",
    "# Step 3: Train meta-model\n",
    "meta_model = LogisticRegression()\n",
    "meta_model.fit(stacked_train, y_train)\n",
    "\n",
    "# Step 4: Predict with the meta-model\n",
    "ensemble_preds = meta_model.predict(stacked_test)\n",
    "\n",
    "# Step 5: Evaluate performance\n",
    "stack_ensemble_accuracy = accuracy_score(y_test, ensemble_preds)\n",
    "print(f\"Stacking Ensemble Accuracy: {stack_ensemble_accuracy:.3f}\")\n"
   ]
  },
  {
   "cell_type": "code",
   "execution_count": 25,
   "metadata": {},
   "outputs": [
    {
     "name": "stdout",
     "output_type": "stream",
     "text": [
      "Model 1: [9.97761190e-01 2.23878259e-03 9.90799337e-01 9.20066309e-03\n",
      " 1.00000000e+00 3.31620553e-09 1.88639575e+00 1.13604249e-01]\n",
      "Model 2: []\n",
      "Model 3: []\n",
      "Model 4: []\n"
     ]
    }
   ],
   "source": [
    "first = stacked_test[0]\n",
    "\n",
    "print(\"Model 1:\", first[:10])\n",
    "print(\"Model 2:\", first[10:20])\n",
    "print(\"Model 3:\", first[20:30])\n",
    "print(\"Model 4:\", first[30:40])"
   ]
  },
  {
   "cell_type": "code",
   "execution_count": 26,
   "metadata": {},
   "outputs": [
    {
     "data": {
      "text/plain": [
       "(40, 8)"
      ]
     },
     "execution_count": 26,
     "metadata": {},
     "output_type": "execute_result"
    }
   ],
   "source": [
    "stacked_test.shape"
   ]
  },
  {
   "cell_type": "markdown",
   "metadata": {},
   "source": [
    "### Print all accuracies"
   ]
  },
  {
   "cell_type": "code",
   "execution_count": 27,
   "metadata": {},
   "outputs": [
    {
     "name": "stdout",
     "output_type": "stream",
     "text": [
      "Accuracy (CNN): 0.975\n",
      "Accuracy (DNN): 0.875\n",
      "Accuracy (SVM): 0.950\n",
      "Accuracy (RFC): 0.975\n",
      "Accuracy (XGB): 0.925\n",
      "\n",
      "Weighted Ensemble Accuracy: 0.975\n",
      "Hard Voting Ensemble Accuracy: 0.950\n",
      "Soft Voting Accuracy: 0.950\n",
      "Stacking Ensemble Accuracy: 0.950\n"
     ]
    }
   ],
   "source": [
    "print(f\"Accuracy (CNN): {accuracy_cnn:.3f}\")\n",
    "print(f\"Accuracy (DNN): {accuracy_mlp:.3f}\")\n",
    "print(f\"Accuracy (SVM): {accuracy_svm:.3f}\")\n",
    "print(f\"Accuracy (RFC): {accuracy_rf:.3f}\")\n",
    "print(f\"Accuracy (XGB): {xgb_accuracy:.3f}\")\n",
    "\n",
    "print()\n",
    "\n",
    "print(f\"Weighted Ensemble Accuracy: {weighted_ensemble_accuracy:.3f}\")\n",
    "print(f\"Hard Voting Ensemble Accuracy: {hard_ensemble_accuracy:.3f}\")\n",
    "print(f\"Soft Voting Accuracy: {soft_ensemble_accuracy:.3f}\")\n",
    "print(f\"Stacking Ensemble Accuracy: {stack_ensemble_accuracy:.3f}\")"
   ]
  },
  {
   "cell_type": "markdown",
   "metadata": {},
   "source": [
    "### Creating a confusion matrix for the ensemble"
   ]
  },
  {
   "cell_type": "code",
   "execution_count": 28,
   "metadata": {},
   "outputs": [
    {
     "name": "stdout",
     "output_type": "stream",
     "text": [
      "\u001b[1m2/2\u001b[0m \u001b[32m━━━━━━━━━━━━━━━━━━━━\u001b[0m\u001b[37m\u001b[0m \u001b[1m0s\u001b[0m 12ms/step\n",
      "\u001b[1m2/2\u001b[0m \u001b[32m━━━━━━━━━━━━━━━━━━━━\u001b[0m\u001b[37m\u001b[0m \u001b[1m0s\u001b[0m 11ms/step\n"
     ]
    },
    {
     "data": {
      "image/png": "[encoded data removed]",
      "text/plain": [
       "<Figure size 800x600 with 2 Axes>"
      ]
     },
     "metadata": {},
     "output_type": "display_data"
    }
   ],
   "source": [
    "# Get predictions from each model (XGBoost, SVM, CNN)\n",
    "xgb_preds = xgb_model.predict(x_test)\n",
    "svm_preds = svm_model.predict(x_test)\n",
    "rf_preds = rf_model.predict(x_test)\n",
    "cnn_preds = np.argmax(cnn_model.predict(x_test), axis=1)\n",
    "\n",
    "# Soft Voting: average the predicted probabilities\n",
    "xgb_probs = xgb_model.predict_proba(x_test)\n",
    "svm_probs = svm_model.predict_proba(x_test)\n",
    "rf_probs = rf_model.predict_proba(x_test)\n",
    "cnn_probs = cnn_model.predict(x_test)\n",
    "\n",
    "# Average the probabilities (soft voting)\n",
    "ensemble_probs = (xgb_probs + svm_probs + cnn_probs + rf_probs) / 4\n",
    "ensemble_preds = np.argmax(ensemble_probs, axis=1)\n",
    "ensemble_cm = confusion_matrix(y_test, ensemble_preds)\n",
    "\n",
    "# Plot the confusion matrix for the ensemble model\n",
    "plt.figure(figsize=(8, 6))\n",
    "sns.heatmap(ensemble_cm, annot=True, fmt=\"d\", cmap=\"Blues\", xticklabels=genres, yticklabels=genres)\n",
    "plt.title(\"Ensemble Confusion Matrix\")\n",
    "plt.xlabel(\"Predicted\")\n",
    "plt.ylabel(\"True\")\n",
    "plt.show()\n"
   ]
  },
  {
   "cell_type": "markdown",
   "metadata": {},
   "source": [
    "### Creating a confusion matrix for SVC"
   ]
  },
  {
   "cell_type": "code",
   "execution_count": 29,
   "metadata": {},
   "outputs": [
    {
     "data": {
      "image/png": "[encoded data removed]",
      "text/plain": [
       "<Figure size 800x600 with 2 Axes>"
      ]
     },
     "metadata": {},
     "output_type": "display_data"
    }
   ],
   "source": [
    "svm_preds = svm_model.predict(x_test)\n",
    "svm_cm = confusion_matrix(y_test, svm_preds)\n",
    "\n",
    "# Plot the confusion matrix\n",
    "plt.figure(figsize=(8, 6))\n",
    "sns.heatmap(svm_cm, annot=True, fmt=\"d\", cmap=\"Blues\", xticklabels=genres, yticklabels=genres)\n",
    "plt.title(\"SVM Confusion Matrix\")\n",
    "plt.xlabel(\"Predicted\")\n",
    "plt.ylabel(\"True\")\n",
    "plt.show()\n"
   ]
  },
  {
   "cell_type": "markdown",
   "metadata": {},
   "source": [
    "### Creating a confusion matrix for CNN"
   ]
  },
  {
   "cell_type": "code",
   "execution_count": 30,
   "metadata": {},
   "outputs": [
    {
     "name": "stdout",
     "output_type": "stream",
     "text": [
      "\u001b[1m2/2\u001b[0m \u001b[32m━━━━━━━━━━━━━━━━━━━━\u001b[0m\u001b[37m\u001b[0m \u001b[1m0s\u001b[0m 11ms/step\n"
     ]
    },
    {
     "data": {
      "image/png": "[encoded data removed]",
      "text/plain": [
       "<Figure size 800x600 with 2 Axes>"
      ]
     },
     "metadata": {},
     "output_type": "display_data"
    }
   ],
   "source": [
    "plt.clf\n",
    "cnn_preds = np.argmax(cnn_model.predict(x_test), axis=1)\n",
    "cnn_cm = confusion_matrix(y_test, cnn_preds)\n",
    "\n",
    "# Plot the confusion matrix\n",
    "plt.figure(figsize=(8, 6))\n",
    "sns.heatmap(cnn_cm, annot=True, fmt=\"d\", cmap=\"Blues\", xticklabels=genres, yticklabels=genres)\n",
    "plt.title(\"CNN Confusion Matrix\")\n",
    "plt.xlabel(\"Predicted\")\n",
    "plt.ylabel(\"True\")\n",
    "plt.show()\n"
   ]
  },
  {
   "cell_type": "markdown",
   "metadata": {},
   "source": [
    "### Creating a confusion matrix for XGB"
   ]
  },
  {
   "cell_type": "code",
   "execution_count": 31,
   "metadata": {},
   "outputs": [
    {
     "data": {
      "image/png": "[encoded data removed]",
      "text/plain": [
       "<Figure size 800x600 with 2 Axes>"
      ]
     },
     "metadata": {},
     "output_type": "display_data"
    }
   ],
   "source": [
    "plt.clf\n",
    "xgb_preds = xgb_model.predict(x_test)\n",
    "xgb_cm = confusion_matrix(y_test, xgb_preds)\n",
    "\n",
    "# Plot the confusion matrix\n",
    "plt.figure(figsize=(8, 6))\n",
    "sns.heatmap(xgb_cm, annot=True, fmt=\"d\", cmap=\"Blues\", xticklabels=genres, yticklabels=genres)\n",
    "plt.title(\"XGBoost Confusion Matrix\")\n",
    "plt.xlabel(\"Predicted\")\n",
    "plt.ylabel(\"True\")\n",
    "plt.show()\n"
   ]
  }
 ],
 "metadata": {
  "kernelspec": {
   "display_name": "Python 3",
   "language": "python",
   "name": "python3"
  },
  "language_info": {
   "codemirror_mode": {
    "name": "ipython",
    "version": 3
   },
   "file_extension": ".py",
   "mimetype": "text/x-python",
   "name": "python",
   "nbconvert_exporter": "python",
   "pygments_lexer": "ipython3",
   "version": "3.9.6"
  }
 },
 "nbformat": 4,
 "nbformat_minor": 2
}
