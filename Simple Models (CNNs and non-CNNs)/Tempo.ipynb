{
 "cells": [
  {
   "cell_type": "markdown",
   "metadata": {},
   "source": [
    "# Tempo"
   ]
  },
  {
   "cell_type": "markdown",
   "metadata": {},
   "source": [
    "## Cell 1 - Imports"
   ]
  },
  {
   "cell_type": "code",
   "execution_count": 1,
   "metadata": {},
   "outputs": [],
   "source": [
    "import librosa\n",
    "import numpy as np\n",
    "import pandas as pd\n",
    "import os\n",
    "from sklearn.model_selection import train_test_split\n",
    "from sklearn.ensemble import RandomForestClassifier\n",
    "from sklearn.metrics import accuracy_score"
   ]
  },
  {
   "cell_type": "markdown",
   "metadata": {},
   "source": [
    "## Cell 2 - Grab Files"
   ]
  },
  {
   "cell_type": "code",
   "execution_count": null,
   "execution_count": 2,
   "metadata": {},
   "outputs": [
    {
     "name": "stdout",
     "output_type": "stream",
     "text": [
      "Files loaded: 1000\n",
      "Labels loaded: 1000\n",
      "Genres loaded: 10\n"
     ]
    },
    {
     "data": {
      "text/plain": [
       "(4, 'Data/genres_original\\\\hiphop\\\\hiphop.00000.wav')"
      ]
     },
     "execution_count": 2,
     "metadata": {},
     "output_type": "execute_result"
    }
   ],
   "source": [
    "DATASET_PATH = \"Data/genres_original\"\n",
    "genres = ['blues', 'classical', 'country', 'disco', 'hiphop', 'jazz', 'metal', 'pop', 'reggae', 'rock']\n",
    "file_paths = []\n",
    "genre_count = []\n",
    "\n",
    "# Iterate through each genre and load the audio files\n",
    "for genre in genres:\n",
    "    genre_path = os.path.join(DATASET_PATH, genre)\n",
    "    if os.path.isdir(genre_path):\n",
    "        for file in os.listdir(genre_path):\n",
    "            if file.endswith(\".wav\"):\n",
    "                file_path = os.path.join(genre_path, file)\n",
    "                try:\n",
    "                    # Add file path to the list\n",
    "                    file_paths.append(file_path)\n",
    "                    # Assign label based on genre index\n",
    "                    genre_count.append(genres.index(genre))\n",
    "                except Exception as e:\n",
    "                    print(f\"Error processing {file_path}: {e}\")\n",
    "                    continue\n",
    "\n",
    "# Print the number of loaded files and labels\n",
    "print(\"Files loaded:\", len(file_paths))\n",
    "print(\"Labels loaded:\", len(genre_count))\n",
    "print(\"Genres loaded:\", len(genres))\n",
    "\n",
    "genre_count[400], file_paths[400]"
   ]
  },
  {
   "cell_type": "markdown",
   "metadata": {},
   "source": [
    "## Cell 3 - Tempo Extraction"
   ]
  },
  {
   "cell_type": "code",
   "execution_count": 35,
   "execution_count": 3,
   "metadata": {},
   "outputs": [
    {
     "name": "stdout",
     "output_type": "stream",
     "text": [
      "Processed 0 files...\n",
      "Processed 50 files...\n",
      "Processed 100 files...\n",
      "Processed 150 files...\n",
      "Processed 200 files...\n",
      "Processed 250 files...\n",
      "Processed 300 files...\n",
      "Processed 350 files...\n",
      "Processed 400 files...\n",
      "Processed 450 files...\n",
      "Processed 500 files...\n",
      "Processed 550 files...\n",
      "Processed 600 files...\n",
      "Processed 650 files...\n",
      "Processed 700 files...\n",
      "Processed 750 files...\n",
      "Processed 800 files...\n",
      "Processed 850 files...\n",
      "Processed 900 files...\n",
      "Processed 950 files...\n",
      "                  tempo  genre\n",
      "0          [123.046875]      0\n",
      "1   [67.99958881578948]      0\n",
      "2      [161.4990234375]      0\n",
      "3   [63.02400914634146]      0\n",
      "4  [135.99917763157896]      0\n"
     ]
    }
   ],
   "source": [
    "features = [] # Storing feature vectors.\n",
    "\n",
    "for i, file in enumerate(file_paths):\n",
    "    try:\n",
    "        # Load audio file.\n",
    "        y, sr = librosa.load(file, sr=None)\n",
    "        \n",
    "        #Extract tempo.\n",
    "        tempo,__ = librosa.beat.beat_track(y=y, sr=sr)\n",
    "        \n",
    "        #Add tempo as feature.\n",
    "        features.append([tempo, genre_count[i]])\n",
    "        \n",
    "        if i % 50 == 0:\n",
    "            print(f\"Processed {i} files...\")\n",
    "            \n",
    "    except Exception as e:\n",
    "        print(f\"Processing Error {file}: {e}\")\n",
    "        continue\n",
    "    \n",
    "df = pd.DataFrame(features, columns=['tempo', 'genre'])\n",
    "print(df.head())"
   ]
  },
  {
   "cell_type": "markdown",
   "metadata": {},
   "source": [
    "# Cell 4 - Model Training"
   ]
  },
  {
   "cell_type": "code",
   "execution_count": null,
   "execution_count": 4,
   "metadata": {},
   "outputs": [
    {
     "name": "stdout",
     "output_type": "stream",
     "text": [
      "Accuracy: 0.175\n"
     ]
    }
   ],
   "source": [
    "X = df[['tempo']]\n",
    "y= df['genre']\n",
    "\n",
    "X_train, X_test, y_train, y_test = train_test_split(X, y, test_size=0.2, random_state=42)\n",
    "\n",
    "clf = RandomForestClassifier(n_estimators=100, random_state=42)\n",
    "clf.fit(X_train, y_train)\n",
    "                             \n",
    "y_pred = clf.predict(X_test)\n",
    "print(\"Accuracy:\", accuracy_score(y_test, y_pred))                           "
   ]
  },
  {
   "cell_type": "markdown",
   "metadata": {},
   "source": [
    "# Cell 5 - Data Processing and Model Training"
   ]
  },
  {
   "cell_type": "code",
   "execution_count": null,
   "execution_count": 5,
   "metadata": {},
   "outputs": [
    {
     "name": "stdout",
     "output_type": "stream",
     "text": [
      "Accuracy: 0.175\n"
     ]
    }
   ],
   "source": [
    "from sklearn.preprocessing import StandardScaler\n",
    "\n",
    "scaler = StandardScaler()\n",
    "X_train_scaled = scaler.fit_transform(X_train)\n",
    "X_test_scaled = scaler.transform(X_test)\n",
    "\n",
    "clf = RandomForestClassifier(n_estimators=100, random_state=42)\n",
    "clf.fit(X_train_scaled, y_train)\n",
    "\n",
    "y_pred = clf.predict(X_test_scaled)\n",
    "print(\"Accuracy:\", accuracy_score(y_test, y_pred))"
   ]
  },
  {
   "cell_type": "markdown",
   "metadata": {},
   "source": [
    "# Cell 6 - Cross Validation"
   ]
  },
  {
   "cell_type": "code",
   "execution_count": 6,
   "metadata": {},
   "outputs": [
    {
     "name": "stdout",
     "output_type": "stream",
     "text": [
      "Cross-validation scores: [0.18 0.15 0.19 0.18 0.15]\n",
      "Mean accuracy: 0.16999999999999998\n"
     ]
    }
   ],
   "source": [
    "from sklearn.model_selection import cross_val_score\n",
    "\n",
    "scores = cross_val_score(clf, X, y, cv=5)\n",
    "print(\"Cross-validation scores:\", scores)\n",
    "print(\"Mean accuracy:\", scores.mean())"
   ]
  },
  {
   "cell_type": "markdown",
   "metadata": {},
   "source": [
    "# Cell 7 - Model Evaluation"
   ]
  },
  {
   "cell_type": "code",
   "execution_count": 41,
   "metadata": {},
   "outputs": [
    {
     "name": "stderr",
     "output_type": "stream",
     "text": [
      "Matplotlib is building the font cache; this may take a moment.\n",
      "c:\\Users\\danie\\AppData\\Local\\Programs\\Python\\Python39\\lib\\site-packages\\sklearn\\utils\\validation.py:2732: UserWarning: X has feature names, but RandomForestClassifier was fitted without feature names\n",
      "  warnings.warn(\n"
     ]
    },
    {
     "data": {
      "image/png": "[encoded data removed]",
      "text/plain": [
       "<Figure size 640x480 with 2 Axes>"
      ]
     },
     "metadata": {},
     "output_type": "display_data"
    },
    {
     "name": "stdout",
     "output_type": "stream",
     "text": [
      "              precision    recall  f1-score   support\n",
      "\n",
      "       blues       0.00      0.00      0.00        20\n",
      "   classical       0.00      0.00      0.00        13\n",
      "     country       0.00      0.00      0.00        27\n",
      "       disco       0.00      0.00      0.00        21\n",
      "      hiphop       0.00      0.00      0.00        15\n",
      "        jazz       0.00      0.00      0.00        22\n",
      "       metal       0.00      0.00      0.00        25\n",
      "         pop       0.07      1.00      0.12        13\n",
      "      reggae       0.00      0.00      0.00        23\n",
      "        rock       0.00      0.00      0.00        21\n",
      "\n",
      "    accuracy                           0.07       200\n",
      "   macro avg       0.01      0.10      0.01       200\n",
      "weighted avg       0.00      0.07      0.01       200\n",
      "\n"
     ]
    },
    {
     "name": "stderr",
     "output_type": "stream",
     "text": [
      "c:\\Users\\danie\\AppData\\Local\\Programs\\Python\\Python39\\lib\\site-packages\\sklearn\\metrics\\_classification.py:1565: UndefinedMetricWarning: Precision is ill-defined and being set to 0.0 in labels with no predicted samples. Use `zero_division` parameter to control this behavior.\n",
      "  _warn_prf(average, modifier, f\"{metric.capitalize()} is\", len(result))\n",
      "c:\\Users\\danie\\AppData\\Local\\Programs\\Python\\Python39\\lib\\site-packages\\sklearn\\metrics\\_classification.py:1565: UndefinedMetricWarning: Precision is ill-defined and being set to 0.0 in labels with no predicted samples. Use `zero_division` parameter to control this behavior.\n",
      "  _warn_prf(average, modifier, f\"{metric.capitalize()} is\", len(result))\n",
      "c:\\Users\\danie\\AppData\\Local\\Programs\\Python\\Python39\\lib\\site-packages\\sklearn\\metrics\\_classification.py:1565: UndefinedMetricWarning: Precision is ill-defined and being set to 0.0 in labels with no predicted samples. Use `zero_division` parameter to control this behavior.\n",
      "  _warn_prf(average, modifier, f\"{metric.capitalize()} is\", len(result))\n"
     ]
    },
    {
     "data": {
      "text/plain": [
       "['tempo_model.joblib']"
      ]
     },
     "execution_count": 41,
     "metadata": {},
     "output_type": "execute_result"
    }
   ],
   "source": [
    "from sklearn.metrics import confusion_matrix\n",
    "import seaborn as sns\n",
    "import matplotlib.pyplot as plt\n",
    "from sklearn.metrics import classification_report\n",
    "import joblib\n",
    "\n",
    "y_pred = clf.predict(X_test)\n",
    "cm = confusion_matrix(y_test, y_pred)\n",
    "sns.heatmap(cm, annot=True, cmap=\"Blues\", xticklabels=genres, yticklabels=genres)\n",
    "plt.xlabel(\"Predicted\")\n",
    "plt.ylabel(\"True\")\n",
    "plt.show()\n",
    "\n",
    "print(classification_report(y_test, y_pred, target_names=genres))\n",
    "\n",
    "joblib.dump(clf, 'tempo_model.joblib')"
   ]
  },
  {
   "cell_type": "markdown",
   "metadata": {},
   "source": [
    "# Cell 8 - Cross Validation"
   ]
  },
  {
   "cell_type": "code",
   "execution_count": null,
   "metadata": {},
   "outputs": [
    {
     "name": "stdout",
     "output_type": "stream",
     "text": [
      "Best parameters: {'max_depth': 20, 'min_samples_leaf': 2, 'min_samples_split': 2, 'n_estimators': 50}\n",
      "Best score: 0.11000000000000001\n",
      "Accuracy: 0.065\n"
     ]
    }
   ],
   "source": [
    "from sklearn.model_selection import GridSearchCV\n",
    "\n",
    "param_grid = {\n",
    "    'C': [0.1, 1, 10, 100],\n",
    "    'gamma': ['scale', 0.001, 0.01, 0.1, 1],\n",
    "    'kernel': ['rbf', 'linear']\n",
    "}\n",
    "\n",
    "grid_search = GridSearchCV(RandomForestClassifier(), param_grid, cv=5)\n",
    "grid_search.fit(X_train, y_train)\n",
    "\n",
    "print(\"Best parameters:\", grid_search.best_params_)\n",
    "print(\"Best score:\", grid_search.best_score_)\n",
    "\n",
    "y_pred = grid_search.predict(X_test)\n",
    "print(\"Accuracy:\", accuracy_score(y_test, y_pred))"
   ]
  }
 ],
 "metadata": {
  "kernelspec": {
   "display_name": "Python 3",
   "language": "python",
   "name": "python3"
  },
  "language_info": {
   "codemirror_mode": {
    "name": "ipython",
    "version": 3
   },
   "file_extension": ".py",
   "mimetype": "text/x-python",
   "name": "python",
   "nbconvert_exporter": "python",
   "pygments_lexer": "ipython3",
   "version": "3.9.6"
  }
 },
 "nbformat": 4,
 "nbformat_minor": 2
}
