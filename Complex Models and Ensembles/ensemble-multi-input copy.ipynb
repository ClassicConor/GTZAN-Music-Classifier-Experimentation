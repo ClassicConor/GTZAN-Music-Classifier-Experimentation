{
 "cells": [
  {
   "cell_type": "markdown",
   "metadata": {},
   "source": [
    "Creating an ensemble using 2 multi-input neural networks that takes our spectrogram images and the csv file and then we use sofvoting to get the accuracy  "
   ]
  },
  {
   "cell_type": "code",
   "execution_count": 40,
   "metadata": {},
   "outputs": [],
   "source": [
    "import numpy as np\n",
    "import pandas as pd\n",
    "import os\n",
    "import tensorflow as tf\n",
    "from tensorflow.keras import layers, models, Input\n",
    "from tensorflow.keras.utils import to_categorical\n",
    "from tensorflow.keras.preprocessing.image import load_img, img_to_array\n",
    "from sklearn.model_selection import train_test_split\n",
    "from sklearn.preprocessing import StandardScaler, LabelEncoder\n",
    "from sklearn.metrics import classification_report, confusion_matrix\n",
    "import matplotlib.pyplot as plt\n",
    "from sklearn.metrics import accuracy_score\n",
    "import seaborn as sns"
   ]
  },
  {
   "cell_type": "code",
   "execution_count": 41,
   "metadata": {},
   "outputs": [],
   "source": [
    "##setting the paths\n",
    "image_size = (128, 128)\n",
    "image_path = 'Data/images_original'\n",
    "csv_path = 'Data/features_30_sec.csv'"
   ]
  },
  {
   "cell_type": "code",
   "execution_count": 42,
   "metadata": {},
   "outputs": [],
   "source": [
    "##loading the csv file again \n",
    "df = pd.read_csv(csv_path)\n",
    "df['label'] = df['filename'].apply(lambda x: x.split('.')[0])"
   ]
  },
  {
   "cell_type": "code",
   "execution_count": 43,
   "metadata": {},
   "outputs": [],
   "source": [
    "##encoding the labels\n",
    "label_encoder = LabelEncoder()\n",
    "df['encoded'] = label_encoder.fit_transform(df['label'])\n",
    "y = to_categorical(df['encoded'])"
   ]
  },
  {
   "cell_type": "code",
   "execution_count": 44,
   "metadata": {},
   "outputs": [],
   "source": [
    "##preparing the csv and dropping the tables \n",
    "x_table = df.drop(columns=['filename', 'label', 'encoded', 'length'], errors='ignore')\n",
    "x_table = StandardScaler().fit_transform(x_table)"
   ]
  },
  {
   "cell_type": "code",
   "execution_count": 45,
   "metadata": {},
   "outputs": [],
   "source": [
    "## adding new columns to match real the actiual image paths\n",
    "df['genre'] = df['filename'].apply(lambda x: x.split('.')[0])\n",
    "df['image_file'] = df['filename'].apply(lambda x: x.split('.')[1] + '.png')\n",
    "\n",
    "##loading the images\n",
    "def load_image(row):\n",
    "    genre = row['genre']\n",
    "    file_name = row['image_file']\n",
    "    path = os.path.join(image_path, genre, file_name)\n",
    "    img = load_img(path, target_size=image_size, color_mode='rgb')\n",
    "    return img_to_array(img) / 255.0\n",
    "\n",
    "#loading the spectograms and returning them as a numpy array\n",
    "x_spectogram = np.array([load_image(row) for _, row in df.iterrows()])\n"
   ]
  },
  {
   "cell_type": "code",
   "execution_count": 46,
   "metadata": {},
   "outputs": [],
   "source": [
    "##splitting into testing and train sets\n",
    "x_spectrogram_train, x_spectrogram_val, x_table_train, x_table_val, y_train, y_val = train_test_split(\n",
    "    x_spectogram, x_table, y, test_size=0.2, random_state=42\n",
    ")"
   ]
  },
  {
   "cell_type": "code",
   "execution_count": 47,
   "metadata": {},
   "outputs": [],
   "source": [
    "##creating a multi imput neural network model to combine the csv file and then spectograms we made\n",
    "def cnn_model(spectrogram_input_shape, tabular_input_shape, number_of_classes):\n",
    "    ##passing the spectograms\n",
    "    spectrogram_input = Input(shape=spectrogram_input_shape, name=\"spectrogram_input\")\n",
    "\n",
    "    ##first convolution layer\n",
    "    convo1 = layers.Conv2D(32, (3, 3), activation='relu')(spectrogram_input)\n",
    "    pool1 = layers.MaxPooling2D()(convo1)\n",
    "\n",
    "    ##second convolution layer\n",
    "    convo2 = layers.Conv2D(64, (3, 3), activation='relu')(pool1)\n",
    "    pool2 = layers.MaxPooling2D()(convo2)\n",
    "\n",
    "    ##thrid convolution layer\n",
    "    convo3 = layers.Conv2D(128, (3, 3), activation='relu')(pool2)\n",
    "    average_pool = layers.GlobalAveragePooling2D()(convo3)\n",
    "\n",
    "    ##connecting all the layers\n",
    "    image_features = layers.Dense(128, activation='relu')(average_pool)\n",
    "    image_features = layers.Dropout(0.3)(image_features)\n",
    "\n",
    "    ##passing the csv \n",
    "    tabular_input = Input(shape=tabular_input_shape, name=\"tabular_input\")\n",
    "    dense1 = layers.Dense(128, activation='relu')(tabular_input)\n",
    "    dense2 = layers.Dense(64, activation='relu')(dense1)\n",
    "\n",
    "    ##merging the csv and the spectograms\n",
    "    combined = layers.concatenate([image_features, dense2])\n",
    "\n",
    "    ##connecting the layers together\n",
    "    final_dense = layers.Dense(128, activation='relu')(combined)\n",
    "    output = layers.Dense(number_of_classes, activation='softmax', name=\"output\")(final_dense)\n",
    "\n",
    "    ##building our model\n",
    "    model = models.Model(inputs=[spectrogram_input, tabular_input], outputs=output)\n",
    "\n",
    "    return model\n"
   ]
  },
  {
   "cell_type": "code",
   "execution_count": 48,
   "metadata": {},
   "outputs": [
    {
     "name": "stdout",
     "output_type": "stream",
     "text": [
      "Epoch 1/20\n",
      "\u001b[1m25/25\u001b[0m \u001b[32m━━━━━━━━━━━━━━━━━━━━\u001b[0m\u001b[37m\u001b[0m \u001b[1m8s\u001b[0m 213ms/step - accuracy: 0.2169 - loss: 2.1703 - val_accuracy: 0.4050 - val_loss: 1.6737\n",
      "Epoch 2/20\n",
      "\u001b[1m25/25\u001b[0m \u001b[32m━━━━━━━━━━━━━━━━━━━━\u001b[0m\u001b[37m\u001b[0m \u001b[1m5s\u001b[0m 213ms/step - accuracy: 0.5706 - loss: 1.3580 - val_accuracy: 0.5250 - val_loss: 1.1950\n",
      "Epoch 3/20\n",
      "\u001b[1m25/25\u001b[0m \u001b[32m━━━━━━━━━━━━━━━━━━━━\u001b[0m\u001b[37m\u001b[0m \u001b[1m5s\u001b[0m 184ms/step - accuracy: 0.6973 - loss: 0.9371 - val_accuracy: 0.5550 - val_loss: 1.1253\n",
      "Epoch 4/20\n",
      "\u001b[1m25/25\u001b[0m \u001b[32m━━━━━━━━━━━━━━━━━━━━\u001b[0m\u001b[37m\u001b[0m \u001b[1m4s\u001b[0m 176ms/step - accuracy: 0.7528 - loss: 0.7551 - val_accuracy: 0.6100 - val_loss: 1.0165\n",
      "Epoch 5/20\n",
      "\u001b[1m25/25\u001b[0m \u001b[32m━━━━━━━━━━━━━━━━━━━━\u001b[0m\u001b[37m\u001b[0m \u001b[1m4s\u001b[0m 176ms/step - accuracy: 0.7575 - loss: 0.6702 - val_accuracy: 0.6500 - val_loss: 0.9257\n",
      "Epoch 6/20\n",
      "\u001b[1m25/25\u001b[0m \u001b[32m━━━━━━━━━━━━━━━━━━━━\u001b[0m\u001b[37m\u001b[0m \u001b[1m4s\u001b[0m 176ms/step - accuracy: 0.8041 - loss: 0.5279 - val_accuracy: 0.6800 - val_loss: 0.8865\n",
      "Epoch 7/20\n",
      "\u001b[1m25/25\u001b[0m \u001b[32m━━━━━━━━━━━━━━━━━━━━\u001b[0m\u001b[37m\u001b[0m \u001b[1m4s\u001b[0m 176ms/step - accuracy: 0.8493 - loss: 0.4525 - val_accuracy: 0.6800 - val_loss: 0.8895\n",
      "Epoch 8/20\n",
      "\u001b[1m25/25\u001b[0m \u001b[32m━━━━━━━━━━━━━━━━━━━━\u001b[0m\u001b[37m\u001b[0m \u001b[1m4s\u001b[0m 175ms/step - accuracy: 0.8678 - loss: 0.3998 - val_accuracy: 0.7250 - val_loss: 0.8264\n",
      "Epoch 9/20\n",
      "\u001b[1m25/25\u001b[0m \u001b[32m━━━━━━━━━━━━━━━━━━━━\u001b[0m\u001b[37m\u001b[0m \u001b[1m4s\u001b[0m 174ms/step - accuracy: 0.9054 - loss: 0.3305 - val_accuracy: 0.7400 - val_loss: 0.8043\n",
      "Epoch 10/20\n",
      "\u001b[1m25/25\u001b[0m \u001b[32m━━━━━━━━━━━━━━━━━━━━\u001b[0m\u001b[37m\u001b[0m \u001b[1m4s\u001b[0m 175ms/step - accuracy: 0.9231 - loss: 0.2635 - val_accuracy: 0.7300 - val_loss: 0.8275\n",
      "Epoch 11/20\n",
      "\u001b[1m25/25\u001b[0m \u001b[32m━━━━━━━━━━━━━━━━━━━━\u001b[0m\u001b[37m\u001b[0m \u001b[1m4s\u001b[0m 165ms/step - accuracy: 0.9385 - loss: 0.2155 - val_accuracy: 0.7550 - val_loss: 0.8518\n",
      "Epoch 12/20\n",
      "\u001b[1m25/25\u001b[0m \u001b[32m━━━━━━━━━━━━━━━━━━━━\u001b[0m\u001b[37m\u001b[0m \u001b[1m4s\u001b[0m 163ms/step - accuracy: 0.9370 - loss: 0.2193 - val_accuracy: 0.7400 - val_loss: 0.8716\n",
      "Epoch 13/20\n",
      "\u001b[1m25/25\u001b[0m \u001b[32m━━━━━━━━━━━━━━━━━━━━\u001b[0m\u001b[37m\u001b[0m \u001b[1m4s\u001b[0m 168ms/step - accuracy: 0.9397 - loss: 0.1819 - val_accuracy: 0.7550 - val_loss: 0.7988\n",
      "Epoch 14/20\n",
      "\u001b[1m25/25\u001b[0m \u001b[32m━━━━━━━━━━━━━━━━━━━━\u001b[0m\u001b[37m\u001b[0m \u001b[1m4s\u001b[0m 171ms/step - accuracy: 0.9572 - loss: 0.1613 - val_accuracy: 0.7600 - val_loss: 0.7961\n",
      "Epoch 15/20\n",
      "\u001b[1m25/25\u001b[0m \u001b[32m━━━━━━━━━━━━━━━━━━━━\u001b[0m\u001b[37m\u001b[0m \u001b[1m4s\u001b[0m 171ms/step - accuracy: 0.9646 - loss: 0.1437 - val_accuracy: 0.7650 - val_loss: 0.8351\n",
      "Epoch 16/20\n",
      "\u001b[1m25/25\u001b[0m \u001b[32m━━━━━━━━━━━━━━━━━━━━\u001b[0m\u001b[37m\u001b[0m \u001b[1m4s\u001b[0m 168ms/step - accuracy: 0.9673 - loss: 0.1163 - val_accuracy: 0.7900 - val_loss: 0.8550\n",
      "Epoch 17/20\n",
      "\u001b[1m25/25\u001b[0m \u001b[32m━━━━━━━━━━━━━━━━━━━━\u001b[0m\u001b[37m\u001b[0m \u001b[1m5s\u001b[0m 182ms/step - accuracy: 0.9841 - loss: 0.0827 - val_accuracy: 0.7900 - val_loss: 0.8137\n",
      "Epoch 18/20\n",
      "\u001b[1m25/25\u001b[0m \u001b[32m━━━━━━━━━━━━━━━━━━━━\u001b[0m\u001b[37m\u001b[0m \u001b[1m5s\u001b[0m 180ms/step - accuracy: 0.9954 - loss: 0.0749 - val_accuracy: 0.7750 - val_loss: 0.8823\n",
      "Epoch 19/20\n",
      "\u001b[1m25/25\u001b[0m \u001b[32m━━━━━━━━━━━━━━━━━━━━\u001b[0m\u001b[37m\u001b[0m \u001b[1m4s\u001b[0m 160ms/step - accuracy: 0.9890 - loss: 0.0798 - val_accuracy: 0.7700 - val_loss: 0.8555\n",
      "Epoch 20/20\n",
      "\u001b[1m25/25\u001b[0m \u001b[32m━━━━━━━━━━━━━━━━━━━━\u001b[0m\u001b[37m\u001b[0m \u001b[1m4s\u001b[0m 168ms/step - accuracy: 0.9990 - loss: 0.0447 - val_accuracy: 0.7800 - val_loss: 0.8876\n",
      "\u001b[1m7/7\u001b[0m \u001b[32m━━━━━━━━━━━━━━━━━━━━\u001b[0m\u001b[37m\u001b[0m \u001b[1m0s\u001b[0m 46ms/step - accuracy: 0.7610 - loss: 0.9151\n",
      "cnn1 accuracy: 78.00%\n"
     ]
    }
   ],
   "source": [
    "##bulding the cnn model\n",
    "model_1cnn = cnn_model(\n",
    "    spectrogram_input_shape=(128, 128, 3),\n",
    "    tabular_input_shape=(x_table.shape[1],),\n",
    "    number_of_classes=y.shape[1]\n",
    ")\n",
    "\n",
    "##compiling using adam optimizer\n",
    "model_1cnn.compile(optimizer='adam', loss='categorical_crossentropy', metrics=['accuracy'])\n",
    "\n",
    "##training\n",
    "model_1cnn.fit(\n",
    "    [x_spectrogram_train, x_table_train], y_train,\n",
    "    validation_data=([x_spectrogram_val, x_table_val], y_val),\n",
    "    epochs=20,\n",
    "    batch_size=32,\n",
    "    verbose=1\n",
    ")\n",
    "\n",
    "##printing out the accuracy\n",
    "loss, accuracy = model_1cnn.evaluate([x_spectrogram_val, x_table_val], y_val)\n",
    "print(f\"cnn1 accuracy: {accuracy * 100:.2f}%\")\n"
   ]
  },
  {
   "cell_type": "code",
   "execution_count": 49,
   "metadata": {},
   "outputs": [],
   "source": [
    "##creating a second multi input neural network model \n",
    "def cnn_model2(spectrogram_input_shape, tabular_input_shape, number_of_classes):\n",
    "    \n",
    "    ##passing the spectrograms\n",
    "    spectrogram_input = Input(shape=spectrogram_input_shape, name=\"spectrogram_input\")\n",
    "\n",
    "    ##first convolution layer\n",
    "    convo1 = layers.Conv2D(32, (3, 3), activation='relu')(spectrogram_input)\n",
    "    pool1 = layers.MaxPooling2D()(convo1)\n",
    "\n",
    "    ##second convolution layer\n",
    "    convo2 = layers.Conv2D(64, (3, 3), activation='relu')(pool1)\n",
    "    pool2 = layers.MaxPooling2D()(convo2)\n",
    "\n",
    "    ##third convolution layer\n",
    "    convo3 = layers.Conv2D(128, (3, 3), activation='relu')(pool2)\n",
    "    average_pool = layers.GlobalAveragePooling2D()(convo3)\n",
    "\n",
    "    ##connecting all the layers\n",
    "    image_features = layers.Dense(128, activation='relu')(average_pool)\n",
    "    image_features = layers.Dropout(0.3)(image_features)\n",
    "\n",
    "    ##passing the csv \n",
    "    tabular_input = Input(shape=tabular_input_shape, name=\"tabular_input\")\n",
    "    dense1 = layers.Dense(128, activation='relu')(tabular_input)\n",
    "    dense2 = layers.Dense(64, activation='relu')(dense1)\n",
    "\n",
    "    ##merging the csv and the spectrograms\n",
    "    combined = layers.concatenate([image_features, dense2])\n",
    "\n",
    "    ##connecting the layers together\n",
    "    final_dense = layers.Dense(128, activation='relu')(combined)\n",
    "    output = layers.Dense(number_of_classes, activation='softmax', name=\"output\")(final_dense)\n",
    "\n",
    "    ##building our model\n",
    "    model = models.Model(inputs=[spectrogram_input, tabular_input], outputs=output)\n",
    "\n",
    "    return model\n"
   ]
  },
  {
   "cell_type": "code",
   "execution_count": 50,
   "metadata": {},
   "outputs": [
    {
     "name": "stdout",
     "output_type": "stream",
     "text": [
      "Epoch 1/20\n",
      "\u001b[1m25/25\u001b[0m \u001b[32m━━━━━━━━━━━━━━━━━━━━\u001b[0m\u001b[37m\u001b[0m \u001b[1m8s\u001b[0m 178ms/step - accuracy: 0.1887 - loss: 2.1656 - val_accuracy: 0.3900 - val_loss: 1.7055\n",
      "Epoch 2/20\n",
      "\u001b[1m25/25\u001b[0m \u001b[32m━━━━━━━━━━━━━━━━━━━━\u001b[0m\u001b[37m\u001b[0m \u001b[1m4s\u001b[0m 163ms/step - accuracy: 0.5336 - loss: 1.4222 - val_accuracy: 0.5450 - val_loss: 1.3046\n",
      "Epoch 3/20\n",
      "\u001b[1m25/25\u001b[0m \u001b[32m━━━━━━━━━━━━━━━━━━━━\u001b[0m\u001b[37m\u001b[0m \u001b[1m4s\u001b[0m 170ms/step - accuracy: 0.6676 - loss: 0.9864 - val_accuracy: 0.5700 - val_loss: 1.1693\n",
      "Epoch 4/20\n",
      "\u001b[1m25/25\u001b[0m \u001b[32m━━━━━━━━━━━━━━━━━━━━\u001b[0m\u001b[37m\u001b[0m \u001b[1m4s\u001b[0m 177ms/step - accuracy: 0.7503 - loss: 0.7321 - val_accuracy: 0.6350 - val_loss: 1.0406\n",
      "Epoch 5/20\n",
      "\u001b[1m25/25\u001b[0m \u001b[32m━━━━━━━━━━━━━━━━━━━━\u001b[0m\u001b[37m\u001b[0m \u001b[1m4s\u001b[0m 177ms/step - accuracy: 0.7904 - loss: 0.6302 - val_accuracy: 0.6650 - val_loss: 1.0296\n",
      "Epoch 6/20\n",
      "\u001b[1m25/25\u001b[0m \u001b[32m━━━━━━━━━━━━━━━━━━━━\u001b[0m\u001b[37m\u001b[0m \u001b[1m5s\u001b[0m 181ms/step - accuracy: 0.8378 - loss: 0.5212 - val_accuracy: 0.6750 - val_loss: 0.9597\n",
      "Epoch 7/20\n",
      "\u001b[1m25/25\u001b[0m \u001b[32m━━━━━━━━━━━━━━━━━━━━\u001b[0m\u001b[37m\u001b[0m \u001b[1m4s\u001b[0m 163ms/step - accuracy: 0.8329 - loss: 0.5146 - val_accuracy: 0.6900 - val_loss: 0.8871\n",
      "Epoch 8/20\n",
      "\u001b[1m25/25\u001b[0m \u001b[32m━━━━━━━━━━━━━━━━━━━━\u001b[0m\u001b[37m\u001b[0m \u001b[1m4s\u001b[0m 158ms/step - accuracy: 0.8814 - loss: 0.3669 - val_accuracy: 0.6950 - val_loss: 0.9308\n",
      "Epoch 9/20\n",
      "\u001b[1m25/25\u001b[0m \u001b[32m━━━━━━━━━━━━━━━━━━━━\u001b[0m\u001b[37m\u001b[0m \u001b[1m4s\u001b[0m 168ms/step - accuracy: 0.8876 - loss: 0.3391 - val_accuracy: 0.7350 - val_loss: 0.9080\n",
      "Epoch 10/20\n",
      "\u001b[1m25/25\u001b[0m \u001b[32m━━━━━━━━━━━━━━━━━━━━\u001b[0m\u001b[37m\u001b[0m \u001b[1m4s\u001b[0m 155ms/step - accuracy: 0.9196 - loss: 0.2982 - val_accuracy: 0.7200 - val_loss: 0.9264\n",
      "Epoch 11/20\n",
      "\u001b[1m25/25\u001b[0m \u001b[32m━━━━━━━━━━━━━━━━━━━━\u001b[0m\u001b[37m\u001b[0m \u001b[1m5s\u001b[0m 179ms/step - accuracy: 0.9363 - loss: 0.2358 - val_accuracy: 0.7150 - val_loss: 0.9221\n",
      "Epoch 12/20\n",
      "\u001b[1m25/25\u001b[0m \u001b[32m━━━━━━━━━━━━━━━━━━━━\u001b[0m\u001b[37m\u001b[0m \u001b[1m4s\u001b[0m 154ms/step - accuracy: 0.9596 - loss: 0.1809 - val_accuracy: 0.7400 - val_loss: 0.9129\n",
      "Epoch 13/20\n",
      "\u001b[1m25/25\u001b[0m \u001b[32m━━━━━━━━━━━━━━━━━━━━\u001b[0m\u001b[37m\u001b[0m \u001b[1m4s\u001b[0m 164ms/step - accuracy: 0.9433 - loss: 0.1834 - val_accuracy: 0.7700 - val_loss: 0.9006\n",
      "Epoch 14/20\n",
      "\u001b[1m25/25\u001b[0m \u001b[32m━━━━━━━━━━━━━━━━━━━━\u001b[0m\u001b[37m\u001b[0m \u001b[1m4s\u001b[0m 160ms/step - accuracy: 0.9667 - loss: 0.1472 - val_accuracy: 0.7450 - val_loss: 0.9160\n",
      "Epoch 15/20\n",
      "\u001b[1m25/25\u001b[0m \u001b[32m━━━━━━━━━━━━━━━━━━━━\u001b[0m\u001b[37m\u001b[0m \u001b[1m4s\u001b[0m 172ms/step - accuracy: 0.9740 - loss: 0.1158 - val_accuracy: 0.7500 - val_loss: 0.9551\n",
      "Epoch 16/20\n",
      "\u001b[1m25/25\u001b[0m \u001b[32m━━━━━━━━━━━━━━━━━━━━\u001b[0m\u001b[37m\u001b[0m \u001b[1m4s\u001b[0m 167ms/step - accuracy: 0.9655 - loss: 0.1354 - val_accuracy: 0.7450 - val_loss: 0.9581\n",
      "Epoch 17/20\n",
      "\u001b[1m25/25\u001b[0m \u001b[32m━━━━━━━━━━━━━━━━━━━━\u001b[0m\u001b[37m\u001b[0m \u001b[1m5s\u001b[0m 184ms/step - accuracy: 0.9947 - loss: 0.0758 - val_accuracy: 0.7600 - val_loss: 0.9702\n",
      "Epoch 18/20\n",
      "\u001b[1m25/25\u001b[0m \u001b[32m━━━━━━━━━━━━━━━━━━━━\u001b[0m\u001b[37m\u001b[0m \u001b[1m4s\u001b[0m 168ms/step - accuracy: 0.9794 - loss: 0.0897 - val_accuracy: 0.7650 - val_loss: 0.9715\n",
      "Epoch 19/20\n",
      "\u001b[1m25/25\u001b[0m \u001b[32m━━━━━━━━━━━━━━━━━━━━\u001b[0m\u001b[37m\u001b[0m \u001b[1m4s\u001b[0m 168ms/step - accuracy: 0.9695 - loss: 0.0936 - val_accuracy: 0.7200 - val_loss: 1.0797\n",
      "Epoch 20/20\n",
      "\u001b[1m25/25\u001b[0m \u001b[32m━━━━━━━━━━━━━━━━━━━━\u001b[0m\u001b[37m\u001b[0m \u001b[1m4s\u001b[0m 174ms/step - accuracy: 0.9663 - loss: 0.1144 - val_accuracy: 0.7600 - val_loss: 1.0370\n",
      "\u001b[1m7/7\u001b[0m \u001b[32m━━━━━━━━━━━━━━━━━━━━\u001b[0m\u001b[37m\u001b[0m \u001b[1m0s\u001b[0m 45ms/step - accuracy: 0.7588 - loss: 1.0465\n",
      "cnn2 accuracy: 76.00%\n"
     ]
    }
   ],
   "source": [
    "##bulding the second cnn model\n",
    "model_2cnn = cnn_model2(\n",
    "    spectrogram_input_shape=(128, 128, 3),\n",
    "    tabular_input_shape=(x_table.shape[1],),\n",
    "    number_of_classes=y.shape[1]\n",
    ")\n",
    "\n",
    "##compiling using adam optimizer\n",
    "model_2cnn.compile(optimizer='adam', loss='categorical_crossentropy', metrics=['accuracy'])\n",
    "\n",
    "##training\n",
    "model_2cnn.fit(\n",
    "    [x_spectrogram_train, x_table_train], y_train,\n",
    "    validation_data=([x_spectrogram_val, x_table_val], y_val),\n",
    "    epochs=20,\n",
    "    batch_size=32,\n",
    "    verbose=1\n",
    ")\n",
    "\n",
    "##printing out the accuracy\n",
    "loss, accuracy = model_2cnn.evaluate([x_spectrogram_val, x_table_val], y_val)\n",
    "print(f\"cnn2 accuracy: {accuracy * 100:.2f}%\")"
   ]
  },
  {
   "cell_type": "code",
   "execution_count": 51,
   "metadata": {},
   "outputs": [
    {
     "name": "stdout",
     "output_type": "stream",
     "text": [
      "\u001b[1m7/7\u001b[0m \u001b[32m━━━━━━━━━━━━━━━━━━━━\u001b[0m\u001b[37m\u001b[0m \u001b[1m1s\u001b[0m 60ms/step\n",
      "\u001b[1m7/7\u001b[0m \u001b[32m━━━━━━━━━━━━━━━━━━━━\u001b[0m\u001b[37m\u001b[0m \u001b[1m1s\u001b[0m 72ms/step\n",
      "ensemble accuracy: 78.50%\n"
     ]
    }
   ],
   "source": [
    "##predicting the  probabilities for both models\n",
    "y_pred_1 =  model_1cnn.predict([x_spectrogram_val, x_table_val])\n",
    "y_pred_2 =  model_2cnn.predict([x_spectrogram_val, x_table_val])\n",
    "\n",
    "##doing softvoting to get the average predicted probabilities\n",
    "y_pred_ensemble = (y_pred_1 + y_pred_2) / 2\n",
    "y_pred_final = np.argmax(y_pred_ensemble, axis=1)\n",
    "y_true = np.argmax(y_val, axis=1)\n",
    "\n",
    "##printing out the accuracy\n",
    "accuracy = accuracy_score(y_true, y_pred_final)\n",
    "print(f\"ensemble accuracy: {accuracy * 100:.2f}%\")\n"
   ]
  },
  {
   "cell_type": "code",
   "execution_count": 53,
   "metadata": {},
   "outputs": [
    {
     "data": {
      "image/png": "[encoded data removed]",
      "text/plain": [
       "<Figure size 1000x700 with 2 Axes>"
      ]
     },
     "metadata": {},
     "output_type": "display_data"
    }
   ],
   "source": [
    "##creating a confusion matrix\n",
    "cm = confusion_matrix(y_true, y_pred_final)\n",
    "plt.figure(figsize=(10, 7))\n",
    "sns.heatmap(cm, annot=True, fmt='d', xticklabels=label_encoder.classes_, yticklabels=label_encoder.classes_)\n",
    "plt.title(\"Confusion Matrix for our softvoting ensemble\")\n",
    "plt.xlabel(\"Predicted\")\n",
    "plt.ylabel(\"True\")\n",
    "plt.show()"
   ]
  }
 ],
 "metadata": {
  "kernelspec": {
   "display_name": "aimusic",
   "language": "python",
   "name": "python3"
  },
  "language_info": {
   "codemirror_mode": {
    "name": "ipython",
    "version": 3
   },
   "file_extension": ".py",
   "mimetype": "text/x-python",
   "name": "python",
   "nbconvert_exporter": "python",
   "pygments_lexer": "ipython3",
   "version": "3.9.21"
  }
 },
 "nbformat": 4,
 "nbformat_minor": 2
}
