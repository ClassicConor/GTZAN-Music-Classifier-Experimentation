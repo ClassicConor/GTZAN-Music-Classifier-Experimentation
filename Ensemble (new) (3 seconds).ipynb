{
 "cells": [
  {
   "cell_type": "markdown",
   "metadata": {},
   "source": [
    "### Cell 1 - Imports"
   ]
  },
  {
   "cell_type": "code",
   "execution_count": 1,
   "metadata": {},
   "outputs": [
    {
     "name": "stderr",
     "output_type": "stream",
     "text": [
      "/Users/conorwoollatt/Library/Python/3.9/lib/python/site-packages/urllib3/__init__.py:35: NotOpenSSLWarning: urllib3 v2 only supports OpenSSL 1.1.1+, currently the 'ssl' module is compiled with 'LibreSSL 2.8.3'. See: https://github.com/urllib3/urllib3/issues/3020\n",
      "  warnings.warn(\n"
     ]
    }
   ],
   "source": [
    "import numpy as np\n",
    "import pandas as pd\n",
    "import xgboost as xgb\n",
    "import matplotlib.pyplot as plt\n",
    "import seaborn as sns\n",
    "from sklearn.decomposition import PCA\n",
    "from sklearn.model_selection import train_test_split\n",
    "from sklearn import preprocessing\n",
    "from sklearn.ensemble import RandomForestClassifier\n",
    "from sklearn.preprocessing import LabelEncoder, StandardScaler\n",
    "from sklearn.metrics import confusion_matrix\n",
    "from keras.utils import to_categorical\n",
    "from sklearn.svm import SVC\n",
    "from sklearn.metrics import accuracy_score\n",
    "from keras.models import Sequential\n",
    "from keras import layers\n",
    "from keras.optimizers import Adam"
   ]
  },
  {
   "cell_type": "markdown",
   "metadata": {},
   "source": [
    "### Cell 2 - Processing the file"
   ]
  },
  {
   "cell_type": "code",
   "execution_count": 2,
   "metadata": {},
   "outputs": [
    {
     "name": "stdout",
     "output_type": "stream",
     "text": [
      "X_train shape: (8000, 309), y_train shape: (8000,)\n",
      "X_test shape: (2000, 309), y_test shape: (2000,)\n"
     ]
    }
   ],
   "source": [
    "genres = ['blues', 'classical', 'country', 'disco', 'hiphop', 'jazz', 'metal', 'pop', 'reggae', 'rock']\n",
    "\n",
    "# Load the CSV file\n",
    "data = pd.read_csv(\"all_segmented_features.csv\")\n",
    "data = data.drop(columns=[\"song_id\"])  # Drop the index column if it exists\n",
    "X = data.drop(columns=[\"label\", \"filename\"])\n",
    "y = data[\"label\"]\n",
    "\n",
    "# Extract song IDs from filenames\n",
    "data['song_id'] = data['filename'].apply(lambda x: x.rsplit('.', 2)[0])  # Extract \"blues.00000\" from \"blues.00000.0.wav\"\n",
    "\n",
    "# Group clips by song ID\n",
    "song_to_clips = {}\n",
    "for song_id, group in data.groupby('song_id'):\n",
    "    # Store all features and labels for each clip\n",
    "    song_to_clips[song_id] = {\n",
    "        'features': group.drop(columns=['filename', 'song_id', 'label']).values,  # Extract features (all columns except filename, song_id, and label)\n",
    "        'labels': group['label'].values  # Extract labels\n",
    "    }\n",
    "\n",
    "# Split song IDs into training and test sets\n",
    "song_ids = list(song_to_clips.keys())\n",
    "train_ids, test_ids = train_test_split(song_ids, test_size=0.2, random_state=42)\n",
    "\n",
    "# Prepare training and test data\n",
    "X_train, y_train, X_test, y_test = [], [], [], []\n",
    "\n",
    "# Assign clips based on the train-test split\n",
    "for song_id in song_ids:\n",
    "    clips = song_to_clips[song_id]\n",
    "    if song_id in train_ids:\n",
    "        X_train.extend(clips['features'])  # Add all features for this song to the training set\n",
    "        y_train.extend(clips['labels'])    # Add all labels for this song to the training set\n",
    "    else:\n",
    "        X_test.extend(clips['features'])  # Add all features for this song to the test set\n",
    "        y_test.extend(clips['labels'])    # Add all labels for this song to the test set\n",
    "\n",
    "# Convert to numpy arrays\n",
    "X_train = np.array(X_train)\n",
    "y_train = np.array(y_train)\n",
    "X_test = np.array(X_test)\n",
    "y_test = np.array(y_test)\n",
    "\n",
    "# Print shapes to verify\n",
    "print(f\"X_train shape: {X_train.shape}, y_train shape: {y_train.shape}\")\n",
    "print(f\"X_test shape: {X_test.shape}, y_test shape: {y_test.shape}\")"
   ]
  },
  {
   "cell_type": "markdown",
   "metadata": {},
   "source": [
    "### Cell 3 - Feature extraction"
   ]
  },
  {
   "cell_type": "code",
   "execution_count": 3,
   "metadata": {},
   "outputs": [
    {
     "data": {
      "text/plain": [
       "(10000, 312)"
      ]
     },
     "execution_count": 3,
     "metadata": {},
     "output_type": "execute_result"
    }
   ],
   "source": [
    "label_encoder = LabelEncoder()\n",
    "y_encoded = label_encoder.fit_transform(y)\n",
    "\n",
    "\n",
    "# new data frame with the new scaled data. \n",
    "cols = X.columns\n",
    "min_max_scaler = preprocessing.MinMaxScaler()\n",
    "np_scaled = min_max_scaler.fit_transform(X)\n",
    "\n",
    "X = pd.DataFrame(np_scaled, columns = cols)\n",
    "pca = PCA(n_components=3)\n",
    "principalComponents = pca.fit_transform(X)\n",
    "X = np.concatenate((X, pca.fit_transform(X)), axis=1)\n",
    "\n",
    "\n",
    "X.shape"
   ]
  },
  {
   "cell_type": "markdown",
   "metadata": {},
   "source": [
    "### Cell 5 - Train test split"
   ]
  },
  {
   "cell_type": "code",
   "execution_count": 4,
   "metadata": {},
   "outputs": [],
   "source": [
    "# Split the data into training and testing sets\n",
    "x_train, x_test, y_train, y_test = train_test_split(X, y_encoded, test_size=0.2, random_state=42)\n",
    "\n",
    "scaler = StandardScaler()\n",
    "X_train_scaled = scaler.fit_transform(x_train)\n",
    "X_test_scaled = scaler.transform(x_test)\n",
    "\n",
    "# One-hot encode the labels\n",
    "y_train_encoded = to_categorical(y_train, num_classes=len(genres))\n",
    "y_test_encoded = to_categorical(y_test, num_classes=len(genres))\n",
    "\n",
    "# Check the shapes of the train and test sets - commented out for readability\n",
    "# Uncomment to see the shape and number of files read in\n",
    "\n",
    "# print(f\"Shape of x_train: {x_train.shape}\")\n",
    "# print(f\"Shape of x_test: {x_test.shape}\")\n",
    "# print(f\"Shape of y_train: {y_train.shape}\")\n",
    "# print(f\"Shape of y_test: {y_test.shape}\")\n",
    "# print(f\"Shape of y_train_encoded: {y_train_encoded.shape}\")\n",
    "# print(f\"Shape of y_test_encoded: {y_test_encoded.shape}\")\n"
   ]
  },
  {
   "cell_type": "code",
   "execution_count": 5,
   "metadata": {},
   "outputs": [
    {
     "name": "stdout",
     "output_type": "stream",
     "text": [
      "(2000, 312)\n",
      "(8000, 312)\n"
     ]
    }
   ],
   "source": [
    "print(X_test_scaled.shape)\n",
    "print(X_train_scaled.shape)"
   ]
  },
  {
   "cell_type": "markdown",
   "metadata": {},
   "source": [
    "### Cell 7 - Training SVM model"
   ]
  },
  {
   "cell_type": "code",
   "execution_count": 6,
   "metadata": {},
   "outputs": [
    {
     "name": "stdout",
     "output_type": "stream",
     "text": [
      "Accuracy: 0.923\n"
     ]
    }
   ],
   "source": [
    "from sklearn.calibration import CalibratedClassifierCV\n",
    "svm_model = SVC(\n",
    "    C=100,\n",
    "    kernel='rbf',\n",
    "    gamma='scale',\n",
    "    probability=True,\n",
    "    random_state=42,\n",
    ")\n",
    "\n",
    "# Calibration for better probabilities (optional)\n",
    "calibrated_svm = CalibratedClassifierCV(svm_model, cv=3, method='sigmoid')\n",
    "\n",
    "# Train\n",
    "svm_model.fit(X_train_scaled, y_train)\n",
    "\n",
    "# Evaluate\n",
    "y_pred_svm = svm_model.predict(X_test_scaled)\n",
    "y_proba_svm = svm_model.predict_proba(X_test_scaled)\n",
    "\n",
    "print(f\"Accuracy: {accuracy_score(y_test, y_pred_svm):.3f}\")"
   ]
  },
  {
   "cell_type": "markdown",
   "metadata": {},
   "source": [
    "### Cell 8 - Defining CNN"
   ]
  },
  {
   "cell_type": "code",
   "execution_count": 7,
   "metadata": {},
   "outputs": [
    {
     "name": "stdout",
     "output_type": "stream",
     "text": [
      "Model compiled\n"
     ]
    }
   ],
   "source": [
    "# Define the CNN model architecture\n",
    "cnn_model = Sequential([\n",
    "    # First convolutional layer with 'same' padding\n",
    "    layers.Input(shape = (x_train.shape[1],1)),\n",
    "    layers.Conv1D(64, 3, activation='relu', padding='same',),\n",
    "    layers.MaxPooling1D(2, padding='same'),  # MaxPooling2D with same padding\n",
    "\n",
    "    # Second convolutional layer with 'same' padding\n",
    "    layers.Conv1D(128, 3, activation='relu', padding='same'),\n",
    "    layers.MaxPooling1D(2, padding='same'),\n",
    "\n",
    "    # Third convolutional layer with 'same' padding\n",
    "    layers.Conv1D(256, 3, activation='relu', padding='same'),\n",
    "    layers.MaxPooling1D(2, padding='same'),\n",
    "\n",
    "    # Flatten the output of the convolutional layers\n",
    "    layers.Flatten(),\n",
    "\n",
    "    # Fully connected layers\n",
    "    layers.Dense(512, activation='relu'),\n",
    "    layers.Dropout(0.5),\n",
    "\n",
    "    # Output layer with softmax activation\n",
    "    layers.Dense(len(genres), activation='softmax')\n",
    "])\n",
    "\n",
    "# Compile the model\n",
    "cnn_model.compile(optimizer=Adam(), loss='categorical_crossentropy', metrics=['accuracy'])\n",
    "\n",
    "# Summarize the model architecture\n",
    "#cnn_model.summary()\n",
    "print(\"Model compiled\")\n"
   ]
  },
  {
   "cell_type": "markdown",
   "metadata": {},
   "source": [
    "### Cell 9 - Training CNN model"
   ]
  },
  {
   "cell_type": "code",
   "execution_count": 8,
   "metadata": {},
   "outputs": [
    {
     "name": "stdout",
     "output_type": "stream",
     "text": [
      "Epoch 1/30\n",
      "\u001b[1m250/250\u001b[0m \u001b[32m━━━━━━━━━━━━━━━━━━━━\u001b[0m\u001b[37m\u001b[0m \u001b[1m6s\u001b[0m 22ms/step - accuracy: 0.3695 - loss: 1.7399 - val_accuracy: 0.6765 - val_loss: 0.9679\n",
      "Epoch 2/30\n",
      "\u001b[1m250/250\u001b[0m \u001b[32m━━━━━━━━━━━━━━━━━━━━\u001b[0m\u001b[37m\u001b[0m \u001b[1m6s\u001b[0m 22ms/step - accuracy: 0.6598 - loss: 0.9501 - val_accuracy: 0.7565 - val_loss: 0.6967\n",
      "Epoch 3/30\n",
      "\u001b[1m250/250\u001b[0m \u001b[32m━━━━━━━━━━━━━━━━━━━━\u001b[0m\u001b[37m\u001b[0m \u001b[1m6s\u001b[0m 23ms/step - accuracy: 0.7396 - loss: 0.7349 - val_accuracy: 0.7955 - val_loss: 0.6068\n",
      "Epoch 4/30\n",
      "\u001b[1m250/250\u001b[0m \u001b[32m━━━━━━━━━━━━━━━━━━━━\u001b[0m\u001b[37m\u001b[0m \u001b[1m6s\u001b[0m 23ms/step - accuracy: 0.8012 - loss: 0.5667 - val_accuracy: 0.8355 - val_loss: 0.4866\n",
      "Epoch 5/30\n",
      "\u001b[1m250/250\u001b[0m \u001b[32m━━━━━━━━━━━━━━━━━━━━\u001b[0m\u001b[37m\u001b[0m \u001b[1m6s\u001b[0m 24ms/step - accuracy: 0.8493 - loss: 0.4438 - val_accuracy: 0.8565 - val_loss: 0.4281\n",
      "Epoch 6/30\n",
      "\u001b[1m250/250\u001b[0m \u001b[32m━━━━━━━━━━━━━━━━━━━━\u001b[0m\u001b[37m\u001b[0m \u001b[1m6s\u001b[0m 24ms/step - accuracy: 0.8756 - loss: 0.3562 - val_accuracy: 0.8740 - val_loss: 0.3874\n",
      "Epoch 7/30\n",
      "\u001b[1m250/250\u001b[0m \u001b[32m━━━━━━━━━━━━━━━━━━━━\u001b[0m\u001b[37m\u001b[0m \u001b[1m6s\u001b[0m 24ms/step - accuracy: 0.9108 - loss: 0.2684 - val_accuracy: 0.8850 - val_loss: 0.3620\n",
      "Epoch 8/30\n",
      "\u001b[1m250/250\u001b[0m \u001b[32m━━━━━━━━━━━━━━━━━━━━\u001b[0m\u001b[37m\u001b[0m \u001b[1m6s\u001b[0m 24ms/step - accuracy: 0.9206 - loss: 0.2377 - val_accuracy: 0.8850 - val_loss: 0.3520\n",
      "Epoch 9/30\n",
      "\u001b[1m250/250\u001b[0m \u001b[32m━━━━━━━━━━━━━━━━━━━━\u001b[0m\u001b[37m\u001b[0m \u001b[1m6s\u001b[0m 24ms/step - accuracy: 0.9305 - loss: 0.2094 - val_accuracy: 0.8895 - val_loss: 0.3463\n",
      "Epoch 10/30\n",
      "\u001b[1m250/250\u001b[0m \u001b[32m━━━━━━━━━━━━━━━━━━━━\u001b[0m\u001b[37m\u001b[0m \u001b[1m6s\u001b[0m 25ms/step - accuracy: 0.9460 - loss: 0.1526 - val_accuracy: 0.8955 - val_loss: 0.3353\n",
      "Epoch 11/30\n",
      "\u001b[1m250/250\u001b[0m \u001b[32m━━━━━━━━━━━━━━━━━━━━\u001b[0m\u001b[37m\u001b[0m \u001b[1m6s\u001b[0m 25ms/step - accuracy: 0.9594 - loss: 0.1269 - val_accuracy: 0.8805 - val_loss: 0.3705\n",
      "Epoch 12/30\n",
      "\u001b[1m250/250\u001b[0m \u001b[32m━━━━━━━━━━━━━━━━━━━━\u001b[0m\u001b[37m\u001b[0m \u001b[1m6s\u001b[0m 25ms/step - accuracy: 0.9618 - loss: 0.1184 - val_accuracy: 0.8925 - val_loss: 0.3372\n",
      "Epoch 13/30\n",
      "\u001b[1m250/250\u001b[0m \u001b[32m━━━━━━━━━━━━━━━━━━━━\u001b[0m\u001b[37m\u001b[0m \u001b[1m6s\u001b[0m 25ms/step - accuracy: 0.9633 - loss: 0.1082 - val_accuracy: 0.9025 - val_loss: 0.3358\n",
      "Epoch 14/30\n",
      "\u001b[1m250/250\u001b[0m \u001b[32m━━━━━━━━━━━━━━━━━━━━\u001b[0m\u001b[37m\u001b[0m \u001b[1m6s\u001b[0m 25ms/step - accuracy: 0.9717 - loss: 0.0838 - val_accuracy: 0.9045 - val_loss: 0.3499\n",
      "Epoch 15/30\n",
      "\u001b[1m250/250\u001b[0m \u001b[32m━━━━━━━━━━━━━━━━━━━━\u001b[0m\u001b[37m\u001b[0m \u001b[1m6s\u001b[0m 25ms/step - accuracy: 0.9731 - loss: 0.0811 - val_accuracy: 0.8990 - val_loss: 0.3234\n",
      "Epoch 16/30\n",
      "\u001b[1m250/250\u001b[0m \u001b[32m━━━━━━━━━━━━━━━━━━━━\u001b[0m\u001b[37m\u001b[0m \u001b[1m6s\u001b[0m 25ms/step - accuracy: 0.9772 - loss: 0.0688 - val_accuracy: 0.8945 - val_loss: 0.3779\n",
      "Epoch 17/30\n",
      "\u001b[1m250/250\u001b[0m \u001b[32m━━━━━━━━━━━━━━━━━━━━\u001b[0m\u001b[37m\u001b[0m \u001b[1m6s\u001b[0m 25ms/step - accuracy: 0.9717 - loss: 0.0750 - val_accuracy: 0.9040 - val_loss: 0.3393\n",
      "Epoch 18/30\n",
      "\u001b[1m250/250\u001b[0m \u001b[32m━━━━━━━━━━━━━━━━━━━━\u001b[0m\u001b[37m\u001b[0m \u001b[1m7s\u001b[0m 27ms/step - accuracy: 0.9790 - loss: 0.0561 - val_accuracy: 0.9000 - val_loss: 0.3837\n",
      "Epoch 19/30\n",
      "\u001b[1m250/250\u001b[0m \u001b[32m━━━━━━━━━━━━━━━━━━━━\u001b[0m\u001b[37m\u001b[0m \u001b[1m6s\u001b[0m 26ms/step - accuracy: 0.9790 - loss: 0.0584 - val_accuracy: 0.9100 - val_loss: 0.3415\n",
      "Epoch 20/30\n",
      "\u001b[1m250/250\u001b[0m \u001b[32m━━━━━━━━━━━━━━━━━━━━\u001b[0m\u001b[37m\u001b[0m \u001b[1m6s\u001b[0m 26ms/step - accuracy: 0.9805 - loss: 0.0577 - val_accuracy: 0.9075 - val_loss: 0.3503\n",
      "Epoch 21/30\n",
      "\u001b[1m250/250\u001b[0m \u001b[32m━━━━━━━━━━━━━━━━━━━━\u001b[0m\u001b[37m\u001b[0m \u001b[1m6s\u001b[0m 25ms/step - accuracy: 0.9808 - loss: 0.0600 - val_accuracy: 0.8960 - val_loss: 0.4112\n",
      "Epoch 22/30\n",
      "\u001b[1m250/250\u001b[0m \u001b[32m━━━━━━━━━━━━━━━━━━━━\u001b[0m\u001b[37m\u001b[0m \u001b[1m6s\u001b[0m 26ms/step - accuracy: 0.9764 - loss: 0.0703 - val_accuracy: 0.9150 - val_loss: 0.3716\n",
      "Epoch 23/30\n",
      "\u001b[1m250/250\u001b[0m \u001b[32m━━━━━━━━━━━━━━━━━━━━\u001b[0m\u001b[37m\u001b[0m \u001b[1m7s\u001b[0m 26ms/step - accuracy: 0.9847 - loss: 0.0467 - val_accuracy: 0.9100 - val_loss: 0.3911\n",
      "Epoch 24/30\n",
      "\u001b[1m250/250\u001b[0m \u001b[32m━━━━━━━━━━━━━━━━━━━━\u001b[0m\u001b[37m\u001b[0m \u001b[1m6s\u001b[0m 26ms/step - accuracy: 0.9841 - loss: 0.0465 - val_accuracy: 0.9060 - val_loss: 0.3996\n",
      "Epoch 25/30\n",
      "\u001b[1m250/250\u001b[0m \u001b[32m━━━━━━━━━━━━━━━━━━━━\u001b[0m\u001b[37m\u001b[0m \u001b[1m6s\u001b[0m 25ms/step - accuracy: 0.9855 - loss: 0.0489 - val_accuracy: 0.8965 - val_loss: 0.4285\n",
      "Epoch 26/30\n",
      "\u001b[1m250/250\u001b[0m \u001b[32m━━━━━━━━━━━━━━━━━━━━\u001b[0m\u001b[37m\u001b[0m \u001b[1m7s\u001b[0m 26ms/step - accuracy: 0.9817 - loss: 0.0568 - val_accuracy: 0.9095 - val_loss: 0.3635\n",
      "Epoch 27/30\n",
      "\u001b[1m250/250\u001b[0m \u001b[32m━━━━━━━━━━━━━━━━━━━━\u001b[0m\u001b[37m\u001b[0m \u001b[1m7s\u001b[0m 26ms/step - accuracy: 0.9830 - loss: 0.0545 - val_accuracy: 0.9060 - val_loss: 0.4290\n",
      "Epoch 28/30\n",
      "\u001b[1m250/250\u001b[0m \u001b[32m━━━━━━━━━━━━━━━━━━━━\u001b[0m\u001b[37m\u001b[0m \u001b[1m7s\u001b[0m 26ms/step - accuracy: 0.9853 - loss: 0.0468 - val_accuracy: 0.9125 - val_loss: 0.3983\n",
      "Epoch 29/30\n",
      "\u001b[1m250/250\u001b[0m \u001b[32m━━━━━━━━━━━━━━━━━━━━\u001b[0m\u001b[37m\u001b[0m \u001b[1m7s\u001b[0m 26ms/step - accuracy: 0.9844 - loss: 0.0412 - val_accuracy: 0.9075 - val_loss: 0.3932\n",
      "Epoch 30/30\n",
      "\u001b[1m250/250\u001b[0m \u001b[32m━━━━━━━━━━━━━━━━━━━━\u001b[0m\u001b[37m\u001b[0m \u001b[1m7s\u001b[0m 26ms/step - accuracy: 0.9844 - loss: 0.0457 - val_accuracy: 0.9100 - val_loss: 0.3966\n"
     ]
    },
    {
     "data": {
      "text/plain": [
       "<keras.src.callbacks.history.History at 0x32ef22760>"
      ]
     },
     "execution_count": 8,
     "metadata": {},
     "output_type": "execute_result"
    }
   ],
   "source": [
    "# Train the CNN model\n",
    "cnn_model.fit(x_train, y_train_encoded, validation_data=(x_test, y_test_encoded), epochs=30, batch_size=32)\n"
   ]
  },
  {
   "cell_type": "markdown",
   "metadata": {},
   "source": [
    "### Training a Dense Neural Network"
   ]
  },
  {
   "cell_type": "code",
   "execution_count": 9,
   "metadata": {},
   "outputs": [
    {
     "data": {
      "text/html": [
       "<pre style=\"white-space:pre;overflow-x:auto;line-height:normal;font-family:Menlo,'DejaVu Sans Mono',consolas,'Courier New',monospace\"><span style=\"font-weight: bold\">Model: \"sequential_1\"</span>\n",
       "</pre>\n"
      ],
      "text/plain": [
       "\u001b[1mModel: \"sequential_1\"\u001b[0m\n"
      ]
     },
     "metadata": {},
     "output_type": "display_data"
    },
    {
     "data": {
      "text/html": [
       "<pre style=\"white-space:pre;overflow-x:auto;line-height:normal;font-family:Menlo,'DejaVu Sans Mono',consolas,'Courier New',monospace\">┏━━━━━━━━━━━━━━━━━━━━━━━━━━━━━━━━━┳━━━━━━━━━━━━━━━━━━━━━━━━┳━━━━━━━━━━━━━━━┓\n",
       "┃<span style=\"font-weight: bold\"> Layer (type)                    </span>┃<span style=\"font-weight: bold\"> Output Shape           </span>┃<span style=\"font-weight: bold\">       Param # </span>┃\n",
       "┡━━━━━━━━━━━━━━━━━━━━━━━━━━━━━━━━━╇━━━━━━━━━━━━━━━━━━━━━━━━╇━━━━━━━━━━━━━━━┩\n",
       "│ dense_2 (<span style=\"color: #0087ff; text-decoration-color: #0087ff\">Dense</span>)                 │ (<span style=\"color: #00d7ff; text-decoration-color: #00d7ff\">None</span>, <span style=\"color: #00af00; text-decoration-color: #00af00\">1024</span>)           │       <span style=\"color: #00af00; text-decoration-color: #00af00\">320,512</span> │\n",
       "├─────────────────────────────────┼────────────────────────┼───────────────┤\n",
       "│ batch_normalization             │ (<span style=\"color: #00d7ff; text-decoration-color: #00d7ff\">None</span>, <span style=\"color: #00af00; text-decoration-color: #00af00\">1024</span>)           │         <span style=\"color: #00af00; text-decoration-color: #00af00\">4,096</span> │\n",
       "│ (<span style=\"color: #0087ff; text-decoration-color: #0087ff\">BatchNormalization</span>)            │                        │               │\n",
       "├─────────────────────────────────┼────────────────────────┼───────────────┤\n",
       "│ dropout_1 (<span style=\"color: #0087ff; text-decoration-color: #0087ff\">Dropout</span>)             │ (<span style=\"color: #00d7ff; text-decoration-color: #00d7ff\">None</span>, <span style=\"color: #00af00; text-decoration-color: #00af00\">1024</span>)           │             <span style=\"color: #00af00; text-decoration-color: #00af00\">0</span> │\n",
       "├─────────────────────────────────┼────────────────────────┼───────────────┤\n",
       "│ dense_3 (<span style=\"color: #0087ff; text-decoration-color: #0087ff\">Dense</span>)                 │ (<span style=\"color: #00d7ff; text-decoration-color: #00d7ff\">None</span>, <span style=\"color: #00af00; text-decoration-color: #00af00\">512</span>)            │       <span style=\"color: #00af00; text-decoration-color: #00af00\">524,800</span> │\n",
       "├─────────────────────────────────┼────────────────────────┼───────────────┤\n",
       "│ batch_normalization_1           │ (<span style=\"color: #00d7ff; text-decoration-color: #00d7ff\">None</span>, <span style=\"color: #00af00; text-decoration-color: #00af00\">512</span>)            │         <span style=\"color: #00af00; text-decoration-color: #00af00\">2,048</span> │\n",
       "│ (<span style=\"color: #0087ff; text-decoration-color: #0087ff\">BatchNormalization</span>)            │                        │               │\n",
       "├─────────────────────────────────┼────────────────────────┼───────────────┤\n",
       "│ dropout_2 (<span style=\"color: #0087ff; text-decoration-color: #0087ff\">Dropout</span>)             │ (<span style=\"color: #00d7ff; text-decoration-color: #00d7ff\">None</span>, <span style=\"color: #00af00; text-decoration-color: #00af00\">512</span>)            │             <span style=\"color: #00af00; text-decoration-color: #00af00\">0</span> │\n",
       "├─────────────────────────────────┼────────────────────────┼───────────────┤\n",
       "│ dense_4 (<span style=\"color: #0087ff; text-decoration-color: #0087ff\">Dense</span>)                 │ (<span style=\"color: #00d7ff; text-decoration-color: #00d7ff\">None</span>, <span style=\"color: #00af00; text-decoration-color: #00af00\">256</span>)            │       <span style=\"color: #00af00; text-decoration-color: #00af00\">131,328</span> │\n",
       "├─────────────────────────────────┼────────────────────────┼───────────────┤\n",
       "│ batch_normalization_2           │ (<span style=\"color: #00d7ff; text-decoration-color: #00d7ff\">None</span>, <span style=\"color: #00af00; text-decoration-color: #00af00\">256</span>)            │         <span style=\"color: #00af00; text-decoration-color: #00af00\">1,024</span> │\n",
       "│ (<span style=\"color: #0087ff; text-decoration-color: #0087ff\">BatchNormalization</span>)            │                        │               │\n",
       "├─────────────────────────────────┼────────────────────────┼───────────────┤\n",
       "│ dropout_3 (<span style=\"color: #0087ff; text-decoration-color: #0087ff\">Dropout</span>)             │ (<span style=\"color: #00d7ff; text-decoration-color: #00d7ff\">None</span>, <span style=\"color: #00af00; text-decoration-color: #00af00\">256</span>)            │             <span style=\"color: #00af00; text-decoration-color: #00af00\">0</span> │\n",
       "├─────────────────────────────────┼────────────────────────┼───────────────┤\n",
       "│ dense_5 (<span style=\"color: #0087ff; text-decoration-color: #0087ff\">Dense</span>)                 │ (<span style=\"color: #00d7ff; text-decoration-color: #00d7ff\">None</span>, <span style=\"color: #00af00; text-decoration-color: #00af00\">128</span>)            │        <span style=\"color: #00af00; text-decoration-color: #00af00\">32,896</span> │\n",
       "├─────────────────────────────────┼────────────────────────┼───────────────┤\n",
       "│ batch_normalization_3           │ (<span style=\"color: #00d7ff; text-decoration-color: #00d7ff\">None</span>, <span style=\"color: #00af00; text-decoration-color: #00af00\">128</span>)            │           <span style=\"color: #00af00; text-decoration-color: #00af00\">512</span> │\n",
       "│ (<span style=\"color: #0087ff; text-decoration-color: #0087ff\">BatchNormalization</span>)            │                        │               │\n",
       "├─────────────────────────────────┼────────────────────────┼───────────────┤\n",
       "│ dense_6 (<span style=\"color: #0087ff; text-decoration-color: #0087ff\">Dense</span>)                 │ (<span style=\"color: #00d7ff; text-decoration-color: #00d7ff\">None</span>, <span style=\"color: #00af00; text-decoration-color: #00af00\">10</span>)             │         <span style=\"color: #00af00; text-decoration-color: #00af00\">1,290</span> │\n",
       "└─────────────────────────────────┴────────────────────────┴───────────────┘\n",
       "</pre>\n"
      ],
      "text/plain": [
       "┏━━━━━━━━━━━━━━━━━━━━━━━━━━━━━━━━━┳━━━━━━━━━━━━━━━━━━━━━━━━┳━━━━━━━━━━━━━━━┓\n",
       "┃\u001b[1m \u001b[0m\u001b[1mLayer (type)                   \u001b[0m\u001b[1m \u001b[0m┃\u001b[1m \u001b[0m\u001b[1mOutput Shape          \u001b[0m\u001b[1m \u001b[0m┃\u001b[1m \u001b[0m\u001b[1m      Param #\u001b[0m\u001b[1m \u001b[0m┃\n",
       "┡━━━━━━━━━━━━━━━━━━━━━━━━━━━━━━━━━╇━━━━━━━━━━━━━━━━━━━━━━━━╇━━━━━━━━━━━━━━━┩\n",
       "│ dense_2 (\u001b[38;5;33mDense\u001b[0m)                 │ (\u001b[38;5;45mNone\u001b[0m, \u001b[38;5;34m1024\u001b[0m)           │       \u001b[38;5;34m320,512\u001b[0m │\n",
       "├─────────────────────────────────┼────────────────────────┼───────────────┤\n",
       "│ batch_normalization             │ (\u001b[38;5;45mNone\u001b[0m, \u001b[38;5;34m1024\u001b[0m)           │         \u001b[38;5;34m4,096\u001b[0m │\n",
       "│ (\u001b[38;5;33mBatchNormalization\u001b[0m)            │                        │               │\n",
       "├─────────────────────────────────┼────────────────────────┼───────────────┤\n",
       "│ dropout_1 (\u001b[38;5;33mDropout\u001b[0m)             │ (\u001b[38;5;45mNone\u001b[0m, \u001b[38;5;34m1024\u001b[0m)           │             \u001b[38;5;34m0\u001b[0m │\n",
       "├─────────────────────────────────┼────────────────────────┼───────────────┤\n",
       "│ dense_3 (\u001b[38;5;33mDense\u001b[0m)                 │ (\u001b[38;5;45mNone\u001b[0m, \u001b[38;5;34m512\u001b[0m)            │       \u001b[38;5;34m524,800\u001b[0m │\n",
       "├─────────────────────────────────┼────────────────────────┼───────────────┤\n",
       "│ batch_normalization_1           │ (\u001b[38;5;45mNone\u001b[0m, \u001b[38;5;34m512\u001b[0m)            │         \u001b[38;5;34m2,048\u001b[0m │\n",
       "│ (\u001b[38;5;33mBatchNormalization\u001b[0m)            │                        │               │\n",
       "├─────────────────────────────────┼────────────────────────┼───────────────┤\n",
       "│ dropout_2 (\u001b[38;5;33mDropout\u001b[0m)             │ (\u001b[38;5;45mNone\u001b[0m, \u001b[38;5;34m512\u001b[0m)            │             \u001b[38;5;34m0\u001b[0m │\n",
       "├─────────────────────────────────┼────────────────────────┼───────────────┤\n",
       "│ dense_4 (\u001b[38;5;33mDense\u001b[0m)                 │ (\u001b[38;5;45mNone\u001b[0m, \u001b[38;5;34m256\u001b[0m)            │       \u001b[38;5;34m131,328\u001b[0m │\n",
       "├─────────────────────────────────┼────────────────────────┼───────────────┤\n",
       "│ batch_normalization_2           │ (\u001b[38;5;45mNone\u001b[0m, \u001b[38;5;34m256\u001b[0m)            │         \u001b[38;5;34m1,024\u001b[0m │\n",
       "│ (\u001b[38;5;33mBatchNormalization\u001b[0m)            │                        │               │\n",
       "├─────────────────────────────────┼────────────────────────┼───────────────┤\n",
       "│ dropout_3 (\u001b[38;5;33mDropout\u001b[0m)             │ (\u001b[38;5;45mNone\u001b[0m, \u001b[38;5;34m256\u001b[0m)            │             \u001b[38;5;34m0\u001b[0m │\n",
       "├─────────────────────────────────┼────────────────────────┼───────────────┤\n",
       "│ dense_5 (\u001b[38;5;33mDense\u001b[0m)                 │ (\u001b[38;5;45mNone\u001b[0m, \u001b[38;5;34m128\u001b[0m)            │        \u001b[38;5;34m32,896\u001b[0m │\n",
       "├─────────────────────────────────┼────────────────────────┼───────────────┤\n",
       "│ batch_normalization_3           │ (\u001b[38;5;45mNone\u001b[0m, \u001b[38;5;34m128\u001b[0m)            │           \u001b[38;5;34m512\u001b[0m │\n",
       "│ (\u001b[38;5;33mBatchNormalization\u001b[0m)            │                        │               │\n",
       "├─────────────────────────────────┼────────────────────────┼───────────────┤\n",
       "│ dense_6 (\u001b[38;5;33mDense\u001b[0m)                 │ (\u001b[38;5;45mNone\u001b[0m, \u001b[38;5;34m10\u001b[0m)             │         \u001b[38;5;34m1,290\u001b[0m │\n",
       "└─────────────────────────────────┴────────────────────────┴───────────────┘\n"
      ]
     },
     "metadata": {},
     "output_type": "display_data"
    },
    {
     "data": {
      "text/html": [
       "<pre style=\"white-space:pre;overflow-x:auto;line-height:normal;font-family:Menlo,'DejaVu Sans Mono',consolas,'Courier New',monospace\"><span style=\"font-weight: bold\"> Total params: </span><span style=\"color: #00af00; text-decoration-color: #00af00\">1,018,506</span> (3.89 MB)\n",
       "</pre>\n"
      ],
      "text/plain": [
       "\u001b[1m Total params: \u001b[0m\u001b[38;5;34m1,018,506\u001b[0m (3.89 MB)\n"
      ]
     },
     "metadata": {},
     "output_type": "display_data"
    },
    {
     "data": {
      "text/html": [
       "<pre style=\"white-space:pre;overflow-x:auto;line-height:normal;font-family:Menlo,'DejaVu Sans Mono',consolas,'Courier New',monospace\"><span style=\"font-weight: bold\"> Trainable params: </span><span style=\"color: #00af00; text-decoration-color: #00af00\">1,014,666</span> (3.87 MB)\n",
       "</pre>\n"
      ],
      "text/plain": [
       "\u001b[1m Trainable params: \u001b[0m\u001b[38;5;34m1,014,666\u001b[0m (3.87 MB)\n"
      ]
     },
     "metadata": {},
     "output_type": "display_data"
    },
    {
     "data": {
      "text/html": [
       "<pre style=\"white-space:pre;overflow-x:auto;line-height:normal;font-family:Menlo,'DejaVu Sans Mono',consolas,'Courier New',monospace\"><span style=\"font-weight: bold\"> Non-trainable params: </span><span style=\"color: #00af00; text-decoration-color: #00af00\">3,840</span> (15.00 KB)\n",
       "</pre>\n"
      ],
      "text/plain": [
       "\u001b[1m Non-trainable params: \u001b[0m\u001b[38;5;34m3,840\u001b[0m (15.00 KB)\n"
      ]
     },
     "metadata": {},
     "output_type": "display_data"
    }
   ],
   "source": [
    "import tensorflow as tf\n",
    "# Define an enhanced MLP architecture with better regularization and optimization\n",
    "def create_mlp(input_shape, num_classes):\n",
    "    model = Sequential([\n",
    "        layers.Input(shape=input_shape),\n",
    "        \n",
    "        # Hidden layers with batch norm and dropout\n",
    "        layers.Dense(1024, activation='relu', kernel_initializer='he_normal'),\n",
    "        layers.BatchNormalization(),\n",
    "        layers.Dropout(0.5),\n",
    "        \n",
    "        layers.Dense(512, activation='relu', kernel_initializer='he_normal'),\n",
    "        layers.BatchNormalization(),\n",
    "        layers.Dropout(0.4),\n",
    "        \n",
    "        layers.Dense(256, activation='relu', kernel_initializer='he_normal'),\n",
    "        layers.BatchNormalization(),\n",
    "        layers.Dropout(0.3),\n",
    "        \n",
    "        # Additional hidden layer\n",
    "        layers.Dense(128, activation='relu', kernel_initializer='he_normal'),\n",
    "        layers.BatchNormalization(),\n",
    "        \n",
    "        # Output layer\n",
    "        layers.Dense(num_classes, activation='softmax')\n",
    "    ])\n",
    "\n",
    "    \n",
    "    model.compile(\n",
    "        optimizer=\"Adam\",\n",
    "        loss='categorical_crossentropy',\n",
    "        metrics=['accuracy'])\n",
    "    return model\n",
    "\n",
    "mlp_model = create_mlp((x_train.shape[1],), len(genres))\n",
    "mlp_model.summary()"
   ]
  },
  {
   "cell_type": "code",
   "execution_count": 10,
   "metadata": {},
   "outputs": [
    {
     "name": "stdout",
     "output_type": "stream",
     "text": [
      "Epoch 1/30\n",
      "\u001b[1m63/63\u001b[0m \u001b[32m━━━━━━━━━━━━━━━━━━━━\u001b[0m\u001b[37m\u001b[0m \u001b[1m2s\u001b[0m 14ms/step - accuracy: 0.3575 - loss: 1.9346 - val_accuracy: 0.3415 - val_loss: 1.7997 - learning_rate: 0.0010\n",
      "Epoch 2/30\n",
      "\u001b[1m63/63\u001b[0m \u001b[32m━━━━━━━━━━━━━━━━━━━━\u001b[0m\u001b[37m\u001b[0m \u001b[1m1s\u001b[0m 13ms/step - accuracy: 0.6126 - loss: 1.0973 - val_accuracy: 0.3675 - val_loss: 1.8575 - learning_rate: 0.0010\n",
      "Epoch 3/30\n",
      "\u001b[1m63/63\u001b[0m \u001b[32m━━━━━━━━━━━━━━━━━━━━\u001b[0m\u001b[37m\u001b[0m \u001b[1m1s\u001b[0m 13ms/step - accuracy: 0.6786 - loss: 0.9113 - val_accuracy: 0.3510 - val_loss: 1.7283 - learning_rate: 0.0010\n",
      "Epoch 4/30\n",
      "\u001b[1m63/63\u001b[0m \u001b[32m━━━━━━━━━━━━━━━━━━━━\u001b[0m\u001b[37m\u001b[0m \u001b[1m1s\u001b[0m 14ms/step - accuracy: 0.7212 - loss: 0.7773 - val_accuracy: 0.4700 - val_loss: 1.4217 - learning_rate: 0.0010\n",
      "Epoch 5/30\n",
      "\u001b[1m63/63\u001b[0m \u001b[32m━━━━━━━━━━━━━━━━━━━━\u001b[0m\u001b[37m\u001b[0m \u001b[1m1s\u001b[0m 13ms/step - accuracy: 0.7533 - loss: 0.7127 - val_accuracy: 0.6300 - val_loss: 0.9699 - learning_rate: 0.0010\n",
      "Epoch 6/30\n",
      "\u001b[1m63/63\u001b[0m \u001b[32m━━━━━━━━━━━━━━━━━━━━\u001b[0m\u001b[37m\u001b[0m \u001b[1m1s\u001b[0m 14ms/step - accuracy: 0.7894 - loss: 0.6360 - val_accuracy: 0.6820 - val_loss: 0.8865 - learning_rate: 0.0010\n",
      "Epoch 7/30\n",
      "\u001b[1m63/63\u001b[0m \u001b[32m━━━━━━━━━━━━━━━━━━━━\u001b[0m\u001b[37m\u001b[0m \u001b[1m1s\u001b[0m 12ms/step - accuracy: 0.7813 - loss: 0.6138 - val_accuracy: 0.7800 - val_loss: 0.6307 - learning_rate: 0.0010\n",
      "Epoch 8/30\n",
      "\u001b[1m63/63\u001b[0m \u001b[32m━━━━━━━━━━━━━━━━━━━━\u001b[0m\u001b[37m\u001b[0m \u001b[1m1s\u001b[0m 12ms/step - accuracy: 0.8074 - loss: 0.5687 - val_accuracy: 0.8265 - val_loss: 0.5054 - learning_rate: 0.0010\n",
      "Epoch 9/30\n",
      "\u001b[1m63/63\u001b[0m \u001b[32m━━━━━━━━━━━━━━━━━━━━\u001b[0m\u001b[37m\u001b[0m \u001b[1m1s\u001b[0m 13ms/step - accuracy: 0.8202 - loss: 0.5167 - val_accuracy: 0.8315 - val_loss: 0.4845 - learning_rate: 0.0010\n",
      "Epoch 10/30\n",
      "\u001b[1m63/63\u001b[0m \u001b[32m━━━━━━━━━━━━━━━━━━━━\u001b[0m\u001b[37m\u001b[0m \u001b[1m1s\u001b[0m 12ms/step - accuracy: 0.8349 - loss: 0.4804 - val_accuracy: 0.8545 - val_loss: 0.4201 - learning_rate: 0.0010\n",
      "Epoch 11/30\n",
      "\u001b[1m63/63\u001b[0m \u001b[32m━━━━━━━━━━━━━━━━━━━━\u001b[0m\u001b[37m\u001b[0m \u001b[1m1s\u001b[0m 12ms/step - accuracy: 0.8504 - loss: 0.4344 - val_accuracy: 0.8425 - val_loss: 0.4844 - learning_rate: 0.0010\n",
      "Epoch 12/30\n",
      "\u001b[1m63/63\u001b[0m \u001b[32m━━━━━━━━━━━━━━━━━━━━\u001b[0m\u001b[37m\u001b[0m \u001b[1m1s\u001b[0m 14ms/step - accuracy: 0.8441 - loss: 0.4283 - val_accuracy: 0.8670 - val_loss: 0.4079 - learning_rate: 0.0010\n",
      "Epoch 13/30\n",
      "\u001b[1m63/63\u001b[0m \u001b[32m━━━━━━━━━━━━━━━━━━━━\u001b[0m\u001b[37m\u001b[0m \u001b[1m1s\u001b[0m 14ms/step - accuracy: 0.8551 - loss: 0.4077 - val_accuracy: 0.8700 - val_loss: 0.3889 - learning_rate: 0.0010\n",
      "Epoch 14/30\n",
      "\u001b[1m63/63\u001b[0m \u001b[32m━━━━━━━━━━━━━━━━━━━━\u001b[0m\u001b[37m\u001b[0m \u001b[1m1s\u001b[0m 14ms/step - accuracy: 0.8588 - loss: 0.3974 - val_accuracy: 0.8370 - val_loss: 0.5080 - learning_rate: 0.0010\n",
      "Epoch 15/30\n",
      "\u001b[1m63/63\u001b[0m \u001b[32m━━━━━━━━━━━━━━━━━━━━\u001b[0m\u001b[37m\u001b[0m \u001b[1m1s\u001b[0m 13ms/step - accuracy: 0.8792 - loss: 0.3510 - val_accuracy: 0.8750 - val_loss: 0.3667 - learning_rate: 0.0010\n",
      "Epoch 16/30\n",
      "\u001b[1m63/63\u001b[0m \u001b[32m━━━━━━━━━━━━━━━━━━━━\u001b[0m\u001b[37m\u001b[0m \u001b[1m1s\u001b[0m 14ms/step - accuracy: 0.8717 - loss: 0.3459 - val_accuracy: 0.8700 - val_loss: 0.4038 - learning_rate: 0.0010\n",
      "Epoch 17/30\n",
      "\u001b[1m63/63\u001b[0m \u001b[32m━━━━━━━━━━━━━━━━━━━━\u001b[0m\u001b[37m\u001b[0m \u001b[1m1s\u001b[0m 14ms/step - accuracy: 0.8858 - loss: 0.3280 - val_accuracy: 0.8650 - val_loss: 0.4230 - learning_rate: 0.0010\n",
      "Epoch 18/30\n",
      "\u001b[1m63/63\u001b[0m \u001b[32m━━━━━━━━━━━━━━━━━━━━\u001b[0m\u001b[37m\u001b[0m \u001b[1m1s\u001b[0m 13ms/step - accuracy: 0.8887 - loss: 0.3105 - val_accuracy: 0.8695 - val_loss: 0.3953 - learning_rate: 0.0010\n",
      "Epoch 19/30\n",
      "\u001b[1m63/63\u001b[0m \u001b[32m━━━━━━━━━━━━━━━━━━━━\u001b[0m\u001b[37m\u001b[0m \u001b[1m1s\u001b[0m 14ms/step - accuracy: 0.8879 - loss: 0.3220 - val_accuracy: 0.9045 - val_loss: 0.3034 - learning_rate: 0.0010\n",
      "Epoch 20/30\n",
      "\u001b[1m63/63\u001b[0m \u001b[32m━━━━━━━━━━━━━━━━━━━━\u001b[0m\u001b[37m\u001b[0m \u001b[1m1s\u001b[0m 14ms/step - accuracy: 0.8938 - loss: 0.3008 - val_accuracy: 0.8825 - val_loss: 0.3629 - learning_rate: 0.0010\n",
      "Epoch 21/30\n",
      "\u001b[1m63/63\u001b[0m \u001b[32m━━━━━━━━━━━━━━━━━━━━\u001b[0m\u001b[37m\u001b[0m \u001b[1m1s\u001b[0m 15ms/step - accuracy: 0.8978 - loss: 0.2855 - val_accuracy: 0.8830 - val_loss: 0.3436 - learning_rate: 0.0010\n",
      "Epoch 22/30\n",
      "\u001b[1m63/63\u001b[0m \u001b[32m━━━━━━━━━━━━━━━━━━━━\u001b[0m\u001b[37m\u001b[0m \u001b[1m1s\u001b[0m 14ms/step - accuracy: 0.9055 - loss: 0.2810 - val_accuracy: 0.8835 - val_loss: 0.3574 - learning_rate: 0.0010\n",
      "Epoch 23/30\n",
      "\u001b[1m63/63\u001b[0m \u001b[32m━━━━━━━━━━━━━━━━━━━━\u001b[0m\u001b[37m\u001b[0m \u001b[1m1s\u001b[0m 15ms/step - accuracy: 0.9095 - loss: 0.2580 - val_accuracy: 0.9060 - val_loss: 0.2790 - learning_rate: 0.0010\n",
      "Epoch 24/30\n",
      "\u001b[1m63/63\u001b[0m \u001b[32m━━━━━━━━━━━━━━━━━━━━\u001b[0m\u001b[37m\u001b[0m \u001b[1m1s\u001b[0m 15ms/step - accuracy: 0.9025 - loss: 0.2745 - val_accuracy: 0.9025 - val_loss: 0.3018 - learning_rate: 0.0010\n",
      "Epoch 25/30\n",
      "\u001b[1m63/63\u001b[0m \u001b[32m━━━━━━━━━━━━━━━━━━━━\u001b[0m\u001b[37m\u001b[0m \u001b[1m1s\u001b[0m 15ms/step - accuracy: 0.9240 - loss: 0.2196 - val_accuracy: 0.8975 - val_loss: 0.3240 - learning_rate: 0.0010\n",
      "Epoch 26/30\n",
      "\u001b[1m63/63\u001b[0m \u001b[32m━━━━━━━━━━━━━━━━━━━━\u001b[0m\u001b[37m\u001b[0m \u001b[1m1s\u001b[0m 14ms/step - accuracy: 0.9145 - loss: 0.2355 - val_accuracy: 0.9095 - val_loss: 0.2709 - learning_rate: 0.0010\n",
      "Epoch 27/30\n",
      "\u001b[1m63/63\u001b[0m \u001b[32m━━━━━━━━━━━━━━━━━━━━\u001b[0m\u001b[37m\u001b[0m \u001b[1m1s\u001b[0m 13ms/step - accuracy: 0.9275 - loss: 0.2113 - val_accuracy: 0.9130 - val_loss: 0.2797 - learning_rate: 0.0010\n",
      "Epoch 28/30\n",
      "\u001b[1m63/63\u001b[0m \u001b[32m━━━━━━━━━━━━━━━━━━━━\u001b[0m\u001b[37m\u001b[0m \u001b[1m1s\u001b[0m 14ms/step - accuracy: 0.9128 - loss: 0.2296 - val_accuracy: 0.9155 - val_loss: 0.2552 - learning_rate: 0.0010\n",
      "Epoch 29/30\n",
      "\u001b[1m63/63\u001b[0m \u001b[32m━━━━━━━━━━━━━━━━━━━━\u001b[0m\u001b[37m\u001b[0m \u001b[1m1s\u001b[0m 14ms/step - accuracy: 0.9137 - loss: 0.2251 - val_accuracy: 0.9120 - val_loss: 0.2626 - learning_rate: 0.0010\n",
      "Epoch 30/30\n",
      "\u001b[1m63/63\u001b[0m \u001b[32m━━━━━━━━━━━━━━━━━━━━\u001b[0m\u001b[37m\u001b[0m \u001b[1m1s\u001b[0m 12ms/step - accuracy: 0.9234 - loss: 0.2232 - val_accuracy: 0.9190 - val_loss: 0.2699 - learning_rate: 0.0010\n"
     ]
    },
    {
     "data": {
      "text/plain": [
       "<keras.src.callbacks.history.History at 0x10804d880>"
      ]
     },
     "execution_count": 10,
     "metadata": {},
     "output_type": "execute_result"
    }
   ],
   "source": [
    "from keras.callbacks import EarlyStopping, ReduceLROnPlateau\n",
    "# Add callbacks for better training\n",
    "mlp_callbacks = [\n",
    "    EarlyStopping(monitor='val_loss', patience=15, restore_best_weights=True),\n",
    "    ReduceLROnPlateau(monitor='val_loss', factor=0.5, patience=5, min_lr=1e-6),\n",
    "]\n",
    "\n",
    "mlp_model.fit(\n",
    "    x_train, y_train_encoded,\n",
    "    validation_data=(x_test, y_test_encoded),\n",
    "    epochs=30,\n",
    "    batch_size=128,  # Larger batch size\n",
    "    callbacks=mlp_callbacks,\n",
    ")"
   ]
  },
  {
   "cell_type": "code",
   "execution_count": 11,
   "metadata": {},
   "outputs": [
    {
     "name": "stdout",
     "output_type": "stream",
     "text": [
      "\u001b[1m63/63\u001b[0m \u001b[32m━━━━━━━━━━━━━━━━━━━━\u001b[0m\u001b[37m\u001b[0m \u001b[1m0s\u001b[0m 2ms/step\n",
      "Accuracy (CNN): 0.915\n"
     ]
    }
   ],
   "source": [
    "y_pred_cnn = mlp_model.predict(x_test)\n",
    "y_pred_cnn = np.argmax(y_pred_cnn, axis=1)\n",
    "accuracy_cnn = accuracy_score(y_test, y_pred_cnn)\n",
    "print(f\"Accuracy (CNN): {accuracy_cnn:.3f}\")"
   ]
  },
  {
   "cell_type": "markdown",
   "metadata": {},
   "source": [
    "### Cell 10 - XGBoost model "
   ]
  },
  {
   "cell_type": "code",
   "execution_count": 12,
   "metadata": {},
   "outputs": [],
   "source": [
    "xgb_model = xgb.XGBClassifier(n_estimators=1000, learning_rate=0.05)\n",
    "xgb_model.fit(x_train, y_train)\n",
    "y_pred_xgb = xgb_model.predict(x_test)"
   ]
  },
  {
   "cell_type": "markdown",
   "metadata": {},
   "source": [
    "### Random forest model"
   ]
  },
  {
   "cell_type": "code",
   "execution_count": 13,
   "metadata": {},
   "outputs": [
    {
     "name": "stdout",
     "output_type": "stream",
     "text": [
      "Accuracy: 0.894\n"
     ]
    }
   ],
   "source": [
    "# Initialize the Random Forest Classifier\n",
    "rf_model = RandomForestClassifier(\n",
    "    n_estimators=100,\n",
    "    max_depth=None,\n",
    "    min_samples_split=2,\n",
    "    min_samples_leaf=1,\n",
    "    random_state=42\n",
    ")\n",
    "\n",
    "# Train the model\n",
    "rf_model.fit(x_train, y_train)\n",
    "\n",
    "# Make predictions on the test set\n",
    "y_pred_rf = rf_model.predict(x_test)\n",
    "\n",
    "# Evaluate the model\n",
    "accuracy_rf = accuracy_score(y_test, y_pred_rf)\n",
    "print(f\"Accuracy: {accuracy_rf:.3f}\")"
   ]
  },
  {
   "cell_type": "code",
   "execution_count": 14,
   "metadata": {},
   "outputs": [
    {
     "name": "stdout",
     "output_type": "stream",
     "text": [
      "Accuracy: 0.894\n"
     ]
    }
   ],
   "source": [
    "# Initialize the Random Forest Classifier\n",
    "rf_model = RandomForestClassifier(\n",
    "    n_estimators=100,\n",
    "    max_depth=None,\n",
    "    min_samples_split=2,\n",
    "    min_samples_leaf=1,\n",
    "    random_state=42\n",
    ")\n",
    "\n",
    "# Train the model\n",
    "rf_model.fit(x_train, y_train)\n",
    "\n",
    "# Make predictions on the test set\n",
    "y_pred_rf = rf_model.predict(x_test)\n",
    "\n",
    "# Evaluate the model\n",
    "accuracy_rf = accuracy_score(y_test, y_pred_rf)\n",
    "print(f\"Accuracy: {accuracy_rf:.3f}\")"
   ]
  },
  {
   "cell_type": "markdown",
   "metadata": {},
   "source": [
    "### Cell 11 - Evaluate models"
   ]
  },
  {
   "cell_type": "code",
   "execution_count": 15,
   "metadata": {},
   "outputs": [
    {
     "name": "stdout",
     "output_type": "stream",
     "text": [
      "\u001b[1m63/63\u001b[0m \u001b[32m━━━━━━━━━━━━━━━━━━━━\u001b[0m\u001b[37m\u001b[0m \u001b[1m1s\u001b[0m 10ms/step\n",
      "\u001b[1m63/63\u001b[0m \u001b[32m━━━━━━━━━━━━━━━━━━━━\u001b[0m\u001b[37m\u001b[0m \u001b[1m0s\u001b[0m 2ms/step\n",
      "Accuracy (CNN): 0.910\n",
      "Accuracy (DNN): 0.915\n",
      "Accuracy (SVM): 0.923\n",
      "Accuracy (RFC): 0.894\n",
      "Accuracy (XGB): 0.950\n"
     ]
    }
   ],
   "source": [
    "# Predict using the CNN model\n",
    "y_pred_cnn = cnn_model.predict(x_test)\n",
    "y_pred_cnn = np.argmax(y_pred_cnn, axis=1)\n",
    "y_pred_mlp = mlp_model.predict(x_test)\n",
    "y_pred_mlp = np.argmax(y_pred_mlp, axis=1)\n",
    "\n",
    "# Calculate accuracy\n",
    "accuracy_cnn = accuracy_score(y_test, y_pred_cnn)\n",
    "print(f\"Accuracy (CNN): {accuracy_cnn:.3f}\")\n",
    "\n",
    "accuracy_mlp = accuracy_score(y_test, y_pred_mlp)\n",
    "print(f\"Accuracy (DNN): {accuracy_mlp:.3f}\")\n",
    "\n",
    "accuracy_svm = accuracy_score(y_test, y_pred_svm)\n",
    "print(f\"Accuracy (SVM): {accuracy_svm:.3f}\")\n",
    "\n",
    "accuracy_rf = accuracy_score(y_test, y_pred_rf)\n",
    "print(f\"Accuracy (RFC): {accuracy_rf:.3f}\")\n",
    "\n",
    "xgb_accuracy = accuracy_score(y_test, y_pred_xgb)\n",
    "print(f\"Accuracy (XGB): {xgb_accuracy:.3f}\")\n"
   ]
  },
  {
   "cell_type": "markdown",
   "metadata": {},
   "source": [
    "### Cell 12 - Creating an ensemble using soft voting"
   ]
  },
  {
   "cell_type": "code",
   "execution_count": 16,
   "metadata": {},
   "outputs": [
    {
     "name": "stdout",
     "output_type": "stream",
     "text": [
      "\u001b[1m63/63\u001b[0m \u001b[32m━━━━━━━━━━━━━━━━━━━━\u001b[0m\u001b[37m\u001b[0m \u001b[1m1s\u001b[0m 9ms/step\n",
      "\u001b[1m63/63\u001b[0m \u001b[32m━━━━━━━━━━━━━━━━━━━━\u001b[0m\u001b[37m\u001b[0m \u001b[1m0s\u001b[0m 2ms/step\n",
      "Ensemble Accuracy: 0.955\n"
     ]
    }
   ],
   "source": [
    "# Get predictions from each model\n",
    "xgb_preds_proba = xgb_model.predict_proba(x_test)\n",
    "rf_preds_proba = rf_model.predict_proba(x_test)\n",
    "svm_preds_proba = svm_model.predict_proba(X_test_scaled)\n",
    "cnn_preds_proba = cnn_model.predict(x_test)\n",
    "mlp_preds_proba = mlp_model.predict(x_test)\n",
    "\n",
    "# Average the predictions (soft voting)\n",
    "avg_preds_proba = (xgb_preds_proba + svm_preds_proba + cnn_preds_proba +  rf_preds_proba + mlp_preds_proba) / 5\n",
    "\n",
    "# Convert probabilities to class predictions\n",
    "ensemble_preds = np.argmax(avg_preds_proba, axis=1)\n",
    "\n",
    "# Evaluate the ensemble performance\n",
    "soft_ensemble_accuracy = accuracy_score(y_test, ensemble_preds)\n",
    "print(f\"Ensemble Accuracy: {soft_ensemble_accuracy:.3f}\")\n"
   ]
  },
  {
   "cell_type": "code",
   "execution_count": 17,
   "metadata": {},
   "outputs": [
    {
     "name": "stdout",
     "output_type": "stream",
     "text": [
      "[6 4 1 ... 2 1 5]\n",
      "[6 4 1 ... 7 1 5]\n"
     ]
    }
   ],
   "source": [
    "print(y_pred_svm)\n",
    "print(y_pred_cnn)"
   ]
  },
  {
   "cell_type": "code",
   "execution_count": 18,
   "metadata": {},
   "outputs": [
    {
     "name": "stdout",
     "output_type": "stream",
     "text": [
      "The predictions before averaging (2000, 10)\n",
      "The predictions after averaging (2000,)\n"
     ]
    }
   ],
   "source": [
    "print(\"The predictions before averaging\", avg_preds_proba.shape)\n",
    "print(\"The predictions after averaging\", ensemble_preds.shape)"
   ]
  },
  {
   "cell_type": "markdown",
   "metadata": {},
   "source": [
    "### Cell 13 - Creating an ensemble using hard voting"
   ]
  },
  {
   "cell_type": "code",
   "execution_count": 19,
   "metadata": {},
   "outputs": [
    {
     "name": "stdout",
     "output_type": "stream",
     "text": [
      "\u001b[1m63/63\u001b[0m \u001b[32m━━━━━━━━━━━━━━━━━━━━\u001b[0m\u001b[37m\u001b[0m \u001b[1m1s\u001b[0m 9ms/step\n",
      "\u001b[1m63/63\u001b[0m \u001b[32m━━━━━━━━━━━━━━━━━━━━\u001b[0m\u001b[37m\u001b[0m \u001b[1m0s\u001b[0m 2ms/step\n",
      "Hard Voting Ensemble Accuracy: 0.951\n"
     ]
    }
   ],
   "source": [
    "from scipy.stats import mode\n",
    "from sklearn.metrics import accuracy_score\n",
    "import numpy as np\n",
    "\n",
    "# Step 1: Get class predictions from each model\n",
    "xgb_preds = xgb_model.predict(x_test)  # Class labels\n",
    "rf_preds = rf_model.predict(x_test)\n",
    "svm_preds = svm_model.predict(X_test_scaled)\n",
    "cnn_preds = np.argmax(cnn_model.predict(x_test), axis=1)  # Convert CNN probs to class labels\n",
    "mlp_preds = np.argmax(mlp_model.predict(x_test), axis=1)  # Convert DNN probs to class labels\n",
    "\n",
    "\n",
    "# Step 2: Stack predictions\n",
    "all_preds = np.array([xgb_preds, svm_preds, cnn_preds, rf_preds + mlp_preds])  # Shape: (3, num_samples)\n",
    "\n",
    "# Step 3: Perform majority voting (hard voting)\n",
    "ensemble_preds, _ = mode(all_preds, axis=0, keepdims=True)  # Get most common class per sample\n",
    "ensemble_preds = ensemble_preds.flatten()  # Convert to 1D array\n",
    "\n",
    "# Step 4: Evaluate accuracy\n",
    "hard_ensemble_accuracy = accuracy_score(y_test, ensemble_preds)\n",
    "print(f\"Hard Voting Ensemble Accuracy: {hard_ensemble_accuracy:.3f}\")\n"
   ]
  },
  {
   "cell_type": "code",
   "execution_count": 20,
   "metadata": {},
   "outputs": [
    {
     "name": "stdout",
     "output_type": "stream",
     "text": [
      "Number of samples where all 5 models agree: 1596/2000\n",
      "XGBoost vs Random Forest: 1814/2000 (90.7% agreement)\n",
      "XGBoost vs SVM: 1834/2000 (91.7% agreement)\n",
      "XGBoost vs CNN: 1816/2000 (90.8% agreement)\n",
      "XGBoost vs MLP: 1816/2000 (90.8% agreement)\n",
      "Random Forest vs SVM: 1762/2000 (88.1% agreement)\n",
      "Random Forest vs CNN: 1737/2000 (86.9% agreement)\n",
      "Random Forest vs MLP: 1746/2000 (87.3% agreement)\n",
      "SVM vs CNN: 1788/2000 (89.4% agreement)\n",
      "SVM vs MLP: 1831/2000 (91.5% agreement)\n",
      "CNN vs MLP: 1776/2000 (88.8% agreement)\n"
     ]
    }
   ],
   "source": [
    "from itertools import combinations\n",
    "# Stack all predictions into a 2D array (5 models × 1998 samples)\n",
    "all_preds = np.vstack([xgb_preds, rf_preds, svm_preds, cnn_preds, mlp_preds])\n",
    "full_consensus_mask = np.all(all_preds == all_preds[0, :], axis=0)  # Compare all rows to 1st row (XGB)\n",
    "num_full_consensus = np.sum(full_consensus_mask)\n",
    "print(f\"Number of samples where all 5 models agree: {num_full_consensus}/{len(x_test)}\")\n",
    "\n",
    "models = ['XGBoost', 'Random Forest', 'SVM', 'CNN', 'MLP']\n",
    "preds_list = [xgb_preds, rf_preds, svm_preds, cnn_preds, mlp_preds]\n",
    "\n",
    "# Compare every pair of models\n",
    "for (i, name1), (j, name2) in combinations(zip(range(5), models), 2):\n",
    "    matches = np.sum(preds_list[i] == preds_list[j])\n",
    "    print(f\"{name1} vs {name2}: {matches}/{len(x_test)} ({matches/len(x_test):.1%} agreement)\")"
   ]
  },
  {
   "cell_type": "code",
   "execution_count": 21,
   "metadata": {},
   "outputs": [
    {
     "name": "stdout",
     "output_type": "stream",
     "text": [
      "The predictions before averaging (5, 2000)\n",
      "The predictions after averaging (2000,)\n"
     ]
    }
   ],
   "source": [
    "print(\"The predictions before averaging\", all_preds.shape)\n",
    "print(\"The predictions after averaging\", ensemble_preds.shape)"
   ]
  },
  {
   "cell_type": "markdown",
   "metadata": {},
   "source": [
    "### Weighted voting"
   ]
  },
  {
   "cell_type": "code",
   "execution_count": 22,
   "metadata": {},
   "outputs": [
    {
     "name": "stdout",
     "output_type": "stream",
     "text": [
      "\u001b[1m63/63\u001b[0m \u001b[32m━━━━━━━━━━━━━━━━━━━━\u001b[0m\u001b[37m\u001b[0m \u001b[1m1s\u001b[0m 9ms/step\n",
      "\u001b[1m63/63\u001b[0m \u001b[32m━━━━━━━━━━━━━━━━━━━━\u001b[0m\u001b[37m\u001b[0m \u001b[1m1s\u001b[0m 9ms/step\n",
      "Weighted Ensemble Accuracy: 0.938\n"
     ]
    }
   ],
   "source": [
    "import numpy as np\n",
    "from sklearn.metrics import accuracy_score\n",
    "\n",
    "# Define the weights based on model accuracies\n",
    "weights = {\n",
    "    'mlp': accuracy_mlp,\n",
    "    'cnn': accuracy_cnn,\n",
    "    'svm': accuracy_svm,\n",
    "    'rf': accuracy_rf,\n",
    "    'xgb': xgb_accuracy\n",
    "}\n",
    "\n",
    "# Normalize the weights so they sum to 1\n",
    "total_weight = sum(weights.values())\n",
    "weights = {k: v / total_weight for k, v in weights.items()}\n",
    "\n",
    "# Get predictions from each model\n",
    "xgb_preds_proba = xgb_model.predict_proba(x_test)\n",
    "rf_preds_proba = rf_model.predict_proba(x_test)\n",
    "svm_preds_proba = svm_model.predict_proba(X_test_scaled)\n",
    "cnn_preds_proba = cnn_model.predict(x_test)\n",
    "mlp_preds_proba = cnn_model.predict(x_test)\n",
    "\n",
    "\n",
    "# Apply weights to the predicted probabilities\n",
    "weighted_xgb_proba = xgb_preds_proba * weights['xgb']\n",
    "weighted_rf_proba = rf_preds_proba * weights['rf']\n",
    "weighted_svm_proba = svm_preds_proba * weights['svm']\n",
    "weighted_cnn_proba = cnn_preds_proba * weights['cnn']\n",
    "weighted_mlp_proba = mlp_preds_proba * weights['cnn']\n",
    "\n",
    "\n",
    "# Combine the weighted probabilities\n",
    "weighted_avg_proba = weighted_xgb_proba +  weighted_cnn_proba + weighted_svm_proba + weighted_rf_proba + weighted_mlp_proba\n",
    "\n",
    "# Convert weighted probabilities to class predictions\n",
    "weighted_ensemble_preds = np.argmax(weighted_avg_proba, axis=1)\n",
    "\n",
    "# Evaluate the weighted ensemble performance\n",
    "weighted_ensemble_accuracy = accuracy_score(y_test, weighted_ensemble_preds)\n",
    "print(f\"Weighted Ensemble Accuracy: {weighted_ensemble_accuracy:.3f}\")"
   ]
  },
  {
   "cell_type": "code",
   "execution_count": 23,
   "metadata": {},
   "outputs": [
    {
     "data": {
      "text/plain": [
       "np.int64(4)"
      ]
     },
     "execution_count": 23,
     "metadata": {},
     "output_type": "execute_result"
    }
   ],
   "source": [
    "y_test[1]"
   ]
  },
  {
   "cell_type": "code",
   "execution_count": 24,
   "metadata": {},
   "outputs": [
    {
     "name": "stdout",
     "output_type": "stream",
     "text": [
      "\u001b[1m250/250\u001b[0m \u001b[32m━━━━━━━━━━━━━━━━━━━━\u001b[0m\u001b[37m\u001b[0m \u001b[1m2s\u001b[0m 9ms/step\n",
      "\u001b[1m250/250\u001b[0m \u001b[32m━━━━━━━━━━━━━━━━━━━━\u001b[0m\u001b[37m\u001b[0m \u001b[1m0s\u001b[0m 2ms/step\n",
      "\u001b[1m63/63\u001b[0m \u001b[32m━━━━━━━━━━━━━━━━━━━━\u001b[0m\u001b[37m\u001b[0m \u001b[1m1s\u001b[0m 9ms/step\n",
      "\u001b[1m63/63\u001b[0m \u001b[32m━━━━━━━━━━━━━━━━━━━━\u001b[0m\u001b[37m\u001b[0m \u001b[1m0s\u001b[0m 2ms/step\n",
      "Stacking Ensemble Accuracy: 0.954\n"
     ]
    }
   ],
   "source": [
    "from sklearn.linear_model import LogisticRegression\n",
    "from sklearn.ensemble import RandomForestClassifier\n",
    "from sklearn.metrics import accuracy_score\n",
    "import numpy as np\n",
    "\n",
    "# Step 1: Get predictions from base models\n",
    "xgb_train_preds = xgb_model.predict_proba(x_train)\n",
    "rf_train_preds = rf_model.predict_proba(x_train)\n",
    "svm_train_preds = svm_model.predict_proba(X_train_scaled)\n",
    "cnn_train_preds = cnn_model.predict(x_train)\n",
    "mlp_train_preds = mlp_model.predict(x_train)\n",
    "\n",
    "xgb_test_preds = xgb_model.predict_proba(x_test)\n",
    "rf_test_preds = rf_model.predict_proba(x_test)\n",
    "svm_test_preds = svm_model.predict_proba(X_test_scaled)\n",
    "cnn_test_preds = cnn_model.predict(x_test)\n",
    "mlp_test_preds = mlp_model.predict(x_test)\n",
    "\n",
    "# Step 2: Create new dataset for meta-model training\n",
    "stacked_train = np.hstack((xgb_train_preds, svm_train_preds, cnn_train_preds,  rf_train_preds + mlp_train_preds))\n",
    "stacked_test = np.hstack((xgb_test_preds, svm_test_preds, cnn_test_preds, rf_test_preds + mlp_test_preds))\n",
    "\n",
    "# Step 3: Train meta-model\n",
    "meta_model = LogisticRegression()\n",
    "meta_model.fit(stacked_train, y_train)\n",
    "\n",
    "# Step 4: Predict with the meta-model\n",
    "ensemble_preds = meta_model.predict(stacked_test)\n",
    "\n",
    "# Step 5: Evaluate performance\n",
    "stack_ensemble_accuracy = accuracy_score(y_test, ensemble_preds)\n",
    "print(f\"Stacking Ensemble Accuracy: {stack_ensemble_accuracy:.3f}\")\n"
   ]
  },
  {
   "cell_type": "code",
   "execution_count": 25,
   "metadata": {},
   "outputs": [
    {
     "name": "stdout",
     "output_type": "stream",
     "text": [
      "Model 1: [7.93935578e-06 5.54052306e-08 3.11923259e-06 3.69868417e-06\n",
      " 9.37529057e-06 4.61160212e-08 9.99972939e-01 2.65420624e-07\n",
      " 7.39545669e-07 1.86674356e-06]\n",
      "Model 2: [1.90309137e-06 6.02904813e-07 9.32124125e-06 1.61465406e-05\n",
      " 1.94673834e-03 2.45193918e-08 9.98015775e-01 3.22550014e-07\n",
      " 1.07830305e-06 8.08720834e-06]\n",
      "Model 3: [3.93363660e-22 2.41762160e-33 1.42208886e-23 3.10232098e-19\n",
      " 5.22797639e-11 3.35028145e-32 1.00000000e+00 7.45816284e-20\n",
      " 7.58989130e-30 5.72036620e-17]\n",
      "Model 4: [2.00030320e-02 1.47193930e-07 3.65883693e-07 3.00094637e-02\n",
      " 1.04882692e-02 5.53169843e-10 1.91949574e+00 2.41992009e-08\n",
      " 1.63574640e-07 2.00026587e-02]\n"
     ]
    }
   ],
   "source": [
    "first = stacked_test[0]\n",
    "\n",
    "print(\"Model 1:\", first[:10])\n",
    "print(\"Model 2:\", first[10:20])\n",
    "print(\"Model 3:\", first[20:30])\n",
    "print(\"Model 4:\", first[30:40])"
   ]
  },
  {
   "cell_type": "code",
   "execution_count": 26,
   "metadata": {},
   "outputs": [
    {
     "data": {
      "text/plain": [
       "(2000, 40)"
      ]
     },
     "execution_count": 26,
     "metadata": {},
     "output_type": "execute_result"
    }
   ],
   "source": [
    "stacked_test.shape"
   ]
  },
  {
   "cell_type": "markdown",
   "metadata": {},
   "source": [
    "### Print all accuracies"
   ]
  },
  {
   "cell_type": "code",
   "execution_count": 27,
   "metadata": {},
   "outputs": [
    {
     "name": "stdout",
     "output_type": "stream",
     "text": [
      "Accuracy (CNN): 0.910\n",
      "Accuracy (DNN): 0.915\n",
      "Accuracy (SVM): 0.923\n",
      "Accuracy (RFC): 0.894\n",
      "Accuracy (XGB): 0.950\n",
      "\n",
      "Weighted Ensemble Accuracy: 0.938\n",
      "Hard Voting Ensemble Accuracy: 0.951\n",
      "Soft Voting Accuracy: 0.955\n",
      "Stacking Ensemble Accuracy: 0.954\n"
     ]
    }
   ],
   "source": [
    "print(f\"Accuracy (CNN): {accuracy_cnn:.3f}\")\n",
    "print(f\"Accuracy (DNN): {accuracy_mlp:.3f}\")\n",
    "print(f\"Accuracy (SVM): {accuracy_svm:.3f}\")\n",
    "print(f\"Accuracy (RFC): {accuracy_rf:.3f}\")\n",
    "print(f\"Accuracy (XGB): {xgb_accuracy:.3f}\")\n",
    "\n",
    "print()\n",
    "\n",
    "print(f\"Weighted Ensemble Accuracy: {weighted_ensemble_accuracy:.3f}\")\n",
    "print(f\"Hard Voting Ensemble Accuracy: {hard_ensemble_accuracy:.3f}\")\n",
    "print(f\"Soft Voting Accuracy: {soft_ensemble_accuracy:.3f}\")\n",
    "print(f\"Stacking Ensemble Accuracy: {stack_ensemble_accuracy:.3f}\")"
   ]
  },
  {
   "cell_type": "markdown",
   "metadata": {},
   "source": [
    "### Creating a confusion matrix for the ensemble"
   ]
  },
  {
   "cell_type": "code",
   "execution_count": 28,
   "metadata": {},
   "outputs": [
    {
     "name": "stdout",
     "output_type": "stream",
     "text": [
      "\u001b[1m63/63\u001b[0m \u001b[32m━━━━━━━━━━━━━━━━━━━━\u001b[0m\u001b[37m\u001b[0m \u001b[1m1s\u001b[0m 9ms/step\n",
      "\u001b[1m63/63\u001b[0m \u001b[32m━━━━━━━━━━━━━━━━━━━━\u001b[0m\u001b[37m\u001b[0m \u001b[1m1s\u001b[0m 9ms/step\n"
     ]
    },
    {
     "data": {
      "image/png": "[encoded data removed]",
      "text/plain": [
       "<Figure size 800x600 with 2 Axes>"
      ]
     },
     "metadata": {},
     "output_type": "display_data"
    }
   ],
   "source": [
    "# Get predictions from each model (XGBoost, SVM, CNN)\n",
    "xgb_preds = xgb_model.predict(x_test)\n",
    "svm_preds = svm_model.predict(x_test)\n",
    "rf_preds = rf_model.predict(x_test)\n",
    "cnn_preds = np.argmax(cnn_model.predict(x_test), axis=1)\n",
    "\n",
    "# Soft Voting: average the predicted probabilities\n",
    "xgb_probs = xgb_model.predict_proba(x_test)\n",
    "svm_probs = svm_model.predict_proba(x_test)\n",
    "rf_probs = rf_model.predict_proba(x_test)\n",
    "cnn_probs = cnn_model.predict(x_test)\n",
    "\n",
    "# Average the probabilities (soft voting)\n",
    "ensemble_probs = (xgb_probs + svm_probs + cnn_probs + rf_probs) / 4\n",
    "ensemble_preds = np.argmax(ensemble_probs, axis=1)\n",
    "ensemble_cm = confusion_matrix(y_test, ensemble_preds)\n",
    "\n",
    "# Plot the confusion matrix for the ensemble model\n",
    "plt.figure(figsize=(8, 6))\n",
    "sns.heatmap(ensemble_cm, annot=True, fmt=\"d\", cmap=\"Blues\", xticklabels=genres, yticklabels=genres)\n",
    "plt.title(\"Ensemble Confusion Matrix\")\n",
    "plt.xlabel(\"Predicted\")\n",
    "plt.ylabel(\"True\")\n",
    "plt.show()\n"
   ]
  },
  {
   "cell_type": "markdown",
   "metadata": {},
   "source": [
    "### Creating a confusion matrix for CNN"
   ]
  },
  {
   "cell_type": "code",
   "execution_count": 30,
   "metadata": {},
   "outputs": [
    {
     "name": "stdout",
     "output_type": "stream",
     "text": [
      "\u001b[1m63/63\u001b[0m \u001b[32m━━━━━━━━━━━━━━━━━━━━\u001b[0m\u001b[37m\u001b[0m \u001b[1m1s\u001b[0m 9ms/step\n"
     ]
    },
    {
     "data": {
      "image/png": "[encoded data removed]",
      "text/plain": [
       "<Figure size 800x600 with 2 Axes>"
      ]
     },
     "metadata": {},
     "output_type": "display_data"
    }
   ],
   "source": [
    "plt.clf\n",
    "cnn_preds = np.argmax(cnn_model.predict(x_test), axis=1)\n",
    "cnn_cm = confusion_matrix(y_test, cnn_preds)\n",
    "\n",
    "# Plot the confusion matrix\n",
    "plt.figure(figsize=(8, 6))\n",
    "sns.heatmap(cnn_cm, annot=True, fmt=\"d\", cmap=\"Blues\", xticklabels=genres, yticklabels=genres)\n",
    "plt.title(\"CNN Confusion Matrix\")\n",
    "plt.xlabel(\"Predicted\")\n",
    "plt.ylabel(\"True\")\n",
    "plt.show()\n"
   ]
  },
  {
   "cell_type": "markdown",
   "metadata": {},
   "source": [
    "### Creating a confusion matrix for XGB"
   ]
  },
  {
   "cell_type": "code",
   "execution_count": 31,
   "metadata": {},
   "outputs": [
    {
     "data": {
      "image/png": "[encoded data removed]",
      "text/plain": [
       "<Figure size 800x600 with 2 Axes>"
      ]
     },
     "metadata": {},
     "output_type": "display_data"
    }
   ],
   "source": [
    "plt.clf\n",
    "xgb_preds = xgb_model.predict(x_test)\n",
    "xgb_cm = confusion_matrix(y_test, xgb_preds)\n",
    "\n",
    "# Plot the confusion matrix\n",
    "plt.figure(figsize=(8, 6))\n",
    "sns.heatmap(xgb_cm, annot=True, fmt=\"d\", cmap=\"Blues\", xticklabels=genres, yticklabels=genres)\n",
    "plt.title(\"XGBoost Confusion Matrix\")\n",
    "plt.xlabel(\"Predicted\")\n",
    "plt.ylabel(\"True\")\n",
    "plt.show()\n"
   ]
  }
 ],
 "metadata": {
  "kernelspec": {
   "display_name": "Python 3",
   "language": "python",
   "name": "python3"
  },
  "language_info": {
   "codemirror_mode": {
    "name": "ipython",
    "version": 3
   },
   "file_extension": ".py",
   "mimetype": "text/x-python",
   "name": "python",
   "nbconvert_exporter": "python",
   "pygments_lexer": "ipython3",
   "version": "3.9.6"
  }
 },
 "nbformat": 4,
 "nbformat_minor": 2
}
