{
    "cells": [
        {
            "cell_type": "markdown",
            "metadata": {},
            "source": [
                "# WAV to spectogram converter\n",
                "\n",
                "For this code, we are creating multiple mel-spectrograms, saving them to eventually be used for our multiple neural networks/ensembles in order to build a more accurate model"
            ]
        },
        {
            "cell_type": "code",
            "execution_count": 12,
            "metadata": {},
            "outputs": [
                {
                    "name": "stdout",
                    "output_type": "stream",
                    "text": [
                        "/Library/Developer/CommandLineTools/usr/bin/python3\n"
                    ]
                }
            ],
            "source": [
                "import os\n",
                "import librosa\n",
                "import numpy as np\n",
                "import matplotlib.pyplot as plt\n",
                "import gc\n",
                "\n",
                "import sys\n",
                "\n",
                "from IPython.display import clear_output\n",
                "clear_output()\n",
                "\n",
                "print(sys.executable)"
            ]
        },
        {
            "cell_type": "markdown",
            "metadata": {},
            "source": [
                "## 2 - Grab the file paths for all the music files"
            ]
        },
        {
            "cell_type": "code",
            "execution_count": 13,
            "metadata": {},
            "outputs": [
                {
                    "name": "stdout",
                    "output_type": "stream",
                    "text": [
                        "Files loaded: 1000\n",
                        "Labels loaded: 1000\n",
                        "Genres loaded: 10\n"
                    ]
                },
                {
                    "data": {
                        "text/plain": [
                            "(4, '../Data/genres_original/hiphop/hiphop.00022.wav')"
                        ]
                    },
                    "execution_count": 13,
                    "metadata": {},
                    "output_type": "execute_result"
                }
            ],
            "source": [
                "DATASET_PATH = \"../Data/genres_original\"\n",
                "genres = ['blues', 'classical', 'country', 'disco', 'hiphop', 'jazz', 'metal', 'pop', 'reggae', 'rock']\n",
                "file_paths = []\n",
                "genre_count = []\n",
                "\n",
                "# Iterate through each genre and load the audio files\n",
                "for genre in genres:\n",
                "    genre_path = os.path.join(DATASET_PATH, genre)\n",
                "    if os.path.isdir(genre_path):\n",
                "        for file in os.listdir(genre_path):\n",
                "            if file.endswith(\".wav\"):\n",
                "                file_path = os.path.join(genre_path, file)\n",
                "                try:\n",
                "                    # Add file path to the list\n",
                "                    file_paths.append(file_path)\n",
                "                    # Assign label based on genre index\n",
                "                    genre_count.append(genres.index(genre))\n",
                "                except Exception as e:\n",
                "                    print(f\"Error processing {file_path}: {e}\")\n",
                "                    continue\n",
                "\n",
                "# Print the number of loaded files and labels\n",
                "print(\"Files loaded:\", len(file_paths))\n",
                "print(\"Labels loaded:\", len(genre_count))\n",
                "print(\"Genres loaded:\", len(genres))\n",
                "\n",
                "genre_count[400], file_paths[400]"
            ]
        },
        {
            "cell_type": "markdown",
            "metadata": {},
            "source": [
                "## 3 - Function for creating either 3-second or 30-second .wav Spectrogram images"
            ]
        },
        {
            "cell_type": "code",
            "execution_count": 14,
            "metadata": {},
            "outputs": [],
            "source": [
                "import os\n",
                "import numpy as np\n",
                "import matplotlib.pyplot as plt\n",
                "import librosa\n",
                "import librosa.display\n",
                "\n",
                "def _save_spectrogram_image(spectrogram, sr, hop_length, cmap, file_path, genre, duration=30):\n",
                "\tprint(file_path)\n",
                "\n",
                "\tplt.figure(figsize=(12, 4))\n",
                "\n",
                "\tlibrosa.display.specshow(\n",
                "\t\tspectrogram,\n",
                "\t\tsr=sr,\n",
                "\t\thop_length=hop_length,\n",
                "\t\tx_axis='time',\n",
                "\t\ty_axis='log',       # log-frequency axis for spectrograms\n",
                "\t\tcmap=cmap\n",
                "\t)\n",
                "\n",
                "\tplt.xlim(0, duration)\n",
                "\tplt.axis(\"off\")\n",
                "\tplt.tight_layout(pad=0)\n",
                "\n",
                "\tsaved_path = os.path.join(\n",
                "\t\t\"../Images\", \"Spectrograms\", genre,\n",
                "\t\tos.path.basename(file_path).replace(\".wav\", \".png\")\n",
                "\t)\n",
                "\n",
                "\tos.makedirs(os.path.dirname(saved_path), exist_ok=True)\n",
                "\tplt.savefig(saved_path, bbox_inches='tight', pad_inches=0)\n",
                "\tplt.close()\n",
                "\n",
                "\treturn saved_path\n",
                "\n",
                "\n",
                "def _save_spectrogram_segmented(spectrogram, sr, hop_length, cmap, file_path, genre, num_segments=10):\n",
                "\tsegments = np.array_split(spectrogram, num_segments, axis=1)\n",
                "\tbase_filename = os.path.splitext(os.path.basename(file_path))[0]\n",
                "\tsaved_paths = []\n",
                "\n",
                "\tfor segmentIndex, segment in enumerate(segments, start=1):\n",
                "\t\tplt.figure(figsize=(12 / num_segments, 4))\n",
                "\n",
                "\t\tlibrosa.display.specshow(\n",
                "\t\t\tsegment,\n",
                "\t\t\tsr=sr,\n",
                "\t\t\thop_length=hop_length,\n",
                "\t\t\tx_axis='time',\n",
                "\t\t\ty_axis='log',\n",
                "\t\t\tcmap=cmap\n",
                "\t\t)\n",
                "\n",
                "\t\tsegment_duration = segment.shape[1] * hop_length / sr\n",
                "\t\tplt.xlim(0, segment_duration)\n",
                "\t\tplt.axis(\"off\")\n",
                "\t\tplt.tight_layout(pad=0)\n",
                "\n",
                "\t\tsaved_path = os.path.join(\n",
                "\t\t\t\"../Images\", \"Spectrograms (3 seconds)\", genre,\n",
                "\t\t\tf\"{base_filename}_segment_{segmentIndex}.png\"\n",
                "\t\t)\n",
                "\n",
                "\t\tos.makedirs(os.path.dirname(saved_path), exist_ok=True)\n",
                "\t\tplt.savefig(saved_path, bbox_inches='tight', pad_inches=0)\n",
                "\t\tplt.close()\n",
                "\n",
                "\t\tsaved_paths.append(saved_path)\n",
                "\n",
                "\treturn saved_paths\n",
                "\n",
                "\n",
                "def createSpectrogramImages(inputDuration=30, inputSampleRate=22050, inputNFFT=2048, inputHopLength=512, inputCMAP='gray'):\n",
                "\ttry:\n",
                "\t\tfile_paths, genres, genre_count\n",
                "\texcept NameError as e:\n",
                "\t\tprint(\"Error: Ensure that the file paths and genres are defined before calling this function.\")\n",
                "\t\treturn\n",
                "\n",
                "\tfor i in range(len(file_paths)):\n",
                "\t\ttry:\n",
                "\t\t\ty, sr = librosa.load(file_paths[i], sr=inputSampleRate)\n",
                "\n",
                "\t\t\ttarget_length = inputSampleRate * inputDuration\n",
                "\t\t\ty = y[:target_length]\n",
                "\n",
                "\t\t\tif len(y) < target_length:\n",
                "\t\t\t\ty = np.pad(y, (0, target_length - len(y)), mode='constant')\n",
                "\n",
                "\t\t\t# Compute the magnitude spectrogram\n",
                "\t\t\tspectrogram = np.abs(librosa.stft(\n",
                "\t\t\t\ty,\n",
                "\t\t\t\tn_fft=inputNFFT,\n",
                "\t\t\t\thop_length=inputHopLength,\n",
                "\t\t\t\twin_length=inputNFFT,\n",
                "\t\t\t\twindow='hann',\n",
                "\t\t\t\tcenter=True\n",
                "\t\t\t))\n",
                "\n",
                "\t\t\t# Convert to decibels\n",
                "\t\t\tspectrogram_db = librosa.amplitude_to_db(spectrogram, ref=np.max)\n",
                "\n",
                "\t\t\t# Save full or segmented\n",
                "\t\t\tif inputDuration == 30:\n",
                "\t\t\t\t_save_spectrogram_image(\n",
                "\t\t\t\t\tspectrogram_db, sr, inputHopLength, inputCMAP,\n",
                "\t\t\t\t\tfile_paths[i], genres[genre_count[i]]\n",
                "\t\t\t\t)\n",
                "\t\t\telif inputDuration == 3:\n",
                "\t\t\t\t_save_spectrogram_segmented(\n",
                "\t\t\t\t\tspectrogram_db, sr, inputHopLength, inputCMAP,\n",
                "\t\t\t\t\tfile_paths[i], genres[genre_count[i]]\n",
                "\t\t\t\t)\n",
                "\n",
                "\t\texcept Exception as e:\n",
                "\t\t\tprint(f\"Error processing {file_paths[i]}: {e}\")\n",
                "\t\t\tcontinue"
            ]
        },
        {
            "cell_type": "markdown",
            "metadata": {},
            "source": [
                "## 4 - Activate the 3-second or 30-second inputs"
            ]
        },
        {
            "cell_type": "code",
            "execution_count": 16,
            "metadata": {},
            "outputs": [],
            "source": [
                "createSpectrogramImages(\n",
                "\tinputDuration=3,\n",
                "\tinputSampleRate=22050,\n",
                "\tinputNFFT=2048,\n",
                "\tinputHopLength=512,\n",
                "\tinputCMAP='gray_r'\n",
                ")"
            ]
        },
        {
            "cell_type": "code",
            "execution_count": null,
            "metadata": {},
            "outputs": [],
            "source": []
        }
    ],
    "metadata": {
        "kernelspec": {
            "display_name": "Python 3",
            "language": "python",
            "name": "python3"
        },
        "language_info": {
            "codemirror_mode": {
                "name": "ipython",
                "version": 3
            },
            "file_extension": ".py",
            "mimetype": "text/x-python",
            "name": "python",
            "nbconvert_exporter": "python",
            "pygments_lexer": "ipython3",
            "version": "3.9.6"
        }
    },
    "nbformat": 4,
    "nbformat_minor": 2
}
