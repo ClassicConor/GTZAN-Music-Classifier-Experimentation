{
    "cells": [
        {
            "cell_type": "markdown",
            "metadata": {},
            "source": [
                "# WAV to Chromagram Converter\n",
                "\n",
                "For this code, we are creating multiple chromagrams, saving them to eventually be used for our multiple neural networks/ensembles in order to build a more accurate model"
            ]
        },
        {
            "cell_type": "markdown",
            "metadata": {},
            "source": [
                "## 1 - Imports"
            ]
        },
        {
            "cell_type": "code",
            "execution_count": 41,
            "metadata": {},
            "outputs": [
                {
                    "name": "stdout",
                    "output_type": "stream",
                    "text": [
                        "/Library/Developer/CommandLineTools/usr/bin/python3\n"
                    ]
                }
            ],
            "source": [
                "import os\n",
                "import numpy as np # For numerical operations\n",
                "import matplotlib.pyplot as plt # For plotting\n",
                "import gc # For garbage collection\n",
                "import librosa # For audio processing\n",
                "\n",
                "!{sys.executable} -m pip install tqdm\n",
                "\n",
                "from tqdm import tqdm # For progress bars\n",
                "\n",
                "# Had to force install librosa for audio processing as it was not installed in the environment\n",
                "import sys\n",
                "\n",
                "# clear the output of the previous cell\n",
                "from IPython.display import clear_output\n",
                "clear_output()\n",
                "\n",
                "print(sys.executable)"
            ]
        },
        {
            "cell_type": "markdown",
            "metadata": {},
            "source": [
                "## 2 - Grab the file paths for all the music files, along with the associated genres"
            ]
        },
        {
            "cell_type": "code",
            "execution_count": 42,
            "metadata": {},
            "outputs": [
                {
                    "name": "stdout",
                    "output_type": "stream",
                    "text": [
                        "Files loaded: 1000\n",
                        "Labels loaded: 1000\n",
                        "Genres loaded: 10\n"
                    ]
                },
                {
                    "data": {
                        "text/plain": [
                            "(4, '../Data/genres_original/hiphop/hiphop.00022.wav')"
                        ]
                    },
                    "execution_count": 42,
                    "metadata": {},
                    "output_type": "execute_result"
                }
            ],
            "source": [
                "DATASET_PATH = \"../Data/genres_original\"\n",
                "genres = ['blues', 'classical', 'country', 'disco', 'hiphop', 'jazz', 'metal', 'pop', 'reggae', 'rock']\n",
                "file_paths = []\n",
                "genre_count = []\n",
                "\n",
                "# Iterate through each genre and load the audio files\n",
                "for genre in genres:\n",
                "    genre_path = os.path.join(DATASET_PATH, genre)\n",
                "    if os.path.isdir(genre_path):\n",
                "        for file in os.listdir(genre_path):\n",
                "            if file.endswith(\".wav\"):\n",
                "                file_path = os.path.join(genre_path, file)\n",
                "                try:\n",
                "                    # Add file path to the list\n",
                "                    file_paths.append(file_path)\n",
                "                    # Assign label based on genre index\n",
                "                    genre_count.append(genres.index(genre))\n",
                "                except Exception as e:\n",
                "                    print(f\"Error processing {file_path}: {e}\")\n",
                "                    continue\n",
                "\n",
                "# Print the number of loaded files and labels\n",
                "print(\"Files loaded:\", len(file_paths))\n",
                "print(\"Labels loaded:\", len(genre_count))\n",
                "print(\"Genres loaded:\", len(genres))\n",
                "\n",
                "genre_count[400], file_paths[400]"
            ]
        },
        {
            "cell_type": "markdown",
            "metadata": {},
            "source": [
                "## 3 - Function for creating either 3-second or 30-second .wav Chromagram images"
            ]
        },
        {
            "cell_type": "code",
            "execution_count": 43,
            "metadata": {},
            "outputs": [],
            "source": [
                "import librosa\n",
                "import librosa.display\n",
                "import matplotlib.pyplot as plt\n",
                "import numpy as np\n",
                "import os\n",
                "import gc\n",
                "from IPython.display import clear_output\n",
                "\n",
                "def _save_single_chromagram(chroma_normalized, sr, hop_length, cmap, file_path, genre, duration):\n",
                "\n",
                "    plt.figure(figsize=(12, 4))\n",
                "    \n",
                "    librosa.display.specshow(\n",
                "        chroma_normalized,\n",
                "        y_axis='chroma',\n",
                "        x_axis='time',\n",
                "        sr=sr,\n",
                "        hop_length=hop_length,\n",
                "        cmap=cmap\n",
                "    )\n",
                "    \n",
                "    # Show the full duration\n",
                "    plt.xlim(0, duration)\n",
                "    plt.gca().set_axis_off()\n",
                "    plt.gcf().set_facecolor('none')\n",
                "    \n",
                "    # Construct save path\n",
                "    saving_file_path = os.path.join(\n",
                "        \"../Images\", \"Chromagrams\", genre, os.path.basename(file_path).replace(\"wav\", \"png\")\n",
                "        )\n",
                "    \n",
                "    # Ensure directory exists\n",
                "    os.makedirs(os.path.dirname(saving_file_path), exist_ok=True)\n",
                "    \n",
                "    # Save the plot\n",
                "    plt.savefig(saving_file_path, bbox_inches='tight', pad_inches=0)\n",
                "    plt.close()  # Properly close the figure\n",
                "    \n",
                "    return saving_file_path\n",
                "\n",
                "def _save_segmented_chromagrams(chroma_normalized, sr, hop_length, cmap, file_path, genre, num_segments=10):\n",
                "\n",
                "    segments = np.array_split(chroma_normalized, num_segments, axis=1)\n",
                "    base_filename = os.path.splitext(os.path.basename(file_path))[0]\n",
                "    saved_paths = []\n",
                "    \n",
                "    for segment_idx, chroma_segment in tqdm(enumerate(segments, start=1)):\n",
                "        plt.figure(figsize=(12/num_segments, 4))\n",
                "        \n",
                "        librosa.display.specshow(\n",
                "            chroma_segment,\n",
                "            y_axis='chroma',\n",
                "            x_axis='time',\n",
                "            sr=sr,\n",
                "            hop_length=hop_length,\n",
                "            cmap=cmap\n",
                "        )\n",
                "        \n",
                "        # Calculate actual segment duration\n",
                "        segment_duration = chroma_segment.shape[1] * hop_length / sr\n",
                "        plt.xlim(0, segment_duration)\n",
                "        plt.gca().set_axis_off()\n",
                "        plt.gcf().set_facecolor('none')\n",
                "        \n",
                "        # Construct save path for this segment\n",
                "        saving_file_path = os.path.join(\n",
                "            \"../Images\", \"Chromagrams (3 seconds)\", genre,\n",
                "            f\"{base_filename}_segment_{segment_idx}.png\"\n",
                "        )\n",
                "        \n",
                "        # Ensure directory exists\n",
                "        os.makedirs(os.path.dirname(saving_file_path), exist_ok=True)\n",
                "        \n",
                "        # Save the plot\n",
                "        plt.savefig(saving_file_path, bbox_inches='tight', pad_inches=0)\n",
                "        plt.close()  # Properly close the figure\n",
                "        \n",
                "        saved_paths.append(saving_file_path)\n",
                "    \n",
                "    return saved_paths\n",
                "\n",
                "def createChromagramImages(inputDuration=30, inputSampleRate=22050, inputNFFT=2048, inputhop_length=512, inputCMAP='coolwarm'):\n",
                "    \n",
                "    print(\"Creating Chromagram Images...\")\n",
                "    \n",
                "    # Validate required global variables exist\n",
                "    try:\n",
                "        file_paths, genres, genre_count\n",
                "    except NameError as e:\n",
                "        print(f\"Error: Required global variable not found: {e}\")\n",
                "        return\n",
                "    \n",
                "    for i in tqdm(range(len(file_paths))):\n",
                "        try:\n",
                "            # print(f\"Processing file index: {i}, File path: {file_paths[i]}\")\n",
                "            \n",
                "            # Load and process audio\n",
                "            y, sr = librosa.load(\n",
                "                file_paths[i],\n",
                "                sr=inputSampleRate,\n",
                "                duration=inputDuration\n",
                "            )\n",
                "            \n",
                "            # Ensure consistent length\n",
                "            y = librosa.util.fix_length(y, size=inputSampleRate * inputDuration)\n",
                "            \n",
                "            # Generate chromagram\n",
                "            chroma = librosa.feature.chroma_stft(\n",
                "                y=y,\n",
                "                sr=sr,\n",
                "                n_fft=inputNFFT,\n",
                "                hop_length=inputhop_length,\n",
                "                norm=2\n",
                "            )\n",
                "            \n",
                "            # Convert to dB scale and normalize\n",
                "            chroma_db = librosa.power_to_db(chroma, ref=np.max)\n",
                "            chroma_normalized = (chroma_db - np.mean(chroma_db)) / np.std(chroma_db)\n",
                "            \n",
                "            # Save chromagram(s) based on duration\n",
                "            if inputDuration == 30:\n",
                "                saved_path = _save_single_chromagram(\n",
                "                    chroma_normalized, sr, inputhop_length, inputCMAP, \n",
                "                    file_paths[i], genres[genre_count[i]], inputDuration\n",
                "                )\n",
                "                if i % 25 == 0:\n",
                "                    print(f\"Processed {i} files, last saved to {saved_path}\")\n",
                "                    \n",
                "            elif inputDuration == 3:\n",
                "                saved_paths = _save_segmented_chromagrams(\n",
                "                    chroma_normalized, sr, inputhop_length, inputCMAP,\n",
                "                    file_paths[i], genres[genre_count[i]]\n",
                "                )\n",
                "                if i % 25 == 0:\n",
                "                    print(f\"Processed {i} files, saved {len(saved_paths)} segments\")\n",
                "            \n",
                "            # Memory management\n",
                "            if i % 25 == 0:\n",
                "                gc.collect()\n",
                "                \n",
                "        except Exception as e:\n",
                "            print(f\"Error processing file {file_paths[i]}: {str(e)}\")\n",
                "            continue\n",
                "    \n",
                "    print(\"Chromagram images created successfully!\")\n",
                "    clear_output()  # Clear the output to keep the notebook clean"
            ]
        },
        {
            "cell_type": "markdown",
            "metadata": {},
            "source": [
                "## 4 - Activate the 3-second or 30-second inputs"
            ]
        },
        {
            "cell_type": "code",
            "execution_count": 45,
            "metadata": {},
            "outputs": [],
            "source": [
                "createChromagramImages(\n",
                "\tinputDuration=30,\n",
                "\tinputSampleRate=22050,\n",
                "\tinputNFFT=2048,\n",
                "\tinputhop_length=512,\n",
                "\tinputCMAP='coolwarm'\n",
                ")"
            ]
        }
    ],
    "metadata": {
        "kernelspec": {
            "display_name": "Python 3",
            "language": "python",
            "name": "python3"
        },
        "language_info": {
            "codemirror_mode": {
                "name": "ipython",
                "version": 3
            },
            "file_extension": ".py",
            "mimetype": "text/x-python",
            "name": "python",
            "nbconvert_exporter": "python",
            "pygments_lexer": "ipython3",
            "version": "3.9.6"
        }
    },
    "nbformat": 4,
    "nbformat_minor": 2
}
