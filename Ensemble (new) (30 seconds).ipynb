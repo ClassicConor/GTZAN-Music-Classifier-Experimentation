{
 "cells": [
  {
   "cell_type": "markdown",
   "metadata": {},
   "source": [
    "### Cell 1 - Imports"
   ]
  },
  {
   "cell_type": "code",
   "execution_count": 1,
   "metadata": {},
   "outputs": [
    {
     "name": "stderr",
     "output_type": "stream",
     "text": [
      "/Users/conorwoollatt/Library/Python/3.9/lib/python/site-packages/urllib3/__init__.py:35: NotOpenSSLWarning: urllib3 v2 only supports OpenSSL 1.1.1+, currently the 'ssl' module is compiled with 'LibreSSL 2.8.3'. See: https://github.com/urllib3/urllib3/issues/3020\n",
      "  warnings.warn(\n"
     ]
    }
   ],
   "source": [
    "import numpy as np\n",
    "import pandas as pd\n",
    "import xgboost as xgb\n",
    "import matplotlib.pyplot as plt\n",
    "import seaborn as sns\n",
    "from sklearn.decomposition import PCA\n",
    "from sklearn.model_selection import train_test_split\n",
    "from sklearn import preprocessing\n",
    "from sklearn.ensemble import RandomForestClassifier\n",
    "from sklearn.preprocessing import LabelEncoder, StandardScaler\n",
    "from sklearn.metrics import confusion_matrix\n",
    "from keras.utils import to_categorical\n",
    "from sklearn.svm import SVC\n",
    "from sklearn.metrics import accuracy_score\n",
    "from keras.models import Sequential\n",
    "from keras import layers\n",
    "from keras.optimizers import Adam"
   ]
  },
  {
   "cell_type": "markdown",
   "metadata": {},
   "source": [
    "### Cell 2 - Processing the file"
   ]
  },
  {
   "cell_type": "code",
   "execution_count": 2,
   "metadata": {},
   "outputs": [
    {
     "name": "stdout",
     "output_type": "stream",
     "text": [
      "X_train shape: (800, 309), y_train shape: (800,)\n",
      "X_test shape: (200, 309), y_test shape: (200,)\n"
     ]
    }
   ],
   "source": [
    "genres = ['blues', 'classical', 'country', 'disco', 'hiphop', 'jazz', 'metal', 'pop', 'reggae', 'rock']\n",
    "\n",
    "# Load the CSV file\n",
    "data = pd.read_csv(\"all_30_second_features_full.csv\")\n",
    "data = data.drop(columns=[\"song_id\"])  # Drop the index column if it exists\n",
    "X = data.drop(columns=[\"label\", \"filename\"])\n",
    "y = data[\"label\"]\n",
    "\n",
    "# Extract song IDs from filenames\n",
    "data['song_id'] = data['filename'].apply(lambda x: x.rsplit('.', 2)[0])  # Extract \"blues.00000\" from \"blues.00000.0.wav\"\n",
    "\n",
    "# Group clips by song ID\n",
    "song_to_clips = {}\n",
    "for song_id, group in data.groupby('song_id'):\n",
    "    # Store all features and labels for each clip\n",
    "    song_to_clips[song_id] = {\n",
    "        'features': group.drop(columns=['filename', 'song_id', 'label']).values,  # Extract features (all columns except filename, song_id, and label)\n",
    "        'labels': group['label'].values  # Extract labels\n",
    "    }\n",
    "\n",
    "# Split song IDs into training and test sets\n",
    "song_ids = list(song_to_clips.keys())\n",
    "train_ids, test_ids = train_test_split(song_ids, test_size=0.2, random_state=42)\n",
    "\n",
    "# Prepare training and test data\n",
    "X_train, y_train, X_test, y_test = [], [], [], []\n",
    "\n",
    "# Assign clips based on the train-test split\n",
    "for song_id in song_ids:\n",
    "    clips = song_to_clips[song_id]\n",
    "    if song_id in train_ids:\n",
    "        X_train.extend(clips['features'])  # Add all features for this song to the training set\n",
    "        y_train.extend(clips['labels'])    # Add all labels for this song to the training set\n",
    "    else:\n",
    "        X_test.extend(clips['features'])  # Add all features for this song to the test set\n",
    "        y_test.extend(clips['labels'])    # Add all labels for this song to the test set\n",
    "\n",
    "# Convert to numpy arrays\n",
    "X_train = np.array(X_train)\n",
    "y_train = np.array(y_train)\n",
    "X_test = np.array(X_test)\n",
    "y_test = np.array(y_test)\n",
    "\n",
    "# Print shapes to verify\n",
    "print(f\"X_train shape: {X_train.shape}, y_train shape: {y_train.shape}\")\n",
    "print(f\"X_test shape: {X_test.shape}, y_test shape: {y_test.shape}\")"
   ]
  },
  {
   "cell_type": "markdown",
   "metadata": {},
   "source": [
    "### Cell 3 - Feature extraction"
   ]
  },
  {
   "cell_type": "code",
   "execution_count": 3,
   "metadata": {},
   "outputs": [
    {
     "data": {
      "text/plain": [
       "(1000, 312)"
      ]
     },
     "execution_count": 3,
     "metadata": {},
     "output_type": "execute_result"
    }
   ],
   "source": [
    "label_encoder = LabelEncoder()\n",
    "y_encoded = label_encoder.fit_transform(y)\n",
    "\n",
    "\n",
    "# new data frame with the new scaled data. \n",
    "cols = X.columns\n",
    "min_max_scaler = preprocessing.MinMaxScaler()\n",
    "np_scaled = min_max_scaler.fit_transform(X)\n",
    "\n",
    "X = pd.DataFrame(np_scaled, columns = cols)\n",
    "pca = PCA(n_components=3)\n",
    "principalComponents = pca.fit_transform(X)\n",
    "X = np.concatenate((X, pca.fit_transform(X)), axis=1)\n",
    "\n",
    "\n",
    "X.shape"
   ]
  },
  {
   "cell_type": "markdown",
   "metadata": {},
   "source": [
    "### Cell 5 - Train test split"
   ]
  },
  {
   "cell_type": "code",
   "execution_count": 4,
   "metadata": {},
   "outputs": [],
   "source": [
    "# Split the data into training and testing sets\n",
    "x_train, x_test, y_train, y_test = train_test_split(X, y_encoded, test_size=0.2, random_state=42)\n",
    "\n",
    "scaler = StandardScaler()\n",
    "X_train_scaled = scaler.fit_transform(x_train)\n",
    "X_test_scaled = scaler.transform(x_test)\n",
    "\n",
    "# One-hot encode the labels\n",
    "y_train_encoded = to_categorical(y_train, num_classes=len(genres))\n",
    "y_test_encoded = to_categorical(y_test, num_classes=len(genres))\n",
    "\n",
    "# Check the shapes of the train and test sets - commented out for readability\n",
    "# Uncomment to see the shape and number of files read in\n",
    "\n",
    "# print(f\"Shape of x_train: {x_train.shape}\")\n",
    "# print(f\"Shape of x_test: {x_test.shape}\")\n",
    "# print(f\"Shape of y_train: {y_train.shape}\")\n",
    "# print(f\"Shape of y_test: {y_test.shape}\")\n",
    "# print(f\"Shape of y_train_encoded: {y_train_encoded.shape}\")\n",
    "# print(f\"Shape of y_test_encoded: {y_test_encoded.shape}\")\n"
   ]
  },
  {
   "cell_type": "code",
   "execution_count": 5,
   "metadata": {},
   "outputs": [
    {
     "name": "stdout",
     "output_type": "stream",
     "text": [
      "(200, 312)\n",
      "(800, 312)\n"
     ]
    }
   ],
   "source": [
    "print(X_test_scaled.shape)\n",
    "print(X_train_scaled.shape)"
   ]
  },
  {
   "cell_type": "markdown",
   "metadata": {},
   "source": [
    "### Cell 7 - Training SVM model"
   ]
  },
  {
   "cell_type": "code",
   "execution_count": 6,
   "metadata": {},
   "outputs": [
    {
     "name": "stdout",
     "output_type": "stream",
     "text": [
      "Accuracy: 0.730\n"
     ]
    }
   ],
   "source": [
    "from sklearn.calibration import CalibratedClassifierCV\n",
    "svm_model = SVC(\n",
    "    C=100,\n",
    "    kernel='rbf',\n",
    "    gamma='scale',\n",
    "    probability=True,\n",
    "    random_state=42,\n",
    ")\n",
    "\n",
    "# Calibration for better probabilities (optional)\n",
    "calibrated_svm = CalibratedClassifierCV(svm_model, cv=3, method='sigmoid')\n",
    "\n",
    "# Train\n",
    "svm_model.fit(X_train_scaled, y_train)\n",
    "\n",
    "# Evaluate\n",
    "y_pred_svm = svm_model.predict(X_test_scaled)\n",
    "y_proba_svm = svm_model.predict_proba(X_test_scaled)\n",
    "\n",
    "print(f\"Accuracy: {accuracy_score(y_test, y_pred_svm):.3f}\")"
   ]
  },
  {
   "cell_type": "markdown",
   "metadata": {},
   "source": [
    "### Cell 8 - Defining CNN"
   ]
  },
  {
   "cell_type": "code",
   "execution_count": 7,
   "metadata": {},
   "outputs": [
    {
     "name": "stdout",
     "output_type": "stream",
     "text": [
      "Model compiled\n"
     ]
    }
   ],
   "source": [
    "# Define the CNN model architecture\n",
    "cnn_model = Sequential([\n",
    "    # First convolutional layer with 'same' padding\n",
    "    layers.Input(shape = (x_train.shape[1],1)),\n",
    "    layers.Conv1D(64, 3, activation='relu', padding='same',),\n",
    "    layers.MaxPooling1D(2, padding='same'),  # MaxPooling2D with same padding\n",
    "\n",
    "    # Second convolutional layer with 'same' padding\n",
    "    layers.Conv1D(128, 3, activation='relu', padding='same'),\n",
    "    layers.MaxPooling1D(2, padding='same'),\n",
    "\n",
    "    # Third convolutional layer with 'same' padding\n",
    "    layers.Conv1D(256, 3, activation='relu', padding='same'),\n",
    "    layers.MaxPooling1D(2, padding='same'),\n",
    "\n",
    "    # Flatten the output of the convolutional layers\n",
    "    layers.Flatten(),\n",
    "\n",
    "    # Fully connected layers\n",
    "    layers.Dense(512, activation='relu'),\n",
    "    layers.Dropout(0.5),\n",
    "\n",
    "    # Output layer with softmax activation\n",
    "    layers.Dense(len(genres), activation='softmax')\n",
    "])\n",
    "\n",
    "# Compile the model\n",
    "cnn_model.compile(optimizer=Adam(), loss='categorical_crossentropy', metrics=['accuracy'])\n",
    "\n",
    "# Summarize the model architecture\n",
    "#cnn_model.summary()\n",
    "print(\"Model compiled\")\n"
   ]
  },
  {
   "cell_type": "markdown",
   "metadata": {},
   "source": [
    "### Cell 9 - Training CNN model"
   ]
  },
  {
   "cell_type": "code",
   "execution_count": 8,
   "metadata": {},
   "outputs": [
    {
     "name": "stdout",
     "output_type": "stream",
     "text": [
      "Epoch 1/30\n",
      "\u001b[1m25/25\u001b[0m \u001b[32m━━━━━━━━━━━━━━━━━━━━\u001b[0m\u001b[37m\u001b[0m \u001b[1m1s\u001b[0m 26ms/step - accuracy: 0.1487 - loss: 2.2537 - val_accuracy: 0.4550 - val_loss: 1.7423\n",
      "Epoch 2/30\n",
      "\u001b[1m25/25\u001b[0m \u001b[32m━━━━━━━━━━━━━━━━━━━━\u001b[0m\u001b[37m\u001b[0m \u001b[1m1s\u001b[0m 22ms/step - accuracy: 0.4335 - loss: 1.6376 - val_accuracy: 0.5300 - val_loss: 1.3569\n",
      "Epoch 3/30\n",
      "\u001b[1m25/25\u001b[0m \u001b[32m━━━━━━━━━━━━━━━━━━━━\u001b[0m\u001b[37m\u001b[0m \u001b[1m1s\u001b[0m 22ms/step - accuracy: 0.5235 - loss: 1.3727 - val_accuracy: 0.6100 - val_loss: 1.0564\n",
      "Epoch 4/30\n",
      "\u001b[1m25/25\u001b[0m \u001b[32m━━━━━━━━━━━━━━━━━━━━\u001b[0m\u001b[37m\u001b[0m \u001b[1m1s\u001b[0m 22ms/step - accuracy: 0.6445 - loss: 1.0497 - val_accuracy: 0.5750 - val_loss: 1.1446\n",
      "Epoch 5/30\n",
      "\u001b[1m25/25\u001b[0m \u001b[32m━━━━━━━━━━━━━━━━━━━━\u001b[0m\u001b[37m\u001b[0m \u001b[1m1s\u001b[0m 23ms/step - accuracy: 0.6873 - loss: 0.9115 - val_accuracy: 0.6500 - val_loss: 0.9308\n",
      "Epoch 6/30\n",
      "\u001b[1m25/25\u001b[0m \u001b[32m━━━━━━━━━━━━━━━━━━━━\u001b[0m\u001b[37m\u001b[0m \u001b[1m1s\u001b[0m 23ms/step - accuracy: 0.7794 - loss: 0.6946 - val_accuracy: 0.6450 - val_loss: 0.9793\n",
      "Epoch 7/30\n",
      "\u001b[1m25/25\u001b[0m \u001b[32m━━━━━━━━━━━━━━━━━━━━\u001b[0m\u001b[37m\u001b[0m \u001b[1m1s\u001b[0m 23ms/step - accuracy: 0.7605 - loss: 0.7176 - val_accuracy: 0.6700 - val_loss: 0.8659\n",
      "Epoch 8/30\n",
      "\u001b[1m25/25\u001b[0m \u001b[32m━━━━━━━━━━━━━━━━━━━━\u001b[0m\u001b[37m\u001b[0m \u001b[1m1s\u001b[0m 23ms/step - accuracy: 0.8338 - loss: 0.5630 - val_accuracy: 0.6550 - val_loss: 0.8874\n",
      "Epoch 9/30\n",
      "\u001b[1m25/25\u001b[0m \u001b[32m━━━━━━━━━━━━━━━━━━━━\u001b[0m\u001b[37m\u001b[0m \u001b[1m1s\u001b[0m 23ms/step - accuracy: 0.8087 - loss: 0.5620 - val_accuracy: 0.7050 - val_loss: 0.8619\n",
      "Epoch 10/30\n",
      "\u001b[1m25/25\u001b[0m \u001b[32m━━━━━━━━━━━━━━━━━━━━\u001b[0m\u001b[37m\u001b[0m \u001b[1m1s\u001b[0m 24ms/step - accuracy: 0.8359 - loss: 0.4035 - val_accuracy: 0.7100 - val_loss: 0.8521\n",
      "Epoch 11/30\n",
      "\u001b[1m25/25\u001b[0m \u001b[32m━━━━━━━━━━━━━━━━━━━━\u001b[0m\u001b[37m\u001b[0m \u001b[1m1s\u001b[0m 24ms/step - accuracy: 0.8839 - loss: 0.3497 - val_accuracy: 0.7050 - val_loss: 0.8636\n",
      "Epoch 12/30\n",
      "\u001b[1m25/25\u001b[0m \u001b[32m━━━━━━━━━━━━━━━━━━━━\u001b[0m\u001b[37m\u001b[0m \u001b[1m1s\u001b[0m 24ms/step - accuracy: 0.9087 - loss: 0.3132 - val_accuracy: 0.7250 - val_loss: 0.9729\n",
      "Epoch 13/30\n",
      "\u001b[1m25/25\u001b[0m \u001b[32m━━━━━━━━━━━━━━━━━━━━\u001b[0m\u001b[37m\u001b[0m \u001b[1m1s\u001b[0m 26ms/step - accuracy: 0.9235 - loss: 0.2664 - val_accuracy: 0.7250 - val_loss: 0.9384\n",
      "Epoch 14/30\n",
      "\u001b[1m25/25\u001b[0m \u001b[32m━━━━━━━━━━━━━━━━━━━━\u001b[0m\u001b[37m\u001b[0m \u001b[1m1s\u001b[0m 26ms/step - accuracy: 0.9173 - loss: 0.2880 - val_accuracy: 0.7500 - val_loss: 0.8712\n",
      "Epoch 15/30\n",
      "\u001b[1m25/25\u001b[0m \u001b[32m━━━━━━━━━━━━━━━━━━━━\u001b[0m\u001b[37m\u001b[0m \u001b[1m1s\u001b[0m 25ms/step - accuracy: 0.9450 - loss: 0.1777 - val_accuracy: 0.7000 - val_loss: 1.0271\n",
      "Epoch 16/30\n",
      "\u001b[1m25/25\u001b[0m \u001b[32m━━━━━━━━━━━━━━━━━━━━\u001b[0m\u001b[37m\u001b[0m \u001b[1m1s\u001b[0m 24ms/step - accuracy: 0.9531 - loss: 0.1779 - val_accuracy: 0.7200 - val_loss: 1.1000\n",
      "Epoch 17/30\n",
      "\u001b[1m25/25\u001b[0m \u001b[32m━━━━━━━━━━━━━━━━━━━━\u001b[0m\u001b[37m\u001b[0m \u001b[1m1s\u001b[0m 24ms/step - accuracy: 0.9600 - loss: 0.1486 - val_accuracy: 0.7150 - val_loss: 1.1338\n",
      "Epoch 18/30\n",
      "\u001b[1m25/25\u001b[0m \u001b[32m━━━━━━━━━━━━━━━━━━━━\u001b[0m\u001b[37m\u001b[0m \u001b[1m1s\u001b[0m 24ms/step - accuracy: 0.9712 - loss: 0.1099 - val_accuracy: 0.7350 - val_loss: 1.0873\n",
      "Epoch 19/30\n",
      "\u001b[1m25/25\u001b[0m \u001b[32m━━━━━━━━━━━━━━━━━━━━\u001b[0m\u001b[37m\u001b[0m \u001b[1m1s\u001b[0m 26ms/step - accuracy: 0.9707 - loss: 0.0894 - val_accuracy: 0.7500 - val_loss: 1.0759\n",
      "Epoch 20/30\n",
      "\u001b[1m25/25\u001b[0m \u001b[32m━━━━━━━━━━━━━━━━━━━━\u001b[0m\u001b[37m\u001b[0m \u001b[1m1s\u001b[0m 25ms/step - accuracy: 0.9655 - loss: 0.1037 - val_accuracy: 0.7300 - val_loss: 1.1541\n",
      "Epoch 21/30\n",
      "\u001b[1m25/25\u001b[0m \u001b[32m━━━━━━━━━━━━━━━━━━━━\u001b[0m\u001b[37m\u001b[0m \u001b[1m1s\u001b[0m 25ms/step - accuracy: 0.9677 - loss: 0.1009 - val_accuracy: 0.7500 - val_loss: 1.0535\n",
      "Epoch 22/30\n",
      "\u001b[1m25/25\u001b[0m \u001b[32m━━━━━━━━━━━━━━━━━━━━\u001b[0m\u001b[37m\u001b[0m \u001b[1m1s\u001b[0m 25ms/step - accuracy: 0.9703 - loss: 0.0836 - val_accuracy: 0.7600 - val_loss: 1.1774\n",
      "Epoch 23/30\n",
      "\u001b[1m25/25\u001b[0m \u001b[32m━━━━━━━━━━━━━━━━━━━━\u001b[0m\u001b[37m\u001b[0m \u001b[1m1s\u001b[0m 25ms/step - accuracy: 0.9835 - loss: 0.0578 - val_accuracy: 0.7400 - val_loss: 1.1685\n",
      "Epoch 24/30\n",
      "\u001b[1m25/25\u001b[0m \u001b[32m━━━━━━━━━━━━━━━━━━━━\u001b[0m\u001b[37m\u001b[0m \u001b[1m1s\u001b[0m 25ms/step - accuracy: 0.9915 - loss: 0.0458 - val_accuracy: 0.7400 - val_loss: 1.2060\n",
      "Epoch 25/30\n",
      "\u001b[1m25/25\u001b[0m \u001b[32m━━━━━━━━━━━━━━━━━━━━\u001b[0m\u001b[37m\u001b[0m \u001b[1m1s\u001b[0m 24ms/step - accuracy: 0.9895 - loss: 0.0411 - val_accuracy: 0.7500 - val_loss: 1.2935\n",
      "Epoch 26/30\n",
      "\u001b[1m25/25\u001b[0m \u001b[32m━━━━━━━━━━━━━━━━━━━━\u001b[0m\u001b[37m\u001b[0m \u001b[1m1s\u001b[0m 24ms/step - accuracy: 0.9902 - loss: 0.0338 - val_accuracy: 0.7700 - val_loss: 1.3071\n",
      "Epoch 27/30\n",
      "\u001b[1m25/25\u001b[0m \u001b[32m━━━━━━━━━━━━━━━━━━━━\u001b[0m\u001b[37m\u001b[0m \u001b[1m1s\u001b[0m 24ms/step - accuracy: 0.9836 - loss: 0.0465 - val_accuracy: 0.7100 - val_loss: 1.3242\n",
      "Epoch 28/30\n",
      "\u001b[1m25/25\u001b[0m \u001b[32m━━━━━━━━━━━━━━━━━━━━\u001b[0m\u001b[37m\u001b[0m \u001b[1m1s\u001b[0m 25ms/step - accuracy: 0.9846 - loss: 0.0427 - val_accuracy: 0.7350 - val_loss: 1.3173\n",
      "Epoch 29/30\n",
      "\u001b[1m25/25\u001b[0m \u001b[32m━━━━━━━━━━━━━━━━━━━━\u001b[0m\u001b[37m\u001b[0m \u001b[1m1s\u001b[0m 25ms/step - accuracy: 0.9884 - loss: 0.0345 - val_accuracy: 0.7300 - val_loss: 1.4744\n",
      "Epoch 30/30\n",
      "\u001b[1m25/25\u001b[0m \u001b[32m━━━━━━━━━━━━━━━━━━━━\u001b[0m\u001b[37m\u001b[0m \u001b[1m1s\u001b[0m 25ms/step - accuracy: 0.9848 - loss: 0.0461 - val_accuracy: 0.7500 - val_loss: 1.3614\n"
     ]
    },
    {
     "data": {
      "text/plain": [
       "<keras.src.callbacks.history.History at 0x322cc1730>"
      ]
     },
     "execution_count": 8,
     "metadata": {},
     "output_type": "execute_result"
    }
   ],
   "source": [
    "# Train the CNN model\n",
    "cnn_model.fit(x_train, y_train_encoded, validation_data=(x_test, y_test_encoded), epochs=30, batch_size=32)\n"
   ]
  },
  {
   "cell_type": "markdown",
   "metadata": {},
   "source": [
    "### Training a Dense Neural Network"
   ]
  },
  {
   "cell_type": "code",
   "execution_count": 9,
   "metadata": {},
   "outputs": [
    {
     "data": {
      "text/html": [
       "<pre style=\"white-space:pre;overflow-x:auto;line-height:normal;font-family:Menlo,'DejaVu Sans Mono',consolas,'Courier New',monospace\"><span style=\"font-weight: bold\">Model: \"sequential_1\"</span>\n",
       "</pre>\n"
      ],
      "text/plain": [
       "\u001b[1mModel: \"sequential_1\"\u001b[0m\n"
      ]
     },
     "metadata": {},
     "output_type": "display_data"
    },
    {
     "data": {
      "text/html": [
       "<pre style=\"white-space:pre;overflow-x:auto;line-height:normal;font-family:Menlo,'DejaVu Sans Mono',consolas,'Courier New',monospace\">┏━━━━━━━━━━━━━━━━━━━━━━━━━━━━━━━━━┳━━━━━━━━━━━━━━━━━━━━━━━━┳━━━━━━━━━━━━━━━┓\n",
       "┃<span style=\"font-weight: bold\"> Layer (type)                    </span>┃<span style=\"font-weight: bold\"> Output Shape           </span>┃<span style=\"font-weight: bold\">       Param # </span>┃\n",
       "┡━━━━━━━━━━━━━━━━━━━━━━━━━━━━━━━━━╇━━━━━━━━━━━━━━━━━━━━━━━━╇━━━━━━━━━━━━━━━┩\n",
       "│ dense_2 (<span style=\"color: #0087ff; text-decoration-color: #0087ff\">Dense</span>)                 │ (<span style=\"color: #00d7ff; text-decoration-color: #00d7ff\">None</span>, <span style=\"color: #00af00; text-decoration-color: #00af00\">1024</span>)           │       <span style=\"color: #00af00; text-decoration-color: #00af00\">320,512</span> │\n",
       "├─────────────────────────────────┼────────────────────────┼───────────────┤\n",
       "│ batch_normalization             │ (<span style=\"color: #00d7ff; text-decoration-color: #00d7ff\">None</span>, <span style=\"color: #00af00; text-decoration-color: #00af00\">1024</span>)           │         <span style=\"color: #00af00; text-decoration-color: #00af00\">4,096</span> │\n",
       "│ (<span style=\"color: #0087ff; text-decoration-color: #0087ff\">BatchNormalization</span>)            │                        │               │\n",
       "├─────────────────────────────────┼────────────────────────┼───────────────┤\n",
       "│ dropout_1 (<span style=\"color: #0087ff; text-decoration-color: #0087ff\">Dropout</span>)             │ (<span style=\"color: #00d7ff; text-decoration-color: #00d7ff\">None</span>, <span style=\"color: #00af00; text-decoration-color: #00af00\">1024</span>)           │             <span style=\"color: #00af00; text-decoration-color: #00af00\">0</span> │\n",
       "├─────────────────────────────────┼────────────────────────┼───────────────┤\n",
       "│ dense_3 (<span style=\"color: #0087ff; text-decoration-color: #0087ff\">Dense</span>)                 │ (<span style=\"color: #00d7ff; text-decoration-color: #00d7ff\">None</span>, <span style=\"color: #00af00; text-decoration-color: #00af00\">512</span>)            │       <span style=\"color: #00af00; text-decoration-color: #00af00\">524,800</span> │\n",
       "├─────────────────────────────────┼────────────────────────┼───────────────┤\n",
       "│ batch_normalization_1           │ (<span style=\"color: #00d7ff; text-decoration-color: #00d7ff\">None</span>, <span style=\"color: #00af00; text-decoration-color: #00af00\">512</span>)            │         <span style=\"color: #00af00; text-decoration-color: #00af00\">2,048</span> │\n",
       "│ (<span style=\"color: #0087ff; text-decoration-color: #0087ff\">BatchNormalization</span>)            │                        │               │\n",
       "├─────────────────────────────────┼────────────────────────┼───────────────┤\n",
       "│ dropout_2 (<span style=\"color: #0087ff; text-decoration-color: #0087ff\">Dropout</span>)             │ (<span style=\"color: #00d7ff; text-decoration-color: #00d7ff\">None</span>, <span style=\"color: #00af00; text-decoration-color: #00af00\">512</span>)            │             <span style=\"color: #00af00; text-decoration-color: #00af00\">0</span> │\n",
       "├─────────────────────────────────┼────────────────────────┼───────────────┤\n",
       "│ dense_4 (<span style=\"color: #0087ff; text-decoration-color: #0087ff\">Dense</span>)                 │ (<span style=\"color: #00d7ff; text-decoration-color: #00d7ff\">None</span>, <span style=\"color: #00af00; text-decoration-color: #00af00\">256</span>)            │       <span style=\"color: #00af00; text-decoration-color: #00af00\">131,328</span> │\n",
       "├─────────────────────────────────┼────────────────────────┼───────────────┤\n",
       "│ batch_normalization_2           │ (<span style=\"color: #00d7ff; text-decoration-color: #00d7ff\">None</span>, <span style=\"color: #00af00; text-decoration-color: #00af00\">256</span>)            │         <span style=\"color: #00af00; text-decoration-color: #00af00\">1,024</span> │\n",
       "│ (<span style=\"color: #0087ff; text-decoration-color: #0087ff\">BatchNormalization</span>)            │                        │               │\n",
       "├─────────────────────────────────┼────────────────────────┼───────────────┤\n",
       "│ dropout_3 (<span style=\"color: #0087ff; text-decoration-color: #0087ff\">Dropout</span>)             │ (<span style=\"color: #00d7ff; text-decoration-color: #00d7ff\">None</span>, <span style=\"color: #00af00; text-decoration-color: #00af00\">256</span>)            │             <span style=\"color: #00af00; text-decoration-color: #00af00\">0</span> │\n",
       "├─────────────────────────────────┼────────────────────────┼───────────────┤\n",
       "│ dense_5 (<span style=\"color: #0087ff; text-decoration-color: #0087ff\">Dense</span>)                 │ (<span style=\"color: #00d7ff; text-decoration-color: #00d7ff\">None</span>, <span style=\"color: #00af00; text-decoration-color: #00af00\">128</span>)            │        <span style=\"color: #00af00; text-decoration-color: #00af00\">32,896</span> │\n",
       "├─────────────────────────────────┼────────────────────────┼───────────────┤\n",
       "│ batch_normalization_3           │ (<span style=\"color: #00d7ff; text-decoration-color: #00d7ff\">None</span>, <span style=\"color: #00af00; text-decoration-color: #00af00\">128</span>)            │           <span style=\"color: #00af00; text-decoration-color: #00af00\">512</span> │\n",
       "│ (<span style=\"color: #0087ff; text-decoration-color: #0087ff\">BatchNormalization</span>)            │                        │               │\n",
       "├─────────────────────────────────┼────────────────────────┼───────────────┤\n",
       "│ dense_6 (<span style=\"color: #0087ff; text-decoration-color: #0087ff\">Dense</span>)                 │ (<span style=\"color: #00d7ff; text-decoration-color: #00d7ff\">None</span>, <span style=\"color: #00af00; text-decoration-color: #00af00\">10</span>)             │         <span style=\"color: #00af00; text-decoration-color: #00af00\">1,290</span> │\n",
       "└─────────────────────────────────┴────────────────────────┴───────────────┘\n",
       "</pre>\n"
      ],
      "text/plain": [
       "┏━━━━━━━━━━━━━━━━━━━━━━━━━━━━━━━━━┳━━━━━━━━━━━━━━━━━━━━━━━━┳━━━━━━━━━━━━━━━┓\n",
       "┃\u001b[1m \u001b[0m\u001b[1mLayer (type)                   \u001b[0m\u001b[1m \u001b[0m┃\u001b[1m \u001b[0m\u001b[1mOutput Shape          \u001b[0m\u001b[1m \u001b[0m┃\u001b[1m \u001b[0m\u001b[1m      Param #\u001b[0m\u001b[1m \u001b[0m┃\n",
       "┡━━━━━━━━━━━━━━━━━━━━━━━━━━━━━━━━━╇━━━━━━━━━━━━━━━━━━━━━━━━╇━━━━━━━━━━━━━━━┩\n",
       "│ dense_2 (\u001b[38;5;33mDense\u001b[0m)                 │ (\u001b[38;5;45mNone\u001b[0m, \u001b[38;5;34m1024\u001b[0m)           │       \u001b[38;5;34m320,512\u001b[0m │\n",
       "├─────────────────────────────────┼────────────────────────┼───────────────┤\n",
       "│ batch_normalization             │ (\u001b[38;5;45mNone\u001b[0m, \u001b[38;5;34m1024\u001b[0m)           │         \u001b[38;5;34m4,096\u001b[0m │\n",
       "│ (\u001b[38;5;33mBatchNormalization\u001b[0m)            │                        │               │\n",
       "├─────────────────────────────────┼────────────────────────┼───────────────┤\n",
       "│ dropout_1 (\u001b[38;5;33mDropout\u001b[0m)             │ (\u001b[38;5;45mNone\u001b[0m, \u001b[38;5;34m1024\u001b[0m)           │             \u001b[38;5;34m0\u001b[0m │\n",
       "├─────────────────────────────────┼────────────────────────┼───────────────┤\n",
       "│ dense_3 (\u001b[38;5;33mDense\u001b[0m)                 │ (\u001b[38;5;45mNone\u001b[0m, \u001b[38;5;34m512\u001b[0m)            │       \u001b[38;5;34m524,800\u001b[0m │\n",
       "├─────────────────────────────────┼────────────────────────┼───────────────┤\n",
       "│ batch_normalization_1           │ (\u001b[38;5;45mNone\u001b[0m, \u001b[38;5;34m512\u001b[0m)            │         \u001b[38;5;34m2,048\u001b[0m │\n",
       "│ (\u001b[38;5;33mBatchNormalization\u001b[0m)            │                        │               │\n",
       "├─────────────────────────────────┼────────────────────────┼───────────────┤\n",
       "│ dropout_2 (\u001b[38;5;33mDropout\u001b[0m)             │ (\u001b[38;5;45mNone\u001b[0m, \u001b[38;5;34m512\u001b[0m)            │             \u001b[38;5;34m0\u001b[0m │\n",
       "├─────────────────────────────────┼────────────────────────┼───────────────┤\n",
       "│ dense_4 (\u001b[38;5;33mDense\u001b[0m)                 │ (\u001b[38;5;45mNone\u001b[0m, \u001b[38;5;34m256\u001b[0m)            │       \u001b[38;5;34m131,328\u001b[0m │\n",
       "├─────────────────────────────────┼────────────────────────┼───────────────┤\n",
       "│ batch_normalization_2           │ (\u001b[38;5;45mNone\u001b[0m, \u001b[38;5;34m256\u001b[0m)            │         \u001b[38;5;34m1,024\u001b[0m │\n",
       "│ (\u001b[38;5;33mBatchNormalization\u001b[0m)            │                        │               │\n",
       "├─────────────────────────────────┼────────────────────────┼───────────────┤\n",
       "│ dropout_3 (\u001b[38;5;33mDropout\u001b[0m)             │ (\u001b[38;5;45mNone\u001b[0m, \u001b[38;5;34m256\u001b[0m)            │             \u001b[38;5;34m0\u001b[0m │\n",
       "├─────────────────────────────────┼────────────────────────┼───────────────┤\n",
       "│ dense_5 (\u001b[38;5;33mDense\u001b[0m)                 │ (\u001b[38;5;45mNone\u001b[0m, \u001b[38;5;34m128\u001b[0m)            │        \u001b[38;5;34m32,896\u001b[0m │\n",
       "├─────────────────────────────────┼────────────────────────┼───────────────┤\n",
       "│ batch_normalization_3           │ (\u001b[38;5;45mNone\u001b[0m, \u001b[38;5;34m128\u001b[0m)            │           \u001b[38;5;34m512\u001b[0m │\n",
       "│ (\u001b[38;5;33mBatchNormalization\u001b[0m)            │                        │               │\n",
       "├─────────────────────────────────┼────────────────────────┼───────────────┤\n",
       "│ dense_6 (\u001b[38;5;33mDense\u001b[0m)                 │ (\u001b[38;5;45mNone\u001b[0m, \u001b[38;5;34m10\u001b[0m)             │         \u001b[38;5;34m1,290\u001b[0m │\n",
       "└─────────────────────────────────┴────────────────────────┴───────────────┘\n"
      ]
     },
     "metadata": {},
     "output_type": "display_data"
    },
    {
     "data": {
      "text/html": [
       "<pre style=\"white-space:pre;overflow-x:auto;line-height:normal;font-family:Menlo,'DejaVu Sans Mono',consolas,'Courier New',monospace\"><span style=\"font-weight: bold\"> Total params: </span><span style=\"color: #00af00; text-decoration-color: #00af00\">1,018,506</span> (3.89 MB)\n",
       "</pre>\n"
      ],
      "text/plain": [
       "\u001b[1m Total params: \u001b[0m\u001b[38;5;34m1,018,506\u001b[0m (3.89 MB)\n"
      ]
     },
     "metadata": {},
     "output_type": "display_data"
    },
    {
     "data": {
      "text/html": [
       "<pre style=\"white-space:pre;overflow-x:auto;line-height:normal;font-family:Menlo,'DejaVu Sans Mono',consolas,'Courier New',monospace\"><span style=\"font-weight: bold\"> Trainable params: </span><span style=\"color: #00af00; text-decoration-color: #00af00\">1,014,666</span> (3.87 MB)\n",
       "</pre>\n"
      ],
      "text/plain": [
       "\u001b[1m Trainable params: \u001b[0m\u001b[38;5;34m1,014,666\u001b[0m (3.87 MB)\n"
      ]
     },
     "metadata": {},
     "output_type": "display_data"
    },
    {
     "data": {
      "text/html": [
       "<pre style=\"white-space:pre;overflow-x:auto;line-height:normal;font-family:Menlo,'DejaVu Sans Mono',consolas,'Courier New',monospace\"><span style=\"font-weight: bold\"> Non-trainable params: </span><span style=\"color: #00af00; text-decoration-color: #00af00\">3,840</span> (15.00 KB)\n",
       "</pre>\n"
      ],
      "text/plain": [
       "\u001b[1m Non-trainable params: \u001b[0m\u001b[38;5;34m3,840\u001b[0m (15.00 KB)\n"
      ]
     },
     "metadata": {},
     "output_type": "display_data"
    }
   ],
   "source": [
    "import tensorflow as tf\n",
    "# Define an enhanced MLP architecture with better regularization and optimization\n",
    "def create_mlp(input_shape, num_classes):\n",
    "    model = Sequential([\n",
    "        layers.Input(shape=input_shape),\n",
    "        \n",
    "        # Hidden layers with batch norm and dropout\n",
    "        layers.Dense(1024, activation='relu', kernel_initializer='he_normal'),\n",
    "        layers.BatchNormalization(),\n",
    "        layers.Dropout(0.5),\n",
    "        \n",
    "        layers.Dense(512, activation='relu', kernel_initializer='he_normal'),\n",
    "        layers.BatchNormalization(),\n",
    "        layers.Dropout(0.4),\n",
    "        \n",
    "        layers.Dense(256, activation='relu', kernel_initializer='he_normal'),\n",
    "        layers.BatchNormalization(),\n",
    "        layers.Dropout(0.3),\n",
    "        \n",
    "        # Additional hidden layer\n",
    "        layers.Dense(128, activation='relu', kernel_initializer='he_normal'),\n",
    "        layers.BatchNormalization(),\n",
    "        \n",
    "        # Output layer\n",
    "        layers.Dense(num_classes, activation='softmax')\n",
    "    ])\n",
    "\n",
    "    \n",
    "    model.compile(\n",
    "        optimizer=\"Adam\",\n",
    "        loss='categorical_crossentropy',\n",
    "        metrics=['accuracy'])\n",
    "    return model\n",
    "\n",
    "mlp_model = create_mlp((x_train.shape[1],), len(genres))\n",
    "mlp_model.summary()"
   ]
  },
  {
   "cell_type": "code",
   "execution_count": 10,
   "metadata": {},
   "outputs": [
    {
     "name": "stdout",
     "output_type": "stream",
     "text": [
      "Epoch 1/30\n",
      "\u001b[1m7/7\u001b[0m \u001b[32m━━━━━━━━━━━━━━━━━━━━\u001b[0m\u001b[37m\u001b[0m \u001b[1m1s\u001b[0m 34ms/step - accuracy: 0.1920 - loss: 2.7099 - val_accuracy: 0.2900 - val_loss: 2.0701 - learning_rate: 0.0010\n",
      "Epoch 2/30\n",
      "\u001b[1m7/7\u001b[0m \u001b[32m━━━━━━━━━━━━━━━━━━━━\u001b[0m\u001b[37m\u001b[0m \u001b[1m0s\u001b[0m 15ms/step - accuracy: 0.4881 - loss: 1.5555 - val_accuracy: 0.3050 - val_loss: 2.0056 - learning_rate: 0.0010\n",
      "Epoch 3/30\n",
      "\u001b[1m7/7\u001b[0m \u001b[32m━━━━━━━━━━━━━━━━━━━━\u001b[0m\u001b[37m\u001b[0m \u001b[1m0s\u001b[0m 15ms/step - accuracy: 0.5222 - loss: 1.2876 - val_accuracy: 0.3500 - val_loss: 1.9635 - learning_rate: 0.0010\n",
      "Epoch 4/30\n",
      "\u001b[1m7/7\u001b[0m \u001b[32m━━━━━━━━━━━━━━━━━━━━\u001b[0m\u001b[37m\u001b[0m \u001b[1m0s\u001b[0m 15ms/step - accuracy: 0.5927 - loss: 1.1284 - val_accuracy: 0.3850 - val_loss: 1.9225 - learning_rate: 0.0010\n",
      "Epoch 5/30\n",
      "\u001b[1m7/7\u001b[0m \u001b[32m━━━━━━━━━━━━━━━━━━━━\u001b[0m\u001b[37m\u001b[0m \u001b[1m0s\u001b[0m 15ms/step - accuracy: 0.6020 - loss: 1.0877 - val_accuracy: 0.4050 - val_loss: 1.8401 - learning_rate: 0.0010\n",
      "Epoch 6/30\n",
      "\u001b[1m7/7\u001b[0m \u001b[32m━━━━━━━━━━━━━━━━━━━━\u001b[0m\u001b[37m\u001b[0m \u001b[1m0s\u001b[0m 16ms/step - accuracy: 0.6795 - loss: 0.9078 - val_accuracy: 0.4000 - val_loss: 1.7860 - learning_rate: 0.0010\n",
      "Epoch 7/30\n",
      "\u001b[1m7/7\u001b[0m \u001b[32m━━━━━━━━━━━━━━━━━━━━\u001b[0m\u001b[37m\u001b[0m \u001b[1m0s\u001b[0m 15ms/step - accuracy: 0.7066 - loss: 0.8684 - val_accuracy: 0.4000 - val_loss: 1.7582 - learning_rate: 0.0010\n",
      "Epoch 8/30\n",
      "\u001b[1m7/7\u001b[0m \u001b[32m━━━━━━━━━━━━━━━━━━━━\u001b[0m\u001b[37m\u001b[0m \u001b[1m0s\u001b[0m 15ms/step - accuracy: 0.7030 - loss: 0.8516 - val_accuracy: 0.4100 - val_loss: 1.7161 - learning_rate: 0.0010\n",
      "Epoch 9/30\n",
      "\u001b[1m7/7\u001b[0m \u001b[32m━━━━━━━━━━━━━━━━━━━━\u001b[0m\u001b[37m\u001b[0m \u001b[1m0s\u001b[0m 16ms/step - accuracy: 0.7246 - loss: 0.8008 - val_accuracy: 0.4150 - val_loss: 1.6551 - learning_rate: 0.0010\n",
      "Epoch 10/30\n",
      "\u001b[1m7/7\u001b[0m \u001b[32m━━━━━━━━━━━━━━━━━━━━\u001b[0m\u001b[37m\u001b[0m \u001b[1m0s\u001b[0m 16ms/step - accuracy: 0.7621 - loss: 0.6982 - val_accuracy: 0.4350 - val_loss: 1.5696 - learning_rate: 0.0010\n",
      "Epoch 11/30\n",
      "\u001b[1m7/7\u001b[0m \u001b[32m━━━━━━━━━━━━━━━━━━━━\u001b[0m\u001b[37m\u001b[0m \u001b[1m0s\u001b[0m 16ms/step - accuracy: 0.7715 - loss: 0.6430 - val_accuracy: 0.4500 - val_loss: 1.5236 - learning_rate: 0.0010\n",
      "Epoch 12/30\n",
      "\u001b[1m7/7\u001b[0m \u001b[32m━━━━━━━━━━━━━━━━━━━━\u001b[0m\u001b[37m\u001b[0m \u001b[1m0s\u001b[0m 15ms/step - accuracy: 0.7873 - loss: 0.6491 - val_accuracy: 0.4750 - val_loss: 1.5219 - learning_rate: 0.0010\n",
      "Epoch 13/30\n",
      "\u001b[1m7/7\u001b[0m \u001b[32m━━━━━━━━━━━━━━━━━━━━\u001b[0m\u001b[37m\u001b[0m \u001b[1m0s\u001b[0m 16ms/step - accuracy: 0.8001 - loss: 0.6133 - val_accuracy: 0.4750 - val_loss: 1.4920 - learning_rate: 0.0010\n",
      "Epoch 14/30\n",
      "\u001b[1m7/7\u001b[0m \u001b[32m━━━━━━━━━━━━━━━━━━━━\u001b[0m\u001b[37m\u001b[0m \u001b[1m0s\u001b[0m 16ms/step - accuracy: 0.8131 - loss: 0.5378 - val_accuracy: 0.4800 - val_loss: 1.4602 - learning_rate: 0.0010\n",
      "Epoch 15/30\n",
      "\u001b[1m7/7\u001b[0m \u001b[32m━━━━━━━━━━━━━━━━━━━━\u001b[0m\u001b[37m\u001b[0m \u001b[1m0s\u001b[0m 16ms/step - accuracy: 0.8254 - loss: 0.5180 - val_accuracy: 0.4750 - val_loss: 1.4098 - learning_rate: 0.0010\n",
      "Epoch 16/30\n",
      "\u001b[1m7/7\u001b[0m \u001b[32m━━━━━━━━━━━━━━━━━━━━\u001b[0m\u001b[37m\u001b[0m \u001b[1m0s\u001b[0m 17ms/step - accuracy: 0.8470 - loss: 0.4509 - val_accuracy: 0.4750 - val_loss: 1.4205 - learning_rate: 0.0010\n",
      "Epoch 17/30\n",
      "\u001b[1m7/7\u001b[0m \u001b[32m━━━━━━━━━━━━━━━━━━━━\u001b[0m\u001b[37m\u001b[0m \u001b[1m0s\u001b[0m 17ms/step - accuracy: 0.8260 - loss: 0.4877 - val_accuracy: 0.5300 - val_loss: 1.3781 - learning_rate: 0.0010\n",
      "Epoch 18/30\n",
      "\u001b[1m7/7\u001b[0m \u001b[32m━━━━━━━━━━━━━━━━━━━━\u001b[0m\u001b[37m\u001b[0m \u001b[1m0s\u001b[0m 18ms/step - accuracy: 0.8516 - loss: 0.4178 - val_accuracy: 0.5200 - val_loss: 1.3684 - learning_rate: 0.0010\n",
      "Epoch 19/30\n",
      "\u001b[1m7/7\u001b[0m \u001b[32m━━━━━━━━━━━━━━━━━━━━\u001b[0m\u001b[37m\u001b[0m \u001b[1m0s\u001b[0m 17ms/step - accuracy: 0.8865 - loss: 0.3686 - val_accuracy: 0.5600 - val_loss: 1.3512 - learning_rate: 0.0010\n",
      "Epoch 20/30\n",
      "\u001b[1m7/7\u001b[0m \u001b[32m━━━━━━━━━━━━━━━━━━━━\u001b[0m\u001b[37m\u001b[0m \u001b[1m0s\u001b[0m 17ms/step - accuracy: 0.8816 - loss: 0.3674 - val_accuracy: 0.5100 - val_loss: 1.4559 - learning_rate: 0.0010\n",
      "Epoch 21/30\n",
      "\u001b[1m7/7\u001b[0m \u001b[32m━━━━━━━━━━━━━━━━━━━━\u001b[0m\u001b[37m\u001b[0m \u001b[1m0s\u001b[0m 17ms/step - accuracy: 0.8907 - loss: 0.3637 - val_accuracy: 0.5050 - val_loss: 1.4428 - learning_rate: 0.0010\n",
      "Epoch 22/30\n",
      "\u001b[1m7/7\u001b[0m \u001b[32m━━━━━━━━━━━━━━━━━━━━\u001b[0m\u001b[37m\u001b[0m \u001b[1m0s\u001b[0m 17ms/step - accuracy: 0.8997 - loss: 0.3240 - val_accuracy: 0.5300 - val_loss: 1.4076 - learning_rate: 0.0010\n",
      "Epoch 23/30\n",
      "\u001b[1m7/7\u001b[0m \u001b[32m━━━━━━━━━━━━━━━━━━━━\u001b[0m\u001b[37m\u001b[0m \u001b[1m0s\u001b[0m 18ms/step - accuracy: 0.8821 - loss: 0.3539 - val_accuracy: 0.5050 - val_loss: 1.4138 - learning_rate: 0.0010\n",
      "Epoch 24/30\n",
      "\u001b[1m7/7\u001b[0m \u001b[32m━━━━━━━━━━━━━━━━━━━━\u001b[0m\u001b[37m\u001b[0m \u001b[1m0s\u001b[0m 16ms/step - accuracy: 0.8784 - loss: 0.3586 - val_accuracy: 0.5300 - val_loss: 1.4187 - learning_rate: 0.0010\n",
      "Epoch 25/30\n",
      "\u001b[1m7/7\u001b[0m \u001b[32m━━━━━━━━━━━━━━━━━━━━\u001b[0m\u001b[37m\u001b[0m \u001b[1m0s\u001b[0m 17ms/step - accuracy: 0.9124 - loss: 0.2793 - val_accuracy: 0.5250 - val_loss: 1.4599 - learning_rate: 5.0000e-04\n",
      "Epoch 26/30\n",
      "\u001b[1m7/7\u001b[0m \u001b[32m━━━━━━━━━━━━━━━━━━━━\u001b[0m\u001b[37m\u001b[0m \u001b[1m0s\u001b[0m 17ms/step - accuracy: 0.9056 - loss: 0.2740 - val_accuracy: 0.5200 - val_loss: 1.4989 - learning_rate: 5.0000e-04\n",
      "Epoch 27/30\n",
      "\u001b[1m7/7\u001b[0m \u001b[32m━━━━━━━━━━━━━━━━━━━━\u001b[0m\u001b[37m\u001b[0m \u001b[1m0s\u001b[0m 17ms/step - accuracy: 0.9192 - loss: 0.2668 - val_accuracy: 0.5250 - val_loss: 1.4891 - learning_rate: 5.0000e-04\n",
      "Epoch 28/30\n",
      "\u001b[1m7/7\u001b[0m \u001b[32m━━━━━━━━━━━━━━━━━━━━\u001b[0m\u001b[37m\u001b[0m \u001b[1m0s\u001b[0m 17ms/step - accuracy: 0.9015 - loss: 0.2999 - val_accuracy: 0.5500 - val_loss: 1.4491 - learning_rate: 5.0000e-04\n",
      "Epoch 29/30\n",
      "\u001b[1m7/7\u001b[0m \u001b[32m━━━━━━━━━━━━━━━━━━━━\u001b[0m\u001b[37m\u001b[0m \u001b[1m0s\u001b[0m 16ms/step - accuracy: 0.9236 - loss: 0.2489 - val_accuracy: 0.5400 - val_loss: 1.4274 - learning_rate: 5.0000e-04\n",
      "Epoch 30/30\n",
      "\u001b[1m7/7\u001b[0m \u001b[32m━━━━━━━━━━━━━━━━━━━━\u001b[0m\u001b[37m\u001b[0m \u001b[1m0s\u001b[0m 17ms/step - accuracy: 0.9333 - loss: 0.2349 - val_accuracy: 0.5650 - val_loss: 1.4069 - learning_rate: 2.5000e-04\n"
     ]
    },
    {
     "data": {
      "text/plain": [
       "<keras.src.callbacks.history.History at 0x322d71d90>"
      ]
     },
     "execution_count": 10,
     "metadata": {},
     "output_type": "execute_result"
    }
   ],
   "source": [
    "from keras.callbacks import EarlyStopping, ReduceLROnPlateau\n",
    "# Add callbacks for better training\n",
    "mlp_callbacks = [\n",
    "    EarlyStopping(monitor='val_loss', patience=15, restore_best_weights=True),\n",
    "    ReduceLROnPlateau(monitor='val_loss', factor=0.5, patience=5, min_lr=1e-6),\n",
    "]\n",
    "\n",
    "mlp_model.fit(\n",
    "    x_train, y_train_encoded,\n",
    "    validation_data=(x_test, y_test_encoded),\n",
    "    epochs=30,\n",
    "    batch_size=128,  # Larger batch size\n",
    "    callbacks=mlp_callbacks,\n",
    ")"
   ]
  },
  {
   "cell_type": "code",
   "execution_count": 11,
   "metadata": {},
   "outputs": [
    {
     "name": "stdout",
     "output_type": "stream",
     "text": [
      "\u001b[1m7/7\u001b[0m \u001b[32m━━━━━━━━━━━━━━━━━━━━\u001b[0m\u001b[37m\u001b[0m \u001b[1m0s\u001b[0m 10ms/step\n",
      "Accuracy (CNN): 0.560\n"
     ]
    }
   ],
   "source": [
    "y_pred_cnn = mlp_model.predict(x_test)\n",
    "y_pred_cnn = np.argmax(y_pred_cnn, axis=1)\n",
    "accuracy_cnn = accuracy_score(y_test, y_pred_cnn)\n",
    "print(f\"Accuracy (CNN): {accuracy_cnn:.3f}\")"
   ]
  },
  {
   "cell_type": "markdown",
   "metadata": {},
   "source": [
    "### Cell 10 - XGBoost model "
   ]
  },
  {
   "cell_type": "code",
   "execution_count": 12,
   "metadata": {},
   "outputs": [],
   "source": [
    "xgb_model = xgb.XGBClassifier(n_estimators=1000, learning_rate=0.05)\n",
    "xgb_model.fit(x_train, y_train)\n",
    "y_pred_xgb = xgb_model.predict(x_test)"
   ]
  },
  {
   "cell_type": "markdown",
   "metadata": {},
   "source": [
    "### Random forest model"
   ]
  },
  {
   "cell_type": "code",
   "execution_count": 13,
   "metadata": {},
   "outputs": [
    {
     "name": "stdout",
     "output_type": "stream",
     "text": [
      "Accuracy: 0.740\n"
     ]
    }
   ],
   "source": [
    "# Initialize the Random Forest Classifier\n",
    "rf_model = RandomForestClassifier(\n",
    "    n_estimators=100,\n",
    "    max_depth=None,\n",
    "    min_samples_split=2,\n",
    "    min_samples_leaf=1,\n",
    "    random_state=42\n",
    ")\n",
    "\n",
    "# Train the model\n",
    "rf_model.fit(x_train, y_train)\n",
    "\n",
    "# Make predictions on the test set\n",
    "y_pred_rf = rf_model.predict(x_test)\n",
    "\n",
    "# Evaluate the model\n",
    "accuracy_rf = accuracy_score(y_test, y_pred_rf)\n",
    "print(f\"Accuracy: {accuracy_rf:.3f}\")"
   ]
  },
  {
   "cell_type": "code",
   "execution_count": 14,
   "metadata": {},
   "outputs": [
    {
     "name": "stdout",
     "output_type": "stream",
     "text": [
      "Accuracy: 0.740\n"
     ]
    }
   ],
   "source": [
    "# Initialize the Random Forest Classifier\n",
    "rf_model = RandomForestClassifier(\n",
    "    n_estimators=100,\n",
    "    max_depth=None,\n",
    "    min_samples_split=2,\n",
    "    min_samples_leaf=1,\n",
    "    random_state=42\n",
    ")\n",
    "\n",
    "# Train the model\n",
    "rf_model.fit(x_train, y_train)\n",
    "\n",
    "# Make predictions on the test set\n",
    "y_pred_rf = rf_model.predict(x_test)\n",
    "\n",
    "# Evaluate the model\n",
    "accuracy_rf = accuracy_score(y_test, y_pred_rf)\n",
    "print(f\"Accuracy: {accuracy_rf:.3f}\")"
   ]
  },
  {
   "cell_type": "markdown",
   "metadata": {},
   "source": [
    "### Cell 11 - Evaluate models"
   ]
  },
  {
   "cell_type": "code",
   "execution_count": 15,
   "metadata": {},
   "outputs": [
    {
     "name": "stdout",
     "output_type": "stream",
     "text": [
      "\u001b[1m7/7\u001b[0m \u001b[32m━━━━━━━━━━━━━━━━━━━━\u001b[0m\u001b[37m\u001b[0m \u001b[1m0s\u001b[0m 14ms/step\n",
      "\u001b[1m7/7\u001b[0m \u001b[32m━━━━━━━━━━━━━━━━━━━━\u001b[0m\u001b[37m\u001b[0m \u001b[1m0s\u001b[0m 3ms/step \n",
      "Accuracy (CNN): 0.750\n",
      "Accuracy (DNN): 0.560\n",
      "Accuracy (SVM): 0.730\n",
      "Accuracy (RFC): 0.740\n",
      "Accuracy (XGB): 0.730\n"
     ]
    }
   ],
   "source": [
    "# Predict using the CNN model\n",
    "y_pred_cnn = cnn_model.predict(x_test)\n",
    "y_pred_cnn = np.argmax(y_pred_cnn, axis=1)\n",
    "y_pred_mlp = mlp_model.predict(x_test)\n",
    "y_pred_mlp = np.argmax(y_pred_mlp, axis=1)\n",
    "\n",
    "# Calculate accuracy\n",
    "accuracy_cnn = accuracy_score(y_test, y_pred_cnn)\n",
    "print(f\"Accuracy (CNN): {accuracy_cnn:.3f}\")\n",
    "\n",
    "accuracy_mlp = accuracy_score(y_test, y_pred_mlp)\n",
    "print(f\"Accuracy (DNN): {accuracy_mlp:.3f}\")\n",
    "\n",
    "accuracy_svm = accuracy_score(y_test, y_pred_svm)\n",
    "print(f\"Accuracy (SVM): {accuracy_svm:.3f}\")\n",
    "\n",
    "accuracy_rf = accuracy_score(y_test, y_pred_rf)\n",
    "print(f\"Accuracy (RFC): {accuracy_rf:.3f}\")\n",
    "\n",
    "xgb_accuracy = accuracy_score(y_test, y_pred_xgb)\n",
    "print(f\"Accuracy (XGB): {xgb_accuracy:.3f}\")\n"
   ]
  },
  {
   "cell_type": "markdown",
   "metadata": {},
   "source": [
    "### Cell 12 - Creating an ensemble using soft voting"
   ]
  },
  {
   "cell_type": "code",
   "execution_count": 16,
   "metadata": {},
   "outputs": [
    {
     "name": "stdout",
     "output_type": "stream",
     "text": [
      "\u001b[1m7/7\u001b[0m \u001b[32m━━━━━━━━━━━━━━━━━━━━\u001b[0m\u001b[37m\u001b[0m \u001b[1m0s\u001b[0m 9ms/step \n",
      "\u001b[1m7/7\u001b[0m \u001b[32m━━━━━━━━━━━━━━━━━━━━\u001b[0m\u001b[37m\u001b[0m \u001b[1m0s\u001b[0m 3ms/step \n",
      "Ensemble Accuracy: 0.795\n"
     ]
    }
   ],
   "source": [
    "# Get predictions from each model\n",
    "xgb_preds_proba = xgb_model.predict_proba(x_test)\n",
    "rf_preds_proba = rf_model.predict_proba(x_test)\n",
    "svm_preds_proba = svm_model.predict_proba(X_test_scaled)\n",
    "cnn_preds_proba = cnn_model.predict(x_test)\n",
    "mlp_preds_proba = mlp_model.predict(x_test)\n",
    "\n",
    "# Average the predictions (soft voting)\n",
    "avg_preds_proba = (xgb_preds_proba + svm_preds_proba + cnn_preds_proba +  rf_preds_proba + mlp_preds_proba) / 5\n",
    "\n",
    "# Convert probabilities to class predictions\n",
    "ensemble_preds = np.argmax(avg_preds_proba, axis=1)\n",
    "\n",
    "# Evaluate the ensemble performance\n",
    "soft_ensemble_accuracy = accuracy_score(y_test, ensemble_preds)\n",
    "print(f\"Ensemble Accuracy: {soft_ensemble_accuracy:.3f}\")\n"
   ]
  },
  {
   "cell_type": "code",
   "execution_count": 17,
   "metadata": {},
   "outputs": [
    {
     "name": "stdout",
     "output_type": "stream",
     "text": [
      "[5 7 7 6 4 3 6 5 8 1 8 0 6 9 9 0 2 4 7 3 5 1 7 5 9 2 2 9 9 3 7 1 6 4 3 1 6\n",
      " 5 9 0 9 0 9 7 2 2 9 6 4 8 2 8 2 9 9 0 6 0 2 8 2 0 5 2 6 9 4 8 9 5 1 7 5 8\n",
      " 2 0 6 0 9 4 6 0 9 2 6 5 9 7 7 8 8 4 0 0 7 8 7 0 0 7 7 3 2 2 6 6 5 9 1 9 5\n",
      " 4 3 8 0 6 1 0 5 2 4 4 7 2 2 5 5 4 8 4 5 8 2 9 5 0 1 2 0 0 0 3 7 2 8 9 8 9\n",
      " 8 8 6 1 3 4 7 4 3 6 0 8 5 7 6 6 8 3 2 3 3 3 7 4 2 9 3 3 2 2 2 9 8 6 9 5 8\n",
      " 1 3 3 2 7 9 8 6 1 2 7 3 2 6 0]\n",
      "[5 7 7 6 4 3 6 5 8 1 8 0 6 9 9 0 2 8 7 3 5 1 7 5 9 2 5 1 2 9 7 1 6 8 7 1 6\n",
      " 5 2 0 9 0 9 9 2 2 9 6 4 8 5 8 2 5 9 0 6 0 2 8 2 0 5 2 6 6 4 8 8 5 1 7 5 8\n",
      " 2 0 6 0 9 3 6 0 9 0 9 5 9 7 7 9 8 4 0 0 7 8 7 0 0 8 7 2 9 2 6 0 5 2 1 2 5\n",
      " 8 3 8 0 4 1 9 5 2 8 4 7 2 2 5 5 8 8 8 5 8 2 9 5 0 1 2 0 0 0 3 7 2 8 9 8 2\n",
      " 8 8 6 1 9 4 5 7 3 6 0 7 1 7 6 6 8 6 2 6 3 3 3 4 5 9 3 9 3 2 2 9 8 6 9 5 8\n",
      " 1 3 4 9 7 9 8 6 1 0 4 8 2 6 0]\n"
     ]
    }
   ],
   "source": [
    "print(y_pred_svm)\n",
    "print(y_pred_cnn)"
   ]
  },
  {
   "cell_type": "code",
   "execution_count": 18,
   "metadata": {},
   "outputs": [
    {
     "name": "stdout",
     "output_type": "stream",
     "text": [
      "The predictions before averaging (200, 10)\n",
      "The predictions after averaging (200,)\n"
     ]
    }
   ],
   "source": [
    "print(\"The predictions before averaging\", avg_preds_proba.shape)\n",
    "print(\"The predictions after averaging\", ensemble_preds.shape)"
   ]
  },
  {
   "cell_type": "markdown",
   "metadata": {},
   "source": [
    "### Cell 13 - Creating an ensemble using hard voting"
   ]
  },
  {
   "cell_type": "code",
   "execution_count": 19,
   "metadata": {},
   "outputs": [
    {
     "name": "stdout",
     "output_type": "stream",
     "text": [
      "\u001b[1m7/7\u001b[0m \u001b[32m━━━━━━━━━━━━━━━━━━━━\u001b[0m\u001b[37m\u001b[0m \u001b[1m0s\u001b[0m 9ms/step \n",
      "\u001b[1m7/7\u001b[0m \u001b[32m━━━━━━━━━━━━━━━━━━━━\u001b[0m\u001b[37m\u001b[0m \u001b[1m0s\u001b[0m 3ms/step \n",
      "Hard Voting Ensemble Accuracy: 0.750\n"
     ]
    }
   ],
   "source": [
    "from scipy.stats import mode\n",
    "from sklearn.metrics import accuracy_score\n",
    "import numpy as np\n",
    "\n",
    "# Step 1: Get class predictions from each model\n",
    "xgb_preds = xgb_model.predict(x_test)  # Class labels\n",
    "rf_preds = rf_model.predict(x_test)\n",
    "svm_preds = svm_model.predict(X_test_scaled)\n",
    "cnn_preds = np.argmax(cnn_model.predict(x_test), axis=1)  # Convert CNN probs to class labels\n",
    "mlp_preds = np.argmax(mlp_model.predict(x_test), axis=1)  # Convert DNN probs to class labels\n",
    "\n",
    "\n",
    "# Step 2: Stack predictions\n",
    "all_preds = np.array([xgb_preds, svm_preds, cnn_preds, rf_preds + mlp_preds])  # Shape: (3, num_samples)\n",
    "\n",
    "# Step 3: Perform majority voting (hard voting)\n",
    "ensemble_preds, _ = mode(all_preds, axis=0, keepdims=True)  # Get most common class per sample\n",
    "ensemble_preds = ensemble_preds.flatten()  # Convert to 1D array\n",
    "\n",
    "# Step 4: Evaluate accuracy\n",
    "hard_ensemble_accuracy = accuracy_score(y_test, ensemble_preds)\n",
    "print(f\"Hard Voting Ensemble Accuracy: {hard_ensemble_accuracy:.3f}\")\n"
   ]
  },
  {
   "cell_type": "code",
   "execution_count": 20,
   "metadata": {},
   "outputs": [
    {
     "name": "stdout",
     "output_type": "stream",
     "text": [
      "Number of samples where all 5 models agree: 82/200\n",
      "XGBoost vs Random Forest: 160/200 (80.0% agreement)\n",
      "XGBoost vs SVM: 149/200 (74.5% agreement)\n",
      "XGBoost vs CNN: 142/200 (71.0% agreement)\n",
      "XGBoost vs MLP: 107/200 (53.5% agreement)\n",
      "Random Forest vs SVM: 152/200 (76.0% agreement)\n",
      "Random Forest vs CNN: 145/200 (72.5% agreement)\n",
      "Random Forest vs MLP: 113/200 (56.5% agreement)\n",
      "SVM vs CNN: 154/200 (77.0% agreement)\n",
      "SVM vs MLP: 118/200 (59.0% agreement)\n",
      "CNN vs MLP: 106/200 (53.0% agreement)\n"
     ]
    }
   ],
   "source": [
    "from itertools import combinations\n",
    "# Stack all predictions into a 2D array (5 models × 1998 samples)\n",
    "all_preds = np.vstack([xgb_preds, rf_preds, svm_preds, cnn_preds, mlp_preds])\n",
    "full_consensus_mask = np.all(all_preds == all_preds[0, :], axis=0)  # Compare all rows to 1st row (XGB)\n",
    "num_full_consensus = np.sum(full_consensus_mask)\n",
    "print(f\"Number of samples where all 5 models agree: {num_full_consensus}/{len(x_test)}\")\n",
    "\n",
    "models = ['XGBoost', 'Random Forest', 'SVM', 'CNN', 'MLP']\n",
    "preds_list = [xgb_preds, rf_preds, svm_preds, cnn_preds, mlp_preds]\n",
    "\n",
    "# Compare every pair of models\n",
    "for (i, name1), (j, name2) in combinations(zip(range(5), models), 2):\n",
    "    matches = np.sum(preds_list[i] == preds_list[j])\n",
    "    print(f\"{name1} vs {name2}: {matches}/{len(x_test)} ({matches/len(x_test):.1%} agreement)\")"
   ]
  },
  {
   "cell_type": "code",
   "execution_count": 21,
   "metadata": {},
   "outputs": [
    {
     "name": "stdout",
     "output_type": "stream",
     "text": [
      "The predictions before averaging (5, 200)\n",
      "The predictions after averaging (200,)\n"
     ]
    }
   ],
   "source": [
    "print(\"The predictions before averaging\", all_preds.shape)\n",
    "print(\"The predictions after averaging\", ensemble_preds.shape)"
   ]
  },
  {
   "cell_type": "markdown",
   "metadata": {},
   "source": [
    "### Weighted voting"
   ]
  },
  {
   "cell_type": "code",
   "execution_count": 22,
   "metadata": {},
   "outputs": [
    {
     "name": "stdout",
     "output_type": "stream",
     "text": [
      "\u001b[1m7/7\u001b[0m \u001b[32m━━━━━━━━━━━━━━━━━━━━\u001b[0m\u001b[37m\u001b[0m \u001b[1m0s\u001b[0m 9ms/step \n",
      "\u001b[1m7/7\u001b[0m \u001b[32m━━━━━━━━━━━━━━━━━━━━\u001b[0m\u001b[37m\u001b[0m \u001b[1m0s\u001b[0m 9ms/step \n",
      "Weighted Ensemble Accuracy: 0.755\n"
     ]
    }
   ],
   "source": [
    "import numpy as np\n",
    "from sklearn.metrics import accuracy_score\n",
    "\n",
    "# Define the weights based on model accuracies\n",
    "weights = {\n",
    "    'mlp': accuracy_mlp,\n",
    "    'cnn': accuracy_cnn,\n",
    "    'svm': accuracy_svm,\n",
    "    'rf': accuracy_rf,\n",
    "    'xgb': xgb_accuracy\n",
    "}\n",
    "\n",
    "# Normalize the weights so they sum to 1\n",
    "total_weight = sum(weights.values())\n",
    "weights = {k: v / total_weight for k, v in weights.items()}\n",
    "\n",
    "# Get predictions from each model\n",
    "xgb_preds_proba = xgb_model.predict_proba(x_test)\n",
    "rf_preds_proba = rf_model.predict_proba(x_test)\n",
    "svm_preds_proba = svm_model.predict_proba(X_test_scaled)\n",
    "cnn_preds_proba = cnn_model.predict(x_test)\n",
    "mlp_preds_proba = cnn_model.predict(x_test)\n",
    "\n",
    "\n",
    "# Apply weights to the predicted probabilities\n",
    "weighted_xgb_proba = xgb_preds_proba * weights['xgb']\n",
    "weighted_rf_proba = rf_preds_proba * weights['rf']\n",
    "weighted_svm_proba = svm_preds_proba * weights['svm']\n",
    "weighted_cnn_proba = cnn_preds_proba * weights['cnn']\n",
    "weighted_mlp_proba = mlp_preds_proba * weights['cnn']\n",
    "\n",
    "\n",
    "# Combine the weighted probabilities\n",
    "weighted_avg_proba = weighted_xgb_proba +  weighted_cnn_proba + weighted_svm_proba + weighted_rf_proba + weighted_mlp_proba\n",
    "\n",
    "# Convert weighted probabilities to class predictions\n",
    "weighted_ensemble_preds = np.argmax(weighted_avg_proba, axis=1)\n",
    "\n",
    "# Evaluate the weighted ensemble performance\n",
    "weighted_ensemble_accuracy = accuracy_score(y_test, weighted_ensemble_preds)\n",
    "print(f\"Weighted Ensemble Accuracy: {weighted_ensemble_accuracy:.3f}\")"
   ]
  },
  {
   "cell_type": "code",
   "execution_count": 23,
   "metadata": {},
   "outputs": [
    {
     "data": {
      "text/plain": [
       "np.int64(7)"
      ]
     },
     "execution_count": 23,
     "metadata": {},
     "output_type": "execute_result"
    }
   ],
   "source": [
    "y_test[1]"
   ]
  },
  {
   "cell_type": "code",
   "execution_count": 24,
   "metadata": {},
   "outputs": [
    {
     "name": "stdout",
     "output_type": "stream",
     "text": [
      "\u001b[1m25/25\u001b[0m \u001b[32m━━━━━━━━━━━━━━━━━━━━\u001b[0m\u001b[37m\u001b[0m \u001b[1m0s\u001b[0m 8ms/step\n",
      "\u001b[1m25/25\u001b[0m \u001b[32m━━━━━━━━━━━━━━━━━━━━\u001b[0m\u001b[37m\u001b[0m \u001b[1m0s\u001b[0m 2ms/step\n",
      "\u001b[1m7/7\u001b[0m \u001b[32m━━━━━━━━━━━━━━━━━━━━\u001b[0m\u001b[37m\u001b[0m \u001b[1m0s\u001b[0m 9ms/step \n",
      "\u001b[1m7/7\u001b[0m \u001b[32m━━━━━━━━━━━━━━━━━━━━\u001b[0m\u001b[37m\u001b[0m \u001b[1m0s\u001b[0m 3ms/step \n",
      "Stacking Ensemble Accuracy: 0.795\n"
     ]
    }
   ],
   "source": [
    "from sklearn.linear_model import LogisticRegression\n",
    "from sklearn.ensemble import RandomForestClassifier\n",
    "from sklearn.metrics import accuracy_score\n",
    "import numpy as np\n",
    "\n",
    "# Step 1: Get predictions from base models\n",
    "xgb_train_preds = xgb_model.predict_proba(x_train)\n",
    "rf_train_preds = rf_model.predict_proba(x_train)\n",
    "svm_train_preds = svm_model.predict_proba(X_train_scaled)\n",
    "cnn_train_preds = cnn_model.predict(x_train)\n",
    "mlp_train_preds = mlp_model.predict(x_train)\n",
    "\n",
    "xgb_test_preds = xgb_model.predict_proba(x_test)\n",
    "rf_test_preds = rf_model.predict_proba(x_test)\n",
    "svm_test_preds = svm_model.predict_proba(X_test_scaled)\n",
    "cnn_test_preds = cnn_model.predict(x_test)\n",
    "mlp_test_preds = mlp_model.predict(x_test)\n",
    "\n",
    "# Step 2: Create new dataset for meta-model training\n",
    "stacked_train = np.hstack((xgb_train_preds, svm_train_preds, cnn_train_preds,  rf_train_preds + mlp_train_preds))\n",
    "stacked_test = np.hstack((xgb_test_preds, svm_test_preds, cnn_test_preds, rf_test_preds + mlp_test_preds))\n",
    "\n",
    "# Step 3: Train meta-model\n",
    "meta_model = LogisticRegression()\n",
    "meta_model.fit(stacked_train, y_train)\n",
    "\n",
    "# Step 4: Predict with the meta-model\n",
    "ensemble_preds = meta_model.predict(stacked_test)\n",
    "\n",
    "# Step 5: Evaluate performance\n",
    "stack_ensemble_accuracy = accuracy_score(y_test, ensemble_preds)\n",
    "print(f\"Stacking Ensemble Accuracy: {stack_ensemble_accuracy:.3f}\")\n"
   ]
  },
  {
   "cell_type": "code",
   "execution_count": 25,
   "metadata": {},
   "outputs": [
    {
     "name": "stdout",
     "output_type": "stream",
     "text": [
      "Model 1: [0.00260506 0.00509377 0.00944806 0.00204292 0.00195262 0.94067717\n",
      " 0.00171048 0.00504614 0.00244387 0.02897996]\n",
      "Model 2: [0.01766711 0.01033055 0.05331602 0.0304666  0.01058154 0.36504511\n",
      " 0.00945411 0.14547833 0.03289487 0.32476575]\n",
      "Model 3: [3.46687622e-04 1.03618647e-03 1.83396434e-04 5.51392645e-07\n",
      " 1.51696544e-10 9.96784985e-01 2.38667859e-08 1.49029098e-03\n",
      " 1.14612603e-05 1.46404753e-04]\n",
      "Model 4: [0.05057853 0.04180201 0.27670488 0.43421816 0.02772071 0.40655618\n",
      " 0.01549989 0.12390887 0.06361286 0.55939788]\n"
     ]
    }
   ],
   "source": [
    "first = stacked_test[0]\n",
    "\n",
    "print(\"Model 1:\", first[:10])\n",
    "print(\"Model 2:\", first[10:20])\n",
    "print(\"Model 3:\", first[20:30])\n",
    "print(\"Model 4:\", first[30:40])"
   ]
  },
  {
   "cell_type": "code",
   "execution_count": 26,
   "metadata": {},
   "outputs": [
    {
     "data": {
      "text/plain": [
       "(200, 40)"
      ]
     },
     "execution_count": 26,
     "metadata": {},
     "output_type": "execute_result"
    }
   ],
   "source": [
    "stacked_test.shape"
   ]
  },
  {
   "cell_type": "markdown",
   "metadata": {},
   "source": [
    "### Print all accuracies"
   ]
  },
  {
   "cell_type": "code",
   "execution_count": 27,
   "metadata": {},
   "outputs": [
    {
     "name": "stdout",
     "output_type": "stream",
     "text": [
      "Accuracy (CNN): 0.750\n",
      "Accuracy (DNN): 0.560\n",
      "Accuracy (SVM): 0.730\n",
      "Accuracy (RFC): 0.740\n",
      "Accuracy (XGB): 0.730\n",
      "\n",
      "Weighted Ensemble Accuracy: 0.755\n",
      "Hard Voting Ensemble Accuracy: 0.750\n",
      "Soft Voting Accuracy: 0.795\n",
      "Stacking Ensemble Accuracy: 0.795\n"
     ]
    }
   ],
   "source": [
    "print(f\"Accuracy (CNN): {accuracy_cnn:.3f}\")\n",
    "print(f\"Accuracy (DNN): {accuracy_mlp:.3f}\")\n",
    "print(f\"Accuracy (SVM): {accuracy_svm:.3f}\")\n",
    "print(f\"Accuracy (RFC): {accuracy_rf:.3f}\")\n",
    "print(f\"Accuracy (XGB): {xgb_accuracy:.3f}\")\n",
    "\n",
    "print()\n",
    "\n",
    "print(f\"Weighted Ensemble Accuracy: {weighted_ensemble_accuracy:.3f}\")\n",
    "print(f\"Hard Voting Ensemble Accuracy: {hard_ensemble_accuracy:.3f}\")\n",
    "print(f\"Soft Voting Accuracy: {soft_ensemble_accuracy:.3f}\")\n",
    "print(f\"Stacking Ensemble Accuracy: {stack_ensemble_accuracy:.3f}\")"
   ]
  },
  {
   "cell_type": "markdown",
   "metadata": {},
   "source": [
    "### Creating a confusion matrix for the ensemble"
   ]
  },
  {
   "cell_type": "code",
   "execution_count": 28,
   "metadata": {},
   "outputs": [
    {
     "name": "stdout",
     "output_type": "stream",
     "text": [
      "\u001b[1m7/7\u001b[0m \u001b[32m━━━━━━━━━━━━━━━━━━━━\u001b[0m\u001b[37m\u001b[0m \u001b[1m0s\u001b[0m 8ms/step \n",
      "\u001b[1m7/7\u001b[0m \u001b[32m━━━━━━━━━━━━━━━━━━━━\u001b[0m\u001b[37m\u001b[0m \u001b[1m0s\u001b[0m 9ms/step \n"
     ]
    },
    {
     "data": {
      "image/png": "[encoded data removed]",
      "text/plain": [
       "<Figure size 800x600 with 2 Axes>"
      ]
     },
     "metadata": {},
     "output_type": "display_data"
    }
   ],
   "source": [
    "# Get predictions from each model (XGBoost, SVM, CNN)\n",
    "xgb_preds = xgb_model.predict(x_test)\n",
    "svm_preds = svm_model.predict(x_test)\n",
    "rf_preds = rf_model.predict(x_test)\n",
    "cnn_preds = np.argmax(cnn_model.predict(x_test), axis=1)\n",
    "\n",
    "# Soft Voting: average the predicted probabilities\n",
    "xgb_probs = xgb_model.predict_proba(x_test)\n",
    "svm_probs = svm_model.predict_proba(x_test)\n",
    "rf_probs = rf_model.predict_proba(x_test)\n",
    "cnn_probs = cnn_model.predict(x_test)\n",
    "\n",
    "# Average the probabilities (soft voting)\n",
    "ensemble_probs = (xgb_probs + svm_probs + cnn_probs + rf_probs) / 4\n",
    "ensemble_preds = np.argmax(ensemble_probs, axis=1)\n",
    "ensemble_cm = confusion_matrix(y_test, ensemble_preds)\n",
    "\n",
    "# Plot the confusion matrix for the ensemble model\n",
    "plt.figure(figsize=(8, 6))\n",
    "sns.heatmap(ensemble_cm, annot=True, fmt=\"d\", cmap=\"Blues\", xticklabels=genres, yticklabels=genres)\n",
    "plt.title(\"Ensemble Confusion Matrix\")\n",
    "plt.xlabel(\"Predicted\")\n",
    "plt.ylabel(\"True\")\n",
    "plt.show()\n"
   ]
  },
  {
   "cell_type": "markdown",
   "metadata": {},
   "source": [
    "### Creating a confusion matrix for CNN"
   ]
  },
  {
   "cell_type": "code",
   "execution_count": 30,
   "metadata": {},
   "outputs": [
    {
     "name": "stdout",
     "output_type": "stream",
     "text": [
      "\u001b[1m7/7\u001b[0m \u001b[32m━━━━━━━━━━━━━━━━━━━━\u001b[0m\u001b[37m\u001b[0m \u001b[1m0s\u001b[0m 9ms/step \n"
     ]
    },
    {
     "data": {
      "image/png": "[encoded data removed]",
      "text/plain": [
       "<Figure size 800x600 with 2 Axes>"
      ]
     },
     "metadata": {},
     "output_type": "display_data"
    }
   ],
   "source": [
    "plt.clf\n",
    "cnn_preds = np.argmax(cnn_model.predict(x_test), axis=1)\n",
    "cnn_cm = confusion_matrix(y_test, cnn_preds)\n",
    "\n",
    "# Plot the confusion matrix\n",
    "plt.figure(figsize=(8, 6))\n",
    "sns.heatmap(cnn_cm, annot=True, fmt=\"d\", cmap=\"Blues\", xticklabels=genres, yticklabels=genres)\n",
    "plt.title(\"CNN Confusion Matrix\")\n",
    "plt.xlabel(\"Predicted\")\n",
    "plt.ylabel(\"True\")\n",
    "plt.show()\n"
   ]
  },
  {
   "cell_type": "markdown",
   "metadata": {},
   "source": [
    "### Creating a confusion matrix for XGB"
   ]
  },
  {
   "cell_type": "code",
   "execution_count": 31,
   "metadata": {},
   "outputs": [
    {
     "data": {
      "image/png": "[encoded data removed]",
      "text/plain": [
       "<Figure size 800x600 with 2 Axes>"
      ]
     },
     "metadata": {},
     "output_type": "display_data"
    }
   ],
   "source": [
    "plt.clf\n",
    "xgb_preds = xgb_model.predict(x_test)\n",
    "xgb_cm = confusion_matrix(y_test, xgb_preds)\n",
    "\n",
    "# Plot the confusion matrix\n",
    "plt.figure(figsize=(8, 6))\n",
    "sns.heatmap(xgb_cm, annot=True, fmt=\"d\", cmap=\"Blues\", xticklabels=genres, yticklabels=genres)\n",
    "plt.title(\"XGBoost Confusion Matrix\")\n",
    "plt.xlabel(\"Predicted\")\n",
    "plt.ylabel(\"True\")\n",
    "plt.show()\n"
   ]
  }
 ],
 "metadata": {
  "kernelspec": {
   "display_name": "Python 3",
   "language": "python",
   "name": "python3"
  },
  "language_info": {
   "codemirror_mode": {
    "name": "ipython",
    "version": 3
   },
   "file_extension": ".py",
   "mimetype": "text/x-python",
   "name": "python",
   "nbconvert_exporter": "python",
   "pygments_lexer": "ipython3",
   "version": "3.9.6"
  }
 },
 "nbformat": 4,
 "nbformat_minor": 2
}
